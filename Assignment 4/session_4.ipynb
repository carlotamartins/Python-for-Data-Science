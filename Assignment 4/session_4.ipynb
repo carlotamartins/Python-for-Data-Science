{
 "cells": [
  {
   "cell_type": "markdown",
   "id": "24b98369-c7ba-450b-a8b5-e34319000695",
   "metadata": {
    "slideshow": {
     "slide_type": "slide"
    },
    "tags": []
   },
   "source": [
    "# Python for Data Science\n",
    "## Session 4 \n",
    "### Basic Libraries I"
   ]
  },
  {
   "cell_type": "markdown",
   "id": "3ace1343-d73d-466d-aa07-56febbb7cbf1",
   "metadata": {
    "slideshow": {
     "slide_type": "skip"
    },
    "tags": []
   },
   "source": [
    "---"
   ]
  },
  {
   "cell_type": "markdown",
   "id": "c5ffee69-5d4d-4f1c-9ed7-083afbc931ec",
   "metadata": {
    "slideshow": {
     "slide_type": "slide"
    },
    "tags": []
   },
   "source": [
    "## Outline\n",
    "\n",
    "1. Numpy for numerical operations\n",
    "\n",
    "2. Scipy for scientific computing\n",
    "\n",
    "3. Math, os, glob, shutil "
   ]
  },
  {
   "cell_type": "markdown",
   "id": "aba315f4-e9bf-4a66-b3d3-593037c3ca70",
   "metadata": {
    "slideshow": {
     "slide_type": "skip"
    },
    "tags": []
   },
   "source": [
    "---"
   ]
  },
  {
   "cell_type": "markdown",
   "id": "8ed45dcb-2cf5-4bfa-ba6e-5da25c59757c",
   "metadata": {
    "slideshow": {
     "slide_type": "slide"
    },
    "tags": []
   },
   "source": [
    "## Basic Libraries I\n",
    " \n",
    "Numpy provides a multidimensional array **object** and various methods for fast operations on arrays (arrays and matrices). These operations include mathematical, logical, shape manipulation, sorting, selecting, I/O, discrete Fourier transforms, basic linear algebra, basic statistical operations, random simulation and much more.\n",
    "\n",
    "In this session, we will learn some of the most common ones.\n",
    "\n"
   ]
  },
  {
   "cell_type": "code",
   "execution_count": 11,
   "id": "0a4f5fd5",
   "metadata": {
    "slideshow": {
     "slide_type": "subslide"
    },
    "tags": []
   },
   "outputs": [],
   "source": [
    "# To import a library we just need to use\n",
    "import numpy as np\n",
    "\n",
    "# TIP: Take a look at the references from the libraries you are using. Sometimes there are already-built methods that can save you lines and lines of code... Here the numpy as an example: https://numpy.org/doc/stable/reference/index.html"
   ]
  },
  {
   "cell_type": "code",
   "execution_count": 12,
   "id": "db57c401",
   "metadata": {
    "slideshow": {
     "slide_type": "fragment"
    }
   },
   "outputs": [
    {
     "data": {
      "text/plain": [
       "array([-1,  2,  0,  6,  4])"
      ]
     },
     "execution_count": 12,
     "metadata": {},
     "output_type": "execute_result"
    }
   ],
   "source": [
    "# To create a simple array, we can use a list to instantiate an object\n",
    "ar = np.array([-1, 2, 0, 6, 4])\n",
    "ar "
   ]
  },
  {
   "cell_type": "code",
   "execution_count": 13,
   "id": "f8c546aa",
   "metadata": {
    "slideshow": {
     "slide_type": "fragment"
    }
   },
   "outputs": [
    {
     "name": "stdout",
     "output_type": "stream",
     "text": [
      "This is the last number of the array: 4\n"
     ]
    }
   ],
   "source": [
    "# Similar to list, we can access any of elements in the array\n",
    "print(f\"This is the last number of the array: {ar[-1]}\") "
   ]
  },
  {
   "cell_type": "code",
   "execution_count": 14,
   "id": "a0d5db58",
   "metadata": {
    "slideshow": {
     "slide_type": "fragment"
    }
   },
   "outputs": [
    {
     "name": "stdout",
     "output_type": "stream",
     "text": [
      "These are the first three elements of the array: [-1  2  0]\n"
     ]
    }
   ],
   "source": [
    "# We can also slice them\n",
    "print(f\"These are the first three elements of the array: {ar[:3]}\")"
   ]
  },
  {
   "cell_type": "code",
   "execution_count": 15,
   "id": "c89a8e48",
   "metadata": {
    "slideshow": {
     "slide_type": "fragment"
    }
   },
   "outputs": [
    {
     "name": "stdout",
     "output_type": "stream",
     "text": [
      "This is a subarray formed by indices 2, 4 and 0: [ 0  4 -1]\n"
     ]
    }
   ],
   "source": [
    "# One thing, array can do, but list cannot is provide a subset of indices\n",
    "print(f\"This is a subarray formed by indices 2, 4 and 0: {ar[[2,4,0]]}\")"
   ]
  },
  {
   "cell_type": "code",
   "execution_count": 16,
   "id": "e01eca8b",
   "metadata": {
    "slideshow": {
     "slide_type": "fragment"
    }
   },
   "outputs": [
    {
     "ename": "TypeError",
     "evalue": "list indices must be integers or slices, not list",
     "output_type": "error",
     "traceback": [
      "\u001b[1;31m---------------------------------------------------------------------------\u001b[0m",
      "\u001b[1;31mTypeError\u001b[0m                                 Traceback (most recent call last)",
      "Cell \u001b[1;32mIn[16], line 3\u001b[0m\n\u001b[0;32m      1\u001b[0m \u001b[38;5;66;03m# If we try it with a list...\u001b[39;00m\n\u001b[0;32m      2\u001b[0m l \u001b[38;5;241m=\u001b[39m [\u001b[38;5;241m-\u001b[39m\u001b[38;5;241m1\u001b[39m, \u001b[38;5;241m2\u001b[39m, \u001b[38;5;241m0\u001b[39m, \u001b[38;5;241m6\u001b[39m, \u001b[38;5;241m4\u001b[39m]\n\u001b[1;32m----> 3\u001b[0m \u001b[38;5;28mprint\u001b[39m(\u001b[38;5;124mf\u001b[39m\u001b[38;5;124m\"\u001b[39m\u001b[38;5;124mThis is a sublist formed by indices 2, 4 and 0: \u001b[39m\u001b[38;5;132;01m{\u001b[39;00ml[[\u001b[38;5;241m2\u001b[39m,\u001b[38;5;241m4\u001b[39m,\u001b[38;5;241m0\u001b[39m]]\u001b[38;5;132;01m}\u001b[39;00m\u001b[38;5;124m\"\u001b[39m)\n",
      "\u001b[1;31mTypeError\u001b[0m: list indices must be integers or slices, not list"
     ]
    }
   ],
   "source": [
    "# If we try it with a list...\n",
    "l = [-1, 2, 0, 6, 4]\n",
    "print(f\"This is a sublist formed by indices 2, 4 and 0: {l[[2,4,0]]}\")"
   ]
  },
  {
   "cell_type": "markdown",
   "id": "00b01ced-eda7-423f-8522-96bd3f1a4125",
   "metadata": {
    "slideshow": {
     "slide_type": "skip"
    },
    "tags": []
   },
   "source": [
    "---"
   ]
  },
  {
   "cell_type": "markdown",
   "id": "9434c993-aac1-4655-bf69-477b9dc5d2ee",
   "metadata": {
    "slideshow": {
     "slide_type": "slide"
    },
    "tags": []
   },
   "source": [
    "## Basic Libraries I\n",
    "\n",
    "We can perform multiple mathematical operations over arrays. Some of them are similar to the built-in ones we have for lists.\n"
   ]
  },
  {
   "cell_type": "code",
   "execution_count": 17,
   "id": "8e4a9f37",
   "metadata": {
    "slideshow": {
     "slide_type": "subslide"
    }
   },
   "outputs": [],
   "source": [
    "# let's create two vectors\n",
    "u = np.array([1,2,3,4])\n",
    "v = np.array([4,3,1,2])"
   ]
  },
  {
   "cell_type": "code",
   "execution_count": 18,
   "id": "2bcdc200",
   "metadata": {
    "slideshow": {
     "slide_type": "fragment"
    }
   },
   "outputs": [
    {
     "data": {
      "text/plain": [
       "array([5, 5, 4, 6])"
      ]
     },
     "execution_count": 18,
     "metadata": {},
     "output_type": "execute_result"
    }
   ],
   "source": [
    "# Sum or substract two vectors element by element\n",
    "u + v # equivalent to np.sum([u,v])"
   ]
  },
  {
   "cell_type": "code",
   "execution_count": 19,
   "id": "2b983bad",
   "metadata": {
    "slideshow": {
     "slide_type": "fragment"
    }
   },
   "outputs": [
    {
     "data": {
      "text/plain": [
       "array([-3, -1,  2,  2])"
      ]
     },
     "execution_count": 19,
     "metadata": {},
     "output_type": "execute_result"
    }
   ],
   "source": [
    "u - v"
   ]
  },
  {
   "cell_type": "code",
   "execution_count": 20,
   "id": "404b7cc9",
   "metadata": {
    "slideshow": {
     "slide_type": "fragment"
    }
   },
   "outputs": [
    {
     "data": {
      "text/plain": [
       "array([0.25      , 0.66666667, 3.        , 2.        ])"
      ]
     },
     "execution_count": 20,
     "metadata": {},
     "output_type": "execute_result"
    }
   ],
   "source": [
    "# multiplying or dividing them\n",
    "u / v"
   ]
  },
  {
   "cell_type": "code",
   "execution_count": 21,
   "id": "10d71d95",
   "metadata": {
    "slideshow": {
     "slide_type": "fragment"
    }
   },
   "outputs": [
    {
     "data": {
      "text/plain": [
       "array([4, 6, 3, 8])"
      ]
     },
     "execution_count": 21,
     "metadata": {},
     "output_type": "execute_result"
    }
   ],
   "source": [
    "u * v"
   ]
  },
  {
   "cell_type": "code",
   "execution_count": 22,
   "id": "3b895e82",
   "metadata": {
    "slideshow": {
     "slide_type": "fragment"
    }
   },
   "outputs": [
    {
     "data": {
      "text/plain": [
       "array([ 1,  4,  9, 16], dtype=int32)"
      ]
     },
     "execution_count": 22,
     "metadata": {},
     "output_type": "execute_result"
    }
   ],
   "source": [
    "# Power or sqrt\n",
    "np.power(u, 2) # equivalent to u ** 2"
   ]
  },
  {
   "cell_type": "code",
   "execution_count": 23,
   "id": "bc7eb136",
   "metadata": {
    "slideshow": {
     "slide_type": "fragment"
    }
   },
   "outputs": [
    {
     "data": {
      "text/plain": [
       "array([1.        , 1.41421356, 1.73205081, 2.        ])"
      ]
     },
     "execution_count": 23,
     "metadata": {},
     "output_type": "execute_result"
    }
   ],
   "source": [
    "np.sqrt(u)"
   ]
  },
  {
   "cell_type": "code",
   "execution_count": 24,
   "id": "1bad2672",
   "metadata": {
    "slideshow": {
     "slide_type": "fragment"
    }
   },
   "outputs": [
    {
     "data": {
      "text/plain": [
       "21"
      ]
     },
     "execution_count": 24,
     "metadata": {},
     "output_type": "execute_result"
    }
   ],
   "source": [
    "# dot product\n",
    "np.dot(u, v) # equivalent to np.sum(u*v)"
   ]
  },
  {
   "cell_type": "code",
   "execution_count": 25,
   "id": "4cb733e2",
   "metadata": {
    "slideshow": {
     "slide_type": "fragment"
    }
   },
   "outputs": [
    {
     "data": {
      "text/plain": [
       "2.5"
      ]
     },
     "execution_count": 25,
     "metadata": {},
     "output_type": "execute_result"
    }
   ],
   "source": [
    "# mean, median, std\n",
    "np.mean(u)"
   ]
  },
  {
   "cell_type": "code",
   "execution_count": 26,
   "id": "ca0147f5",
   "metadata": {
    "slideshow": {
     "slide_type": "fragment"
    }
   },
   "outputs": [
    {
     "data": {
      "text/plain": [
       "2.5"
      ]
     },
     "execution_count": 26,
     "metadata": {},
     "output_type": "execute_result"
    }
   ],
   "source": [
    "np.median(u)"
   ]
  },
  {
   "cell_type": "markdown",
   "id": "78aaa8dc",
   "metadata": {
    "slideshow": {
     "slide_type": "slide"
    }
   },
   "source": [
    "## Basic Libraries I\n",
    "\n",
    "Regarding changing ordering or sorting we have multiple options. "
   ]
  },
  {
   "cell_type": "code",
   "execution_count": 95,
   "id": "cab8bb34",
   "metadata": {
    "slideshow": {
     "slide_type": "subslide"
    }
   },
   "outputs": [],
   "source": [
    "a = np.array([3, 0, 1, 4, 8])"
   ]
  },
  {
   "cell_type": "code",
   "execution_count": 96,
   "id": "a71e27f9",
   "metadata": {
    "slideshow": {
     "slide_type": "fragment"
    }
   },
   "outputs": [
    {
     "data": {
      "text/plain": [
       "array([0, 1, 3, 4, 8])"
      ]
     },
     "execution_count": 96,
     "metadata": {},
     "output_type": "execute_result"
    }
   ],
   "source": [
    "# We simply need to run\n",
    "np.sort(a)"
   ]
  },
  {
   "cell_type": "code",
   "execution_count": 97,
   "id": "a61321fd",
   "metadata": {
    "slideshow": {
     "slide_type": "fragment"
    }
   },
   "outputs": [
    {
     "data": {
      "text/plain": [
       "array([8, 4, 1, 0, 3])"
      ]
     },
     "execution_count": 97,
     "metadata": {},
     "output_type": "execute_result"
    }
   ],
   "source": [
    "# Same as the list, we can invert the original order by simply\n",
    "a[::-1]"
   ]
  },
  {
   "cell_type": "code",
   "execution_count": 98,
   "id": "50c99518",
   "metadata": {
    "slideshow": {
     "slide_type": "fragment"
    }
   },
   "outputs": [
    {
     "data": {
      "text/plain": [
       "array([0, 1, 3, 4, 8])"
      ]
     },
     "execution_count": 98,
     "metadata": {},
     "output_type": "execute_result"
    }
   ],
   "source": [
    "# You can also select the type of algorithm to sort an array\n",
    "np.sort(a, kind='quicksort') # mergesort, heapsort"
   ]
  },
  {
   "cell_type": "code",
   "execution_count": 99,
   "id": "48b1cb1c",
   "metadata": {
    "slideshow": {
     "slide_type": "fragment"
    }
   },
   "outputs": [
    {
     "data": {
      "text/plain": [
       "array([(b'Jaume', 2023, 9.4), (b'James', 2021, 9.1),\n",
       "       (b'Marta', 2021, 8.3)],\n",
       "      dtype=[('name', 'S10'), ('year', '<i4'), ('grade', '<f8')])"
      ]
     },
     "execution_count": 99,
     "metadata": {},
     "output_type": "execute_result"
    }
   ],
   "source": [
    "# Another interesting thing we can have with sort is to order based on different fields\n",
    "values = [('Jaume', 2023, 9.4), ('James', 2021, 9.1), ('Marta', 2021, 8.3)]\n",
    "dtype = [('name', 'S10'), ('year', int), ('grade', float)]\n",
    "\n",
    "a = np.array(values, dtype=dtype)\n",
    "a"
   ]
  },
  {
   "cell_type": "code",
   "execution_count": 32,
   "id": "024357af",
   "metadata": {
    "slideshow": {
     "slide_type": "fragment"
    }
   },
   "outputs": [
    {
     "data": {
      "text/plain": [
       "array([(b'Marta', 2021, 8.3), (b'James', 2021, 9.1),\n",
       "       (b'Jaume', 2023, 9.4)],\n",
       "      dtype=[('name', 'S10'), ('year', '<i4'), ('grade', '<f8')])"
      ]
     },
     "execution_count": 32,
     "metadata": {},
     "output_type": "execute_result"
    }
   ],
   "source": [
    "# Sorting by grade\n",
    "np.sort(a, order='grade')"
   ]
  },
  {
   "cell_type": "code",
   "execution_count": 33,
   "id": "d5d4130e",
   "metadata": {
    "slideshow": {
     "slide_type": "fragment"
    }
   },
   "outputs": [
    {
     "data": {
      "text/plain": [
       "array([(b'Marta', 2021, 8.3), (b'James', 2021, 9.1),\n",
       "       (b'Jaume', 2023, 9.4)],\n",
       "      dtype=[('name', 'S10'), ('year', '<i4'), ('grade', '<f8')])"
      ]
     },
     "execution_count": 33,
     "metadata": {},
     "output_type": "execute_result"
    }
   ],
   "source": [
    "# Sorting first by year, and when they have the same year, doing it by grade\n",
    "np.sort(a, order=['year', 'grade'])"
   ]
  },
  {
   "cell_type": "code",
   "execution_count": 34,
   "id": "d7a7f9cf",
   "metadata": {
    "slideshow": {
     "slide_type": "fragment"
    }
   },
   "outputs": [
    {
     "data": {
      "text/plain": [
       "array([(b'James', 2021, 9.1), (b'Marta', 2021, 8.3),\n",
       "       (b'Jaume', 2023, 9.4)],\n",
       "      dtype=[('name', 'S10'), ('year', '<i4'), ('grade', '<f8')])"
      ]
     },
     "execution_count": 34,
     "metadata": {},
     "output_type": "execute_result"
    }
   ],
   "source": [
    "np.sort(a, order=['year'])"
   ]
  },
  {
   "cell_type": "code",
   "execution_count": 35,
   "id": "5edafb6f",
   "metadata": {
    "slideshow": {
     "slide_type": "fragment"
    }
   },
   "outputs": [
    {
     "data": {
      "text/plain": [
       "array([1, 0, 3, 2], dtype=int64)"
      ]
     },
     "execution_count": 35,
     "metadata": {},
     "output_type": "execute_result"
    }
   ],
   "source": [
    "# the same way you sort, you can get the original indices sorted instead of the sorted array\n",
    "a = np.array([3, 1, 6, 5])\n",
    "np.argsort(a)"
   ]
  },
  {
   "cell_type": "code",
   "execution_count": 36,
   "id": "6ae9fd50",
   "metadata": {
    "slideshow": {
     "slide_type": "fragment"
    }
   },
   "outputs": [
    {
     "data": {
      "text/plain": [
       "array([1, 2, 5, 6, 9])"
      ]
     },
     "execution_count": 36,
     "metadata": {},
     "output_type": "execute_result"
    }
   ],
   "source": [
    "# there is also a cool method called, unique, it gives you all the unique elements in a list/array\n",
    "a = np.array([1, 1, 1, 2, 5, 6, 5, 9])\n",
    "np.unique(a)"
   ]
  },
  {
   "cell_type": "markdown",
   "id": "306a3b2e",
   "metadata": {
    "slideshow": {
     "slide_type": "slide"
    }
   },
   "source": [
    "## Basic Libraries I\n",
    "\n",
    "Selecting random elements from a list can be also performed from numpy."
   ]
  },
  {
   "cell_type": "code",
   "execution_count": 37,
   "id": "0008482c",
   "metadata": {
    "slideshow": {
     "slide_type": "subslide"
    }
   },
   "outputs": [
    {
     "data": {
      "text/plain": [
       "4"
      ]
     },
     "execution_count": 37,
     "metadata": {},
     "output_type": "execute_result"
    }
   ],
   "source": [
    "# Randomly create integer numbers ranging from 0 to 9\n",
    "a = np.random.randint(0, 10)\n",
    "a"
   ]
  },
  {
   "cell_type": "code",
   "execution_count": 38,
   "id": "0cf8be99",
   "metadata": {
    "slideshow": {
     "slide_type": "fragment"
    }
   },
   "outputs": [
    {
     "data": {
      "text/plain": [
       "array([-0.0839656 ,  1.20162801, -0.02889621,  1.28525953, -0.88961431,\n",
       "       -0.38477042,  3.33413269,  0.98561391,  0.17186295, -0.30727001])"
      ]
     },
     "execution_count": 38,
     "metadata": {},
     "output_type": "execute_result"
    }
   ],
   "source": [
    "# Randomly creating an array of 10 floats from a normal distribution, mean 0 and std 1\n",
    "a = np.random.randn(10)\n",
    "a"
   ]
  },
  {
   "cell_type": "code",
   "execution_count": 39,
   "id": "d2047bf8",
   "metadata": {
    "slideshow": {
     "slide_type": "fragment"
    }
   },
   "outputs": [
    {
     "data": {
      "text/plain": [
       "'0.4'"
      ]
     },
     "execution_count": 39,
     "metadata": {},
     "output_type": "execute_result"
    }
   ],
   "source": [
    "# Randomly selecting a value in a list/array (using uniform distribution)\n",
    "np.random.choice(['a', 1, 'b', 0.4])"
   ]
  },
  {
   "cell_type": "code",
   "execution_count": 40,
   "id": "70c2be2a",
   "metadata": {
    "slideshow": {
     "slide_type": "fragment"
    }
   },
   "outputs": [
    {
     "data": {
      "text/plain": [
       "array([0.8409386 , 0.15045056, 0.69993659, 0.09480953, 0.99079439,\n",
       "       0.60272452, 0.14107445, 0.29852819, 0.61440743, 0.26442591])"
      ]
     },
     "execution_count": 40,
     "metadata": {},
     "output_type": "execute_result"
    }
   ],
   "source": [
    "# Randomly generating numbers using a uniform distribution over the interval [0, 1]\n",
    "np.random.rand(10)"
   ]
  },
  {
   "cell_type": "code",
   "execution_count": 41,
   "id": "58c83575",
   "metadata": {
    "slideshow": {
     "slide_type": "fragment"
    }
   },
   "outputs": [
    {
     "data": {
      "text/plain": [
       "array([ 2,  3, 23, -1])"
      ]
     },
     "execution_count": 41,
     "metadata": {},
     "output_type": "execute_result"
    }
   ],
   "source": [
    "# Create a random permutation from a list/array\n",
    "np.random.permutation([23, 3, 2, -1])"
   ]
  },
  {
   "cell_type": "code",
   "execution_count": 42,
   "id": "917101b6",
   "metadata": {
    "slideshow": {
     "slide_type": "fragment"
    }
   },
   "outputs": [
    {
     "data": {
      "text/plain": [
       "-34"
      ]
     },
     "execution_count": 42,
     "metadata": {},
     "output_type": "execute_result"
    }
   ],
   "source": [
    "# Important, how to reproduce your results over and over\n",
    "np.random.seed(123) # we can also pass a str, float that gets transformed into a fixed-size integer\n",
    "np.random.choice([23, 3, 2, -1, 31, 6, -34, 0])"
   ]
  },
  {
   "cell_type": "markdown",
   "id": "0729e167",
   "metadata": {
    "slideshow": {
     "slide_type": "slide"
    }
   },
   "source": [
    "## Basic Libraries I\n",
    "\n",
    "Other useful operations consist in modifying the shape and stack or concatenate elements.You can also created new arrays with buit-in methods such as **ones**, **zeros**, **ones_like**, **zeros_like**, and even define their type, **astype**."
   ]
  },
  {
   "cell_type": "code",
   "execution_count": 43,
   "id": "7ed2a26e",
   "metadata": {
    "slideshow": {
     "slide_type": "subslide"
    }
   },
   "outputs": [],
   "source": [
    "a = np.array([1,2,3,4])\n",
    "b = np.array([5,6,7,8])"
   ]
  },
  {
   "cell_type": "code",
   "execution_count": 44,
   "id": "e6e98db8",
   "metadata": {
    "slideshow": {
     "slide_type": "fragment"
    }
   },
   "outputs": [
    {
     "data": {
      "text/plain": [
       "array([1, 2, 3, 4, 5, 6, 7, 8])"
      ]
     },
     "execution_count": 44,
     "metadata": {},
     "output_type": "execute_result"
    }
   ],
   "source": [
    "np.concatenate([a,b])"
   ]
  },
  {
   "cell_type": "code",
   "execution_count": 45,
   "id": "43a2aa55",
   "metadata": {
    "slideshow": {
     "slide_type": "fragment"
    }
   },
   "outputs": [
    {
     "data": {
      "text/plain": [
       "array([[1, 2, 3, 4],\n",
       "       [5, 6, 7, 8]])"
      ]
     },
     "execution_count": 45,
     "metadata": {},
     "output_type": "execute_result"
    }
   ],
   "source": [
    "c = np.stack([a,b])\n",
    "c"
   ]
  },
  {
   "cell_type": "code",
   "execution_count": 46,
   "id": "a38930a4",
   "metadata": {
    "slideshow": {
     "slide_type": "fragment"
    }
   },
   "outputs": [
    {
     "data": {
      "text/plain": [
       "array([[1, 2, 3, 4, 5, 6, 7, 8]])"
      ]
     },
     "execution_count": 46,
     "metadata": {},
     "output_type": "execute_result"
    }
   ],
   "source": [
    "np.reshape(c, (1, 8))"
   ]
  },
  {
   "cell_type": "code",
   "execution_count": 47,
   "id": "634dfbda",
   "metadata": {
    "slideshow": {
     "slide_type": "fragment"
    }
   },
   "outputs": [
    {
     "data": {
      "text/plain": [
       "array([1, 2, 3, 4, 5, 6, 7, 8])"
      ]
     },
     "execution_count": 47,
     "metadata": {},
     "output_type": "execute_result"
    }
   ],
   "source": [
    "c.flatten()"
   ]
  },
  {
   "cell_type": "code",
   "execution_count": 48,
   "id": "ca8570f6",
   "metadata": {
    "slideshow": {
     "slide_type": "fragment"
    }
   },
   "outputs": [
    {
     "data": {
      "text/plain": [
       "array([[1, 5],\n",
       "       [2, 6],\n",
       "       [3, 7],\n",
       "       [4, 8]])"
      ]
     },
     "execution_count": 48,
     "metadata": {},
     "output_type": "execute_result"
    }
   ],
   "source": [
    "c.swapaxes(0,1) # swapping the axes"
   ]
  },
  {
   "cell_type": "code",
   "execution_count": 49,
   "id": "f95a426a",
   "metadata": {
    "slideshow": {
     "slide_type": "fragment"
    }
   },
   "outputs": [
    {
     "data": {
      "text/plain": [
       "array([[1, 5],\n",
       "       [2, 6],\n",
       "       [3, 7],\n",
       "       [4, 8]])"
      ]
     },
     "execution_count": 49,
     "metadata": {},
     "output_type": "execute_result"
    }
   ],
   "source": [
    "c.transpose(1,0) # tranposing multiple axes at the same time"
   ]
  },
  {
   "cell_type": "code",
   "execution_count": 50,
   "id": "89932ad8-bf35-40c1-a4e5-32eb87f70184",
   "metadata": {
    "slideshow": {
     "slide_type": "fragment"
    }
   },
   "outputs": [
    {
     "data": {
      "text/plain": [
       "array([1., 1., 1., 1.])"
      ]
     },
     "execution_count": 50,
     "metadata": {},
     "output_type": "execute_result"
    }
   ],
   "source": [
    "ones = np.ones(4) # you can also create given a size new arrays with\n",
    "ones"
   ]
  },
  {
   "cell_type": "code",
   "execution_count": 51,
   "id": "2bf65e57",
   "metadata": {
    "slideshow": {
     "slide_type": "fragment"
    }
   },
   "outputs": [
    {
     "data": {
      "text/plain": [
       "array([0, 0, 0, 0], dtype=uint8)"
      ]
     },
     "execution_count": 51,
     "metadata": {},
     "output_type": "execute_result"
    }
   ],
   "source": [
    "zeros = np.zeros_like(ones).astype('uint8') # you can do it with other types, e.g. float, uint16...\n",
    "zeros"
   ]
  },
  {
   "cell_type": "markdown",
   "id": "10dd5f6d",
   "metadata": {
    "slideshow": {
     "slide_type": "slide"
    }
   },
   "source": [
    "## Basic Libraries I\n",
    "\n",
    "Logic operations are often used when handling arrays or matrices. These are some practical examples."
   ]
  },
  {
   "cell_type": "code",
   "execution_count": 52,
   "id": "5916dcc0",
   "metadata": {
    "slideshow": {
     "slide_type": "subslide"
    }
   },
   "outputs": [],
   "source": [
    "# We can work with integers to create logical arrays\n",
    "u = np.array([0, 1, 0, 1, 1]) # equivalent to u = [False, True, False, True , True]\n",
    "v = np.array([1, 0, 0, 1, 0]) # you can also transform them to booleans np.bool(u)"
   ]
  },
  {
   "cell_type": "code",
   "execution_count": 53,
   "id": "f8d90874",
   "metadata": {
    "slideshow": {
     "slide_type": "fragment"
    }
   },
   "outputs": [
    {
     "data": {
      "text/plain": [
       "array([False, False, False,  True, False])"
      ]
     },
     "execution_count": 53,
     "metadata": {},
     "output_type": "execute_result"
    }
   ],
   "source": [
    "np.logical_and(u, v)"
   ]
  },
  {
   "cell_type": "code",
   "execution_count": 54,
   "id": "63e4cca3",
   "metadata": {
    "slideshow": {
     "slide_type": "fragment"
    }
   },
   "outputs": [
    {
     "data": {
      "text/plain": [
       "array([ True,  True, False,  True,  True])"
      ]
     },
     "execution_count": 54,
     "metadata": {},
     "output_type": "execute_result"
    }
   ],
   "source": [
    "np.logical_or(u, v)"
   ]
  },
  {
   "cell_type": "code",
   "execution_count": 55,
   "id": "63b67698",
   "metadata": {
    "slideshow": {
     "slide_type": "fragment"
    }
   },
   "outputs": [
    {
     "data": {
      "text/plain": [
       "array([ True, False,  True, False, False])"
      ]
     },
     "execution_count": 55,
     "metadata": {},
     "output_type": "execute_result"
    }
   ],
   "source": [
    "np.logical_not(u)"
   ]
  },
  {
   "cell_type": "markdown",
   "id": "8f534c84",
   "metadata": {
    "slideshow": {
     "slide_type": "slide"
    }
   },
   "source": [
    "## Basic Libraries I\n",
    "\n",
    "Numpy also provides methods to save and load numpy objects efficiently."
   ]
  },
  {
   "cell_type": "code",
   "execution_count": 56,
   "id": "c54ec08e",
   "metadata": {
    "slideshow": {
     "slide_type": "subslide"
    }
   },
   "outputs": [],
   "source": [
    "a = np.array([0, 10, 14, 17, 19])"
   ]
  },
  {
   "cell_type": "code",
   "execution_count": 57,
   "id": "8f63af17",
   "metadata": {
    "slideshow": {
     "slide_type": "fragment"
    }
   },
   "outputs": [],
   "source": [
    "np.save(\"session_4_array.npy\", a)"
   ]
  },
  {
   "cell_type": "code",
   "execution_count": 58,
   "id": "e1f03310",
   "metadata": {
    "slideshow": {
     "slide_type": "fragment"
    }
   },
   "outputs": [
    {
     "data": {
      "text/plain": [
       "array([ 0, 10, 14, 17, 19])"
      ]
     },
     "execution_count": 58,
     "metadata": {},
     "output_type": "execute_result"
    }
   ],
   "source": [
    "b = np.load(\"session_4_array.npy\")\n",
    "b"
   ]
  },
  {
   "cell_type": "markdown",
   "id": "fc11ba01",
   "metadata": {
    "slideshow": {
     "slide_type": "slide"
    }
   },
   "source": [
    "## Basic Libraries I\n",
    "\n",
    "Scipy provides algorithms for statistics, optimization, integration, interpolation, algebraic equations, differential equations, and many other classes of problems. In this session, we will look at a few cases where they are normaly used. "
   ]
  },
  {
   "cell_type": "code",
   "execution_count": 59,
   "id": "ee11c39d",
   "metadata": {
    "slideshow": {
     "slide_type": "subslide"
    }
   },
   "outputs": [
    {
     "name": "stdout",
     "output_type": "stream",
     "text": [
      "[ 1.03571429 -0.35714286]\n",
      "10.0\n",
      "1.0000000000000002\n"
     ]
    }
   ],
   "source": [
    "# 1. Solving typical system of equations\n",
    "\n",
    "import numpy as np\n",
    "from scipy import linalg\n",
    "\n",
    "# Coefficient matrix A and constants b\n",
    "# 10x + y = 10\n",
    "# 2x + 3y = 1\n",
    "\n",
    "A = np.array([[10, 1], [2, 3]])\n",
    "b = np.array([10, 1])\n",
    "\n",
    "\n",
    "# Solve for x\n",
    "x = linalg.solve(A, b)\n",
    "print(x)\n",
    "\n",
    "print(10*x[0] + 1*x[1])\n",
    "print(2*x[0] + 3*x[1])"
   ]
  },
  {
   "cell_type": "code",
   "execution_count": 60,
   "id": "e3b4f867",
   "metadata": {
    "slideshow": {
     "slide_type": "subslide"
    }
   },
   "outputs": [
    {
     "name": "stdout",
     "output_type": "stream",
     "text": [
      "2.666666666666667\n"
     ]
    }
   ],
   "source": [
    "# 2. Integrating a function over an interval \n",
    "from scipy import integrate\n",
    "\n",
    "# Define a simple function to integrate\n",
    "def f(x):\n",
    "    return x**2 # x^2\n",
    "\n",
    "# Integrate f(x) from 0 to 2\n",
    "result, error = integrate.quad(f, 0, 2)\n",
    "print(result)"
   ]
  },
  {
   "cell_type": "code",
   "execution_count": 61,
   "id": "c3717ca2",
   "metadata": {
    "slideshow": {
     "slide_type": "subslide"
    }
   },
   "outputs": [
    {
     "name": "stdout",
     "output_type": "stream",
     "text": [
      "[-0.5]\n"
     ]
    }
   ],
   "source": [
    "# 3. Integrating a function over an interval \n",
    "from scipy import optimize\n",
    "\n",
    "# Define a quadratic function\n",
    "def f(x):\n",
    "    return x**2 + x + 1\n",
    "\n",
    "# Find the minimum\n",
    "result = optimize.minimize(f, x0=0)  # x0 is the initial guess\n",
    "print(result.x)"
   ]
  },
  {
   "cell_type": "code",
   "execution_count": 62,
   "id": "6677def1",
   "metadata": {
    "slideshow": {
     "slide_type": "subslide"
    }
   },
   "outputs": [
    {
     "data": {
      "image/png": "[encoded data removed]",
      "text/plain": [
       "<Figure size 800x600 with 1 Axes>"
      ]
     },
     "metadata": {},
     "output_type": "display_data"
    }
   ],
   "source": [
    "# 4. Interpolating between 2D points\n",
    "\n",
    "import numpy as np\n",
    "import matplotlib.pyplot as plt\n",
    "from scipy.interpolate import interp1d\n",
    "\n",
    "# 4.1. Define some scattered 2D points (x, y) and corresponding z values\n",
    "points = np.random.rand(10, 2) * 10  # 10 random points in 2D (x, y)\n",
    "x = points[:, 0]  # Take the x-coordinates\n",
    "z = np.sin(points[:, 0]) + np.cos(points[:, 1])  # z = sin(x) + cos(y) based on x and y\n",
    "\n",
    "# 4.2 Sort x and z for proper interpolation (since x needs to be sorted)\n",
    "sorted_indices = np.argsort(x)\n",
    "x_sorted = x[sorted_indices]\n",
    "z_sorted = z[sorted_indices]\n",
    "\n",
    "# 4.3 Perform 1D interpolation along the x-axis\n",
    "interp_func = interp1d(x_sorted, z_sorted, kind='cubic')  # Cubic interpolation\n",
    "\n",
    "# 4.4. Create new x points for interpolation\n",
    "x_new = np.linspace(min(x_sorted), max(x_sorted), 100)  # 100 new points along x-axis\n",
    "z_new = interp_func(x_new)\n",
    "\n",
    "# Step 5: Plot the original points and the 1D interpolation result\n",
    "plt.figure(figsize=(8, 6))\n",
    "\n",
    "# Plot original 2D points (x, z) as scatter plot\n",
    "plt.scatter(x, z, color='red', label='Original Points')\n",
    "\n",
    "# Plot the interpolated curve\n",
    "plt.plot(x_new, z_new, label='Interpolated Curve', color='blue')\n",
    "\n",
    "plt.title('1D Interpolation of 2D Points along X-Axis')\n",
    "plt.xlabel('X')\n",
    "plt.ylabel('Z (Interpolated)')\n",
    "plt.legend()\n",
    "plt.grid(True)\n",
    "plt.show()"
   ]
  },
  {
   "cell_type": "code",
   "execution_count": 63,
   "id": "236ea3f4",
   "metadata": {
    "slideshow": {
     "slide_type": "subslide"
    }
   },
   "outputs": [
    {
     "name": "stdout",
     "output_type": "stream",
     "text": [
      "4.802179289039935e-05\n"
     ]
    }
   ],
   "source": [
    "# 5. Run a simple t-test over two distributions\n",
    "\n",
    "from scipy import stats\n",
    "\n",
    "# Two samples\n",
    "sample1 = np.random.normal(loc=5, scale=1, size=100) # samples 100 points using a N(5, 1)\n",
    "sample2 = np.random.normal(loc=5.5, scale=1, size=100) # samples 100 points using a N(5.5, 1)\n",
    "\n",
    "# Perform t-test\n",
    "_, p_value = stats.ttest_ind(sample1, sample2)\n",
    "print(p_value)\n",
    "\n",
    "# If the two populations come from the same distrubution the p-value should be high, typically above 0.05. \n",
    "# It the value is close to 1, the two samples are most probably coming from the same distribution."
   ]
  },
  {
   "cell_type": "markdown",
   "id": "ab12d188",
   "metadata": {
    "slideshow": {
     "slide_type": "slide"
    }
   },
   "source": [
    "## Basic Libraries I\n",
    "\n",
    "Another library used when developing algorithms is Math. This is a **built-in** library in Python. It is worth mentioning that most of the mathematical functions and constants are covered by Scipy and Numpy. However, it is worth knowing it, since is a built-in library."
   ]
  },
  {
   "cell_type": "code",
   "execution_count": 64,
   "id": "59be7327",
   "metadata": {
    "slideshow": {
     "slide_type": "subslide"
    }
   },
   "outputs": [],
   "source": [
    "import math"
   ]
  },
  {
   "cell_type": "code",
   "execution_count": 65,
   "id": "524e48cf",
   "metadata": {
    "slideshow": {
     "slide_type": "fragment"
    }
   },
   "outputs": [
    {
     "data": {
      "text/plain": [
       "4.0"
      ]
     },
     "execution_count": 65,
     "metadata": {},
     "output_type": "execute_result"
    }
   ],
   "source": [
    "# Square root, power, absolute value\n",
    "math.sqrt(16)"
   ]
  },
  {
   "cell_type": "code",
   "execution_count": 66,
   "id": "e5ea73d1",
   "metadata": {
    "slideshow": {
     "slide_type": "fragment"
    }
   },
   "outputs": [
    {
     "data": {
      "text/plain": [
       "8.0"
      ]
     },
     "execution_count": 66,
     "metadata": {},
     "output_type": "execute_result"
    }
   ],
   "source": [
    "math.pow(2, 3)"
   ]
  },
  {
   "cell_type": "code",
   "execution_count": 67,
   "id": "ced6d26f",
   "metadata": {
    "slideshow": {
     "slide_type": "fragment"
    }
   },
   "outputs": [
    {
     "data": {
      "text/plain": [
       "10.5"
      ]
     },
     "execution_count": 67,
     "metadata": {},
     "output_type": "execute_result"
    }
   ],
   "source": [
    "math.fabs(-10.5)"
   ]
  },
  {
   "cell_type": "code",
   "execution_count": 68,
   "id": "b9b80906",
   "metadata": {
    "slideshow": {
     "slide_type": "fragment"
    }
   },
   "outputs": [
    {
     "data": {
      "text/plain": [
       "False"
      ]
     },
     "execution_count": 68,
     "metadata": {},
     "output_type": "execute_result"
    }
   ],
   "source": [
    "# Calculate sinus, cosinus, tangent\n",
    "angle = math.pi / 4  # in gradients\n",
    "math.sin(angle) / math.cos(angle) == math.tan(angle)"
   ]
  },
  {
   "cell_type": "code",
   "execution_count": 69,
   "id": "f6a30575",
   "metadata": {
    "slideshow": {
     "slide_type": "fragment"
    }
   },
   "outputs": [
    {
     "data": {
      "text/plain": [
       "2.718281828459045"
      ]
     },
     "execution_count": 69,
     "metadata": {},
     "output_type": "execute_result"
    }
   ],
   "source": [
    "# Exponential, logarithm (ln), # Logarithm base 10\n",
    "math.exp(1)"
   ]
  },
  {
   "cell_type": "code",
   "execution_count": 70,
   "id": "ec6f979b",
   "metadata": {
    "slideshow": {
     "slide_type": "fragment"
    }
   },
   "outputs": [
    {
     "data": {
      "text/plain": [
       "2.302585092994046"
      ]
     },
     "execution_count": 70,
     "metadata": {},
     "output_type": "execute_result"
    }
   ],
   "source": [
    "math.log(10)"
   ]
  },
  {
   "cell_type": "code",
   "execution_count": 71,
   "id": "07d617e0",
   "metadata": {
    "slideshow": {
     "slide_type": "fragment"
    }
   },
   "outputs": [
    {
     "data": {
      "text/plain": [
       "2.0"
      ]
     },
     "execution_count": 71,
     "metadata": {},
     "output_type": "execute_result"
    }
   ],
   "source": [
    "math.log10(100)"
   ]
  },
  {
   "cell_type": "code",
   "execution_count": 72,
   "id": "5d2585b8",
   "metadata": {
    "slideshow": {
     "slide_type": "fragment"
    }
   },
   "outputs": [
    {
     "name": "stdout",
     "output_type": "stream",
     "text": [
      "floor value for 2.8: 2 and ceil value for 2.1: 3\n"
     ]
    }
   ],
   "source": [
    "# Rounding down (floor) and up (ceil), and factorial\n",
    "print(f\"floor value for 2.8: {math.floor(2.8)} and ceil value for 2.1: {math.ceil(2.1)}\")"
   ]
  },
  {
   "cell_type": "code",
   "execution_count": 73,
   "id": "873b1d28",
   "metadata": {
    "slideshow": {
     "slide_type": "fragment"
    }
   },
   "outputs": [
    {
     "name": "stdout",
     "output_type": "stream",
     "text": [
      "Factorial value of 4: 24\n"
     ]
    }
   ],
   "source": [
    "print(f\"Factorial value of 4: {math.factorial(4)}\")"
   ]
  },
  {
   "cell_type": "markdown",
   "id": "227e2907",
   "metadata": {
    "slideshow": {
     "slide_type": "slide"
    }
   },
   "source": [
    "## Basic Libraries I\n",
    "\n",
    "When manipulating files and folder, you may want to use the following **built-in** libraries: os, glob and shutil. Let's staart with **os**."
   ]
  },
  {
   "cell_type": "code",
   "execution_count": 74,
   "id": "b00491ab",
   "metadata": {
    "slideshow": {
     "slide_type": "subslide"
    }
   },
   "outputs": [],
   "source": [
    "import os"
   ]
  },
  {
   "cell_type": "code",
   "execution_count": 107,
   "id": "9f8f13c9",
   "metadata": {
    "slideshow": {
     "slide_type": "fragment"
    }
   },
   "outputs": [
    {
     "data": {
      "text/plain": [
       "['.DS_Store', 'annotations']"
      ]
     },
     "execution_count": 107,
     "metadata": {},
     "output_type": "execute_result"
    }
   ],
   "source": [
    "# Let's check what files we have in a specific folder\n",
    "os.listdir('session_4')"
   ]
  },
  {
   "cell_type": "code",
   "execution_count": 108,
   "id": "386cfa6a",
   "metadata": {
    "slideshow": {
     "slide_type": "fragment"
    }
   },
   "outputs": [
    {
     "data": {
      "text/plain": [
       "'c:\\\\Users\\\\carlo\\\\OneDrive\\\\Ambiente de Trabalho\\\\Esade\\\\1st term\\\\Python for Data Science\\\\Git\\\\Python-for-Data-Science\\\\Assignment 4'"
      ]
     },
     "execution_count": 108,
     "metadata": {},
     "output_type": "execute_result"
    }
   ],
   "source": [
    "# Let's get the absolute path\n",
    "os.getcwd()"
   ]
  },
  {
   "cell_type": "code",
   "execution_count": 109,
   "id": "01967714",
   "metadata": {
    "slideshow": {
     "slide_type": "fragment"
    }
   },
   "outputs": [],
   "source": [
    "# Create a new folder\n",
    "os.mkdir('new_folder')"
   ]
  },
  {
   "cell_type": "code",
   "execution_count": 110,
   "id": "ef4c3030",
   "metadata": {
    "slideshow": {
     "slide_type": "fragment"
    }
   },
   "outputs": [
    {
     "data": {
      "text/plain": [
       "['new_folder']"
      ]
     },
     "execution_count": 110,
     "metadata": {},
     "output_type": "execute_result"
    }
   ],
   "source": [
    "[file for file in os.listdir('.') if 'new_folder' in file]"
   ]
  },
  {
   "cell_type": "code",
   "execution_count": 111,
   "id": "deae7955",
   "metadata": {
    "slideshow": {
     "slide_type": "fragment"
    }
   },
   "outputs": [],
   "source": [
    "# Remove it now\n",
    "os.rmdir('new_folder')"
   ]
  },
  {
   "cell_type": "code",
   "execution_count": 112,
   "id": "15771206",
   "metadata": {
    "slideshow": {
     "slide_type": "fragment"
    }
   },
   "outputs": [
    {
     "data": {
      "text/plain": [
       "[]"
      ]
     },
     "execution_count": 112,
     "metadata": {},
     "output_type": "execute_result"
    }
   ],
   "source": [
    "[file for file in os.listdir('.') if 'new_folder' in file]"
   ]
  },
  {
   "cell_type": "code",
   "execution_count": 113,
   "id": "889b4ad8",
   "metadata": {
    "slideshow": {
     "slide_type": "fragment"
    }
   },
   "outputs": [
    {
     "name": "stdout",
     "output_type": "stream",
     "text": [
      "True\n"
     ]
    }
   ],
   "source": [
    "# Check if a file exists\n",
    "print(os.path.exists('session_4.ipynb'))"
   ]
  },
  {
   "cell_type": "code",
   "execution_count": 114,
   "id": "ae06580e",
   "metadata": {
    "slideshow": {
     "slide_type": "fragment"
    }
   },
   "outputs": [
    {
     "data": {
      "text/plain": [
       "'session_4/annotations'"
      ]
     },
     "execution_count": 114,
     "metadata": {},
     "output_type": "execute_result"
    }
   ],
   "source": [
    "# You can also join paths or get the file out of the full path\n",
    "os.path.join('session_4/', 'annotations')"
   ]
  },
  {
   "cell_type": "code",
   "execution_count": 115,
   "id": "c4990139",
   "metadata": {
    "slideshow": {
     "slide_type": "fragment"
    }
   },
   "outputs": [
    {
     "data": {
      "text/plain": [
       "'20240101_174301_SN33_QUICKVIEW_VISUAL_1_1_10_SATL-2KM-11N_404_3770.txt'"
      ]
     },
     "execution_count": 115,
     "metadata": {},
     "output_type": "execute_result"
    }
   ],
   "source": [
    "os.path.basename('session_4/annotations/20240101_174301_SN33_QUICKVIEW_VISUAL_1_1_10_SATL-2KM-11N_404_3770.txt')"
   ]
  },
  {
   "cell_type": "markdown",
   "id": "54bf94e2",
   "metadata": {
    "slideshow": {
     "slide_type": "slide"
    }
   },
   "source": [
    "## Basic Libraries I\n",
    "\n",
    "Let's keep working now with **glob**."
   ]
  },
  {
   "cell_type": "code",
   "execution_count": 116,
   "id": "3a70ffff",
   "metadata": {
    "slideshow": {
     "slide_type": "subslide"
    }
   },
   "outputs": [],
   "source": [
    "import glob"
   ]
  },
  {
   "cell_type": "code",
   "execution_count": 117,
   "id": "79bf5c73",
   "metadata": {
    "slideshow": {
     "slide_type": "fragment"
    }
   },
   "outputs": [
    {
     "data": {
      "text/plain": [
       "['session_4/annotations\\\\20240101_174301_SN33_QUICKVIEW_VISUAL_1_1_10_SATL-2KM-11N_404_3770.txt',\n",
       " 'session_4/annotations\\\\20240101_174301_SN33_QUICKVIEW_VISUAL_1_1_10_SATL-2KM-11N_404_3772.txt',\n",
       " 'session_4/annotations\\\\20240101_192856_SN24_QUICKVIEW_VISUAL_1_1_10_SATL-2KM-10N_552_4162.txt',\n",
       " 'session_4/annotations\\\\20240101_192856_SN24_QUICKVIEW_VISUAL_1_1_10_SATL-2KM-10N_552_4164.txt',\n",
       " 'session_4/annotations\\\\20240101_192856_SN24_QUICKVIEW_VISUAL_1_1_10_SATL-2KM-10N_554_4162.txt',\n",
       " 'session_4/annotations\\\\20240101_213601_SN31_QUICKVIEW_VISUAL_1_1_10_SATL-2KM-11N_392_3740.txt',\n",
       " 'session_4/annotations\\\\20240101_213601_SN31_QUICKVIEW_VISUAL_1_1_10_SATL-2KM-11N_392_3742.txt',\n",
       " 'session_4/annotations\\\\20240101_213601_SN31_QUICKVIEW_VISUAL_1_1_10_SATL-2KM-11N_396_3752.txt',\n",
       " 'session_4/annotations\\\\20240102_185527_SN27_QUICKVIEW_VISUAL_1_1_10_SATL-2KM-11N_740_3850.txt',\n",
       " 'session_4/annotations\\\\20240102_185605_SN27_QUICKVIEW_VISUAL_1_1_10_SATL-2KM-11N_690_3572.txt',\n",
       " 'session_4/annotations\\\\20240102_185954_SN24_QUICKVIEW_VISUAL_1_1_10_SATL-2KM-11N_414_3786.txt',\n",
       " 'session_4/annotations\\\\20240104_220339_SN31_QUICKVIEW_VISUAL_1_1_10_SATL-2KM-10N_556_4178.txt',\n",
       " 'session_4/annotations\\\\20240110_192002_SN27_QUICKVIEW_VISUAL_1_1_10_SATL-2KM-11N_380_3728.txt',\n",
       " 'session_4/annotations\\\\20240112_192510_SN27_QUICKVIEW_VISUAL_1_1_10_SATL-2KM-11N_386_3750.txt',\n",
       " 'session_4/annotations\\\\20240115_213834_SN28_QUICKVIEW_VISUAL_1_1_10_SATL-2KM-11N_376_3722.txt',\n",
       " 'session_4/annotations\\\\20240115_213834_SN28_QUICKVIEW_VISUAL_1_1_10_SATL-2KM-11N_380_3724.txt',\n",
       " 'session_4/annotations\\\\20240126_173752_SN33_QUICKVIEW_VISUAL_1_1_10_SATL-2KM-11N_386_3722.txt',\n",
       " 'session_4/annotations\\\\20240127_190620_SN27_QUICKVIEW_VISUAL_1_1_10_SATL-2KM-11N_500_3600.txt',\n",
       " 'session_4/annotations\\\\20240127_190620_SN27_QUICKVIEW_VISUAL_1_1_10_SATL-2KM-11N_500_3602.txt',\n",
       " 'session_4/annotations\\\\20240127_190620_SN27_QUICKVIEW_VISUAL_1_1_10_SATL-2KM-11N_502_3600.txt',\n",
       " 'session_4/annotations\\\\20240127_190620_SN27_QUICKVIEW_VISUAL_1_1_10_SATL-2KM-11N_502_3602.txt',\n",
       " 'session_4/annotations\\\\20240128_213258_SN29_QUICKVIEW_VISUAL_1_1_10_SATL-2KM-11N_418_3862.txt',\n",
       " 'session_4/annotations\\\\20240128_213258_SN29_QUICKVIEW_VISUAL_1_1_10_SATL-2KM-11N_418_3864.txt',\n",
       " 'session_4/annotations\\\\20240130_173903_SN33_QUICKVIEW_VISUAL_1_1_10_SATL-2KM-11N_360_3748.txt',\n",
       " 'session_4/annotations\\\\20240130_173903_SN33_QUICKVIEW_VISUAL_1_1_10_SATL-2KM-11N_364_3754.txt',\n",
       " 'session_4/annotations\\\\20240130_173903_SN33_QUICKVIEW_VISUAL_1_1_10_SATL-2KM-11N_366_3756.txt',\n",
       " 'session_4/annotations\\\\20240130_215036_SN31_QUICKVIEW_VISUAL_1_1_10_SATL-2KM-11N_366_3756.txt',\n",
       " 'session_4/annotations\\\\20240201_075140_SN26_QUICKVIEW_VISUAL_1_1_10_SATL-2KM-39N_556_2792.txt',\n",
       " 'session_4/annotations\\\\20240201_075140_SN26_QUICKVIEW_VISUAL_1_1_10_SATL-2KM-39N_556_2794.txt',\n",
       " 'session_4/annotations\\\\20240201_075140_SN26_QUICKVIEW_VISUAL_1_1_10_SATL-2KM-39N_558_2794.txt',\n",
       " 'session_4/annotations\\\\20240201_075140_SN26_QUICKVIEW_VISUAL_1_1_10_SATL-2KM-39N_560_2792.txt',\n",
       " 'session_4/annotations\\\\20240201_075140_SN26_QUICKVIEW_VISUAL_1_1_10_SATL-2KM-39N_560_2794.txt',\n",
       " 'session_4/annotations\\\\20240201_075140_SN26_QUICKVIEW_VISUAL_1_1_10_SATL-2KM-39N_560_2796.txt',\n",
       " 'session_4/annotations\\\\20240201_075140_SN26_QUICKVIEW_VISUAL_1_1_10_SATL-2KM-39N_562_2792.txt',\n",
       " 'session_4/annotations\\\\20240201_075140_SN26_QUICKVIEW_VISUAL_1_1_10_SATL-2KM-39N_562_2794.txt',\n",
       " 'session_4/annotations\\\\20240201_075143_SN26_QUICKVIEW_VISUAL_1_1_10_SATL-2KM-39N_556_2792.txt',\n",
       " 'session_4/annotations\\\\20240201_075143_SN26_QUICKVIEW_VISUAL_1_1_10_SATL-2KM-39N_562_2788.txt',\n",
       " 'session_4/annotations\\\\20240202_184725_SN24_QUICKVIEW_VISUAL_1_1_10_SATL-2KM-11N_624_3630.txt',\n",
       " 'session_4/annotations\\\\20240202_191114_SN27_QUICKVIEW_VISUAL_1_1_10_SATL-2KM-11N_718_3608.txt',\n",
       " 'session_4/annotations\\\\20240203_173953_SN33_QUICKVIEW_VISUAL_1_1_10_SATL-2KM-11N_366_3756.txt',\n",
       " 'session_4/annotations\\\\20240203_173953_SN33_QUICKVIEW_VISUAL_1_1_10_SATL-2KM-11N_368_3756.txt',\n",
       " 'session_4/annotations\\\\20240208_184650_SN24_QUICKVIEW_VISUAL_1_1_10_SATL-2KM-11N_624_3632.txt',\n",
       " 'session_4/annotations\\\\20240209_212744_SN29_QUICKVIEW_VISUAL_1_1_10_SATL-2KM-11N_380_3722.txt',\n",
       " 'session_4/annotations\\\\20240211_211057_SN30_QUICKVIEW_VISUAL_1_1_10_SATL-2KM-11N_700_3690.txt',\n",
       " 'session_4/annotations\\\\20240212_213506_SN31_QUICKVIEW_VISUAL_1_1_10_SATL-2KM-11N_408_3712.txt',\n",
       " 'session_4/annotations\\\\20240213_212524_SN29_QUICKVIEW_VISUAL_1_1_10_SATL-2KM-11N_540_3748.txt',\n",
       " 'session_4/annotations\\\\20240213_212524_SN29_QUICKVIEW_VISUAL_1_1_10_SATL-2KM-11N_542_3750.txt',\n",
       " 'session_4/annotations\\\\20240213_212524_SN29_QUICKVIEW_VISUAL_1_1_10_SATL-2KM-11N_544_3742.txt',\n",
       " 'session_4/annotations\\\\20240214_184340_SN24_QUICKVIEW_VISUAL_1_1_10_SATL-2KM-11N_688_3630.txt',\n",
       " 'session_4/annotations\\\\20240216_213630_SN31_QUICKVIEW_VISUAL_1_1_10_SATL-2KM-11N_418_3724.txt',\n",
       " 'session_4/annotations\\\\20240218_180121_SN33_QUICKVIEW_VISUAL_1_1_10_SATL-2KM-10N_568_4176.txt',\n",
       " 'session_4/annotations\\\\20240219_214312_SN28_QUICKVIEW_VISUAL_1_1_10_SATL-2KM-11N_252_3954.txt',\n",
       " 'session_4/annotations\\\\20240220_190455_SN27_QUICKVIEW_VISUAL_1_1_10_SATL-2KM-11N_718_3608.txt',\n",
       " 'session_4/annotations\\\\20240221_190608_SN26_QUICKVIEW_VISUAL_1_1_10_SATL-2KM-11N_380_3764.txt',\n",
       " 'session_4/annotations\\\\20240222_074151_SN26_QUICKVIEW_VISUAL_1_1_10_SATL-2KM-39N_556_2794.txt',\n",
       " 'session_4/annotations\\\\20240222_074151_SN26_QUICKVIEW_VISUAL_1_1_10_SATL-2KM-39N_558_2796.txt',\n",
       " 'session_4/annotations\\\\20240222_074151_SN26_QUICKVIEW_VISUAL_1_1_10_SATL-2KM-39N_560_2794.txt',\n",
       " 'session_4/annotations\\\\20240222_074151_SN26_QUICKVIEW_VISUAL_1_1_10_SATL-2KM-39N_560_2796.txt',\n",
       " 'session_4/annotations\\\\20240222_074151_SN26_QUICKVIEW_VISUAL_1_1_10_SATL-2KM-39N_562_2794.txt',\n",
       " 'session_4/annotations\\\\20240222_074155_SN26_QUICKVIEW_VISUAL_1_1_10_SATL-2KM-39N_556_2792.txt',\n",
       " 'session_4/annotations\\\\20240222_074155_SN26_QUICKVIEW_VISUAL_1_1_10_SATL-2KM-39N_556_2794.txt',\n",
       " 'session_4/annotations\\\\20240222_074155_SN26_QUICKVIEW_VISUAL_1_1_10_SATL-2KM-39N_558_2794.txt',\n",
       " 'session_4/annotations\\\\20240222_074155_SN26_QUICKVIEW_VISUAL_1_1_10_SATL-2KM-39N_560_2792.txt',\n",
       " 'session_4/annotations\\\\20240222_074155_SN26_QUICKVIEW_VISUAL_1_1_10_SATL-2KM-39N_562_2792.txt',\n",
       " 'session_4/annotations\\\\20240222_074155_SN26_QUICKVIEW_VISUAL_1_1_10_SATL-2KM-39N_562_2794.txt',\n",
       " 'session_4/annotations\\\\20240222_074256_SN26_QUICKVIEW_VISUAL_1_1_10_SATL-2KM-39N_564_2790.txt',\n",
       " 'session_4/annotations\\\\20240222_212250_SN30_QUICKVIEW_VISUAL_1_1_10_SATL-2KM-11N_382_3722.txt',\n",
       " 'session_4/annotations\\\\20240223_025420_SN24_QUICKVIEW_VISUAL_1_1_10_SATL-2KM-51N_686_4422.txt',\n",
       " 'session_4/annotations\\\\20240224_214855_SN30_QUICKVIEW_VISUAL_1_1_10_SATL-2KM-10N_552_4162.txt',\n",
       " 'session_4/annotations\\\\20240224_214855_SN30_QUICKVIEW_VISUAL_1_1_10_SATL-2KM-10N_554_4162.txt',\n",
       " 'session_4/annotations\\\\20240227_214218_SN30_QUICKVIEW_VISUAL_1_1_10_SATL-2KM-10N_562_4170.txt',\n",
       " 'session_4/annotations\\\\20240228_213951_SN29_QUICKVIEW_VISUAL_1_1_10_SATL-2KM-11N_248_4068.txt',\n",
       " 'session_4/annotations\\\\20240304_212824_SN30_QUICKVIEW_VISUAL_1_2_0_SATL-2KM-11N_378_3722.txt',\n",
       " 'session_4/annotations\\\\20240308_191212_SN27_QUICKVIEW_VISUAL_1_2_0_SATL-2KM-11N_506_3614.txt',\n",
       " 'session_4/annotations\\\\20240308_211248_SN29_QUICKVIEW_VISUAL_1_2_0_SATL-2KM-11N_718_3640.txt',\n",
       " 'session_4/annotations\\\\20240314_220020_SN30_QUICKVIEW_VISUAL_1_2_0_SATL-2KM-10N_544_4186.txt',\n",
       " 'session_4/annotations\\\\20240314_220020_SN30_QUICKVIEW_VISUAL_1_2_0_SATL-2KM-10N_550_4202.txt',\n",
       " 'session_4/annotations\\\\20240316_191451_SN26_QUICKVIEW_VISUAL_1_2_0_SATL-2KM-11N_380_3764.txt',\n",
       " 'session_4/annotations\\\\20240317_215115_SN28_QUICKVIEW_VISUAL_1_2_0_SATL-2KM-10N_552_4162.txt',\n",
       " 'session_4/annotations\\\\20240317_215115_SN28_QUICKVIEW_VISUAL_1_2_0_SATL-2KM-10N_552_4164.txt',\n",
       " 'session_4/annotations\\\\20240317_215115_SN28_QUICKVIEW_VISUAL_1_2_0_SATL-2KM-10N_554_4162.txt',\n",
       " 'session_4/annotations\\\\20240317_221229_SN31_QUICKVIEW_VISUAL_1_2_0_SATL-2KM-10N_556_4176.txt',\n",
       " 'session_4/annotations\\\\20240321_190819_SN27_QUICKVIEW_VISUAL_1_2_0_SATL-2KM-11N_714_3632.txt',\n",
       " 'session_4/annotations\\\\20240321_220846_SN31_QUICKVIEW_VISUAL_1_2_0_SATL-2KM-10N_560_4178.txt',\n",
       " 'session_4/annotations\\\\20240322_184801_SN24_QUICKVIEW_VISUAL_1_2_0_SATL-2KM-11N_500_3632.txt',\n",
       " 'session_4/annotations\\\\20240322_184801_SN24_QUICKVIEW_VISUAL_1_2_0_SATL-2KM-11N_502_3632.txt',\n",
       " 'session_4/annotations\\\\20240322_212516_SN28_QUICKVIEW_VISUAL_1_2_0_SATL-2KM-11N_502_3600.txt',\n",
       " 'session_4/annotations\\\\20240324_180232_SN33_QUICKVIEW_VISUAL_1_2_0_SATL-2KM-10N_554_4172.txt',\n",
       " 'session_4/annotations\\\\20240325_173936_SN33_QUICKVIEW_VISUAL_1_2_0_SATL-2KM-11N_378_3722.txt',\n",
       " 'session_4/annotations\\\\20240401_032415_SN27_QUICKVIEW_VISUAL_1_2_0_SATL-2KM-51N_688_4420.txt',\n",
       " 'session_4/annotations\\\\20240401_175918_SN33_QUICKVIEW_VISUAL_1_2_0_SATL-2KM-10N_542_4168.txt',\n",
       " 'session_4/annotations\\\\20240401_175918_SN33_QUICKVIEW_VISUAL_1_2_0_SATL-2KM-10N_546_4206.txt',\n",
       " 'session_4/annotations\\\\20240401_175925_SN33_QUICKVIEW_VISUAL_1_2_0_SATL-2KM-10N_542_4168.txt',\n",
       " 'session_4/annotations\\\\20240401_221819_SN31_QUICKVIEW_VISUAL_1_2_0_SATL-2KM-10N_602_4148.txt',\n",
       " 'session_4/annotations\\\\20240402_184757_SN24_QUICKVIEW_VISUAL_1_2_0_SATL-2KM-11N_486_3630.txt',\n",
       " 'session_4/annotations\\\\20240402_184757_SN24_QUICKVIEW_VISUAL_1_2_0_SATL-2KM-11N_486_3636.txt',\n",
       " 'session_4/annotations\\\\20240402_184757_SN24_QUICKVIEW_VISUAL_1_2_0_SATL-2KM-11N_488_3638.txt',\n",
       " 'session_4/annotations\\\\20240402_184757_SN24_QUICKVIEW_VISUAL_1_2_0_SATL-2KM-11N_490_3638.txt',\n",
       " 'session_4/annotations\\\\20240402_215421_SN31_QUICKVIEW_VISUAL_1_2_0_SATL-2KM-11N_500_3632.txt',\n",
       " 'session_4/annotations\\\\20240402_215427_SN31_QUICKVIEW_VISUAL_1_2_0_SATL-2KM-11N_502_3600.txt',\n",
       " 'session_4/annotations\\\\20240405_183824_409694_MS_NS24_QUICKVIEW_VISUAL_1_3_0_SATL-2KM-11N_736_3716.txt',\n",
       " 'session_4/annotations\\\\20240407_190149_742846_MS_NS24_QUICKVIEW_VISUAL_1_3_0_SATL-2KM-11N_258_4028.txt',\n",
       " 'session_4/annotations\\\\20240408_211552_958249_MS_NS29_QUICKVIEW_VISUAL_1_3_0_SATL-2KM-11N_734_3742.txt',\n",
       " 'session_4/annotations\\\\20240410_214305_399233_MS_NS43_QUICKVIEW_VISUAL_1_3_0_SATL-2KM-11N_380_3764.txt',\n",
       " 'session_4/annotations\\\\20240410_214321_024179_MS_NS30_QUICKVIEW_VISUAL_1_3_0_SATL-2KM-11N_296_3786.txt',\n",
       " 'session_4/annotations\\\\20240412_052750_556466_MS_NS29_QUICKVIEW_VISUAL_1_3_0_SATL-2KM-51N_688_4420.txt',\n",
       " 'session_4/annotations\\\\20240412_191539_377035_MS_NS24_QUICKVIEW_VISUAL_1_3_0_SATL-2KM-11N_258_4038.txt',\n",
       " 'session_4/annotations\\\\20240412_191539_631044_MS_NS24_QUICKVIEW_VISUAL_1_3_0_SATL-2KM-11N_258_4036.txt',\n",
       " 'session_4/annotations\\\\20240412_191549_672087_MS_NS24_QUICKVIEW_VISUAL_1_3_0_SATL-2KM-11N_240_3966.txt',\n",
       " 'session_4/annotations\\\\20240417_215406_715231_MS_NS43_QUICKVIEW_VISUAL_1_3_0_SATL-2KM-10N_740_4446.txt',\n",
       " 'session_4/annotations\\\\20240418_213446_163074_MS_NS28_QUICKVIEW_VISUAL_1_3_0_SATL-2KM-11N_388_3748.txt',\n",
       " 'session_4/annotations\\\\20240420_181053_341939_MS_NS33_QUICKVIEW_VISUAL_1_3_0_SATL-2KM-10N_556_4180.txt',\n",
       " 'session_4/annotations\\\\20240423_190101_SN26_QUICKVIEW_VISUAL_1_5_0_SATL-2KM-11N_414_3862.txt',\n",
       " 'session_4/annotations\\\\20240423_190101_SN26_QUICKVIEW_VISUAL_1_5_0_SATL-2KM-11N_416_3862.txt',\n",
       " 'session_4/annotations\\\\20240423_190101_SN26_QUICKVIEW_VISUAL_1_5_0_SATL-2KM-11N_416_3864.txt',\n",
       " 'session_4/annotations\\\\20240423_190101_SN26_QUICKVIEW_VISUAL_1_5_0_SATL-2KM-11N_418_3860.txt',\n",
       " 'session_4/annotations\\\\20240423_190101_SN26_QUICKVIEW_VISUAL_1_5_0_SATL-2KM-11N_418_3862.txt',\n",
       " 'session_4/annotations\\\\20240423_190101_SN26_QUICKVIEW_VISUAL_1_5_0_SATL-2KM-11N_418_3864.txt',\n",
       " 'session_4/annotations\\\\20240423_190101_SN26_QUICKVIEW_VISUAL_1_5_0_SATL-2KM-11N_418_3872.txt',\n",
       " 'session_4/annotations\\\\20240426_215224_SN29_QUICKVIEW_VISUAL_1_5_0_SATL-2KM-11N_244_3818.txt',\n",
       " 'session_4/annotations\\\\20240427_221308_SN31_QUICKVIEW_VISUAL_1_5_0_SATL-2KM-10N_722_3848.txt',\n",
       " 'session_4/annotations\\\\20240428_191026_SN24_QUICKVIEW_VISUAL_1_5_0_SATL-2KM-11N_380_3722.txt',\n",
       " 'session_4/annotations\\\\20240428_215426_SN43_QUICKVIEW_VISUAL_1_5_0_SATL-2KM-10N_630_4262.txt',\n",
       " 'session_4/annotations\\\\20240428_215426_SN43_QUICKVIEW_VISUAL_1_5_0_SATL-2KM-10N_630_4264.txt',\n",
       " 'session_4/annotations\\\\20240428_215426_SN43_QUICKVIEW_VISUAL_1_5_0_SATL-2KM-10N_634_4282.txt',\n",
       " 'session_4/annotations\\\\20240428_215557_SN43_QUICKVIEW_VISUAL_1_5_0_SATL-2KM-10N_726_3862.txt',\n",
       " 'session_4/annotations\\\\20240503_214759_SN28_QUICKVIEW_VISUAL_1_5_0_SATL-2KM-11N_376_3724.txt',\n",
       " 'session_4/annotations\\\\20240506_192008_SN26_QUICKVIEW_VISUAL_1_5_0_SATL-2KM-10N_562_4178.txt',\n",
       " 'session_4/annotations\\\\20240506_213507_SN43_QUICKVIEW_VISUAL_1_5_0_SATL-2KM-11N_384_3750.txt',\n",
       " 'session_4/annotations\\\\20240507_191326_SN27_QUICKVIEW_VISUAL_1_5_0_SATL-2KM-11N_718_3608.txt',\n",
       " 'session_4/annotations\\\\20240508_194502_SN27_QUICKVIEW_VISUAL_1_5_0_SATL-2KM-11N_262_4022.txt',\n",
       " 'session_4/annotations\\\\20240508_194502_SN27_QUICKVIEW_VISUAL_1_5_0_SATL-2KM-11N_264_4022.txt',\n",
       " 'session_4/annotations\\\\20240509_193206_SN26_QUICKVIEW_VISUAL_1_5_0_SATL-2KM-10N_562_4196.txt',\n",
       " 'session_4/annotations\\\\20240509_212336_SN29_QUICKVIEW_VISUAL_1_5_0_SATL-2KM-11N_706_3778.txt',\n",
       " 'session_4/annotations\\\\20240510_191908_SN27_QUICKVIEW_VISUAL_1_5_0_SATL-2KM-11N_718_3608.txt',\n",
       " 'session_4/annotations\\\\20240510_191914_SN27_QUICKVIEW_VISUAL_1_5_0_SATL-2KM-11N_712_3566.txt',\n",
       " 'session_4/annotations\\\\20240513_212022_SN29_QUICKVIEW_VISUAL_1_5_0_SATL-2KM-11N_630_3742.txt',\n",
       " 'session_4/annotations\\\\20240514_052716_SN43_QUICKVIEW_VISUAL_1_5_0_SATL-2KM-51N_730_4342.txt',\n",
       " 'session_4/annotations\\\\20240516_190328_SN24_QUICKVIEW_VISUAL_1_5_0_SATL-2KM-11N_262_4052.txt',\n",
       " 'session_4/annotations\\\\20240516_211630_SN28_QUICKVIEW_VISUAL_1_5_0_SATL-2KM-11N_716_3848.txt',\n",
       " 'session_4/annotations\\\\20240519_184534_SN24_QUICKVIEW_VISUAL_1_5_0_SATL-2KM-11N_658_3700.txt',\n",
       " 'session_4/annotations\\\\20240519_191838_SN27_QUICKVIEW_VISUAL_1_5_0_SATL-2KM-11N_718_3608.txt',\n",
       " 'session_4/annotations\\\\20240519_214917_SN31_QUICKVIEW_VISUAL_1_5_0_SATL-2KM-11N_500_3598.txt',\n",
       " 'session_4/annotations\\\\20240519_214917_SN31_QUICKVIEW_VISUAL_1_5_0_SATL-2KM-11N_500_3600.txt',\n",
       " 'session_4/annotations\\\\20240519_214917_SN31_QUICKVIEW_VISUAL_1_5_0_SATL-2KM-11N_500_3602.txt',\n",
       " 'session_4/annotations\\\\20240520_194539_SN27_QUICKVIEW_VISUAL_1_5_0_SATL-2KM-10N_638_4280.txt',\n",
       " 'session_4/annotations\\\\20240520_194539_SN27_QUICKVIEW_VISUAL_1_5_0_SATL-2KM-10N_638_4282.txt',\n",
       " 'session_4/annotations\\\\20240521_052621_SN43_QUICKVIEW_VISUAL_1_6_0_SATL-2KM-51N_730_4342.txt',\n",
       " 'session_4/annotations\\\\20240521_101252_SN43_QUICKVIEW_VISUAL_1_6_0_SATL-2KM-39N_556_2792.txt',\n",
       " 'session_4/annotations\\\\20240521_101252_SN43_QUICKVIEW_VISUAL_1_6_0_SATL-2KM-39N_558_2796.txt',\n",
       " 'session_4/annotations\\\\20240524_213504_SN29_QUICKVIEW_VISUAL_1_6_0_SATL-2KM-11N_378_3724.txt',\n",
       " 'session_4/annotations\\\\20240524_213504_SN29_QUICKVIEW_VISUAL_1_6_0_SATL-2KM-11N_380_3724.txt',\n",
       " 'session_4/annotations\\\\20240528_191448_SN24_QUICKVIEW_VISUAL_1_6_0_SATL-2KM-11N_248_4068.txt',\n",
       " 'session_4/annotations\\\\20240528_191604_SN24_QUICKVIEW_VISUAL_1_6_0_SATL-2KM-11N_344_3836.txt',\n",
       " 'session_4/annotations\\\\20240602_215203_SN30_QUICKVIEW_VISUAL_1_6_0_SATL-2KM-10N_712_3948.txt',\n",
       " 'session_4/annotations\\\\20240602_215203_SN30_QUICKVIEW_VISUAL_1_6_0_SATL-2KM-10N_714_3948.txt',\n",
       " 'session_4/annotations\\\\20240603_215226_SN28_QUICKVIEW_VISUAL_1_6_0_SATL-2KM-11N_248_4068.txt',\n",
       " 'session_4/annotations\\\\20240603_215348_SN28_QUICKVIEW_VISUAL_1_6_0_SATL-2KM-11N_346_3786.txt',\n",
       " 'session_4/annotations\\\\20240604_214955_SN29_QUICKVIEW_VISUAL_1_7_0_SATL-2KM-10N_594_4136.txt',\n",
       " 'session_4/annotations\\\\20240605_212717_SN29_QUICKVIEW_VISUAL_1_7_0_SATL-2KM-11N_718_3608.txt',\n",
       " 'session_4/annotations\\\\20240606_180251_SN33_QUICKVIEW_VISUAL_1_7_0_SATL-2KM-10N_556_4180.txt',\n",
       " 'session_4/annotations\\\\20240607_200250_SN27_QUICKVIEW_VISUAL_1_7_0_SATL-2KM-10N_554_4172.txt',\n",
       " 'session_4/annotations\\\\20240608_214614_SN29_QUICKVIEW_VISUAL_1_7_0_SATL-2KM-11N_248_4068.txt',\n",
       " 'session_4/annotations\\\\20240609_191744_SN24_QUICKVIEW_VISUAL_1_7_0_SATL-2KM-10N_564_4194.txt',\n",
       " 'session_4/annotations\\\\20240609_191959_SN27_QUICKVIEW_VISUAL_1_7_0_SATL-2KM-11N_702_3540.txt',\n",
       " 'session_4/annotations\\\\20240609_214259_SN30_QUICKVIEW_VISUAL_1_7_0_SATL-2KM-11N_262_4052.txt',\n",
       " 'session_4/annotations\\\\20240610_191018_SN26_QUICKVIEW_VISUAL_1_7_0_SATL-2KM-11N_384_3750.txt',\n",
       " 'session_4/annotations\\\\20240611_025943_SN26_QUICKVIEW_VISUAL_1_7_0_SATL-2KM-51N_748_4364.txt',\n",
       " 'session_4/annotations\\\\20240611_025943_SN26_QUICKVIEW_VISUAL_1_7_0_SATL-2KM-51N_748_4366.txt',\n",
       " 'session_4/annotations\\\\20240611_215323_SN30_QUICKVIEW_VISUAL_1_7_0_SATL-2KM-10N_702_3948.txt',\n",
       " 'session_4/annotations\\\\20240612_053829_SN28_QUICKVIEW_VISUAL_1_7_0_SATL-2KM-51N_686_4422.txt',\n",
       " 'session_4/annotations\\\\20240612_053829_SN28_QUICKVIEW_VISUAL_1_7_0_SATL-2KM-51N_688_4420.txt',\n",
       " 'session_4/annotations\\\\20240612_185400_SN24_QUICKVIEW_VISUAL_1_7_0_SATL-2KM-11N_574_3714.txt',\n",
       " 'session_4/annotations\\\\20240612_185400_SN24_QUICKVIEW_VISUAL_1_7_0_SATL-2KM-11N_576_3720.txt',\n",
       " 'session_4/annotations\\\\20240612_185400_SN24_QUICKVIEW_VISUAL_1_7_0_SATL-2KM-11N_578_3722.txt',\n",
       " 'session_4/annotations\\\\20240612_185419_SN24_QUICKVIEW_VISUAL_1_7_0_SATL-2KM-11N_554_3610.txt',\n",
       " 'session_4/annotations\\\\20240613_053340_SN29_QUICKVIEW_VISUAL_1_7_0_SATL-2KM-51N_728_4342.txt',\n",
       " 'session_4/annotations\\\\20240613_053340_SN29_QUICKVIEW_VISUAL_1_7_0_SATL-2KM-51N_730_4342.txt',\n",
       " 'session_4/annotations\\\\20240613_192217_SN26_QUICKVIEW_VISUAL_1_7_0_SATL-2KM-10N_560_4178.txt',\n",
       " 'session_4/annotations\\\\20240613_214203_SN43_QUICKVIEW_VISUAL_1_7_0_SATL-2KM-11N_384_3750.txt',\n",
       " 'session_4/annotations\\\\20240614_221436_SN31_QUICKVIEW_VISUAL_1_7_0_SATL-2KM-10N_558_4184.txt',\n",
       " 'session_4/annotations\\\\20240615_173631_SN33_QUICKVIEW_VISUAL_1_7_0_SATL-2KM-11N_546_3742.txt',\n",
       " 'session_4/annotations\\\\20240616_081345_SN27_QUICKVIEW_VISUAL_1_7_0_SATL-2KM-39N_560_2792.txt',\n",
       " 'session_4/annotations\\\\20240616_081345_SN27_QUICKVIEW_VISUAL_1_7_0_SATL-2KM-39N_560_2794.txt',\n",
       " 'session_4/annotations\\\\20240616_081345_SN27_QUICKVIEW_VISUAL_1_7_0_SATL-2KM-39N_562_2792.txt',\n",
       " 'session_4/annotations\\\\20240616_081345_SN27_QUICKVIEW_VISUAL_1_7_0_SATL-2KM-39N_562_2794.txt',\n",
       " 'session_4/annotations\\\\20240616_102144_SN28_QUICKVIEW_VISUAL_1_7_0_SATL-2KM-39N_556_2794.txt',\n",
       " 'session_4/annotations\\\\20240616_102144_SN28_QUICKVIEW_VISUAL_1_7_0_SATL-2KM-39N_558_2794.txt',\n",
       " 'session_4/annotations\\\\20240616_102144_SN28_QUICKVIEW_VISUAL_1_7_0_SATL-2KM-39N_560_2792.txt',\n",
       " 'session_4/annotations\\\\20240616_213047_SN30_QUICKVIEW_VISUAL_1_7_0_SATL-2KM-11N_464_3828.txt',\n",
       " 'session_4/annotations\\\\20240616_213047_SN30_QUICKVIEW_VISUAL_1_7_0_SATL-2KM-11N_464_3830.txt',\n",
       " 'session_4/annotations\\\\20240616_213047_SN30_QUICKVIEW_VISUAL_1_7_0_SATL-2KM-11N_466_3826.txt',\n",
       " 'session_4/annotations\\\\20240616_213047_SN30_QUICKVIEW_VISUAL_1_7_0_SATL-2KM-11N_466_3828.txt',\n",
       " 'session_4/annotations\\\\20240616_213053_SN30_QUICKVIEW_VISUAL_1_7_0_SATL-2KM-11N_460_3792.txt',\n",
       " 'session_4/annotations\\\\20240617_052859_SN29_QUICKVIEW_VISUAL_1_7_0_SATL-2KM-51N_730_4348.txt',\n",
       " 'session_4/annotations\\\\20240617_184443_SN24_QUICKVIEW_VISUAL_1_7_0_SATL-2KM-11N_702_3566.txt',\n",
       " 'session_4/annotations\\\\20240617_211350_SN29_QUICKVIEW_VISUAL_1_7_0_SATL-2KM-11N_724_3614.txt',\n",
       " 'session_4/annotations\\\\20240618_193146_SN27_QUICKVIEW_VISUAL_1_7_0_SATL-2KM-11N_530_3682.txt',\n",
       " 'session_4/annotations\\\\20240618_215539_SN31_QUICKVIEW_VISUAL_1_7_0_SATL-2KM-11N_452_3740.txt',\n",
       " 'session_4/annotations\\\\20240618_215539_SN31_QUICKVIEW_VISUAL_1_7_0_SATL-2KM-11N_458_3756.txt',\n",
       " 'session_4/annotations\\\\20240619_052401_SN30_QUICKVIEW_VISUAL_1_7_0_SATL-2KM-52N_368_4336.txt',\n",
       " 'session_4/annotations\\\\20240619_185757_SN24_QUICKVIEW_VISUAL_1_7_0_SATL-2KM-11N_528_3700.txt',\n",
       " 'session_4/annotations\\\\20240619_215556_SN29_QUICKVIEW_VISUAL_1_7_0_SATL-2KM-10N_742_4460.txt',\n",
       " 'session_4/annotations\\\\20240623_193704_SN27_QUICKVIEW_VISUAL_1_7_0_SATL-2KM-11N_566_3734.txt',\n",
       " 'session_4/annotations\\\\20240623_215102_SN43_QUICKVIEW_VISUAL_1_7_0_SATL-2KM-11N_384_3750.txt',\n",
       " 'session_4/annotations\\\\20240623_215120_SN29_QUICKVIEW_VISUAL_1_7_0_SATL-2KM-10N_596_4134.txt']"
      ]
     },
     "execution_count": 117,
     "metadata": {},
     "output_type": "execute_result"
    }
   ],
   "source": [
    "# Similar to os, you can also list files, but you can provide wildcards \n",
    "glob.glob('session_4/annotations/*.txt')"
   ]
  },
  {
   "cell_type": "code",
   "execution_count": 118,
   "id": "7c30dd71",
   "metadata": {
    "slideshow": {
     "slide_type": "fragment"
    }
   },
   "outputs": [
    {
     "data": {
      "text/plain": [
       "['session_4\\\\annotations\\\\20240101_174301_SN33_QUICKVIEW_VISUAL_1_1_10_SATL-2KM-11N_404_3770.txt',\n",
       " 'session_4\\\\annotations\\\\20240101_174301_SN33_QUICKVIEW_VISUAL_1_1_10_SATL-2KM-11N_404_3772.txt',\n",
       " 'session_4\\\\annotations\\\\20240101_192856_SN24_QUICKVIEW_VISUAL_1_1_10_SATL-2KM-10N_552_4162.txt',\n",
       " 'session_4\\\\annotations\\\\20240101_192856_SN24_QUICKVIEW_VISUAL_1_1_10_SATL-2KM-10N_552_4164.txt',\n",
       " 'session_4\\\\annotations\\\\20240101_192856_SN24_QUICKVIEW_VISUAL_1_1_10_SATL-2KM-10N_554_4162.txt',\n",
       " 'session_4\\\\annotations\\\\20240101_213601_SN31_QUICKVIEW_VISUAL_1_1_10_SATL-2KM-11N_392_3740.txt',\n",
       " 'session_4\\\\annotations\\\\20240101_213601_SN31_QUICKVIEW_VISUAL_1_1_10_SATL-2KM-11N_392_3742.txt',\n",
       " 'session_4\\\\annotations\\\\20240101_213601_SN31_QUICKVIEW_VISUAL_1_1_10_SATL-2KM-11N_396_3752.txt',\n",
       " 'session_4\\\\annotations\\\\20240102_185527_SN27_QUICKVIEW_VISUAL_1_1_10_SATL-2KM-11N_740_3850.txt',\n",
       " 'session_4\\\\annotations\\\\20240102_185605_SN27_QUICKVIEW_VISUAL_1_1_10_SATL-2KM-11N_690_3572.txt',\n",
       " 'session_4\\\\annotations\\\\20240102_185954_SN24_QUICKVIEW_VISUAL_1_1_10_SATL-2KM-11N_414_3786.txt',\n",
       " 'session_4\\\\annotations\\\\20240104_220339_SN31_QUICKVIEW_VISUAL_1_1_10_SATL-2KM-10N_556_4178.txt',\n",
       " 'session_4\\\\annotations\\\\20240110_192002_SN27_QUICKVIEW_VISUAL_1_1_10_SATL-2KM-11N_380_3728.txt',\n",
       " 'session_4\\\\annotations\\\\20240112_192510_SN27_QUICKVIEW_VISUAL_1_1_10_SATL-2KM-11N_386_3750.txt',\n",
       " 'session_4\\\\annotations\\\\20240115_213834_SN28_QUICKVIEW_VISUAL_1_1_10_SATL-2KM-11N_376_3722.txt',\n",
       " 'session_4\\\\annotations\\\\20240115_213834_SN28_QUICKVIEW_VISUAL_1_1_10_SATL-2KM-11N_380_3724.txt',\n",
       " 'session_4\\\\annotations\\\\20240126_173752_SN33_QUICKVIEW_VISUAL_1_1_10_SATL-2KM-11N_386_3722.txt',\n",
       " 'session_4\\\\annotations\\\\20240127_190620_SN27_QUICKVIEW_VISUAL_1_1_10_SATL-2KM-11N_500_3600.txt',\n",
       " 'session_4\\\\annotations\\\\20240127_190620_SN27_QUICKVIEW_VISUAL_1_1_10_SATL-2KM-11N_500_3602.txt',\n",
       " 'session_4\\\\annotations\\\\20240127_190620_SN27_QUICKVIEW_VISUAL_1_1_10_SATL-2KM-11N_502_3600.txt',\n",
       " 'session_4\\\\annotations\\\\20240127_190620_SN27_QUICKVIEW_VISUAL_1_1_10_SATL-2KM-11N_502_3602.txt',\n",
       " 'session_4\\\\annotations\\\\20240128_213258_SN29_QUICKVIEW_VISUAL_1_1_10_SATL-2KM-11N_418_3862.txt',\n",
       " 'session_4\\\\annotations\\\\20240128_213258_SN29_QUICKVIEW_VISUAL_1_1_10_SATL-2KM-11N_418_3864.txt',\n",
       " 'session_4\\\\annotations\\\\20240130_173903_SN33_QUICKVIEW_VISUAL_1_1_10_SATL-2KM-11N_360_3748.txt',\n",
       " 'session_4\\\\annotations\\\\20240130_173903_SN33_QUICKVIEW_VISUAL_1_1_10_SATL-2KM-11N_364_3754.txt',\n",
       " 'session_4\\\\annotations\\\\20240130_173903_SN33_QUICKVIEW_VISUAL_1_1_10_SATL-2KM-11N_366_3756.txt',\n",
       " 'session_4\\\\annotations\\\\20240130_215036_SN31_QUICKVIEW_VISUAL_1_1_10_SATL-2KM-11N_366_3756.txt',\n",
       " 'session_4\\\\annotations\\\\20240201_075140_SN26_QUICKVIEW_VISUAL_1_1_10_SATL-2KM-39N_556_2792.txt',\n",
       " 'session_4\\\\annotations\\\\20240201_075140_SN26_QUICKVIEW_VISUAL_1_1_10_SATL-2KM-39N_556_2794.txt',\n",
       " 'session_4\\\\annotations\\\\20240201_075140_SN26_QUICKVIEW_VISUAL_1_1_10_SATL-2KM-39N_558_2794.txt',\n",
       " 'session_4\\\\annotations\\\\20240201_075140_SN26_QUICKVIEW_VISUAL_1_1_10_SATL-2KM-39N_560_2792.txt',\n",
       " 'session_4\\\\annotations\\\\20240201_075140_SN26_QUICKVIEW_VISUAL_1_1_10_SATL-2KM-39N_560_2794.txt',\n",
       " 'session_4\\\\annotations\\\\20240201_075140_SN26_QUICKVIEW_VISUAL_1_1_10_SATL-2KM-39N_560_2796.txt',\n",
       " 'session_4\\\\annotations\\\\20240201_075140_SN26_QUICKVIEW_VISUAL_1_1_10_SATL-2KM-39N_562_2792.txt',\n",
       " 'session_4\\\\annotations\\\\20240201_075140_SN26_QUICKVIEW_VISUAL_1_1_10_SATL-2KM-39N_562_2794.txt',\n",
       " 'session_4\\\\annotations\\\\20240201_075143_SN26_QUICKVIEW_VISUAL_1_1_10_SATL-2KM-39N_556_2792.txt',\n",
       " 'session_4\\\\annotations\\\\20240201_075143_SN26_QUICKVIEW_VISUAL_1_1_10_SATL-2KM-39N_562_2788.txt',\n",
       " 'session_4\\\\annotations\\\\20240202_184725_SN24_QUICKVIEW_VISUAL_1_1_10_SATL-2KM-11N_624_3630.txt',\n",
       " 'session_4\\\\annotations\\\\20240202_191114_SN27_QUICKVIEW_VISUAL_1_1_10_SATL-2KM-11N_718_3608.txt',\n",
       " 'session_4\\\\annotations\\\\20240203_173953_SN33_QUICKVIEW_VISUAL_1_1_10_SATL-2KM-11N_366_3756.txt',\n",
       " 'session_4\\\\annotations\\\\20240203_173953_SN33_QUICKVIEW_VISUAL_1_1_10_SATL-2KM-11N_368_3756.txt',\n",
       " 'session_4\\\\annotations\\\\20240208_184650_SN24_QUICKVIEW_VISUAL_1_1_10_SATL-2KM-11N_624_3632.txt',\n",
       " 'session_4\\\\annotations\\\\20240209_212744_SN29_QUICKVIEW_VISUAL_1_1_10_SATL-2KM-11N_380_3722.txt',\n",
       " 'session_4\\\\annotations\\\\20240211_211057_SN30_QUICKVIEW_VISUAL_1_1_10_SATL-2KM-11N_700_3690.txt',\n",
       " 'session_4\\\\annotations\\\\20240212_213506_SN31_QUICKVIEW_VISUAL_1_1_10_SATL-2KM-11N_408_3712.txt',\n",
       " 'session_4\\\\annotations\\\\20240213_212524_SN29_QUICKVIEW_VISUAL_1_1_10_SATL-2KM-11N_540_3748.txt',\n",
       " 'session_4\\\\annotations\\\\20240213_212524_SN29_QUICKVIEW_VISUAL_1_1_10_SATL-2KM-11N_542_3750.txt',\n",
       " 'session_4\\\\annotations\\\\20240213_212524_SN29_QUICKVIEW_VISUAL_1_1_10_SATL-2KM-11N_544_3742.txt',\n",
       " 'session_4\\\\annotations\\\\20240214_184340_SN24_QUICKVIEW_VISUAL_1_1_10_SATL-2KM-11N_688_3630.txt',\n",
       " 'session_4\\\\annotations\\\\20240216_213630_SN31_QUICKVIEW_VISUAL_1_1_10_SATL-2KM-11N_418_3724.txt',\n",
       " 'session_4\\\\annotations\\\\20240218_180121_SN33_QUICKVIEW_VISUAL_1_1_10_SATL-2KM-10N_568_4176.txt',\n",
       " 'session_4\\\\annotations\\\\20240219_214312_SN28_QUICKVIEW_VISUAL_1_1_10_SATL-2KM-11N_252_3954.txt',\n",
       " 'session_4\\\\annotations\\\\20240220_190455_SN27_QUICKVIEW_VISUAL_1_1_10_SATL-2KM-11N_718_3608.txt',\n",
       " 'session_4\\\\annotations\\\\20240221_190608_SN26_QUICKVIEW_VISUAL_1_1_10_SATL-2KM-11N_380_3764.txt',\n",
       " 'session_4\\\\annotations\\\\20240222_074151_SN26_QUICKVIEW_VISUAL_1_1_10_SATL-2KM-39N_556_2794.txt',\n",
       " 'session_4\\\\annotations\\\\20240222_074151_SN26_QUICKVIEW_VISUAL_1_1_10_SATL-2KM-39N_558_2796.txt',\n",
       " 'session_4\\\\annotations\\\\20240222_074151_SN26_QUICKVIEW_VISUAL_1_1_10_SATL-2KM-39N_560_2794.txt',\n",
       " 'session_4\\\\annotations\\\\20240222_074151_SN26_QUICKVIEW_VISUAL_1_1_10_SATL-2KM-39N_560_2796.txt',\n",
       " 'session_4\\\\annotations\\\\20240222_074151_SN26_QUICKVIEW_VISUAL_1_1_10_SATL-2KM-39N_562_2794.txt',\n",
       " 'session_4\\\\annotations\\\\20240222_074155_SN26_QUICKVIEW_VISUAL_1_1_10_SATL-2KM-39N_556_2792.txt',\n",
       " 'session_4\\\\annotations\\\\20240222_074155_SN26_QUICKVIEW_VISUAL_1_1_10_SATL-2KM-39N_556_2794.txt',\n",
       " 'session_4\\\\annotations\\\\20240222_074155_SN26_QUICKVIEW_VISUAL_1_1_10_SATL-2KM-39N_558_2794.txt',\n",
       " 'session_4\\\\annotations\\\\20240222_074155_SN26_QUICKVIEW_VISUAL_1_1_10_SATL-2KM-39N_560_2792.txt',\n",
       " 'session_4\\\\annotations\\\\20240222_074155_SN26_QUICKVIEW_VISUAL_1_1_10_SATL-2KM-39N_562_2792.txt',\n",
       " 'session_4\\\\annotations\\\\20240222_074155_SN26_QUICKVIEW_VISUAL_1_1_10_SATL-2KM-39N_562_2794.txt',\n",
       " 'session_4\\\\annotations\\\\20240222_074256_SN26_QUICKVIEW_VISUAL_1_1_10_SATL-2KM-39N_564_2790.txt',\n",
       " 'session_4\\\\annotations\\\\20240222_212250_SN30_QUICKVIEW_VISUAL_1_1_10_SATL-2KM-11N_382_3722.txt',\n",
       " 'session_4\\\\annotations\\\\20240223_025420_SN24_QUICKVIEW_VISUAL_1_1_10_SATL-2KM-51N_686_4422.txt',\n",
       " 'session_4\\\\annotations\\\\20240224_214855_SN30_QUICKVIEW_VISUAL_1_1_10_SATL-2KM-10N_552_4162.txt',\n",
       " 'session_4\\\\annotations\\\\20240224_214855_SN30_QUICKVIEW_VISUAL_1_1_10_SATL-2KM-10N_554_4162.txt',\n",
       " 'session_4\\\\annotations\\\\20240227_214218_SN30_QUICKVIEW_VISUAL_1_1_10_SATL-2KM-10N_562_4170.txt',\n",
       " 'session_4\\\\annotations\\\\20240228_213951_SN29_QUICKVIEW_VISUAL_1_1_10_SATL-2KM-11N_248_4068.txt',\n",
       " 'session_4\\\\annotations\\\\20240304_212824_SN30_QUICKVIEW_VISUAL_1_2_0_SATL-2KM-11N_378_3722.txt',\n",
       " 'session_4\\\\annotations\\\\20240308_191212_SN27_QUICKVIEW_VISUAL_1_2_0_SATL-2KM-11N_506_3614.txt',\n",
       " 'session_4\\\\annotations\\\\20240308_211248_SN29_QUICKVIEW_VISUAL_1_2_0_SATL-2KM-11N_718_3640.txt',\n",
       " 'session_4\\\\annotations\\\\20240314_220020_SN30_QUICKVIEW_VISUAL_1_2_0_SATL-2KM-10N_544_4186.txt',\n",
       " 'session_4\\\\annotations\\\\20240314_220020_SN30_QUICKVIEW_VISUAL_1_2_0_SATL-2KM-10N_550_4202.txt',\n",
       " 'session_4\\\\annotations\\\\20240316_191451_SN26_QUICKVIEW_VISUAL_1_2_0_SATL-2KM-11N_380_3764.txt',\n",
       " 'session_4\\\\annotations\\\\20240317_215115_SN28_QUICKVIEW_VISUAL_1_2_0_SATL-2KM-10N_552_4162.txt',\n",
       " 'session_4\\\\annotations\\\\20240317_215115_SN28_QUICKVIEW_VISUAL_1_2_0_SATL-2KM-10N_552_4164.txt',\n",
       " 'session_4\\\\annotations\\\\20240317_215115_SN28_QUICKVIEW_VISUAL_1_2_0_SATL-2KM-10N_554_4162.txt',\n",
       " 'session_4\\\\annotations\\\\20240317_221229_SN31_QUICKVIEW_VISUAL_1_2_0_SATL-2KM-10N_556_4176.txt',\n",
       " 'session_4\\\\annotations\\\\20240321_190819_SN27_QUICKVIEW_VISUAL_1_2_0_SATL-2KM-11N_714_3632.txt',\n",
       " 'session_4\\\\annotations\\\\20240321_220846_SN31_QUICKVIEW_VISUAL_1_2_0_SATL-2KM-10N_560_4178.txt',\n",
       " 'session_4\\\\annotations\\\\20240322_184801_SN24_QUICKVIEW_VISUAL_1_2_0_SATL-2KM-11N_500_3632.txt',\n",
       " 'session_4\\\\annotations\\\\20240322_184801_SN24_QUICKVIEW_VISUAL_1_2_0_SATL-2KM-11N_502_3632.txt',\n",
       " 'session_4\\\\annotations\\\\20240322_212516_SN28_QUICKVIEW_VISUAL_1_2_0_SATL-2KM-11N_502_3600.txt',\n",
       " 'session_4\\\\annotations\\\\20240324_180232_SN33_QUICKVIEW_VISUAL_1_2_0_SATL-2KM-10N_554_4172.txt',\n",
       " 'session_4\\\\annotations\\\\20240325_173936_SN33_QUICKVIEW_VISUAL_1_2_0_SATL-2KM-11N_378_3722.txt',\n",
       " 'session_4\\\\annotations\\\\20240401_032415_SN27_QUICKVIEW_VISUAL_1_2_0_SATL-2KM-51N_688_4420.txt',\n",
       " 'session_4\\\\annotations\\\\20240401_175918_SN33_QUICKVIEW_VISUAL_1_2_0_SATL-2KM-10N_542_4168.txt',\n",
       " 'session_4\\\\annotations\\\\20240401_175918_SN33_QUICKVIEW_VISUAL_1_2_0_SATL-2KM-10N_546_4206.txt',\n",
       " 'session_4\\\\annotations\\\\20240401_175925_SN33_QUICKVIEW_VISUAL_1_2_0_SATL-2KM-10N_542_4168.txt',\n",
       " 'session_4\\\\annotations\\\\20240401_221819_SN31_QUICKVIEW_VISUAL_1_2_0_SATL-2KM-10N_602_4148.txt',\n",
       " 'session_4\\\\annotations\\\\20240402_184757_SN24_QUICKVIEW_VISUAL_1_2_0_SATL-2KM-11N_486_3630.txt',\n",
       " 'session_4\\\\annotations\\\\20240402_184757_SN24_QUICKVIEW_VISUAL_1_2_0_SATL-2KM-11N_486_3636.txt',\n",
       " 'session_4\\\\annotations\\\\20240402_184757_SN24_QUICKVIEW_VISUAL_1_2_0_SATL-2KM-11N_488_3638.txt',\n",
       " 'session_4\\\\annotations\\\\20240402_184757_SN24_QUICKVIEW_VISUAL_1_2_0_SATL-2KM-11N_490_3638.txt',\n",
       " 'session_4\\\\annotations\\\\20240402_215421_SN31_QUICKVIEW_VISUAL_1_2_0_SATL-2KM-11N_500_3632.txt',\n",
       " 'session_4\\\\annotations\\\\20240402_215427_SN31_QUICKVIEW_VISUAL_1_2_0_SATL-2KM-11N_502_3600.txt',\n",
       " 'session_4\\\\annotations\\\\20240405_183824_409694_MS_NS24_QUICKVIEW_VISUAL_1_3_0_SATL-2KM-11N_736_3716.txt',\n",
       " 'session_4\\\\annotations\\\\20240407_190149_742846_MS_NS24_QUICKVIEW_VISUAL_1_3_0_SATL-2KM-11N_258_4028.txt',\n",
       " 'session_4\\\\annotations\\\\20240408_211552_958249_MS_NS29_QUICKVIEW_VISUAL_1_3_0_SATL-2KM-11N_734_3742.txt',\n",
       " 'session_4\\\\annotations\\\\20240410_214305_399233_MS_NS43_QUICKVIEW_VISUAL_1_3_0_SATL-2KM-11N_380_3764.txt',\n",
       " 'session_4\\\\annotations\\\\20240410_214321_024179_MS_NS30_QUICKVIEW_VISUAL_1_3_0_SATL-2KM-11N_296_3786.txt',\n",
       " 'session_4\\\\annotations\\\\20240412_052750_556466_MS_NS29_QUICKVIEW_VISUAL_1_3_0_SATL-2KM-51N_688_4420.txt',\n",
       " 'session_4\\\\annotations\\\\20240412_191539_377035_MS_NS24_QUICKVIEW_VISUAL_1_3_0_SATL-2KM-11N_258_4038.txt',\n",
       " 'session_4\\\\annotations\\\\20240412_191539_631044_MS_NS24_QUICKVIEW_VISUAL_1_3_0_SATL-2KM-11N_258_4036.txt',\n",
       " 'session_4\\\\annotations\\\\20240412_191549_672087_MS_NS24_QUICKVIEW_VISUAL_1_3_0_SATL-2KM-11N_240_3966.txt',\n",
       " 'session_4\\\\annotations\\\\20240417_215406_715231_MS_NS43_QUICKVIEW_VISUAL_1_3_0_SATL-2KM-10N_740_4446.txt',\n",
       " 'session_4\\\\annotations\\\\20240418_213446_163074_MS_NS28_QUICKVIEW_VISUAL_1_3_0_SATL-2KM-11N_388_3748.txt',\n",
       " 'session_4\\\\annotations\\\\20240420_181053_341939_MS_NS33_QUICKVIEW_VISUAL_1_3_0_SATL-2KM-10N_556_4180.txt',\n",
       " 'session_4\\\\annotations\\\\20240423_190101_SN26_QUICKVIEW_VISUAL_1_5_0_SATL-2KM-11N_414_3862.txt',\n",
       " 'session_4\\\\annotations\\\\20240423_190101_SN26_QUICKVIEW_VISUAL_1_5_0_SATL-2KM-11N_416_3862.txt',\n",
       " 'session_4\\\\annotations\\\\20240423_190101_SN26_QUICKVIEW_VISUAL_1_5_0_SATL-2KM-11N_416_3864.txt',\n",
       " 'session_4\\\\annotations\\\\20240423_190101_SN26_QUICKVIEW_VISUAL_1_5_0_SATL-2KM-11N_418_3860.txt',\n",
       " 'session_4\\\\annotations\\\\20240423_190101_SN26_QUICKVIEW_VISUAL_1_5_0_SATL-2KM-11N_418_3862.txt',\n",
       " 'session_4\\\\annotations\\\\20240423_190101_SN26_QUICKVIEW_VISUAL_1_5_0_SATL-2KM-11N_418_3864.txt',\n",
       " 'session_4\\\\annotations\\\\20240423_190101_SN26_QUICKVIEW_VISUAL_1_5_0_SATL-2KM-11N_418_3872.txt',\n",
       " 'session_4\\\\annotations\\\\20240426_215224_SN29_QUICKVIEW_VISUAL_1_5_0_SATL-2KM-11N_244_3818.txt',\n",
       " 'session_4\\\\annotations\\\\20240427_221308_SN31_QUICKVIEW_VISUAL_1_5_0_SATL-2KM-10N_722_3848.txt',\n",
       " 'session_4\\\\annotations\\\\20240428_191026_SN24_QUICKVIEW_VISUAL_1_5_0_SATL-2KM-11N_380_3722.txt',\n",
       " 'session_4\\\\annotations\\\\20240428_215426_SN43_QUICKVIEW_VISUAL_1_5_0_SATL-2KM-10N_630_4262.txt',\n",
       " 'session_4\\\\annotations\\\\20240428_215426_SN43_QUICKVIEW_VISUAL_1_5_0_SATL-2KM-10N_630_4264.txt',\n",
       " 'session_4\\\\annotations\\\\20240428_215426_SN43_QUICKVIEW_VISUAL_1_5_0_SATL-2KM-10N_634_4282.txt',\n",
       " 'session_4\\\\annotations\\\\20240428_215557_SN43_QUICKVIEW_VISUAL_1_5_0_SATL-2KM-10N_726_3862.txt',\n",
       " 'session_4\\\\annotations\\\\20240503_214759_SN28_QUICKVIEW_VISUAL_1_5_0_SATL-2KM-11N_376_3724.txt',\n",
       " 'session_4\\\\annotations\\\\20240506_192008_SN26_QUICKVIEW_VISUAL_1_5_0_SATL-2KM-10N_562_4178.txt',\n",
       " 'session_4\\\\annotations\\\\20240506_213507_SN43_QUICKVIEW_VISUAL_1_5_0_SATL-2KM-11N_384_3750.txt',\n",
       " 'session_4\\\\annotations\\\\20240507_191326_SN27_QUICKVIEW_VISUAL_1_5_0_SATL-2KM-11N_718_3608.txt',\n",
       " 'session_4\\\\annotations\\\\20240508_194502_SN27_QUICKVIEW_VISUAL_1_5_0_SATL-2KM-11N_262_4022.txt',\n",
       " 'session_4\\\\annotations\\\\20240508_194502_SN27_QUICKVIEW_VISUAL_1_5_0_SATL-2KM-11N_264_4022.txt',\n",
       " 'session_4\\\\annotations\\\\20240509_193206_SN26_QUICKVIEW_VISUAL_1_5_0_SATL-2KM-10N_562_4196.txt',\n",
       " 'session_4\\\\annotations\\\\20240509_212336_SN29_QUICKVIEW_VISUAL_1_5_0_SATL-2KM-11N_706_3778.txt',\n",
       " 'session_4\\\\annotations\\\\20240510_191908_SN27_QUICKVIEW_VISUAL_1_5_0_SATL-2KM-11N_718_3608.txt',\n",
       " 'session_4\\\\annotations\\\\20240510_191914_SN27_QUICKVIEW_VISUAL_1_5_0_SATL-2KM-11N_712_3566.txt',\n",
       " 'session_4\\\\annotations\\\\20240513_212022_SN29_QUICKVIEW_VISUAL_1_5_0_SATL-2KM-11N_630_3742.txt',\n",
       " 'session_4\\\\annotations\\\\20240514_052716_SN43_QUICKVIEW_VISUAL_1_5_0_SATL-2KM-51N_730_4342.txt',\n",
       " 'session_4\\\\annotations\\\\20240516_190328_SN24_QUICKVIEW_VISUAL_1_5_0_SATL-2KM-11N_262_4052.txt',\n",
       " 'session_4\\\\annotations\\\\20240516_211630_SN28_QUICKVIEW_VISUAL_1_5_0_SATL-2KM-11N_716_3848.txt',\n",
       " 'session_4\\\\annotations\\\\20240519_184534_SN24_QUICKVIEW_VISUAL_1_5_0_SATL-2KM-11N_658_3700.txt',\n",
       " 'session_4\\\\annotations\\\\20240519_191838_SN27_QUICKVIEW_VISUAL_1_5_0_SATL-2KM-11N_718_3608.txt',\n",
       " 'session_4\\\\annotations\\\\20240519_214917_SN31_QUICKVIEW_VISUAL_1_5_0_SATL-2KM-11N_500_3598.txt',\n",
       " 'session_4\\\\annotations\\\\20240519_214917_SN31_QUICKVIEW_VISUAL_1_5_0_SATL-2KM-11N_500_3600.txt',\n",
       " 'session_4\\\\annotations\\\\20240519_214917_SN31_QUICKVIEW_VISUAL_1_5_0_SATL-2KM-11N_500_3602.txt',\n",
       " 'session_4\\\\annotations\\\\20240520_194539_SN27_QUICKVIEW_VISUAL_1_5_0_SATL-2KM-10N_638_4280.txt',\n",
       " 'session_4\\\\annotations\\\\20240520_194539_SN27_QUICKVIEW_VISUAL_1_5_0_SATL-2KM-10N_638_4282.txt',\n",
       " 'session_4\\\\annotations\\\\20240521_052621_SN43_QUICKVIEW_VISUAL_1_6_0_SATL-2KM-51N_730_4342.txt',\n",
       " 'session_4\\\\annotations\\\\20240521_101252_SN43_QUICKVIEW_VISUAL_1_6_0_SATL-2KM-39N_556_2792.txt',\n",
       " 'session_4\\\\annotations\\\\20240521_101252_SN43_QUICKVIEW_VISUAL_1_6_0_SATL-2KM-39N_558_2796.txt',\n",
       " 'session_4\\\\annotations\\\\20240524_213504_SN29_QUICKVIEW_VISUAL_1_6_0_SATL-2KM-11N_378_3724.txt',\n",
       " 'session_4\\\\annotations\\\\20240524_213504_SN29_QUICKVIEW_VISUAL_1_6_0_SATL-2KM-11N_380_3724.txt',\n",
       " 'session_4\\\\annotations\\\\20240528_191448_SN24_QUICKVIEW_VISUAL_1_6_0_SATL-2KM-11N_248_4068.txt',\n",
       " 'session_4\\\\annotations\\\\20240528_191604_SN24_QUICKVIEW_VISUAL_1_6_0_SATL-2KM-11N_344_3836.txt',\n",
       " 'session_4\\\\annotations\\\\20240602_215203_SN30_QUICKVIEW_VISUAL_1_6_0_SATL-2KM-10N_712_3948.txt',\n",
       " 'session_4\\\\annotations\\\\20240602_215203_SN30_QUICKVIEW_VISUAL_1_6_0_SATL-2KM-10N_714_3948.txt',\n",
       " 'session_4\\\\annotations\\\\20240603_215226_SN28_QUICKVIEW_VISUAL_1_6_0_SATL-2KM-11N_248_4068.txt',\n",
       " 'session_4\\\\annotations\\\\20240603_215348_SN28_QUICKVIEW_VISUAL_1_6_0_SATL-2KM-11N_346_3786.txt',\n",
       " 'session_4\\\\annotations\\\\20240604_214955_SN29_QUICKVIEW_VISUAL_1_7_0_SATL-2KM-10N_594_4136.txt',\n",
       " 'session_4\\\\annotations\\\\20240605_212717_SN29_QUICKVIEW_VISUAL_1_7_0_SATL-2KM-11N_718_3608.txt',\n",
       " 'session_4\\\\annotations\\\\20240606_180251_SN33_QUICKVIEW_VISUAL_1_7_0_SATL-2KM-10N_556_4180.txt',\n",
       " 'session_4\\\\annotations\\\\20240607_200250_SN27_QUICKVIEW_VISUAL_1_7_0_SATL-2KM-10N_554_4172.txt',\n",
       " 'session_4\\\\annotations\\\\20240608_214614_SN29_QUICKVIEW_VISUAL_1_7_0_SATL-2KM-11N_248_4068.txt',\n",
       " 'session_4\\\\annotations\\\\20240609_191744_SN24_QUICKVIEW_VISUAL_1_7_0_SATL-2KM-10N_564_4194.txt',\n",
       " 'session_4\\\\annotations\\\\20240609_191959_SN27_QUICKVIEW_VISUAL_1_7_0_SATL-2KM-11N_702_3540.txt',\n",
       " 'session_4\\\\annotations\\\\20240609_214259_SN30_QUICKVIEW_VISUAL_1_7_0_SATL-2KM-11N_262_4052.txt',\n",
       " 'session_4\\\\annotations\\\\20240610_191018_SN26_QUICKVIEW_VISUAL_1_7_0_SATL-2KM-11N_384_3750.txt',\n",
       " 'session_4\\\\annotations\\\\20240611_025943_SN26_QUICKVIEW_VISUAL_1_7_0_SATL-2KM-51N_748_4364.txt',\n",
       " 'session_4\\\\annotations\\\\20240611_025943_SN26_QUICKVIEW_VISUAL_1_7_0_SATL-2KM-51N_748_4366.txt',\n",
       " 'session_4\\\\annotations\\\\20240611_215323_SN30_QUICKVIEW_VISUAL_1_7_0_SATL-2KM-10N_702_3948.txt',\n",
       " 'session_4\\\\annotations\\\\20240612_053829_SN28_QUICKVIEW_VISUAL_1_7_0_SATL-2KM-51N_686_4422.txt',\n",
       " 'session_4\\\\annotations\\\\20240612_053829_SN28_QUICKVIEW_VISUAL_1_7_0_SATL-2KM-51N_688_4420.txt',\n",
       " 'session_4\\\\annotations\\\\20240612_185400_SN24_QUICKVIEW_VISUAL_1_7_0_SATL-2KM-11N_574_3714.txt',\n",
       " 'session_4\\\\annotations\\\\20240612_185400_SN24_QUICKVIEW_VISUAL_1_7_0_SATL-2KM-11N_576_3720.txt',\n",
       " 'session_4\\\\annotations\\\\20240612_185400_SN24_QUICKVIEW_VISUAL_1_7_0_SATL-2KM-11N_578_3722.txt',\n",
       " 'session_4\\\\annotations\\\\20240612_185419_SN24_QUICKVIEW_VISUAL_1_7_0_SATL-2KM-11N_554_3610.txt',\n",
       " 'session_4\\\\annotations\\\\20240613_053340_SN29_QUICKVIEW_VISUAL_1_7_0_SATL-2KM-51N_728_4342.txt',\n",
       " 'session_4\\\\annotations\\\\20240613_053340_SN29_QUICKVIEW_VISUAL_1_7_0_SATL-2KM-51N_730_4342.txt',\n",
       " 'session_4\\\\annotations\\\\20240613_192217_SN26_QUICKVIEW_VISUAL_1_7_0_SATL-2KM-10N_560_4178.txt',\n",
       " 'session_4\\\\annotations\\\\20240613_214203_SN43_QUICKVIEW_VISUAL_1_7_0_SATL-2KM-11N_384_3750.txt',\n",
       " 'session_4\\\\annotations\\\\20240614_221436_SN31_QUICKVIEW_VISUAL_1_7_0_SATL-2KM-10N_558_4184.txt',\n",
       " 'session_4\\\\annotations\\\\20240615_173631_SN33_QUICKVIEW_VISUAL_1_7_0_SATL-2KM-11N_546_3742.txt',\n",
       " 'session_4\\\\annotations\\\\20240616_081345_SN27_QUICKVIEW_VISUAL_1_7_0_SATL-2KM-39N_560_2792.txt',\n",
       " 'session_4\\\\annotations\\\\20240616_081345_SN27_QUICKVIEW_VISUAL_1_7_0_SATL-2KM-39N_560_2794.txt',\n",
       " 'session_4\\\\annotations\\\\20240616_081345_SN27_QUICKVIEW_VISUAL_1_7_0_SATL-2KM-39N_562_2792.txt',\n",
       " 'session_4\\\\annotations\\\\20240616_081345_SN27_QUICKVIEW_VISUAL_1_7_0_SATL-2KM-39N_562_2794.txt',\n",
       " 'session_4\\\\annotations\\\\20240616_102144_SN28_QUICKVIEW_VISUAL_1_7_0_SATL-2KM-39N_556_2794.txt',\n",
       " 'session_4\\\\annotations\\\\20240616_102144_SN28_QUICKVIEW_VISUAL_1_7_0_SATL-2KM-39N_558_2794.txt',\n",
       " 'session_4\\\\annotations\\\\20240616_102144_SN28_QUICKVIEW_VISUAL_1_7_0_SATL-2KM-39N_560_2792.txt',\n",
       " 'session_4\\\\annotations\\\\20240616_213047_SN30_QUICKVIEW_VISUAL_1_7_0_SATL-2KM-11N_464_3828.txt',\n",
       " 'session_4\\\\annotations\\\\20240616_213047_SN30_QUICKVIEW_VISUAL_1_7_0_SATL-2KM-11N_464_3830.txt',\n",
       " 'session_4\\\\annotations\\\\20240616_213047_SN30_QUICKVIEW_VISUAL_1_7_0_SATL-2KM-11N_466_3826.txt',\n",
       " 'session_4\\\\annotations\\\\20240616_213047_SN30_QUICKVIEW_VISUAL_1_7_0_SATL-2KM-11N_466_3828.txt',\n",
       " 'session_4\\\\annotations\\\\20240616_213053_SN30_QUICKVIEW_VISUAL_1_7_0_SATL-2KM-11N_460_3792.txt',\n",
       " 'session_4\\\\annotations\\\\20240617_052859_SN29_QUICKVIEW_VISUAL_1_7_0_SATL-2KM-51N_730_4348.txt',\n",
       " 'session_4\\\\annotations\\\\20240617_184443_SN24_QUICKVIEW_VISUAL_1_7_0_SATL-2KM-11N_702_3566.txt',\n",
       " 'session_4\\\\annotations\\\\20240617_211350_SN29_QUICKVIEW_VISUAL_1_7_0_SATL-2KM-11N_724_3614.txt',\n",
       " 'session_4\\\\annotations\\\\20240618_193146_SN27_QUICKVIEW_VISUAL_1_7_0_SATL-2KM-11N_530_3682.txt',\n",
       " 'session_4\\\\annotations\\\\20240618_215539_SN31_QUICKVIEW_VISUAL_1_7_0_SATL-2KM-11N_452_3740.txt',\n",
       " 'session_4\\\\annotations\\\\20240618_215539_SN31_QUICKVIEW_VISUAL_1_7_0_SATL-2KM-11N_458_3756.txt',\n",
       " 'session_4\\\\annotations\\\\20240619_052401_SN30_QUICKVIEW_VISUAL_1_7_0_SATL-2KM-52N_368_4336.txt',\n",
       " 'session_4\\\\annotations\\\\20240619_185757_SN24_QUICKVIEW_VISUAL_1_7_0_SATL-2KM-11N_528_3700.txt',\n",
       " 'session_4\\\\annotations\\\\20240619_215556_SN29_QUICKVIEW_VISUAL_1_7_0_SATL-2KM-10N_742_4460.txt',\n",
       " 'session_4\\\\annotations\\\\20240623_193704_SN27_QUICKVIEW_VISUAL_1_7_0_SATL-2KM-11N_566_3734.txt',\n",
       " 'session_4\\\\annotations\\\\20240623_215102_SN43_QUICKVIEW_VISUAL_1_7_0_SATL-2KM-11N_384_3750.txt',\n",
       " 'session_4\\\\annotations\\\\20240623_215120_SN29_QUICKVIEW_VISUAL_1_7_0_SATL-2KM-10N_596_4134.txt']"
      ]
     },
     "execution_count": 118,
     "metadata": {},
     "output_type": "execute_result"
    }
   ],
   "source": [
    "# It does provide a great tool to list all the files within a folder, and also do it recursively\n",
    "glob.glob('session_4/**/*.txt', recursive=True)"
   ]
  },
  {
   "cell_type": "markdown",
   "id": "1a9d64c6",
   "metadata": {
    "slideshow": {
     "slide_type": "slide"
    }
   },
   "source": [
    "## Basic Libraries I\n",
    "\n",
    "Let's finally work with shutil. This library provides the usual bash commands you have in your terminal."
   ]
  },
  {
   "cell_type": "code",
   "execution_count": 119,
   "id": "6047c936",
   "metadata": {
    "slideshow": {
     "slide_type": "subslide"
    }
   },
   "outputs": [],
   "source": [
    "import shutil as sh"
   ]
  },
  {
   "cell_type": "code",
   "execution_count": 130,
   "id": "8a055162",
   "metadata": {
    "slideshow": {
     "slide_type": "fragment"
    }
   },
   "outputs": [
    {
     "data": {
      "text/plain": [
       "'session_4/session_4.ipynb'"
      ]
     },
     "execution_count": 130,
     "metadata": {},
     "output_type": "execute_result"
    }
   ],
   "source": [
    "# Copy a file into a new place\n",
    "sh.copy('session_4.ipynb', 'session_4/')"
   ]
  },
  {
   "cell_type": "code",
   "execution_count": 128,
   "id": "d4fb4d5b",
   "metadata": {
    "slideshow": {
     "slide_type": "fragment"
    }
   },
   "outputs": [
    {
     "ename": "SyntaxError",
     "evalue": "invalid syntax (3965006616.py, line 2)",
     "output_type": "error",
     "traceback": [
      "\u001b[1;36m  Cell \u001b[1;32mIn[128], line 2\u001b[1;36m\u001b[0m\n\u001b[1;33m    ls session_4/\u001b[0m\n\u001b[1;37m       ^\u001b[0m\n\u001b[1;31mSyntaxError\u001b[0m\u001b[1;31m:\u001b[0m invalid syntax\n"
     ]
    }
   ],
   "source": [
    "# instead of listing the current directory, os.listdir('.'), we can\n",
    "ls session_4/"
   ]
  },
  {
   "cell_type": "code",
   "execution_count": 131,
   "id": "41826fed",
   "metadata": {
    "slideshow": {
     "slide_type": "fragment"
    }
   },
   "outputs": [
    {
     "data": {
      "text/plain": [
       "'session_4.ipynb'"
      ]
     },
     "execution_count": 131,
     "metadata": {},
     "output_type": "execute_result"
    }
   ],
   "source": [
    "# Move it now outside this folder\n",
    "sh.move('session_4/session_4.ipynb', 'session_4.ipynb')"
   ]
  },
  {
   "cell_type": "code",
   "execution_count": 101,
   "id": "642343aa",
   "metadata": {
    "slideshow": {
     "slide_type": "fragment"
    }
   },
   "outputs": [
    {
     "name": "stdout",
     "output_type": "stream",
     "text": [
      " Volume in drive C is Local Disk\n",
      " Volume Serial Number is 92EB-4520\n",
      "\n",
      " Directory of c:\\Users\\carlo\\OneDrive\\Ambiente de Trabalho\\Esade\\1st term\\Python for Data Science\\Git\\Python-for-Data-Science\\Assignment 4\n",
      "\n",
      "26/10/2024  15:50    <DIR>          .\n",
      "26/10/2024  15:50    <DIR>          ..\n",
      "26/10/2024  15:48            42�423 session_4.ipynb\n",
      "26/10/2024  15:50               148 session_4_array.npy\n",
      "               2 File(s)         42�571 bytes\n",
      "               2 Dir(s)   5�629�435�904 bytes free\n"
     ]
    }
   ],
   "source": [
    "ls"
   ]
  },
  {
   "cell_type": "code",
   "execution_count": 132,
   "id": "2f19cb2d",
   "metadata": {
    "slideshow": {
     "slide_type": "fragment"
    }
   },
   "outputs": [],
   "source": [
    "# let's create a folder to remove later\n",
    "os.mkdir('folder_to_be_removed')"
   ]
  },
  {
   "cell_type": "code",
   "execution_count": 133,
   "id": "c8ab73eb",
   "metadata": {
    "slideshow": {
     "slide_type": "fragment"
    }
   },
   "outputs": [],
   "source": [
    "# Remove a folder and its content\n",
    "sh.rmtree('folder_to_be_removed/')"
   ]
  },
  {
   "cell_type": "markdown",
   "id": "06ef9072",
   "metadata": {
    "slideshow": {
     "slide_type": "slide"
    }
   },
   "source": [
    "## Basic Libraries I\n",
    "\n",
    "Let's jump into today's exercice."
   ]
  },
  {
   "cell_type": "markdown",
   "id": "7f74cd25",
   "metadata": {
    "slideshow": {
     "slide_type": "subslide"
    }
   },
   "source": [
    "### Exercise\n",
    "\n",
    "\n",
    "Given a zip file with a subfolder with multiple annotations, where the name convention for each one of them is: \n",
    "\n",
    "{DATE}_{TIME}_SN{SATELLITE_NUMBER}_QUICKVIEW_VISUAL_{VERSION}_{UNIQUE_REGION}.txt\n",
    "\n",
    "where:\n",
    "\n",
    "- DATE expressed as YYYYMMDD (year, month and day), e.g. 20241201, 20230321 ...\n",
    "- TIME expressed as HHMMSS (hour, minutes and seconds), e.g. 2134307\n",
    "- SATELLITE_NUMBER an integer that represents the satellite number.\n",
    "- VERSION provides the version of the pipeline, e.g. \"0_1_2\", \"1_3_1\" ...\n",
    "- UNIQUE_REGION provides a unique location in the form of a string, e.g SATL-2KM-10N_552_4164\n",
    "\n",
    "Find out the following thing about your data:\n",
    "\n",
    "1. How many files the annotations folder has.\n",
    "2. How many of them follow the name convention expressed above.\n",
    "3. How many of annotations you have per month and year. Which month has more annotation files.\n",
    "4. Create a new annotations folder with multiple folders corresponding to a month.\n",
    "5. Print all the annotations from the most recent to the oldest one. \n",
    "6. How many different satellites there are, how many annotations we have per satellite number, and which one was used in the most recent annotation file. \n",
    "7. How many unique regions there are.\n",
    "\n",
    "some tips:\n",
    "- str class has a method called split, you can use it to get each field per annotation.\n",
    "- you can use sort from numpy on strings."
   ]
  },
  {
   "cell_type": "code",
   "execution_count": 288,
   "id": "4217f47e",
   "metadata": {},
   "outputs": [
    {
     "data": {
      "text/plain": [
       "['20240101_174301_SN33_QUICKVIEW_VISUAL_1_1_10_SATL-2KM-11N_404_3770.txt',\n",
       " '20240101_174301_SN33_QUICKVIEW_VISUAL_1_1_10_SATL-2KM-11N_404_3772.txt',\n",
       " '20240101_192856_SN24_QUICKVIEW_VISUAL_1_1_10_SATL-2KM-10N_552_4162.txt',\n",
       " '20240101_192856_SN24_QUICKVIEW_VISUAL_1_1_10_SATL-2KM-10N_552_4164.txt',\n",
       " '20240101_192856_SN24_QUICKVIEW_VISUAL_1_1_10_SATL-2KM-10N_554_4162.txt',\n",
       " '20240101_213601_SN31_QUICKVIEW_VISUAL_1_1_10_SATL-2KM-11N_392_3740.txt',\n",
       " '20240101_213601_SN31_QUICKVIEW_VISUAL_1_1_10_SATL-2KM-11N_392_3742.txt',\n",
       " '20240101_213601_SN31_QUICKVIEW_VISUAL_1_1_10_SATL-2KM-11N_396_3752.txt',\n",
       " '20240102_185527_SN27_QUICKVIEW_VISUAL_1_1_10_SATL-2KM-11N_740_3850.txt',\n",
       " '20240102_185605_SN27_QUICKVIEW_VISUAL_1_1_10_SATL-2KM-11N_690_3572.txt',\n",
       " '20240102_185954_SN24_QUICKVIEW_VISUAL_1_1_10_SATL-2KM-11N_414_3786.txt',\n",
       " '20240104_220339_SN31_QUICKVIEW_VISUAL_1_1_10_SATL-2KM-10N_556_4178.txt',\n",
       " '20240110_192002_SN27_QUICKVIEW_VISUAL_1_1_10_SATL-2KM-11N_380_3728.txt',\n",
       " '20240112_192510_SN27_QUICKVIEW_VISUAL_1_1_10_SATL-2KM-11N_386_3750.txt',\n",
       " '20240115_213834_SN28_QUICKVIEW_VISUAL_1_1_10_SATL-2KM-11N_376_3722.txt',\n",
       " '20240115_213834_SN28_QUICKVIEW_VISUAL_1_1_10_SATL-2KM-11N_380_3724.txt',\n",
       " '20240126_173752_SN33_QUICKVIEW_VISUAL_1_1_10_SATL-2KM-11N_386_3722.txt',\n",
       " '20240127_190620_SN27_QUICKVIEW_VISUAL_1_1_10_SATL-2KM-11N_500_3600.txt',\n",
       " '20240127_190620_SN27_QUICKVIEW_VISUAL_1_1_10_SATL-2KM-11N_500_3602.txt',\n",
       " '20240127_190620_SN27_QUICKVIEW_VISUAL_1_1_10_SATL-2KM-11N_502_3600.txt',\n",
       " '20240127_190620_SN27_QUICKVIEW_VISUAL_1_1_10_SATL-2KM-11N_502_3602.txt',\n",
       " '20240128_213258_SN29_QUICKVIEW_VISUAL_1_1_10_SATL-2KM-11N_418_3862.txt',\n",
       " '20240128_213258_SN29_QUICKVIEW_VISUAL_1_1_10_SATL-2KM-11N_418_3864.txt',\n",
       " '20240130_173903_SN33_QUICKVIEW_VISUAL_1_1_10_SATL-2KM-11N_360_3748.txt',\n",
       " '20240130_173903_SN33_QUICKVIEW_VISUAL_1_1_10_SATL-2KM-11N_364_3754.txt',\n",
       " '20240130_173903_SN33_QUICKVIEW_VISUAL_1_1_10_SATL-2KM-11N_366_3756.txt',\n",
       " '20240130_215036_SN31_QUICKVIEW_VISUAL_1_1_10_SATL-2KM-11N_366_3756.txt',\n",
       " '20240201_075140_SN26_QUICKVIEW_VISUAL_1_1_10_SATL-2KM-39N_556_2792.txt',\n",
       " '20240201_075140_SN26_QUICKVIEW_VISUAL_1_1_10_SATL-2KM-39N_556_2794.txt',\n",
       " '20240201_075140_SN26_QUICKVIEW_VISUAL_1_1_10_SATL-2KM-39N_558_2794.txt',\n",
       " '20240201_075140_SN26_QUICKVIEW_VISUAL_1_1_10_SATL-2KM-39N_560_2792.txt',\n",
       " '20240201_075140_SN26_QUICKVIEW_VISUAL_1_1_10_SATL-2KM-39N_560_2794.txt',\n",
       " '20240201_075140_SN26_QUICKVIEW_VISUAL_1_1_10_SATL-2KM-39N_560_2796.txt',\n",
       " '20240201_075140_SN26_QUICKVIEW_VISUAL_1_1_10_SATL-2KM-39N_562_2792.txt',\n",
       " '20240201_075140_SN26_QUICKVIEW_VISUAL_1_1_10_SATL-2KM-39N_562_2794.txt',\n",
       " '20240201_075143_SN26_QUICKVIEW_VISUAL_1_1_10_SATL-2KM-39N_556_2792.txt',\n",
       " '20240201_075143_SN26_QUICKVIEW_VISUAL_1_1_10_SATL-2KM-39N_562_2788.txt',\n",
       " '20240202_184725_SN24_QUICKVIEW_VISUAL_1_1_10_SATL-2KM-11N_624_3630.txt',\n",
       " '20240202_191114_SN27_QUICKVIEW_VISUAL_1_1_10_SATL-2KM-11N_718_3608.txt',\n",
       " '20240203_173953_SN33_QUICKVIEW_VISUAL_1_1_10_SATL-2KM-11N_366_3756.txt',\n",
       " '20240203_173953_SN33_QUICKVIEW_VISUAL_1_1_10_SATL-2KM-11N_368_3756.txt',\n",
       " '20240208_184650_SN24_QUICKVIEW_VISUAL_1_1_10_SATL-2KM-11N_624_3632.txt',\n",
       " '20240209_212744_SN29_QUICKVIEW_VISUAL_1_1_10_SATL-2KM-11N_380_3722.txt',\n",
       " '20240211_211057_SN30_QUICKVIEW_VISUAL_1_1_10_SATL-2KM-11N_700_3690.txt',\n",
       " '20240212_213506_SN31_QUICKVIEW_VISUAL_1_1_10_SATL-2KM-11N_408_3712.txt',\n",
       " '20240213_212524_SN29_QUICKVIEW_VISUAL_1_1_10_SATL-2KM-11N_540_3748.txt',\n",
       " '20240213_212524_SN29_QUICKVIEW_VISUAL_1_1_10_SATL-2KM-11N_542_3750.txt',\n",
       " '20240213_212524_SN29_QUICKVIEW_VISUAL_1_1_10_SATL-2KM-11N_544_3742.txt',\n",
       " '20240214_184340_SN24_QUICKVIEW_VISUAL_1_1_10_SATL-2KM-11N_688_3630.txt',\n",
       " '20240216_213630_SN31_QUICKVIEW_VISUAL_1_1_10_SATL-2KM-11N_418_3724.txt',\n",
       " '20240218_180121_SN33_QUICKVIEW_VISUAL_1_1_10_SATL-2KM-10N_568_4176.txt',\n",
       " '20240219_214312_SN28_QUICKVIEW_VISUAL_1_1_10_SATL-2KM-11N_252_3954.txt',\n",
       " '20240220_190455_SN27_QUICKVIEW_VISUAL_1_1_10_SATL-2KM-11N_718_3608.txt',\n",
       " '20240221_190608_SN26_QUICKVIEW_VISUAL_1_1_10_SATL-2KM-11N_380_3764.txt',\n",
       " '20240222_074151_SN26_QUICKVIEW_VISUAL_1_1_10_SATL-2KM-39N_556_2794.txt',\n",
       " '20240222_074151_SN26_QUICKVIEW_VISUAL_1_1_10_SATL-2KM-39N_558_2796.txt',\n",
       " '20240222_074151_SN26_QUICKVIEW_VISUAL_1_1_10_SATL-2KM-39N_560_2794.txt',\n",
       " '20240222_074151_SN26_QUICKVIEW_VISUAL_1_1_10_SATL-2KM-39N_560_2796.txt',\n",
       " '20240222_074151_SN26_QUICKVIEW_VISUAL_1_1_10_SATL-2KM-39N_562_2794.txt',\n",
       " '20240222_074155_SN26_QUICKVIEW_VISUAL_1_1_10_SATL-2KM-39N_556_2792.txt',\n",
       " '20240222_074155_SN26_QUICKVIEW_VISUAL_1_1_10_SATL-2KM-39N_556_2794.txt',\n",
       " '20240222_074155_SN26_QUICKVIEW_VISUAL_1_1_10_SATL-2KM-39N_558_2794.txt',\n",
       " '20240222_074155_SN26_QUICKVIEW_VISUAL_1_1_10_SATL-2KM-39N_560_2792.txt',\n",
       " '20240222_074155_SN26_QUICKVIEW_VISUAL_1_1_10_SATL-2KM-39N_562_2792.txt',\n",
       " '20240222_074155_SN26_QUICKVIEW_VISUAL_1_1_10_SATL-2KM-39N_562_2794.txt',\n",
       " '20240222_074256_SN26_QUICKVIEW_VISUAL_1_1_10_SATL-2KM-39N_564_2790.txt',\n",
       " '20240222_212250_SN30_QUICKVIEW_VISUAL_1_1_10_SATL-2KM-11N_382_3722.txt',\n",
       " '20240223_025420_SN24_QUICKVIEW_VISUAL_1_1_10_SATL-2KM-51N_686_4422.txt',\n",
       " '20240224_214855_SN30_QUICKVIEW_VISUAL_1_1_10_SATL-2KM-10N_552_4162.txt',\n",
       " '20240224_214855_SN30_QUICKVIEW_VISUAL_1_1_10_SATL-2KM-10N_554_4162.txt',\n",
       " '20240227_214218_SN30_QUICKVIEW_VISUAL_1_1_10_SATL-2KM-10N_562_4170.txt',\n",
       " '20240228_213951_SN29_QUICKVIEW_VISUAL_1_1_10_SATL-2KM-11N_248_4068.txt',\n",
       " '20240304_212824_SN30_QUICKVIEW_VISUAL_1_2_0_SATL-2KM-11N_378_3722.txt',\n",
       " '20240308_191212_SN27_QUICKVIEW_VISUAL_1_2_0_SATL-2KM-11N_506_3614.txt',\n",
       " '20240308_211248_SN29_QUICKVIEW_VISUAL_1_2_0_SATL-2KM-11N_718_3640.txt',\n",
       " '20240314_220020_SN30_QUICKVIEW_VISUAL_1_2_0_SATL-2KM-10N_544_4186.txt',\n",
       " '20240314_220020_SN30_QUICKVIEW_VISUAL_1_2_0_SATL-2KM-10N_550_4202.txt',\n",
       " '20240316_191451_SN26_QUICKVIEW_VISUAL_1_2_0_SATL-2KM-11N_380_3764.txt',\n",
       " '20240317_215115_SN28_QUICKVIEW_VISUAL_1_2_0_SATL-2KM-10N_552_4162.txt',\n",
       " '20240317_215115_SN28_QUICKVIEW_VISUAL_1_2_0_SATL-2KM-10N_552_4164.txt',\n",
       " '20240317_215115_SN28_QUICKVIEW_VISUAL_1_2_0_SATL-2KM-10N_554_4162.txt',\n",
       " '20240317_221229_SN31_QUICKVIEW_VISUAL_1_2_0_SATL-2KM-10N_556_4176.txt',\n",
       " '20240321_190819_SN27_QUICKVIEW_VISUAL_1_2_0_SATL-2KM-11N_714_3632.txt',\n",
       " '20240321_220846_SN31_QUICKVIEW_VISUAL_1_2_0_SATL-2KM-10N_560_4178.txt',\n",
       " '20240322_184801_SN24_QUICKVIEW_VISUAL_1_2_0_SATL-2KM-11N_500_3632.txt',\n",
       " '20240322_184801_SN24_QUICKVIEW_VISUAL_1_2_0_SATL-2KM-11N_502_3632.txt',\n",
       " '20240322_212516_SN28_QUICKVIEW_VISUAL_1_2_0_SATL-2KM-11N_502_3600.txt',\n",
       " '20240324_180232_SN33_QUICKVIEW_VISUAL_1_2_0_SATL-2KM-10N_554_4172.txt',\n",
       " '20240325_173936_SN33_QUICKVIEW_VISUAL_1_2_0_SATL-2KM-11N_378_3722.txt',\n",
       " '20240401_032415_SN27_QUICKVIEW_VISUAL_1_2_0_SATL-2KM-51N_688_4420.txt',\n",
       " '20240401_175918_SN33_QUICKVIEW_VISUAL_1_2_0_SATL-2KM-10N_542_4168.txt',\n",
       " '20240401_175918_SN33_QUICKVIEW_VISUAL_1_2_0_SATL-2KM-10N_546_4206.txt',\n",
       " '20240401_175925_SN33_QUICKVIEW_VISUAL_1_2_0_SATL-2KM-10N_542_4168.txt',\n",
       " '20240401_221819_SN31_QUICKVIEW_VISUAL_1_2_0_SATL-2KM-10N_602_4148.txt',\n",
       " '20240402_184757_SN24_QUICKVIEW_VISUAL_1_2_0_SATL-2KM-11N_486_3630.txt',\n",
       " '20240402_184757_SN24_QUICKVIEW_VISUAL_1_2_0_SATL-2KM-11N_486_3636.txt',\n",
       " '20240402_184757_SN24_QUICKVIEW_VISUAL_1_2_0_SATL-2KM-11N_488_3638.txt',\n",
       " '20240402_184757_SN24_QUICKVIEW_VISUAL_1_2_0_SATL-2KM-11N_490_3638.txt',\n",
       " '20240402_215421_SN31_QUICKVIEW_VISUAL_1_2_0_SATL-2KM-11N_500_3632.txt',\n",
       " '20240402_215427_SN31_QUICKVIEW_VISUAL_1_2_0_SATL-2KM-11N_502_3600.txt',\n",
       " '20240405_183824_409694_MS_NS24_QUICKVIEW_VISUAL_1_3_0_SATL-2KM-11N_736_3716.txt',\n",
       " '20240407_190149_742846_MS_NS24_QUICKVIEW_VISUAL_1_3_0_SATL-2KM-11N_258_4028.txt',\n",
       " '20240408_211552_958249_MS_NS29_QUICKVIEW_VISUAL_1_3_0_SATL-2KM-11N_734_3742.txt',\n",
       " '20240410_214305_399233_MS_NS43_QUICKVIEW_VISUAL_1_3_0_SATL-2KM-11N_380_3764.txt',\n",
       " '20240410_214321_024179_MS_NS30_QUICKVIEW_VISUAL_1_3_0_SATL-2KM-11N_296_3786.txt',\n",
       " '20240412_052750_556466_MS_NS29_QUICKVIEW_VISUAL_1_3_0_SATL-2KM-51N_688_4420.txt',\n",
       " '20240412_191539_377035_MS_NS24_QUICKVIEW_VISUAL_1_3_0_SATL-2KM-11N_258_4038.txt',\n",
       " '20240412_191539_631044_MS_NS24_QUICKVIEW_VISUAL_1_3_0_SATL-2KM-11N_258_4036.txt',\n",
       " '20240412_191549_672087_MS_NS24_QUICKVIEW_VISUAL_1_3_0_SATL-2KM-11N_240_3966.txt',\n",
       " '20240417_215406_715231_MS_NS43_QUICKVIEW_VISUAL_1_3_0_SATL-2KM-10N_740_4446.txt',\n",
       " '20240418_213446_163074_MS_NS28_QUICKVIEW_VISUAL_1_3_0_SATL-2KM-11N_388_3748.txt',\n",
       " '20240420_181053_341939_MS_NS33_QUICKVIEW_VISUAL_1_3_0_SATL-2KM-10N_556_4180.txt',\n",
       " '20240423_190101_SN26_QUICKVIEW_VISUAL_1_5_0_SATL-2KM-11N_414_3862.txt',\n",
       " '20240423_190101_SN26_QUICKVIEW_VISUAL_1_5_0_SATL-2KM-11N_416_3862.txt',\n",
       " '20240423_190101_SN26_QUICKVIEW_VISUAL_1_5_0_SATL-2KM-11N_416_3864.txt',\n",
       " '20240423_190101_SN26_QUICKVIEW_VISUAL_1_5_0_SATL-2KM-11N_418_3860.txt',\n",
       " '20240423_190101_SN26_QUICKVIEW_VISUAL_1_5_0_SATL-2KM-11N_418_3862.txt',\n",
       " '20240423_190101_SN26_QUICKVIEW_VISUAL_1_5_0_SATL-2KM-11N_418_3864.txt',\n",
       " '20240423_190101_SN26_QUICKVIEW_VISUAL_1_5_0_SATL-2KM-11N_418_3872.txt',\n",
       " '20240426_215224_SN29_QUICKVIEW_VISUAL_1_5_0_SATL-2KM-11N_244_3818.txt',\n",
       " '20240427_221308_SN31_QUICKVIEW_VISUAL_1_5_0_SATL-2KM-10N_722_3848.txt',\n",
       " '20240428_191026_SN24_QUICKVIEW_VISUAL_1_5_0_SATL-2KM-11N_380_3722.txt',\n",
       " '20240428_215426_SN43_QUICKVIEW_VISUAL_1_5_0_SATL-2KM-10N_630_4262.txt',\n",
       " '20240428_215426_SN43_QUICKVIEW_VISUAL_1_5_0_SATL-2KM-10N_630_4264.txt',\n",
       " '20240428_215426_SN43_QUICKVIEW_VISUAL_1_5_0_SATL-2KM-10N_634_4282.txt',\n",
       " '20240428_215557_SN43_QUICKVIEW_VISUAL_1_5_0_SATL-2KM-10N_726_3862.txt',\n",
       " '20240503_214759_SN28_QUICKVIEW_VISUAL_1_5_0_SATL-2KM-11N_376_3724.txt',\n",
       " '20240506_192008_SN26_QUICKVIEW_VISUAL_1_5_0_SATL-2KM-10N_562_4178.txt',\n",
       " '20240506_213507_SN43_QUICKVIEW_VISUAL_1_5_0_SATL-2KM-11N_384_3750.txt',\n",
       " '20240507_191326_SN27_QUICKVIEW_VISUAL_1_5_0_SATL-2KM-11N_718_3608.txt',\n",
       " '20240508_194502_SN27_QUICKVIEW_VISUAL_1_5_0_SATL-2KM-11N_262_4022.txt',\n",
       " '20240508_194502_SN27_QUICKVIEW_VISUAL_1_5_0_SATL-2KM-11N_264_4022.txt',\n",
       " '20240509_193206_SN26_QUICKVIEW_VISUAL_1_5_0_SATL-2KM-10N_562_4196.txt',\n",
       " '20240509_212336_SN29_QUICKVIEW_VISUAL_1_5_0_SATL-2KM-11N_706_3778.txt',\n",
       " '20240510_191908_SN27_QUICKVIEW_VISUAL_1_5_0_SATL-2KM-11N_718_3608.txt',\n",
       " '20240510_191914_SN27_QUICKVIEW_VISUAL_1_5_0_SATL-2KM-11N_712_3566.txt',\n",
       " '20240513_212022_SN29_QUICKVIEW_VISUAL_1_5_0_SATL-2KM-11N_630_3742.txt',\n",
       " '20240514_052716_SN43_QUICKVIEW_VISUAL_1_5_0_SATL-2KM-51N_730_4342.txt',\n",
       " '20240516_190328_SN24_QUICKVIEW_VISUAL_1_5_0_SATL-2KM-11N_262_4052.txt',\n",
       " '20240516_211630_SN28_QUICKVIEW_VISUAL_1_5_0_SATL-2KM-11N_716_3848.txt',\n",
       " '20240519_184534_SN24_QUICKVIEW_VISUAL_1_5_0_SATL-2KM-11N_658_3700.txt',\n",
       " '20240519_191838_SN27_QUICKVIEW_VISUAL_1_5_0_SATL-2KM-11N_718_3608.txt',\n",
       " '20240519_214917_SN31_QUICKVIEW_VISUAL_1_5_0_SATL-2KM-11N_500_3598.txt',\n",
       " '20240519_214917_SN31_QUICKVIEW_VISUAL_1_5_0_SATL-2KM-11N_500_3600.txt',\n",
       " '20240519_214917_SN31_QUICKVIEW_VISUAL_1_5_0_SATL-2KM-11N_500_3602.txt',\n",
       " '20240520_194539_SN27_QUICKVIEW_VISUAL_1_5_0_SATL-2KM-10N_638_4280.txt',\n",
       " '20240520_194539_SN27_QUICKVIEW_VISUAL_1_5_0_SATL-2KM-10N_638_4282.txt',\n",
       " '20240521_052621_SN43_QUICKVIEW_VISUAL_1_6_0_SATL-2KM-51N_730_4342.txt',\n",
       " '20240521_101252_SN43_QUICKVIEW_VISUAL_1_6_0_SATL-2KM-39N_556_2792.txt',\n",
       " '20240521_101252_SN43_QUICKVIEW_VISUAL_1_6_0_SATL-2KM-39N_558_2796.txt',\n",
       " '20240524_213504_SN29_QUICKVIEW_VISUAL_1_6_0_SATL-2KM-11N_378_3724.txt',\n",
       " '20240524_213504_SN29_QUICKVIEW_VISUAL_1_6_0_SATL-2KM-11N_380_3724.txt',\n",
       " '20240528_191448_SN24_QUICKVIEW_VISUAL_1_6_0_SATL-2KM-11N_248_4068.txt',\n",
       " '20240528_191604_SN24_QUICKVIEW_VISUAL_1_6_0_SATL-2KM-11N_344_3836.txt',\n",
       " '20240602_215203_SN30_QUICKVIEW_VISUAL_1_6_0_SATL-2KM-10N_712_3948.txt',\n",
       " '20240602_215203_SN30_QUICKVIEW_VISUAL_1_6_0_SATL-2KM-10N_714_3948.txt',\n",
       " '20240603_215226_SN28_QUICKVIEW_VISUAL_1_6_0_SATL-2KM-11N_248_4068.txt',\n",
       " '20240603_215348_SN28_QUICKVIEW_VISUAL_1_6_0_SATL-2KM-11N_346_3786.txt',\n",
       " '20240604_214955_SN29_QUICKVIEW_VISUAL_1_7_0_SATL-2KM-10N_594_4136.txt',\n",
       " '20240605_212717_SN29_QUICKVIEW_VISUAL_1_7_0_SATL-2KM-11N_718_3608.txt',\n",
       " '20240606_180251_SN33_QUICKVIEW_VISUAL_1_7_0_SATL-2KM-10N_556_4180.txt',\n",
       " '20240607_200250_SN27_QUICKVIEW_VISUAL_1_7_0_SATL-2KM-10N_554_4172.txt',\n",
       " '20240608_214614_SN29_QUICKVIEW_VISUAL_1_7_0_SATL-2KM-11N_248_4068.txt',\n",
       " '20240609_191744_SN24_QUICKVIEW_VISUAL_1_7_0_SATL-2KM-10N_564_4194.txt',\n",
       " '20240609_191959_SN27_QUICKVIEW_VISUAL_1_7_0_SATL-2KM-11N_702_3540.txt',\n",
       " '20240609_214259_SN30_QUICKVIEW_VISUAL_1_7_0_SATL-2KM-11N_262_4052.txt',\n",
       " '20240610_191018_SN26_QUICKVIEW_VISUAL_1_7_0_SATL-2KM-11N_384_3750.txt',\n",
       " '20240611_025943_SN26_QUICKVIEW_VISUAL_1_7_0_SATL-2KM-51N_748_4364.txt',\n",
       " '20240611_025943_SN26_QUICKVIEW_VISUAL_1_7_0_SATL-2KM-51N_748_4366.txt',\n",
       " '20240611_215323_SN30_QUICKVIEW_VISUAL_1_7_0_SATL-2KM-10N_702_3948.txt',\n",
       " '20240612_053829_SN28_QUICKVIEW_VISUAL_1_7_0_SATL-2KM-51N_686_4422.txt',\n",
       " '20240612_053829_SN28_QUICKVIEW_VISUAL_1_7_0_SATL-2KM-51N_688_4420.txt',\n",
       " '20240612_185400_SN24_QUICKVIEW_VISUAL_1_7_0_SATL-2KM-11N_574_3714.txt',\n",
       " '20240612_185400_SN24_QUICKVIEW_VISUAL_1_7_0_SATL-2KM-11N_576_3720.txt',\n",
       " '20240612_185400_SN24_QUICKVIEW_VISUAL_1_7_0_SATL-2KM-11N_578_3722.txt',\n",
       " '20240612_185419_SN24_QUICKVIEW_VISUAL_1_7_0_SATL-2KM-11N_554_3610.txt',\n",
       " '20240613_053340_SN29_QUICKVIEW_VISUAL_1_7_0_SATL-2KM-51N_728_4342.txt',\n",
       " '20240613_053340_SN29_QUICKVIEW_VISUAL_1_7_0_SATL-2KM-51N_730_4342.txt',\n",
       " '20240613_192217_SN26_QUICKVIEW_VISUAL_1_7_0_SATL-2KM-10N_560_4178.txt',\n",
       " '20240613_214203_SN43_QUICKVIEW_VISUAL_1_7_0_SATL-2KM-11N_384_3750.txt',\n",
       " '20240614_221436_SN31_QUICKVIEW_VISUAL_1_7_0_SATL-2KM-10N_558_4184.txt',\n",
       " '20240615_173631_SN33_QUICKVIEW_VISUAL_1_7_0_SATL-2KM-11N_546_3742.txt',\n",
       " '20240616_081345_SN27_QUICKVIEW_VISUAL_1_7_0_SATL-2KM-39N_560_2792.txt',\n",
       " '20240616_081345_SN27_QUICKVIEW_VISUAL_1_7_0_SATL-2KM-39N_560_2794.txt',\n",
       " '20240616_081345_SN27_QUICKVIEW_VISUAL_1_7_0_SATL-2KM-39N_562_2792.txt',\n",
       " '20240616_081345_SN27_QUICKVIEW_VISUAL_1_7_0_SATL-2KM-39N_562_2794.txt',\n",
       " '20240616_102144_SN28_QUICKVIEW_VISUAL_1_7_0_SATL-2KM-39N_556_2794.txt',\n",
       " '20240616_102144_SN28_QUICKVIEW_VISUAL_1_7_0_SATL-2KM-39N_558_2794.txt',\n",
       " '20240616_102144_SN28_QUICKVIEW_VISUAL_1_7_0_SATL-2KM-39N_560_2792.txt',\n",
       " '20240616_213047_SN30_QUICKVIEW_VISUAL_1_7_0_SATL-2KM-11N_464_3828.txt',\n",
       " '20240616_213047_SN30_QUICKVIEW_VISUAL_1_7_0_SATL-2KM-11N_464_3830.txt',\n",
       " '20240616_213047_SN30_QUICKVIEW_VISUAL_1_7_0_SATL-2KM-11N_466_3826.txt',\n",
       " '20240616_213047_SN30_QUICKVIEW_VISUAL_1_7_0_SATL-2KM-11N_466_3828.txt',\n",
       " '20240616_213053_SN30_QUICKVIEW_VISUAL_1_7_0_SATL-2KM-11N_460_3792.txt',\n",
       " '20240617_052859_SN29_QUICKVIEW_VISUAL_1_7_0_SATL-2KM-51N_730_4348.txt',\n",
       " '20240617_184443_SN24_QUICKVIEW_VISUAL_1_7_0_SATL-2KM-11N_702_3566.txt',\n",
       " '20240617_211350_SN29_QUICKVIEW_VISUAL_1_7_0_SATL-2KM-11N_724_3614.txt',\n",
       " '20240618_193146_SN27_QUICKVIEW_VISUAL_1_7_0_SATL-2KM-11N_530_3682.txt',\n",
       " '20240618_215539_SN31_QUICKVIEW_VISUAL_1_7_0_SATL-2KM-11N_452_3740.txt',\n",
       " '20240618_215539_SN31_QUICKVIEW_VISUAL_1_7_0_SATL-2KM-11N_458_3756.txt',\n",
       " '20240619_052401_SN30_QUICKVIEW_VISUAL_1_7_0_SATL-2KM-52N_368_4336.txt',\n",
       " '20240619_185757_SN24_QUICKVIEW_VISUAL_1_7_0_SATL-2KM-11N_528_3700.txt',\n",
       " '20240619_215556_SN29_QUICKVIEW_VISUAL_1_7_0_SATL-2KM-10N_742_4460.txt',\n",
       " '20240623_193704_SN27_QUICKVIEW_VISUAL_1_7_0_SATL-2KM-11N_566_3734.txt',\n",
       " '20240623_215102_SN43_QUICKVIEW_VISUAL_1_7_0_SATL-2KM-11N_384_3750.txt',\n",
       " '20240623_215120_SN29_QUICKVIEW_VISUAL_1_7_0_SATL-2KM-10N_596_4134.txt']"
      ]
     },
     "execution_count": 288,
     "metadata": {},
     "output_type": "execute_result"
    }
   ],
   "source": [
    "#Visualize all the files in the annotations folder\n",
    "import os\n",
    "all_files = os.listdir('session_4/annotations/')\n",
    "all_files"
   ]
  },
  {
   "cell_type": "code",
   "execution_count": 289,
   "id": "b181e1eb",
   "metadata": {},
   "outputs": [
    {
     "name": "stdout",
     "output_type": "stream",
     "text": [
      "206\n"
     ]
    }
   ],
   "source": [
    "#1. See how many files the folder has\n",
    "print(len(all_files))"
   ]
  },
  {
   "cell_type": "code",
   "execution_count": 290,
   "id": "eaf7800e",
   "metadata": {},
   "outputs": [
    {
     "data": {
      "text/plain": [
       "194"
      ]
     },
     "execution_count": 290,
     "metadata": {},
     "output_type": "execute_result"
    }
   ],
   "source": [
    "#2. See how many of the files follow the format especified in the exercise\n",
    "import re\n",
    "\n",
    "#Creating a pattern following the instructions given to verify the matching files\n",
    "pattern = r'^(\\d{8})_(\\d{6})_SN(\\d+)_QUICKVIEW_VISUAL_(\\d+(_\\d+)*)_([A-Za-z0-9_-]+)\\.txt$'\n",
    "\n",
    "#Matching the pattern to the files\n",
    "matching_files = [file for file in all_files if re.match(pattern, file)]\n",
    "\n",
    "matching_files\n",
    "len(matching_files)\n",
    "#There are 194 files that follow the pattern"
   ]
  },
  {
   "cell_type": "code",
   "execution_count": 291,
   "id": "808393aa",
   "metadata": {},
   "outputs": [
    {
     "name": "stdout",
     "output_type": "stream",
     "text": [
      "The month with the biggest number of files is: 06/2024\n"
     ]
    }
   ],
   "source": [
    "#3. Understand how many annotations we have per month and per year\n",
    "from collections import defaultdict\n",
    "\n",
    "#Defining two dictionaries: one that will contain the year and month for the files, and another that will only contain the files per month\n",
    "files_by_date = defaultdict(lambda: defaultdict(list))\n",
    "files_per_month = {}\n",
    "\n",
    "\n",
    "#Filling the dictionary by year and montg\n",
    "for file in matching_files:\n",
    "    year = file[:4]\n",
    "    month = file[4:6]\n",
    "    files_by_date[year][month].append(file)\n",
    "\n",
    "for year, months in files_by_date.items():\n",
    "    #print(f\"Year: {year}\") by printing this I realized that every file was from 2024\n",
    "    for month, files in months.items():\n",
    "        files_per_month[month] = len(files)\n",
    "    #print(files_per_month) by printing this I reassured that the dictionary contained every month present in 2024 and the number of files corresponding to that month\n",
    "\n",
    "max_files = 0\n",
    "month_max_files = None\n",
    "\n",
    "#Undestandinf the montg with the biggest number of files\n",
    "for month, value in files_per_month.items():\n",
    "    if value > max_files:\n",
    "        max_files = value\n",
    "        month_max_files = month\n",
    "\n",
    "print(f'The month with the biggest number of files is: {month_max_files}/2024')"
   ]
  },
  {
   "cell_type": "code",
   "execution_count": 292,
   "id": "311680b1",
   "metadata": {},
   "outputs": [],
   "source": [
    "#4. Create a new annotations folder with multiple folders corresponding to a month.\n",
    "\n",
    "import shutil as sh\n",
    "from collections import defaultdict\n",
    "\n",
    "#Creating the folder called annotations_by_month\n",
    "os.mkdir('annotations_by_month')\n",
    "\n",
    "files_per_month = defaultdict(list)\n",
    "\n",
    "# Assuming 'matching_files' is already defined and contains your filenames\n",
    "for file in matching_files:\n",
    "    month = file[4:6]  # Extract month from the filename\n",
    "    files_per_month[month].append(file)  # Append the file to the corresponding month list\n",
    "\n",
    "# Create month folders and copy files to the corresponding month file\n",
    "for month, files in files_per_month.items():\n",
    "    month_folder = os.path.join('annotations_by_month', month)  # Build path for the month folder inside of the annotationt_by_month folder\n",
    "    os.makedirs(month_folder)  # Create the month folder\n",
    "\n",
    "    for file in files:\n",
    "        abs_file_path = os.path.abspath(os.path.join('session_4/annotations', file)) \n",
    "        sh.copy(abs_file_path, month_folder)\n",
    "\n"
   ]
  },
  {
   "cell_type": "code",
   "execution_count": 294,
   "id": "5030755f",
   "metadata": {},
   "outputs": [
    {
     "name": "stdout",
     "output_type": "stream",
     "text": [
      "The content in 20240623_215120_SN29_QUICKVIEW_VISUAL_1_7_0_SATL-2KM-10N_596_4134.txt is:\n",
      "0 0.769426 0.885892 0.009146 0.008989\n",
      "0 0.835620 0.910314 0.005351 0.006706\n",
      "0 0.818272 0.945478 0.004101 0.005992\n",
      "0 0.817690 0.900890 0.004424 0.005640\n",
      "0 0.817488 0.907210 0.003621 0.005393\n",
      "0 0.818166 0.939010 0.004152 0.005414\n",
      "0 0.823277 0.926834 0.005032 0.006179\n",
      "0 0.817671 0.932444 0.005032 0.006179\n",
      "0 0.837909 0.948311 0.004658 0.005963\n",
      "0 0.837442 0.922824 0.004454 0.005699\n",
      "0 0.818041 0.919904 0.004199 0.005963\n",
      "0 0.837962 0.956732 0.004807 0.006477\n",
      "0 0.817828 0.913519 0.003876 0.005839\n",
      " \n",
      "\n",
      "The content in <_io.TextIOWrapper name='session_4/annotations\\\\20240623_193704_SN27_QUICKVIEW_VISUAL_1_7_0_SATL-2KM-11N_566_3734.txt' mode='r' encoding='utf-8'> is:\n",
      "0 0.494370 0.634750 0.005632 0.004796\n",
      "0 0.351949 0.636945 0.006039 0.004977\n",
      "0 0.339454 0.636468 0.006048 0.005225\n",
      "0 0.266753 0.716340 0.006325 0.006766\n",
      "0 0.378003 0.717663 0.005069 0.005481\n",
      "0 0.381756 0.714815 0.005191 0.006237\n",
      "0 0.327539 0.636957 0.007283 0.006161\n",
      "0 0.394561 0.717008 0.005846 0.006329\n",
      "0 0.633958 0.717047 0.005674 0.003612\n",
      "0 0.618704 0.720470 0.005674 0.003612\n",
      "0 0.624698 0.720395 0.005674 0.003612\n",
      "0 0.741153 0.742281 0.005674 0.003612\n",
      "0 0.748343 0.747417 0.005674 0.003612\n",
      "0 0.376294 0.637350 0.005674 0.004889\n",
      "0 0.317589 0.714525 0.006325 0.006766\n",
      "0 0.298627 0.716676 0.006325 0.006766\n",
      "0 0.285044 0.714122 0.006325 0.006766\n",
      "0 0.280743 0.718427 0.006325 0.006766\n",
      "0 0.253578 0.713988 0.006325 0.006766\n",
      "0 0.550042 0.733129 0.004116 0.005124\n",
      "0 0.546672 0.735981 0.004112 0.005124\n",
      "0 0.550302 0.739290 0.004116 0.005124\n",
      "0 0.545762 0.742398 0.004116 0.006930\n",
      "0 0.241749 0.636766 0.005792 0.005124\n",
      "0 0.263595 0.633742 0.005779 0.005124\n",
      "0 0.272623 0.636661 0.005674 0.004889\n",
      "0 0.278790 0.636993 0.005678 0.004889\n",
      "0 0.284954 0.637215 0.005674 0.004889\n",
      "0 0.345584 0.636432 0.005674 0.004893\n",
      "0 0.360808 0.634003 0.006144 0.004889\n",
      "0 0.627810 0.716892 0.005674 0.003612\n",
      "0 0.312881 0.717755 0.006325 0.006766\n",
      "0 0.488646 0.635258 0.005632 0.004796\n",
      "0 0.382131 0.637505 0.005674 0.004889\n",
      "0 0.388356 0.637505 0.005674 0.004889\n",
      "0 0.385397 0.634236 0.006443 0.004893\n",
      "0 0.418478 0.637627 0.005674 0.004889\n",
      "0 0.424828 0.637442 0.005674 0.004889\n",
      "0 0.439767 0.634173 0.005674 0.004893\n",
      "0 0.479208 0.637978 0.005674 0.004893\n",
      "0 0.498074 0.637883 0.005674 0.004889\n",
      "0 0.564114 0.720254 0.005674 0.004893\n",
      "0 0.567772 0.717142 0.005674 0.004893\n",
      "0 0.570107 0.720254 0.005674 0.004893\n",
      "0 0.573454 0.716674 0.005674 0.004889\n",
      "0 0.576176 0.720021 0.005674 0.004889\n",
      "0 0.585281 0.716443 0.005674 0.004889\n",
      "0 0.615590 0.716968 0.005678 0.003612\n",
      "0 0.621737 0.716657 0.005674 0.003612\n",
      "0 0.546672 0.729950 0.004112 0.005124\n",
      "0 0.550172 0.727228 0.004116 0.005124\n",
      "0 0.545972 0.723940 0.004116 0.005124\n",
      "0 0.461911 0.716016 0.006325 0.006766\n",
      "0 0.456980 0.718595 0.006325 0.006766\n",
      "0 0.445997 0.715122 0.006325 0.006766\n",
      "0 0.440953 0.718373 0.006325 0.006766\n",
      "0 0.425712 0.717810 0.006325 0.006766\n",
      "0 0.410920 0.717251 0.006325 0.006766\n",
      "0 0.366136 0.716810 0.006325 0.006766\n",
      "0 0.350269 0.718024 0.006325 0.006766\n",
      " \n",
      "\n",
      "The content in <_io.TextIOWrapper name='session_4/annotations\\\\20240623_215102_SN43_QUICKVIEW_VISUAL_1_7_0_SATL-2KM-11N_384_3750.txt' mode='r' encoding='utf-8'> is:\n",
      "0 0.015957 0.736646 0.017548 0.017492\n",
      " \n",
      "\n",
      "The content in <_io.TextIOWrapper name='session_4/annotations\\\\20240623_215120_SN29_QUICKVIEW_VISUAL_1_7_0_SATL-2KM-10N_596_4134.txt' mode='r' encoding='utf-8'> is:\n",
      "0 0.454743 0.901010 0.022269 0.022084\n",
      " \n",
      "\n",
      "The content in <_io.TextIOWrapper name='session_4/annotations\\\\20240619_052401_SN30_QUICKVIEW_VISUAL_1_7_0_SATL-2KM-52N_368_4336.txt' mode='r' encoding='utf-8'> is:\n",
      "0 0.073051 0.866052 0.025851 0.020399\n",
      "0 0.128703 0.840777 0.025851 0.020399\n",
      "0 0.110462 0.848257 0.025851 0.020399\n",
      " \n",
      "\n",
      "The content in <_io.TextIOWrapper name='session_4/annotations\\\\20240619_185757_SN24_QUICKVIEW_VISUAL_1_7_0_SATL-2KM-11N_528_3700.txt' mode='r' encoding='utf-8'> is:\n",
      " \n",
      "\n",
      "The content in <_io.TextIOWrapper name='session_4/annotations\\\\20240619_215556_SN29_QUICKVIEW_VISUAL_1_7_0_SATL-2KM-10N_742_4460.txt' mode='r' encoding='utf-8'> is:\n",
      "0 0.467446 0.534590 0.008396 0.006900\n",
      "0 0.538380 0.534890 0.006880 0.005372\n",
      "0 0.514766 0.532592 0.009660 0.008048\n",
      "0 0.502778 0.532274 0.008396 0.006900\n",
      "0 0.646456 0.573326 0.006136 0.004844\n",
      "0 0.533630 0.529880 0.007820 0.005360\n",
      "0 0.527066 0.535486 0.008396 0.006900\n",
      "0 0.491766 0.533134 0.008396 0.006900\n",
      "0 0.720132 0.572598 0.006136 0.004844\n",
      "0 0.698728 0.571302 0.006136 0.004844\n",
      "0 0.662160 0.572198 0.007360 0.004844\n",
      "0 0.653904 0.572758 0.005472 0.004844\n",
      "0 0.419226 0.611778 0.008396 0.006900\n",
      "0 0.377422 0.617494 0.008396 0.006900\n",
      "0 0.548854 0.534926 0.008748 0.006900\n",
      " \n",
      "\n",
      "The content in <_io.TextIOWrapper name='session_4/annotations\\\\20240618_193146_SN27_QUICKVIEW_VISUAL_1_7_0_SATL-2KM-11N_530_3682.txt' mode='r' encoding='utf-8'> is:\n",
      "0 0.884995 0.618039 0.011112 0.012129\n",
      "0 0.873893 0.619339 0.011112 0.012129\n",
      "0 0.866588 0.618933 0.011112 0.012129\n",
      " \n",
      "\n",
      "The content in <_io.TextIOWrapper name='session_4/annotations\\\\20240618_215539_SN31_QUICKVIEW_VISUAL_1_7_0_SATL-2KM-11N_452_3740.txt' mode='r' encoding='utf-8'> is:\n",
      "0 0.352429 0.558879 0.005746 0.006886\n",
      "0 0.442903 0.583783 0.004682 0.006356\n",
      "0 0.361656 0.581075 0.004682 0.006356\n",
      "0 0.363711 0.584997 0.004682 0.006356\n",
      "0 0.404615 0.578555 0.004682 0.006356\n",
      "0 0.406857 0.582477 0.004682 0.006356\n",
      "0 0.403122 0.584997 0.004682 0.006356\n",
      "0 0.405733 0.589106 0.004682 0.006356\n",
      "0 0.402095 0.590412 0.004682 0.006356\n",
      "0 0.412833 0.580947 0.005902 0.005554\n",
      "0 0.417504 0.589572 0.005902 0.006795\n",
      "0 0.420773 0.575752 0.005902 0.006795\n",
      "0 0.406948 0.571364 0.005902 0.006795\n",
      "0 0.324797 0.671124 0.003900 0.005746\n",
      "0 0.307475 0.680886 0.004173 0.006415\n",
      "0 0.307384 0.673229 0.004173 0.006415\n",
      "0 0.304114 0.669398 0.004173 0.006415\n",
      "0 0.304864 0.677338 0.004173 0.006415\n",
      "0 0.315238 0.712651 0.006592 0.006629\n",
      "0 0.304655 0.684278 0.004173 0.006415\n",
      "0 0.428978 0.614706 0.006196 0.006961\n",
      "0 0.366458 0.571883 0.004922 0.006067\n",
      "0 0.377113 0.577887 0.005163 0.006292\n",
      "0 0.351450 0.575471 0.005276 0.006554\n",
      "0 0.440572 0.590276 0.006196 0.006961\n",
      "0 0.368173 0.565027 0.005399 0.006683\n",
      "0 0.365278 0.578892 0.004682 0.006356\n",
      "0 0.313398 0.706434 0.006592 0.006629\n",
      "0 0.409131 0.560235 0.005902 0.006795\n",
      "0 0.312697 0.590811 0.006463 0.006351\n",
      "0 0.319430 0.592402 0.006501 0.006153\n",
      "0 0.331830 0.595179 0.006816 0.006153\n",
      " \n",
      "\n",
      "The content in <_io.TextIOWrapper name='session_4/annotations\\\\20240618_215539_SN31_QUICKVIEW_VISUAL_1_7_0_SATL-2KM-11N_458_3756.txt' mode='r' encoding='utf-8'> is:\n",
      "0 0.448571 0.642310 0.013346 0.013681\n",
      "0 0.451335 0.838329 0.024334 0.023798\n",
      "0 0.449068 0.760366 0.023729 0.023898\n",
      "0 0.447089 0.606055 0.013724 0.014498\n",
      "0 0.450669 0.706330 0.013368 0.013493\n",
      "0 0.444143 0.564087 0.024301 0.026952\n",
      "0 0.442214 0.475164 0.018679 0.024486\n",
      "0 0.449401 0.674892 0.012231 0.012049\n",
      "0 0.445932 0.517576 0.014373 0.017607\n",
      " \n",
      "\n",
      "The content in <_io.TextIOWrapper name='session_4/annotations\\\\20240617_052859_SN29_QUICKVIEW_VISUAL_1_7_0_SATL-2KM-51N_730_4348.txt' mode='r' encoding='utf-8'> is:\n",
      "0 0.693248 0.306362 0.021493 0.017858\n",
      "0 0.702907 0.327035 0.021989 0.019782\n",
      "0 0.722469 0.367420 0.020490 0.017128\n",
      " \n",
      "\n",
      "The content in <_io.TextIOWrapper name='session_4/annotations\\\\20240617_184443_SN24_QUICKVIEW_VISUAL_1_7_0_SATL-2KM-11N_702_3566.txt' mode='r' encoding='utf-8'> is:\n",
      "0 0.024863 0.070533 0.009219 0.008889\n",
      "0 0.022311 0.128003 0.004622 0.006229\n",
      "0 0.023502 0.148390 0.004616 0.006229\n",
      "0 0.023438 0.141470 0.004616 0.006229\n",
      "0 0.023565 0.134740 0.004616 0.006229\n",
      " \n",
      "\n",
      "The content in <_io.TextIOWrapper name='session_4/annotations\\\\20240617_211350_SN29_QUICKVIEW_VISUAL_1_7_0_SATL-2KM-11N_724_3614.txt' mode='r' encoding='utf-8'> is:\n",
      "0 0.660125 0.018996 0.031201 0.035519\n",
      "0 0.026096 0.296396 0.037051 0.033081\n",
      "0 0.179175 0.378140 0.028764 0.029563\n",
      "0 0.044275 0.342229 0.033276 0.031213\n",
      "0 0.636812 0.175435 0.036275 0.033054\n",
      "0 0.696968 0.011414 0.032219 0.022812\n",
      "0 0.729906 0.095573 0.029321 0.030920\n",
      " \n",
      "\n",
      "The content in <_io.TextIOWrapper name='session_4/annotations\\\\20240616_081345_SN27_QUICKVIEW_VISUAL_1_7_0_SATL-2KM-39N_560_2792.txt' mode='r' encoding='utf-8'> is:\n",
      "0 0.521287 0.775168 0.018994 0.021154\n",
      "0 0.855548 0.764682 0.031322 0.029614\n",
      "0 0.278270 0.413340 0.029419 0.029676\n",
      "0 0.681884 0.485439 0.032145 0.036509\n",
      "0 0.660965 0.683393 0.028491 0.031186\n",
      "0 0.773602 0.034567 0.031798 0.030655\n",
      "0 0.804770 0.104130 0.032090 0.031420\n",
      "0 0.482012 0.801665 0.038510 0.031342\n",
      "0 0.695493 0.699524 0.030659 0.031716\n",
      "0 0.540560 0.784563 0.018943 0.019485\n",
      "0 0.964895 0.897746 0.032613 0.037761\n",
      "0 0.757906 0.007161 0.031700 0.014220\n",
      "0 0.698151 0.993606 0.032754 0.012789\n",
      " \n",
      "\n",
      "The content in <_io.TextIOWrapper name='session_4/annotations\\\\20240616_081345_SN27_QUICKVIEW_VISUAL_1_7_0_SATL-2KM-39N_560_2794.txt' mode='r' encoding='utf-8'> is:\n",
      "0 0.255041 0.062510 0.020043 0.018873\n",
      " \n",
      "\n",
      "The content in <_io.TextIOWrapper name='session_4/annotations\\\\20240616_081345_SN27_QUICKVIEW_VISUAL_1_7_0_SATL-2KM-39N_562_2792.txt' mode='r' encoding='utf-8'> is:\n",
      "0 0.090070 0.792728 0.019711 0.018803\n",
      " \n",
      "\n",
      "The content in <_io.TextIOWrapper name='session_4/annotations\\\\20240616_081345_SN27_QUICKVIEW_VISUAL_1_7_0_SATL-2KM-39N_562_2794.txt' mode='r' encoding='utf-8'> is:\n",
      "0 0.382727 0.408044 0.007516 0.007542\n",
      "0 0.584563 0.932323 0.039849 0.039935\n",
      "0 0.523340 0.576737 0.033483 0.031334\n",
      "0 0.635402 0.679398 0.032759 0.039800\n",
      "0 0.535535 0.612569 0.032484 0.031016\n",
      "0 0.625400 0.915116 0.040227 0.039838\n",
      "0 0.089465 0.523744 0.026760 0.024592\n",
      "0 0.713070 0.762169 0.019303 0.019984\n",
      "0 0.384646 0.400357 0.006809 0.006699\n",
      "0 0.370840 0.406251 0.006496 0.006234\n",
      "0 0.377762 0.403331 0.006452 0.006175\n",
      "0 0.364106 0.409965 0.006895 0.006683\n",
      "0 0.386320 0.384130 0.006668 0.006434\n",
      "0 0.669538 0.793693 0.017954 0.019033\n",
      "0 0.846895 0.891618 0.022797 0.019152\n",
      "0 0.378928 0.387053 0.007381 0.006748\n",
      "0 0.177621 0.837798 0.019552 0.018990\n",
      "0 0.358529 0.395724 0.006820 0.006402\n",
      "0 0.485548 0.471591 0.008558 0.009276\n",
      " \n",
      "\n",
      "The content in <_io.TextIOWrapper name='session_4/annotations\\\\20240616_102144_SN28_QUICKVIEW_VISUAL_1_7_0_SATL-2KM-39N_556_2794.txt' mode='r' encoding='utf-8'> is:\n",
      "0 0.826320 0.790257 0.031258 0.031156\n",
      " \n",
      "\n",
      "The content in <_io.TextIOWrapper name='session_4/annotations\\\\20240616_102144_SN28_QUICKVIEW_VISUAL_1_7_0_SATL-2KM-39N_558_2794.txt' mode='r' encoding='utf-8'> is:\n",
      "0 0.030977 0.301002 0.035994 0.033180\n",
      "0 0.048645 0.346849 0.032754 0.031733\n",
      " \n",
      "\n",
      "The content in <_io.TextIOWrapper name='session_4/annotations\\\\20240616_102144_SN28_QUICKVIEW_VISUAL_1_7_0_SATL-2KM-39N_560_2792.txt' mode='r' encoding='utf-8'> is:\n",
      "0 0.470986 0.165244 0.026435 0.023795\n",
      "0 0.714540 0.043554 0.025745 0.025037\n",
      "0 0.512976 0.136834 0.027493 0.028608\n",
      "0 0.491271 0.423732 0.026912 0.021472\n",
      "0 0.661573 0.837752 0.030299 0.027648\n",
      "0 0.550066 0.499488 0.031058 0.027361\n",
      "0 0.688157 0.908131 0.033784 0.033916\n",
      "0 0.515831 0.790681 0.031098 0.025630\n",
      "0 0.570127 0.138154 0.030132 0.030604\n",
      "0 0.605201 0.986288 0.029643 0.027424\n",
      "0 0.509669 0.341596 0.035164 0.037257\n",
      "0 0.598600 0.863255 0.035543 0.037665\n",
      "0 0.906406 0.587674 0.031627 0.025354\n",
      "0 0.567372 0.873137 0.034687 0.035796\n",
      "0 0.516547 0.728381 0.027102 0.029034\n",
      "0 0.829014 0.136302 0.029264 0.031409\n",
      "0 0.827982 0.075610 0.029247 0.028850\n",
      "0 0.536340 0.456567 0.039661 0.034871\n",
      "0 0.742861 0.041639 0.029816 0.031167\n",
      "0 0.638899 0.826314 0.026929 0.028097\n",
      "0 0.596446 0.240391 0.029845 0.022530\n",
      "0 0.463608 0.621173 0.015969 0.017343\n",
      "0 0.462668 0.181222 0.021748 0.018522\n",
      "0 0.636863 0.707444 0.017016 0.016452\n",
      "0 0.644250 0.993120 0.024934 0.013761\n",
      "0 0.596032 0.319566 0.031478 0.028045\n",
      "0 0.476403 0.625391 0.016958 0.017671\n",
      "0 0.493143 0.272861 0.021903 0.016751\n",
      "0 0.574813 0.385558 0.014963 0.016337\n",
      "0 0.590972 0.415604 0.018700 0.015647\n",
      "0 0.590733 0.376348 0.030000 0.024094\n",
      "0 0.656803 0.961328 0.019149 0.017654\n",
      "0 0.463758 0.242338 0.023836 0.016901\n",
      "0 0.457447 0.436415 0.024439 0.018166\n",
      "0 0.545831 0.359485 0.028994 0.025204\n",
      "0 0.476038 0.230871 0.021392 0.018166\n",
      "0 0.832570 0.808347 0.017033 0.016843\n",
      "0 0.487300 0.315339 0.023882 0.017993\n",
      "0 0.447444 0.624681 0.017004 0.017378\n",
      "0 0.751164 0.867266 0.022007 0.024261\n",
      "0 0.572461 0.402680 0.018781 0.015802\n",
      "0 0.967619 0.963813 0.021001 0.016872\n",
      "0 0.647177 0.700868 0.019712 0.019080\n",
      "0 0.465147 0.276883 0.017872 0.016297\n",
      "0 0.810446 0.815992 0.021478 0.024876\n",
      "0 0.489014 0.631049 0.017303 0.018074\n",
      "0 0.461906 0.258962 0.024710 0.017441\n",
      "0 0.489241 0.293528 0.024899 0.017614\n",
      "0 0.575541 0.304710 0.038097 0.033272\n",
      "0 0.600290 0.357734 0.029678 0.024934\n",
      "0 0.460469 0.312064 0.023433 0.018459\n",
      "0 0.453278 0.610170 0.016366 0.016429\n",
      "0 0.510842 0.233065 0.029413 0.025888\n",
      "0 0.807913 0.846331 0.021737 0.020725\n",
      "0 0.581337 0.431547 0.039063 0.040782\n",
      "0 0.647188 0.745420 0.028603 0.034462\n",
      "0 0.785923 0.868206 0.021978 0.020288\n",
      "0 0.594911 0.259344 0.030063 0.024462\n",
      "0 0.626259 0.382982 0.024986 0.026722\n",
      "0 0.583056 0.338646 0.039201 0.033347\n",
      "0 0.662760 0.976199 0.022197 0.021127\n",
      "0 0.656806 0.915641 0.026170 0.020460\n",
      "0 0.595555 0.222754 0.030167 0.025290\n",
      "0 0.795152 0.808485 0.021426 0.023594\n",
      "0 0.566524 0.366072 0.028056 0.025808\n",
      "0 0.629813 0.915060 0.025273 0.022231\n",
      "0 0.595934 0.451958 0.033329 0.031840\n",
      "0 0.458051 0.416901 0.025497 0.017895\n",
      "0 0.563962 0.264448 0.037113 0.031748\n",
      "0 0.496921 0.215972 0.031553 0.027274\n",
      "0 0.629425 0.409819 0.022898 0.023364\n",
      "0 0.827401 0.826797 0.021587 0.019988\n",
      "0 0.460052 0.358076 0.025256 0.018729\n",
      "0 0.534597 0.221239 0.037085 0.033542\n",
      "0 0.459787 0.378076 0.024566 0.018085\n",
      "0 0.462907 0.221650 0.017579 0.015710\n",
      "0 0.457628 0.335242 0.025549 0.018304\n",
      "0 0.763531 0.851949 0.022530 0.024784\n",
      "0 0.461360 0.293603 0.024928 0.018177\n",
      "0 0.551075 0.199750 0.025727 0.023214\n",
      "0 0.619008 0.898283 0.025733 0.020937\n",
      "0 0.491463 0.247711 0.030023 0.025428\n",
      "0 0.465966 0.204971 0.025641 0.019097\n",
      "0 0.453709 0.120934 0.023128 0.023226\n",
      "0 0.528422 0.192013 0.025687 0.023669\n",
      "0 0.629704 0.106794 0.026090 0.024641\n",
      "0 0.434336 0.632039 0.016665 0.018212\n",
      "0 0.478465 0.188062 0.023979 0.023404\n",
      "0 0.657579 0.106271 0.027142 0.028298\n",
      "0 0.505377 0.307611 0.025451 0.024204\n",
      "0 0.458692 0.397156 0.025135 0.018292\n",
      "0 0.486167 0.400975 0.025860 0.018453\n",
      "0 0.586052 0.283948 0.030322 0.024825\n",
      "0 0.713473 0.885377 0.027947 0.030029\n",
      "0 0.711150 0.801277 0.024175 0.021518\n",
      "0 0.628864 0.435515 0.023468 0.023542\n",
      "0 0.541832 0.252234 0.031323 0.027102\n",
      "0 0.475152 0.444310 0.026590 0.021121\n",
      "0 0.650696 0.898560 0.025290 0.020845\n",
      "0 0.741679 0.105592 0.028189 0.028700\n",
      "0 0.514796 0.048752 0.022783 0.024715\n",
      "0 0.487064 0.379330 0.025975 0.017867\n",
      "0 0.655699 0.075400 0.028292 0.028131\n",
      "0 0.455802 0.143154 0.023968 0.024629\n",
      "0 0.625957 0.279077 0.026429 0.026021\n",
      "0 0.671173 0.944238 0.019735 0.019264\n",
      "0 0.770184 0.882105 0.023669 0.023818\n",
      "0 0.782637 0.832527 0.028907 0.030759\n",
      "0 0.713884 0.077447 0.027815 0.027982\n",
      "0 0.565753 0.231461 0.037683 0.033755\n",
      "0 0.538376 0.305296 0.037867 0.033341\n",
      "0 0.685213 0.132841 0.027412 0.027821\n",
      "0 0.548905 0.174445 0.031058 0.025808\n",
      "0 0.641961 0.779994 0.032731 0.034480\n",
      "0 0.800362 0.040966 0.028465 0.029580\n",
      "0 0.741990 0.074025 0.028741 0.028706\n",
      "0 0.545302 0.337346 0.037527 0.029586\n",
      "0 0.627783 0.077018 0.027205 0.028436\n",
      "0 0.477993 0.471110 0.026981 0.021541\n",
      "0 0.629011 0.464488 0.023186 0.023640\n",
      "0 0.570196 0.463269 0.036711 0.033864\n",
      "0 0.596432 0.396763 0.025825 0.021783\n",
      "0 0.782720 0.788278 0.025509 0.020960\n",
      "0 0.586435 0.757240 0.037872 0.036377\n",
      "0 0.713332 0.139459 0.025147 0.024899\n",
      "0 0.627982 0.045920 0.027407 0.028815\n",
      "0 0.513982 0.077154 0.023237 0.024209\n",
      "0 0.504589 0.186164 0.027338 0.026245\n",
      "0 0.686072 0.070003 0.023255 0.024422\n",
      "0 0.521297 0.280745 0.040270 0.033864\n",
      "0 0.771409 0.047317 0.027855 0.028689\n",
      "0 0.571668 0.046671 0.027579 0.028350\n",
      "0 0.458686 0.043623 0.022628 0.024485\n",
      "0 0.656210 0.045380 0.028499 0.028482\n",
      "0 0.657522 0.134310 0.027257 0.028505\n",
      "0 0.683514 0.800664 0.029431 0.024537\n",
      "0 0.770995 0.078229 0.028856 0.030086\n",
      "0 0.543511 0.067294 0.029241 0.030610\n",
      "0 0.732665 0.859454 0.032266 0.033019\n",
      "0 0.594468 0.494155 0.035480 0.031725\n",
      "0 0.541633 0.134339 0.029350 0.031150\n",
      "0 0.607516 0.540957 0.031420 0.027309\n",
      "0 0.542536 0.099888 0.030109 0.030460\n",
      "0 0.485173 0.078781 0.023053 0.024186\n",
      "0 0.628390 0.139425 0.028614 0.028994\n",
      "0 0.686067 0.041452 0.022507 0.024986\n",
      "0 0.549270 0.420026 0.039183 0.034324\n",
      "0 0.770696 0.140719 0.025762 0.024773\n",
      "0 0.593545 0.904388 0.029057 0.027108\n",
      "0 0.551886 0.384902 0.029971 0.025377\n",
      "0 0.585394 0.727412 0.041564 0.038378\n",
      "0 0.828974 0.044169 0.028574 0.028959\n",
      "0 0.570897 0.104379 0.026038 0.024376\n",
      "0 0.555635 0.843761 0.037665 0.036469\n",
      "0 0.579097 0.521978 0.031144 0.025854\n",
      "0 0.483979 0.136567 0.025854 0.024382\n",
      "0 0.453663 0.070029 0.023370 0.024658\n",
      "0 0.637619 0.957441 0.022588 0.025106\n",
      "0 0.484408 0.106527 0.025791 0.024876\n",
      "0 0.739836 0.136072 0.027125 0.028729\n",
      "0 0.458562 0.096567 0.022749 0.023933\n",
      "0 0.685773 0.101182 0.029155 0.030253\n",
      "0 0.571190 0.074940 0.026993 0.028304\n",
      "0 0.484928 0.051139 0.028568 0.029074\n",
      "0 0.806383 0.788953 0.022220 0.023496\n",
      "0 0.770618 0.110621 0.027309 0.028534\n",
      "0 0.798884 0.139169 0.027694 0.028528\n",
      "0 0.828318 0.104399 0.027125 0.027476\n",
      "0 0.513709 0.105178 0.025785 0.024238\n",
      "0 0.800009 0.106412 0.028010 0.028580\n",
      "0 0.714471 0.108355 0.028999 0.029868\n",
      "0 0.543117 0.039359 0.023220 0.025331\n",
      "0 0.800595 0.072576 0.028976 0.030707\n",
      " \n",
      "\n",
      "The content in <_io.TextIOWrapper name='session_4/annotations\\\\20240616_213047_SN30_QUICKVIEW_VISUAL_1_7_0_SATL-2KM-11N_464_3828.txt' mode='r' encoding='utf-8'> is:\n",
      "0 0.594408 0.884370 0.031760 0.030972\n",
      "0 0.687723 0.949678 0.027947 0.029799\n",
      "0 0.600276 0.954356 0.027234 0.028102\n",
      "0 0.627165 0.883485 0.031501 0.031294\n",
      "0 0.801765 0.955184 0.022668 0.024779\n",
      "0 0.695158 0.816449 0.022979 0.025089\n",
      "0 0.694994 0.780012 0.028390 0.029442\n",
      "0 0.491668 0.919528 0.027855 0.028695\n",
      "0 0.560302 0.882269 0.022927 0.025101\n",
      "0 0.660759 0.882654 0.028396 0.028620\n",
      "0 0.758928 0.923542 0.034566 0.033272\n",
      "0 0.514672 0.984140 0.026998 0.029155\n",
      "0 0.829416 0.953942 0.027102 0.028309\n",
      "0 0.629692 0.983329 0.027332 0.029327\n",
      "0 0.772056 0.983577 0.027723 0.028913\n",
      "0 0.829158 0.984405 0.027274 0.028936\n",
      "0 0.486512 0.950420 0.025733 0.025129\n",
      "0 0.773036 0.953873 0.029270 0.029873\n",
      "0 0.598554 0.982930 0.022984 0.025929\n",
      "0 0.559652 0.914738 0.030161 0.030880\n",
      "0 0.485339 0.979149 0.025653 0.025428\n",
      "0 0.457815 0.946783 0.027338 0.029402\n",
      "0 0.457956 0.976774 0.023019 0.025762\n",
      "0 0.658223 0.981366 0.029028 0.030495\n",
      "0 0.727775 0.815940 0.028787 0.028810\n",
      "0 0.543537 0.949448 0.029753 0.031317\n",
      "0 0.594264 0.822415 0.029781 0.030500\n",
      "0 0.760595 0.883933 0.035566 0.032651\n",
      "0 0.473399 0.779856 0.036492 0.036262\n",
      "0 0.693956 0.886783 0.030753 0.030771\n",
      "0 0.571898 0.980098 0.029626 0.030627\n",
      "0 0.470069 0.812867 0.028120 0.029402\n",
      "0 0.572087 0.950175 0.023163 0.025814\n",
      "0 0.525486 0.917869 0.031271 0.030460\n",
      "0 0.526705 0.882441 0.030834 0.031254\n",
      "0 0.387234 0.670538 0.033168 0.028608\n",
      "0 0.528125 0.816535 0.030086 0.032139\n",
      "0 0.560466 0.813836 0.030052 0.031685\n",
      "0 0.594704 0.785690 0.036274 0.038580\n",
      "0 0.527648 0.783401 0.029822 0.031944\n",
      "0 0.593692 0.916857 0.030293 0.030782\n",
      "0 0.761236 0.782559 0.029304 0.030995\n",
      "0 0.609465 0.846426 0.027878 0.025779\n",
      "0 0.384290 0.584284 0.015653 0.015469\n",
      "0 0.743082 0.953341 0.027533 0.029132\n",
      "0 0.636412 0.847231 0.028166 0.025848\n",
      "0 0.663554 0.847234 0.029327 0.025842\n",
      "0 0.581070 0.846386 0.029051 0.026113\n",
      "0 0.493548 0.878097 0.028798 0.029166\n",
      "0 0.742720 0.983286 0.028488 0.030782\n",
      "0 0.714712 0.982892 0.027654 0.029224\n",
      "0 0.727266 0.882513 0.028079 0.028821\n",
      "0 0.716173 0.951354 0.029229 0.030541\n",
      "0 0.693424 0.917519 0.022651 0.024687\n",
      "0 0.661512 0.784273 0.035940 0.037435\n",
      "0 0.561599 0.779431 0.030270 0.031673\n",
      "0 0.460423 0.875868 0.029793 0.030840\n",
      "0 0.628022 0.779905 0.034756 0.034106\n",
      "0 0.627872 0.814482 0.030305 0.031380\n",
      "0 0.761245 0.816737 0.030127 0.031380\n",
      "0 0.660454 0.914428 0.030845 0.030880\n",
      "0 0.459741 0.910285 0.030673 0.030380\n",
      "0 0.660564 0.816990 0.029051 0.029367\n",
      "0 0.691673 0.848364 0.027533 0.024480\n",
      "0 0.727973 0.784991 0.027769 0.028281\n",
      "0 0.543545 0.981978 0.027136 0.029511\n",
      "0 0.498068 0.799678 0.029477 0.031685\n",
      "0 0.687059 0.981509 0.027274 0.028988\n",
      "0 0.630012 0.952938 0.027292 0.028373\n",
      "0 0.827683 0.920667 0.028649 0.028821\n",
      "0 0.657881 0.948971 0.027999 0.027970\n",
      "0 0.726397 0.917389 0.034980 0.036481\n",
      "0 0.801343 0.983470 0.022421 0.024503\n",
      "0 0.626262 0.916282 0.030247 0.030840\n",
      "0 0.387087 0.607648 0.030391 0.029983\n",
      "0 0.387315 0.637938 0.031397 0.027815\n",
      "0 0.514618 0.951754 0.027223 0.028603\n",
      " \n",
      "\n",
      "The content in <_io.TextIOWrapper name='session_4/annotations\\\\20240616_213047_SN30_QUICKVIEW_VISUAL_1_7_0_SATL-2KM-11N_464_3830.txt' mode='r' encoding='utf-8'> is:\n",
      "0 0.085822 0.042835 0.029574 0.031489\n",
      "0 0.076452 0.086248 0.021771 0.019327\n",
      "0 0.021317 0.065894 0.021426 0.025141\n",
      "0 0.021599 0.036090 0.022634 0.025808\n",
      "0 0.154773 0.021127 0.018286 0.021484\n",
      "0 0.048554 0.042361 0.028804 0.031162\n",
      "0 0.159244 0.038965 0.008482 0.008327\n",
      "0 0.068174 0.070391 0.018511 0.016573\n",
      "0 0.051878 0.070788 0.016970 0.015825\n",
      "0 0.037938 0.070463 0.015371 0.015819\n",
      "0 0.095193 0.118082 0.020943 0.027090\n",
      " \n",
      "\n",
      "The content in <_io.TextIOWrapper name='session_4/annotations\\\\20240616_213047_SN30_QUICKVIEW_VISUAL_1_7_0_SATL-2KM-11N_466_3826.txt' mode='r' encoding='utf-8'> is:\n",
      "0 0.332355 0.643258 0.016498 0.015026\n",
      "0 0.340328 0.604603 0.017044 0.015693\n",
      "0 0.272099 0.642151 0.033790 0.028269\n",
      "0 0.345871 0.626740 0.014123 0.016193\n",
      "0 0.313491 0.661035 0.018505 0.016090\n",
      " \n",
      "\n",
      "The content in <_io.TextIOWrapper name='session_4/annotations\\\\20240616_213047_SN30_QUICKVIEW_VISUAL_1_7_0_SATL-2KM-11N_466_3828.txt' mode='r' encoding='utf-8'> is:\n",
      "0 0.176735 0.484678 0.016650 0.016376\n",
      "0 0.167254 0.469353 0.016558 0.013214\n",
      "0 0.195405 0.513991 0.016952 0.015311\n",
      " \n",
      "\n",
      "The content in <_io.TextIOWrapper name='session_4/annotations\\\\20240616_213053_SN30_QUICKVIEW_VISUAL_1_7_0_SATL-2KM-11N_460_3792.txt' mode='r' encoding='utf-8'> is:\n",
      "0 0.367046 0.817850 0.007340 0.007044\n",
      "0 0.385036 0.822058 0.006489 0.006467\n",
      "0 0.373956 0.812844 0.007340 0.007044\n",
      " \n",
      "\n",
      "The content in <_io.TextIOWrapper name='session_4/annotations\\\\20240615_173631_SN33_QUICKVIEW_VISUAL_1_7_0_SATL-2KM-11N_546_3742.txt' mode='r' encoding='utf-8'> is:\n",
      "0 0.238861 0.445327 0.014609 0.014538\n",
      "0 0.232101 0.430998 0.014609 0.014538\n",
      "0 0.252357 0.473028 0.014648 0.014098\n",
      " \n",
      "\n",
      "The content in <_io.TextIOWrapper name='session_4/annotations\\\\20240614_221436_SN31_QUICKVIEW_VISUAL_1_7_0_SATL-2KM-10N_558_4184.txt' mode='r' encoding='utf-8'> is:\n",
      "0 0.987104 0.444978 0.011216 0.013121\n",
      "0 0.971578 0.448569 0.013312 0.013305\n",
      " \n",
      "\n",
      "The content in <_io.TextIOWrapper name='session_4/annotations\\\\20240613_053340_SN29_QUICKVIEW_VISUAL_1_7_0_SATL-2KM-51N_728_4342.txt' mode='r' encoding='utf-8'> is:\n",
      "0 0.206903 0.858313 0.021258 0.020567\n",
      "0 0.025872 0.491685 0.025859 0.023985\n",
      "0 0.054447 0.493666 0.007705 0.006944\n",
      "0 0.067929 0.495073 0.020783 0.025848\n",
      "0 0.239576 0.942597 0.015459 0.014060\n",
      "0 0.101474 0.483294 0.014050 0.015054\n",
      "0 0.218221 0.896771 0.023656 0.018898\n",
      "0 0.225653 0.910910 0.018747 0.018602\n",
      "0 0.211617 0.878332 0.024433 0.019179\n",
      "0 0.231458 0.929266 0.017883 0.014860\n",
      "0 0.088253 0.490270 0.019498 0.023661\n",
      "0 0.511650 0.845022 0.025524 0.029665\n",
      "0 0.115931 0.483712 0.014228 0.017511\n",
      "0 0.458693 0.533961 0.029082 0.029530\n",
      "0 0.181901 0.788834 0.024341 0.026242\n",
      " \n",
      "\n",
      "The content in <_io.TextIOWrapper name='session_4/annotations\\\\20240613_053340_SN29_QUICKVIEW_VISUAL_1_7_0_SATL-2KM-51N_730_4342.txt' mode='r' encoding='utf-8'> is:\n",
      "0 0.281382 0.141822 0.016356 0.014916\n",
      "0 0.301498 0.158748 0.015156 0.016600\n",
      "0 0.288752 0.147842 0.016360 0.014916\n",
      " \n",
      "\n",
      "The content in <_io.TextIOWrapper name='session_4/annotations\\\\20240613_192217_SN26_QUICKVIEW_VISUAL_1_7_0_SATL-2KM-10N_560_4178.txt' mode='r' encoding='utf-8'> is:\n",
      "0 0.585646 0.711598 0.005147 0.003832\n",
      "0 0.349945 0.712332 0.007065 0.006072\n",
      "0 0.313229 0.711656 0.007065 0.006072\n",
      "0 0.298707 0.710718 0.007065 0.006072\n",
      "0 0.418533 0.631366 0.007065 0.006072\n",
      "0 0.272820 0.630690 0.007065 0.006072\n",
      "0 0.278758 0.630800 0.007065 0.006072\n",
      "0 0.285147 0.630800 0.007065 0.006072\n",
      "0 0.321233 0.630239 0.007065 0.006072\n",
      "0 0.281224 0.712061 0.007065 0.006072\n",
      "0 0.266164 0.710041 0.007065 0.006072\n",
      "0 0.498583 0.632919 0.007249 0.005120\n",
      "0 0.494669 0.629407 0.007065 0.006072\n",
      "0 0.489087 0.630115 0.005773 0.005124\n",
      "0 0.479572 0.632364 0.007065 0.006072\n",
      "0 0.440437 0.628312 0.004333 0.004462\n",
      "0 0.425069 0.631647 0.007065 0.006072\n",
      "0 0.242001 0.630354 0.007065 0.006072\n",
      "0 0.247493 0.629683 0.007065 0.006072\n",
      "0 0.257916 0.626881 0.007065 0.006072\n",
      "0 0.263629 0.626766 0.007065 0.006072\n",
      "0 0.339568 0.630669 0.006247 0.005791\n",
      "0 0.351955 0.630828 0.005713 0.005189\n",
      "0 0.387408 0.737810 0.006739 0.006734\n",
      "0 0.388073 0.631102 0.005658 0.005451\n",
      "0 0.327498 0.630768 0.007065 0.006072\n",
      "0 0.741633 0.738178 0.006440 0.005989\n",
      "0 0.755299 0.742613 0.006063 0.005437\n",
      "0 0.748252 0.743036 0.006605 0.005860\n",
      "0 0.284867 0.708277 0.005225 0.006334\n",
      "0 0.381587 0.709395 0.005391 0.006316\n",
      "0 0.360902 0.627847 0.007065 0.006072\n",
      "0 0.369917 0.630501 0.007065 0.006072\n",
      "0 0.376467 0.630957 0.007065 0.006072\n",
      "0 0.660396 0.732723 0.004508 0.006072\n",
      "0 0.660396 0.726467 0.004508 0.006072\n",
      "0 0.660299 0.720207 0.004508 0.006072\n",
      "0 0.660580 0.714043 0.004508 0.006072\n",
      "0 0.631396 0.716318 0.005147 0.003832\n",
      "0 0.624671 0.715849 0.005147 0.003832\n",
      "0 0.618882 0.715573 0.005143 0.003832\n",
      "0 0.634478 0.712394 0.005147 0.003832\n",
      "0 0.627847 0.711930 0.005143 0.003832\n",
      "0 0.622058 0.712022 0.005147 0.003832\n",
      "0 0.616359 0.712022 0.005147 0.003832\n",
      "0 0.549614 0.722259 0.004508 0.006072\n",
      "0 0.550391 0.728565 0.004508 0.006072\n",
      "0 0.550078 0.734558 0.004508 0.006072\n",
      "0 0.545722 0.736969 0.004508 0.006072\n",
      "0 0.547199 0.730897 0.004508 0.006072\n",
      "0 0.546969 0.725064 0.004508 0.006072\n",
      "0 0.546187 0.719305 0.004508 0.006072\n",
      "0 0.576463 0.715412 0.005143 0.003832\n",
      "0 0.573351 0.711911 0.005147 0.003832\n",
      "0 0.570237 0.715568 0.005147 0.003832\n",
      "0 0.563889 0.715301 0.005524 0.004080\n",
      "0 0.566976 0.712173 0.005147 0.003832\n",
      "0 0.512833 0.711343 0.004508 0.006072\n",
      "0 0.462065 0.710221 0.004508 0.006072\n",
      "0 0.457810 0.713809 0.004508 0.006072\n",
      "0 0.446283 0.709963 0.004508 0.006072\n",
      "0 0.441711 0.712787 0.004508 0.006072\n",
      "0 0.425170 0.712787 0.004508 0.006072\n",
      "0 0.410377 0.711711 0.004508 0.006072\n",
      "0 0.393790 0.711978 0.004508 0.006072\n",
      " \n",
      "\n",
      "The content in <_io.TextIOWrapper name='session_4/annotations\\\\20240613_214203_SN43_QUICKVIEW_VISUAL_1_7_0_SATL-2KM-11N_384_3750.txt' mode='r' encoding='utf-8'> is:\n",
      "0 0.819163 0.880732 0.006296 0.006437\n",
      "0 0.824218 0.883195 0.005607 0.006273\n",
      "0 0.801296 0.869165 0.006195 0.006156\n",
      "0 0.810148 0.875432 0.005246 0.005795\n",
      "0 0.828476 0.886116 0.005930 0.006326\n",
      "0 0.806471 0.872558 0.005246 0.005795\n",
      "0 0.815241 0.878025 0.005575 0.005944\n",
      " \n",
      "\n",
      "The content in <_io.TextIOWrapper name='session_4/annotations\\\\20240612_053829_SN28_QUICKVIEW_VISUAL_1_7_0_SATL-2KM-51N_686_4422.txt' mode='r' encoding='utf-8'> is:\n",
      "0 0.452313 0.311033 0.005845 0.006455\n",
      "0 0.754099 0.461781 0.004584 0.004674\n",
      "0 0.758323 0.465072 0.004584 0.004674\n",
      "0 0.824152 0.389989 0.004584 0.004674\n",
      "0 0.749589 0.458119 0.004584 0.004674\n",
      "0 0.759542 0.457742 0.004584 0.004674\n",
      "0 0.754661 0.453704 0.004584 0.004674\n",
      "0 0.762456 0.468548 0.004584 0.004674\n",
      "0 0.799187 0.420922 0.004584 0.004674\n",
      "0 0.816940 0.398755 0.004584 0.004674\n",
      "0 0.820882 0.393869 0.004584 0.004674\n",
      "0 0.827931 0.385792 0.004584 0.004674\n",
      "0 0.457999 0.280919 0.006089 0.006439\n",
      "0 0.455742 0.292642 0.006089 0.006439\n",
      "0 0.803129 0.416131 0.004584 0.004674\n",
      "0 0.806791 0.411622 0.004584 0.004674\n",
      "0 0.810268 0.407303 0.004584 0.004674\n",
      "0 0.813272 0.402793 0.004584 0.004674\n",
      "0 0.454862 0.298376 0.006089 0.006439\n",
      "0 0.448786 0.327636 0.006020 0.006423\n",
      "0 0.456900 0.286879 0.005776 0.006412\n",
      "0 0.447366 0.334608 0.006328 0.006598\n",
      "0 0.450909 0.316985 0.005729 0.006222\n",
      "0 0.795429 0.425994 0.004584 0.004674\n",
      "0 0.791481 0.430313 0.004584 0.004674\n",
      "0 0.788196 0.434918 0.004584 0.004674\n",
      "0 0.784815 0.439894 0.004584 0.004674\n",
      "0 0.780586 0.444123 0.004584 0.004674\n",
      "0 0.776733 0.448442 0.004584 0.004674\n",
      "0 0.773728 0.453328 0.004584 0.004674\n",
      "0 0.769409 0.457647 0.004584 0.004674\n",
      " \n",
      "\n",
      "The content in <_io.TextIOWrapper name='session_4/annotations\\\\20240612_053829_SN28_QUICKVIEW_VISUAL_1_7_0_SATL-2KM-51N_688_4420.txt' mode='r' encoding='utf-8'> is:\n",
      "0 0.688805 0.552308 0.026177 0.022789\n",
      "0 0.724138 0.527438 0.025239 0.020986\n",
      "0 0.654377 0.576954 0.024386 0.020635\n",
      " \n",
      "\n",
      "The content in <_io.TextIOWrapper name='session_4/annotations\\\\20240612_185400_SN24_QUICKVIEW_VISUAL_1_7_0_SATL-2KM-11N_574_3714.txt' mode='r' encoding='utf-8'> is:\n",
      "0 0.886640 0.020693 0.007167 0.006007\n",
      "0 0.941867 0.006978 0.005224 0.003902\n",
      "0 0.936988 0.007057 0.007161 0.006007\n",
      "0 0.848378 0.007335 0.016162 0.014634\n",
      "0 0.823148 0.019480 0.011538 0.009897\n",
      "0 0.946659 0.006736 0.007167 0.006007\n",
      "0 0.780866 0.020266 0.014758 0.017907\n",
      " \n",
      "\n",
      "The content in <_io.TextIOWrapper name='session_4/annotations\\\\20240612_185400_SN24_QUICKVIEW_VISUAL_1_7_0_SATL-2KM-11N_576_3720.txt' mode='r' encoding='utf-8'> is:\n",
      "0 0.013131 0.798005 0.007217 0.008202\n",
      "0 0.007686 0.937088 0.011343 0.011211\n",
      "0 0.013590 0.787076 0.007810 0.007930\n",
      "0 0.015971 0.906528 0.008881 0.009352\n",
      "0 0.017843 0.893968 0.011343 0.011289\n",
      " \n",
      "\n",
      "The content in <_io.TextIOWrapper name='session_4/annotations\\\\20240612_185400_SN24_QUICKVIEW_VISUAL_1_7_0_SATL-2KM-11N_578_3722.txt' mode='r' encoding='utf-8'> is:\n",
      "0 0.899848 0.323355 0.023054 0.019798\n",
      "0 0.948432 0.296243 0.022208 0.018864\n",
      "0 0.932366 0.305068 0.023054 0.019798\n",
      " \n",
      "\n",
      "The content in <_io.TextIOWrapper name='session_4/annotations\\\\20240612_185419_SN24_QUICKVIEW_VISUAL_1_7_0_SATL-2KM-11N_554_3610.txt' mode='r' encoding='utf-8'> is:\n",
      " \n",
      "\n",
      "The content in <_io.TextIOWrapper name='session_4/annotations\\\\20240611_025943_SN26_QUICKVIEW_VISUAL_1_7_0_SATL-2KM-51N_748_4364.txt' mode='r' encoding='utf-8'> is:\n",
      "0 0.752291 0.613351 0.004695 0.005376\n",
      "0 0.759791 0.632103 0.006067 0.006546\n",
      "0 0.761671 0.638052 0.006067 0.006546\n",
      "0 0.756036 0.650106 0.006067 0.006546\n",
      "0 0.761854 0.669189 0.007486 0.006997\n",
      "0 0.757968 0.662883 0.006189 0.006696\n",
      "0 0.756393 0.656154 0.006067 0.006546\n",
      "0 0.769683 0.681842 0.006687 0.006739\n",
      "0 0.773734 0.687653 0.006443 0.006518\n",
      "0 0.756107 0.618238 0.004695 0.005376\n",
      "0 0.765893 0.675609 0.007002 0.006837\n",
      "0 0.757686 0.625583 0.004619 0.005451\n",
      " \n",
      "\n",
      "The content in <_io.TextIOWrapper name='session_4/annotations\\\\20240611_025943_SN26_QUICKVIEW_VISUAL_1_7_0_SATL-2KM-51N_748_4366.txt' mode='r' encoding='utf-8'> is:\n",
      "0 0.354514 0.681601 0.005249 0.006624\n",
      "0 0.366001 0.682022 0.005977 0.007099\n",
      "0 0.372218 0.681697 0.005977 0.007099\n",
      " \n",
      "\n",
      "The content in <_io.TextIOWrapper name='session_4/annotations\\\\20240611_215323_SN30_QUICKVIEW_VISUAL_1_7_0_SATL-2KM-10N_702_3948.txt' mode='r' encoding='utf-8'> is:\n",
      "0 0.352530 0.642728 0.005870 0.005340\n",
      "0 0.749593 0.752428 0.006431 0.005719\n",
      "0 0.653425 0.740236 0.005567 0.006311\n",
      "0 0.631751 0.726842 0.005567 0.004668\n",
      "0 0.625721 0.726740 0.005567 0.004668\n",
      "0 0.619793 0.726435 0.005567 0.004664\n",
      "0 0.616931 0.722652 0.005567 0.004664\n",
      "0 0.623371 0.722348 0.005567 0.004668\n",
      "0 0.629094 0.722652 0.005567 0.004664\n",
      "0 0.635329 0.722652 0.005567 0.004664\n",
      "0 0.641360 0.723469 0.005567 0.004668\n",
      "0 0.638396 0.725881 0.005567 0.004668\n",
      "0 0.660986 0.725107 0.005567 0.006796\n",
      "0 0.586471 0.722675 0.004717 0.004139\n",
      "0 0.577345 0.726362 0.006377 0.004579\n",
      "0 0.574079 0.722741 0.006377 0.004584\n",
      "0 0.571239 0.726433 0.006377 0.004579\n",
      "0 0.567986 0.722675 0.006377 0.004584\n",
      "0 0.565062 0.726718 0.007392 0.005425\n",
      "0 0.551139 0.739337 0.004272 0.005421\n",
      "0 0.550714 0.745725 0.004277 0.005425\n",
      "0 0.546711 0.748496 0.004272 0.006880\n",
      "0 0.547733 0.742063 0.004277 0.005425\n",
      "0 0.547817 0.736357 0.004277 0.005425\n",
      "0 0.551308 0.733204 0.004272 0.005421\n",
      "0 0.547308 0.730349 0.004272 0.005425\n",
      "0 0.515107 0.722339 0.005300 0.006529\n",
      "0 0.502370 0.746914 0.005300 0.006529\n",
      "0 0.502259 0.738796 0.005300 0.006529\n",
      "0 0.463028 0.721551 0.005300 0.006529\n",
      "0 0.458182 0.725156 0.005300 0.006529\n",
      "0 0.447025 0.721551 0.005300 0.006529\n",
      "0 0.441951 0.724595 0.005300 0.006529\n",
      "0 0.426589 0.724631 0.005300 0.006529\n",
      "0 0.411044 0.723652 0.005300 0.006529\n",
      "0 0.350434 0.724114 0.005300 0.006529\n",
      "0 0.345454 0.723269 0.005300 0.006529\n",
      "0 0.316900 0.720737 0.005300 0.006529\n",
      "0 0.314737 0.724114 0.005300 0.006529\n",
      "0 0.300176 0.723082 0.005300 0.006529\n",
      "0 0.281956 0.724021 0.005300 0.006529\n",
      "0 0.253963 0.720265 0.005300 0.006529\n",
      "0 0.498883 0.643976 0.004637 0.003547\n",
      "0 0.495425 0.641024 0.004824 0.003845\n",
      "0 0.489308 0.641255 0.005229 0.003738\n",
      "0 0.479915 0.643754 0.005225 0.004793\n",
      "0 0.440850 0.640036 0.004263 0.004308\n",
      "0 0.361560 0.639884 0.006431 0.004077\n",
      "0 0.321411 0.642150 0.005883 0.004263\n",
      "0 0.285247 0.643080 0.005474 0.004272\n",
      "0 0.279564 0.642675 0.005412 0.004370\n",
      "0 0.272988 0.642721 0.005790 0.004277\n",
      "0 0.264068 0.639381 0.005198 0.004548\n",
      "0 0.248344 0.642009 0.005314 0.004544\n",
      "0 0.242283 0.642497 0.006150 0.004014\n",
      "0 0.340020 0.642690 0.006146 0.005630\n",
      "0 0.388349 0.749126 0.006951 0.006787\n",
      "0 0.661070 0.737172 0.005567 0.006796\n",
      "0 0.341168 0.727566 0.006182 0.005563\n",
      "0 0.285861 0.720850 0.005714 0.007014\n",
      "0 0.394688 0.723447 0.005051 0.006226\n",
      "0 0.267083 0.722646 0.005300 0.006529\n",
      "0 0.531898 0.722583 0.006137 0.007472\n",
      "0 0.376698 0.642846 0.006142 0.005327\n",
      "0 0.366558 0.722635 0.005505 0.007192\n",
      "0 0.742601 0.748520 0.006431 0.005719\n",
      "0 0.419486 0.642886 0.005879 0.005381\n",
      "0 0.382514 0.721055 0.005376 0.006978\n",
      "0 0.425701 0.643002 0.006159 0.005149\n",
      "0 0.502466 0.727630 0.004869 0.005630\n",
      "0 0.328091 0.642842 0.007183 0.006342\n",
      "0 0.388852 0.642915 0.005839 0.005465\n",
      " \n",
      "\n",
      "The content in <_io.TextIOWrapper name='session_4/annotations\\\\20240610_191018_SN26_QUICKVIEW_VISUAL_1_7_0_SATL-2KM-11N_384_3750.txt' mode='r' encoding='utf-8'> is:\n",
      " \n",
      "\n",
      "The content in <_io.TextIOWrapper name='session_4/annotations\\\\20240609_191744_SN24_QUICKVIEW_VISUAL_1_7_0_SATL-2KM-10N_564_4194.txt' mode='r' encoding='utf-8'> is:\n",
      " \n",
      "\n",
      "The content in <_io.TextIOWrapper name='session_4/annotations\\\\20240609_191959_SN27_QUICKVIEW_VISUAL_1_7_0_SATL-2KM-11N_702_3540.txt' mode='r' encoding='utf-8'> is:\n",
      " \n",
      "\n",
      "The content in <_io.TextIOWrapper name='session_4/annotations\\\\20240609_214259_SN30_QUICKVIEW_VISUAL_1_7_0_SATL-2KM-11N_262_4052.txt' mode='r' encoding='utf-8'> is:\n",
      "0 0.027157 0.607728 0.006399 0.005687\n",
      "0 0.170073 0.696775 0.008649 0.009265\n",
      "0 0.152066 0.701201 0.007863 0.008315\n",
      "0 0.129768 0.684754 0.007688 0.006444\n",
      "0 0.130158 0.692154 0.007688 0.006444\n",
      "0 0.130938 0.698773 0.007688 0.006444\n",
      "0 0.131131 0.705789 0.007688 0.006444\n",
      "0 0.118177 0.699163 0.005941 0.005676\n",
      "0 0.083451 0.692261 0.005455 0.006230\n",
      "0 0.083180 0.696532 0.005263 0.004675\n",
      "0 0.080141 0.667374 0.005235 0.004992\n",
      "0 0.047171 0.636970 0.005715 0.005540\n",
      "0 0.042459 0.611080 0.005642 0.005766\n",
      "0 0.126637 0.668406 0.007688 0.006444\n",
      " \n",
      "\n",
      "The content in <_io.TextIOWrapper name='session_4/annotations\\\\20240608_214614_SN29_QUICKVIEW_VISUAL_1_7_0_SATL-2KM-11N_248_4068.txt' mode='r' encoding='utf-8'> is:\n",
      "0 0.742351 0.194898 0.017393 0.016994\n",
      "0 0.758163 0.218757 0.015133 0.016220\n",
      "0 0.750932 0.209111 0.013731 0.014804\n",
      " \n",
      "\n",
      "The content in <_io.TextIOWrapper name='session_4/annotations\\\\20240607_200250_SN27_QUICKVIEW_VISUAL_1_7_0_SATL-2KM-10N_554_4172.txt' mode='r' encoding='utf-8'> is:\n",
      "0 0.987989 0.857762 0.022306 0.018116\n",
      " \n",
      "\n",
      "The content in <_io.TextIOWrapper name='session_4/annotations\\\\20240606_180251_SN33_QUICKVIEW_VISUAL_1_7_0_SATL-2KM-10N_556_4180.txt' mode='r' encoding='utf-8'> is:\n",
      "0 0.414136 0.273053 0.005832 0.006961\n",
      "0 0.423064 0.112386 0.005832 0.006961\n",
      "0 0.424128 0.119678 0.005450 0.006163\n",
      "0 0.425160 0.126628 0.005610 0.006722\n",
      "0 0.425114 0.134219 0.006283 0.006956\n",
      "0 0.414336 0.260009 0.005832 0.006961\n",
      "0 0.415499 0.288834 0.005832 0.006961\n",
      "0 0.414917 0.281434 0.005832 0.006961\n",
      " \n",
      "\n",
      "The content in <_io.TextIOWrapper name='session_4/annotations\\\\20240605_212717_SN29_QUICKVIEW_VISUAL_1_7_0_SATL-2KM-11N_718_3608.txt' mode='r' encoding='utf-8'> is:\n",
      "0 0.516913 0.983314 0.014667 0.013294\n",
      "0 0.502507 0.966644 0.014011 0.013479\n",
      " \n",
      "\n",
      "The content in <_io.TextIOWrapper name='session_4/annotations\\\\20240604_214955_SN29_QUICKVIEW_VISUAL_1_7_0_SATL-2KM-10N_594_4136.txt' mode='r' encoding='utf-8'> is:\n",
      "0 0.126059 0.668398 0.007575 0.006861\n",
      "0 0.026088 0.609059 0.007575 0.006861\n",
      "0 0.041670 0.611814 0.007575 0.006861\n",
      "0 0.045894 0.637460 0.007575 0.006861\n",
      "0 0.103192 0.660351 0.007575 0.006861\n",
      "0 0.117634 0.669437 0.007575 0.006861\n",
      "0 0.119221 0.752301 0.006041 0.004661\n",
      "0 0.082136 0.697277 0.004826 0.006861\n",
      "0 0.082723 0.692056 0.004820 0.006861\n",
      "0 0.130147 0.685537 0.004826 0.006861\n",
      "0 0.130212 0.692711 0.004826 0.006861\n",
      "0 0.130015 0.700015 0.004820 0.006861\n",
      "0 0.129726 0.706770 0.004820 0.006861\n",
      "0 0.117799 0.699307 0.007575 0.006861\n",
      " \n",
      "\n",
      "The content in <_io.TextIOWrapper name='session_4/annotations\\\\20240603_215226_SN28_QUICKVIEW_VISUAL_1_6_0_SATL-2KM-11N_248_4068.txt' mode='r' encoding='utf-8'> is:\n",
      "0 0.435319 0.079567 0.010357 0.008812\n",
      "0 0.420989 0.073101 0.010357 0.008812\n",
      "0 0.448748 0.086085 0.010357 0.008812\n",
      " \n",
      "\n",
      "The content in <_io.TextIOWrapper name='session_4/annotations\\\\20240603_215348_SN28_QUICKVIEW_VISUAL_1_6_0_SATL-2KM-11N_346_3786.txt' mode='r' encoding='utf-8'> is:\n",
      "0 0.916715 0.047505 0.005996 0.005235\n",
      "0 0.909408 0.047669 0.005996 0.005235\n",
      "0 0.912979 0.051241 0.005996 0.005235\n",
      "0 0.915606 0.100992 0.006635 0.005517\n",
      "0 0.918233 0.082072 0.006100 0.005282\n",
      "0 0.904645 0.024582 0.006198 0.005404\n",
      "0 0.910519 0.068924 0.006414 0.005141\n",
      "0 0.908379 0.027949 0.006419 0.005268\n",
      "0 0.914605 0.086786 0.005996 0.005235\n",
      "0 0.921259 0.086137 0.005996 0.005235\n",
      "0 0.907303 0.007768 0.006635 0.005395\n",
      "0 0.911252 0.082493 0.006367 0.005117\n",
      "0 0.917667 0.068757 0.006602 0.005465\n",
      "0 0.915258 0.027486 0.005996 0.005235\n",
      "0 0.914483 0.009814 0.006983 0.005710\n",
      " \n",
      "\n",
      "The content in <_io.TextIOWrapper name='session_4/annotations\\\\20240602_215203_SN30_QUICKVIEW_VISUAL_1_6_0_SATL-2KM-10N_712_3948.txt' mode='r' encoding='utf-8'> is:\n",
      "0 0.734201 0.328835 0.006306 0.007021\n",
      "0 0.742460 0.321668 0.005757 0.006692\n",
      "0 0.756281 0.229716 0.005926 0.005559\n",
      "0 0.721520 0.239883 0.005813 0.006259\n",
      "0 0.745338 0.268609 0.010949 0.014511\n",
      "0 0.745724 0.295207 0.007237 0.007058\n",
      "0 0.719476 0.374807 0.005813 0.006259\n",
      "0 0.733578 0.312223 0.005813 0.006259\n",
      "0 0.715266 0.239227 0.005813 0.007166\n",
      "0 0.708503 0.240797 0.005813 0.007599\n",
      "0 0.749023 0.278891 0.007312 0.010827\n",
      "0 0.729469 0.334020 0.006306 0.007016\n",
      "0 0.203273 0.282159 0.014751 0.014967\n",
      "0 0.738433 0.326805 0.005747 0.007011\n",
      "0 0.746715 0.315536 0.006306 0.007021\n",
      "0 0.739051 0.307531 0.006306 0.007016\n",
      "0 0.214159 0.301816 0.006306 0.007016\n",
      "0 0.208313 0.265209 0.006306 0.007016\n",
      " \n",
      "\n",
      "The content in <_io.TextIOWrapper name='session_4/annotations\\\\20240602_215203_SN30_QUICKVIEW_VISUAL_1_6_0_SATL-2KM-10N_714_3948.txt' mode='r' encoding='utf-8'> is:\n",
      "0 0.114091 0.686031 0.006817 0.007926\n",
      "0 0.115933 0.665082 0.007744 0.006736\n",
      "0 0.028341 0.599146 0.005707 0.005369\n",
      "0 0.024439 0.604381 0.005707 0.005369\n",
      "0 0.040152 0.607968 0.005707 0.005369\n",
      "0 0.044256 0.633539 0.005707 0.005369\n",
      "0 0.007878 0.642151 0.005707 0.005375\n",
      "0 0.082061 0.688087 0.005707 0.005375\n",
      "0 0.080421 0.692706 0.005707 0.005375\n",
      "0 0.116171 0.695210 0.005707 0.005369\n",
      "0 0.128378 0.682138 0.005707 0.005375\n",
      "0 0.128927 0.688322 0.005707 0.005369\n",
      "0 0.127982 0.695760 0.005707 0.005369\n",
      "0 0.127591 0.702099 0.005707 0.005369\n",
      "0 0.167415 0.692236 0.005707 0.005375\n",
      "0 0.166945 0.700064 0.005707 0.005375\n",
      "0 0.152537 0.739457 0.005707 0.005369\n",
      "0 0.117524 0.748005 0.005707 0.005369\n",
      "0 0.149232 0.683331 0.007817 0.009176\n",
      "0 0.151662 0.698981 0.006591 0.007883\n",
      "0 0.124244 0.665040 0.007744 0.006736\n",
      " \n",
      "\n",
      "The content in <_io.TextIOWrapper name='session_4/annotations\\\\20240528_191448_SN24_QUICKVIEW_VISUAL_1_6_0_SATL-2KM-11N_248_4068.txt' mode='r' encoding='utf-8'> is:\n",
      "0 0.486313 0.077200 0.015591 0.017246\n",
      "0 0.486613 0.112615 0.015591 0.017246\n",
      " \n",
      "\n",
      "The content in <_io.TextIOWrapper name='session_4/annotations\\\\20240528_191604_SN24_QUICKVIEW_VISUAL_1_6_0_SATL-2KM-11N_344_3836.txt' mode='r' encoding='utf-8'> is:\n",
      "0 0.188715 0.486174 0.020194 0.021027\n",
      "0 0.179018 0.441926 0.020200 0.022653\n",
      "0 0.193937 0.509140 0.018341 0.020366\n",
      " \n",
      "\n",
      "The content in <_io.TextIOWrapper name='session_4/annotations\\\\20240524_213504_SN29_QUICKVIEW_VISUAL_1_6_0_SATL-2KM-11N_378_3724.txt' mode='r' encoding='utf-8'> is:\n",
      "0 0.400979 0.755028 0.019684 0.017447\n",
      "0 0.415350 0.750136 0.019467 0.018196\n",
      "0 0.441315 0.739878 0.020111 0.018468\n",
      " \n",
      "\n",
      "The content in <_io.TextIOWrapper name='session_4/annotations\\\\20240524_213504_SN29_QUICKVIEW_VISUAL_1_6_0_SATL-2KM-11N_380_3724.txt' mode='r' encoding='utf-8'> is:\n",
      "0 0.219443 0.900312 0.013390 0.014612\n",
      "0 0.214323 0.884411 0.013368 0.014772\n",
      "0 0.585540 0.944331 0.025105 0.019506\n",
      "0 0.556435 0.862137 0.024325 0.020042\n",
      "0 0.595143 0.961550 0.019863 0.015213\n",
      "0 0.024989 0.489071 0.026944 0.025437\n",
      "0 0.189266 0.810289 0.026370 0.025388\n",
      "0 0.233309 0.940961 0.025819 0.021201\n",
      "0 0.568504 0.903594 0.022421 0.020775\n",
      "0 0.198060 0.835469 0.025713 0.025232\n",
      "0 0.063835 0.487090 0.008681 0.006588\n",
      "0 0.210015 0.869871 0.015165 0.014643\n",
      "0 0.101632 0.481565 0.015108 0.012971\n",
      "0 0.204939 0.855306 0.016370 0.014297\n",
      "0 0.565380 0.881780 0.028639 0.021790\n",
      "0 0.054768 0.487893 0.007841 0.007618\n",
      " \n",
      "\n",
      "The content in <_io.TextIOWrapper name='session_4/annotations\\\\20240521_052621_SN43_QUICKVIEW_VISUAL_1_6_0_SATL-2KM-51N_730_4342.txt' mode='r' encoding='utf-8'> is:\n",
      "0 0.295257 0.004524 0.013931 0.009047\n",
      " \n",
      "\n",
      "The content in <_io.TextIOWrapper name='session_4/annotations\\\\20240521_101252_SN43_QUICKVIEW_VISUAL_1_6_0_SATL-2KM-39N_556_2792.txt' mode='r' encoding='utf-8'> is:\n",
      "0 0.979464 0.683376 0.032905 0.028752\n",
      "0 0.967318 0.649069 0.030613 0.029022\n",
      " \n",
      "\n",
      "The content in <_io.TextIOWrapper name='session_4/annotations\\\\20240521_101252_SN43_QUICKVIEW_VISUAL_1_6_0_SATL-2KM-39N_558_2796.txt' mode='r' encoding='utf-8'> is:\n",
      "0 0.829339 0.788150 0.005857 0.006103\n",
      "0 0.777874 0.063344 0.019870 0.016526\n",
      "0 0.810717 0.800216 0.005691 0.005626\n",
      "0 0.823306 0.791661 0.005578 0.005707\n",
      "0 0.903201 0.865974 0.014921 0.015972\n",
      "0 0.802188 0.063384 0.020643 0.016805\n",
      "0 0.776919 0.041467 0.021107 0.016625\n",
      "0 0.801190 0.040950 0.020202 0.016535\n",
      "0 0.817258 0.796168 0.005682 0.005747\n",
      "0 0.866302 0.333497 0.015232 0.016418\n",
      "0 0.893695 0.832730 0.012933 0.012876\n",
      "0 0.879602 0.832228 0.011700 0.011665\n",
      "0 0.769229 0.453402 0.012231 0.009109\n",
      "0 0.746026 0.496229 0.007427 0.007462\n",
      "0 0.804298 0.804806 0.006284 0.005986\n",
      "0 0.944276 0.073470 0.016829 0.015482\n",
      "0 0.738659 0.496487 0.007377 0.007601\n",
      "0 0.885749 0.865232 0.008250 0.006341\n",
      "0 0.869064 0.107889 0.007386 0.008470\n",
      "0 0.987521 0.069338 0.006064 0.006085\n",
      "0 0.808905 0.181733 0.008812 0.012070\n",
      "0 0.863911 0.867559 0.006761 0.005198\n",
      "0 0.871235 0.866190 0.006176 0.004910\n",
      "0 0.782674 0.567043 0.008039 0.006877\n",
      "0 0.757533 0.237952 0.011574 0.008317\n",
      "0 0.871287 0.664086 0.009600 0.010621\n",
      "0 0.817587 0.467288 0.011871 0.010158\n",
      "0 0.795576 0.114433 0.020643 0.016805\n",
      "0 0.952503 0.035122 0.007004 0.006085\n",
      "0 0.948668 0.031832 0.006064 0.006085\n",
      "0 0.953599 0.025023 0.006064 0.006085\n",
      "0 0.953756 0.019388 0.006064 0.006085\n",
      "0 0.978435 0.051220 0.006064 0.006085\n",
      "0 0.986383 0.050405 0.006064 0.006085\n",
      "0 0.994008 0.045698 0.006064 0.006085\n",
      "0 0.995956 0.051058 0.006064 0.006085\n",
      "0 0.991251 0.056251 0.006064 0.006085\n",
      "0 0.986059 0.057876 0.006064 0.006085\n",
      "0 0.980216 0.059982 0.006064 0.006085\n",
      "0 0.976752 0.063256 0.006910 0.006791\n",
      "0 0.994265 0.065743 0.006064 0.006085\n",
      "0 0.981687 0.071346 0.006064 0.006085\n",
      "0 0.977368 0.074757 0.006064 0.006085\n",
      "0 0.972753 0.069559 0.006064 0.006085\n",
      "0 0.965146 0.064446 0.006064 0.006085\n",
      "0 0.969793 0.075365 0.006064 0.006787\n",
      "0 0.961642 0.075277 0.006064 0.008042\n",
      "0 0.954750 0.075000 0.006064 0.007966\n",
      "0 0.956203 0.065504 0.006064 0.006085\n",
      "0 0.942785 0.036631 0.008178 0.010176\n",
      "0 0.943590 0.048447 0.011336 0.014536\n",
      "0 0.954334 0.044332 0.014049 0.008186\n",
      "0 0.953684 0.053099 0.008403 0.007502\n",
      "0 0.942542 0.060452 0.010823 0.013029\n",
      "0 0.962346 0.052243 0.017179 0.019815\n",
      "0 0.798066 0.809091 0.005614 0.005797\n",
      " \n",
      "\n",
      "The content in <_io.TextIOWrapper name='session_4/annotations\\\\20240520_194539_SN27_QUICKVIEW_VISUAL_1_5_0_SATL-2KM-10N_638_4280.txt' mode='r' encoding='utf-8'> is:\n",
      "0 0.870807 0.953544 0.015812 0.011751\n",
      "0 0.746109 0.932824 0.017256 0.014046\n",
      "0 0.769708 0.880763 0.015816 0.012903\n",
      "0 0.793716 0.879962 0.015888 0.013380\n",
      " \n",
      "\n",
      "The content in <_io.TextIOWrapper name='session_4/annotations\\\\20240520_194539_SN27_QUICKVIEW_VISUAL_1_5_0_SATL-2KM-10N_638_4282.txt' mode='r' encoding='utf-8'> is:\n",
      "0 0.056669 0.384884 0.024575 0.018994\n",
      "0 0.017953 0.402206 0.024669 0.021150\n",
      " \n",
      "\n",
      "The content in <_io.TextIOWrapper name='session_4/annotations\\\\20240519_184534_SN24_QUICKVIEW_VISUAL_1_5_0_SATL-2KM-11N_658_3700.txt' mode='r' encoding='utf-8'> is:\n",
      "0 0.420311 0.115668 0.005702 0.005881\n",
      "0 0.420942 0.122236 0.005537 0.006490\n",
      "0 0.418952 0.108032 0.006211 0.007173\n",
      "0 0.421074 0.130052 0.006368 0.007273\n",
      "0 0.410996 0.277486 0.006090 0.006855\n",
      "0 0.411222 0.284137 0.006090 0.006855\n",
      "0 0.408264 0.414132 0.006090 0.006855\n",
      "0 0.410435 0.255281 0.006090 0.006855\n",
      " \n",
      "\n",
      "The content in <_io.TextIOWrapper name='session_4/annotations\\\\20240519_191838_SN27_QUICKVIEW_VISUAL_1_5_0_SATL-2KM-11N_718_3608.txt' mode='r' encoding='utf-8'> is:\n",
      "0 0.656251 0.320760 0.015531 0.013640\n",
      " \n",
      "\n",
      "The content in <_io.TextIOWrapper name='session_4/annotations\\\\20240519_214917_SN31_QUICKVIEW_VISUAL_1_5_0_SATL-2KM-11N_500_3598.txt' mode='r' encoding='utf-8'> is:\n",
      "0 0.660586 0.824926 0.018992 0.015052\n",
      "0 0.791240 0.560926 0.006305 0.006365\n",
      "0 0.796311 0.556981 0.006311 0.006365\n",
      "0 0.795278 0.573605 0.006305 0.006360\n",
      "0 0.797439 0.567313 0.006311 0.005428\n",
      "0 0.870049 0.530213 0.006311 0.005428\n",
      "0 0.843185 0.554447 0.006305 0.005428\n",
      "0 0.843937 0.548245 0.006305 0.005428\n",
      "0 0.851826 0.550218 0.006311 0.005428\n",
      "0 0.851262 0.554349 0.006305 0.005428\n",
      "0 0.859153 0.555569 0.006305 0.005428\n",
      "0 0.861313 0.550594 0.006311 0.005428\n",
      "0 0.867888 0.552752 0.006305 0.005428\n",
      "0 0.867327 0.557722 0.006305 0.005428\n",
      "0 0.644008 0.818501 0.018207 0.015183\n",
      "0 0.906755 0.562847 0.007940 0.008507\n",
      "0 0.727240 0.854439 0.016768 0.014796\n",
      "0 0.914959 0.564003 0.006910 0.007842\n",
      "0 0.741542 0.861826 0.017188 0.014888\n",
      "0 0.695063 0.840490 0.018496 0.014670\n",
      "0 0.712063 0.848153 0.017215 0.014638\n",
      "0 0.677076 0.832905 0.018262 0.015978\n",
      " \n",
      "\n",
      "The content in <_io.TextIOWrapper name='session_4/annotations\\\\20240519_214917_SN31_QUICKVIEW_VISUAL_1_5_0_SATL-2KM-11N_500_3600.txt' mode='r' encoding='utf-8'> is:\n",
      "0 0.695183 0.174196 0.006311 0.007891\n",
      "0 0.698916 0.160959 0.006311 0.007891\n",
      "0 0.652924 0.170469 0.005662 0.005798\n",
      "0 0.602741 0.213076 0.005657 0.005804\n",
      "0 0.604907 0.206450 0.005662 0.005804\n",
      "0 0.605311 0.200768 0.005662 0.005798\n",
      "0 0.580842 0.164362 0.011635 0.010937\n",
      "0 0.559000 0.150771 0.012213 0.011166\n",
      "0 0.606801 0.195223 0.005657 0.005804\n",
      "0 0.608965 0.189406 0.005657 0.005798\n",
      "0 0.610183 0.184401 0.005662 0.005804\n",
      "0 0.521719 0.190460 0.006578 0.006992\n",
      "0 0.594490 0.193193 0.005657 0.005798\n",
      "0 0.589891 0.204962 0.005657 0.005804\n",
      "0 0.612210 0.179801 0.005662 0.005804\n",
      "0 0.587728 0.213752 0.005657 0.005804\n",
      "0 0.594357 0.210373 0.005662 0.005804\n",
      "0 0.619245 0.160324 0.005662 0.005804\n",
      "0 0.613970 0.171147 0.005662 0.005804\n",
      "0 0.596790 0.178450 0.005657 0.005804\n",
      "0 0.595302 0.187376 0.005657 0.005804\n",
      "0 0.599496 0.169387 0.005662 0.005804\n",
      "0 0.600929 0.161894 0.005662 0.005804\n",
      "0 0.526997 0.194894 0.005929 0.006409\n",
      "0 0.583698 0.153087 0.010894 0.011210\n",
      "0 0.712787 0.186766 0.006131 0.006730\n",
      "0 0.693074 0.182480 0.006311 0.007891\n",
      " \n",
      "\n",
      "The content in <_io.TextIOWrapper name='session_4/annotations\\\\20240519_214917_SN31_QUICKVIEW_VISUAL_1_5_0_SATL-2KM-11N_500_3602.txt' mode='r' encoding='utf-8'> is:\n",
      " \n",
      "\n",
      "The content in <_io.TextIOWrapper name='session_4/annotations\\\\20240516_190328_SN24_QUICKVIEW_VISUAL_1_5_0_SATL-2KM-11N_262_4052.txt' mode='r' encoding='utf-8'> is:\n",
      "0 0.890976 0.362076 0.008265 0.008055\n",
      " \n",
      "\n",
      "The content in <_io.TextIOWrapper name='session_4/annotations\\\\20240516_211630_SN28_QUICKVIEW_VISUAL_1_5_0_SATL-2KM-11N_716_3848.txt' mode='r' encoding='utf-8'> is:\n",
      "0 0.567771 0.903019 0.022333 0.021168\n",
      "0 0.100153 0.480360 0.015173 0.012928\n",
      "0 0.219511 0.900130 0.013589 0.015235\n",
      "0 0.204796 0.854838 0.016433 0.014918\n",
      "0 0.585131 0.944045 0.024611 0.019883\n",
      "0 0.209779 0.869566 0.015571 0.014618\n",
      "0 0.556718 0.861245 0.025367 0.019920\n",
      "0 0.025066 0.487612 0.025904 0.024629\n",
      "0 0.599996 0.977203 0.018583 0.014969\n",
      "0 0.189790 0.810015 0.024283 0.025119\n",
      "0 0.576404 0.924186 0.024118 0.021785\n",
      "0 0.233335 0.940239 0.024976 0.020208\n",
      "0 0.197879 0.834801 0.025046 0.025068\n",
      "0 0.063729 0.485988 0.008598 0.006681\n",
      "0 0.054761 0.486581 0.007455 0.007627\n",
      "0 0.564971 0.881504 0.028299 0.021877\n",
      "0 0.214237 0.884613 0.014140 0.014892\n",
      " \n",
      "\n",
      "The content in <_io.TextIOWrapper name='session_4/annotations\\\\20240514_052716_SN43_QUICKVIEW_VISUAL_1_5_0_SATL-2KM-51N_730_4342.txt' mode='r' encoding='utf-8'> is:\n",
      "0 0.729543 0.629107 0.011376 0.011361\n",
      "0 0.762543 0.595360 0.013588 0.012520\n",
      "0 0.778235 0.578895 0.013588 0.012520\n",
      " \n",
      "\n",
      "The content in <_io.TextIOWrapper name='session_4/annotations\\\\20240513_212022_SN29_QUICKVIEW_VISUAL_1_5_0_SATL-2KM-11N_630_3742.txt' mode='r' encoding='utf-8'> is:\n",
      "0 0.422065 0.129851 0.006320 0.006947\n",
      "0 0.420067 0.107948 0.006231 0.007049\n",
      "0 0.421947 0.122214 0.005434 0.006529\n",
      "0 0.421373 0.115387 0.005514 0.006012\n",
      "0 0.412203 0.283692 0.006320 0.006947\n",
      "0 0.411811 0.276291 0.006320 0.006947\n",
      "0 0.411032 0.255449 0.006320 0.006947\n",
      " \n",
      "\n",
      "The content in <_io.TextIOWrapper name='session_4/annotations\\\\20240510_191908_SN27_QUICKVIEW_VISUAL_1_5_0_SATL-2KM-11N_718_3608.txt' mode='r' encoding='utf-8'> is:\n",
      "0 0.349212 0.805758 0.020252 0.018294\n",
      "0 0.332196 0.759350 0.020252 0.018294\n",
      "0 0.324075 0.735866 0.019761 0.018573\n",
      " \n",
      "\n",
      "The content in <_io.TextIOWrapper name='session_4/annotations\\\\20240510_191914_SN27_QUICKVIEW_VISUAL_1_5_0_SATL-2KM-11N_712_3566.txt' mode='r' encoding='utf-8'> is:\n",
      "0 0.695167 0.435086 0.017563 0.018436\n",
      "0 0.685242 0.423500 0.017563 0.018436\n",
      "0 0.679235 0.418307 0.017563 0.018436\n",
      " \n",
      "\n",
      "The content in <_io.TextIOWrapper name='session_4/annotations\\\\20240509_193206_SN26_QUICKVIEW_VISUAL_1_5_0_SATL-2KM-10N_562_4196.txt' mode='r' encoding='utf-8'> is:\n",
      "0 0.400587 0.379087 0.024487 0.020871\n",
      "0 0.456663 0.333487 0.024300 0.019968\n",
      "0 0.437315 0.348900 0.024300 0.019968\n",
      " \n",
      "\n",
      "The content in <_io.TextIOWrapper name='session_4/annotations\\\\20240509_212336_SN29_QUICKVIEW_VISUAL_1_5_0_SATL-2KM-11N_706_3778.txt' mode='r' encoding='utf-8'> is:\n",
      "0 0.973811 0.885882 0.004616 0.005388\n",
      "0 0.992451 0.884042 0.004616 0.005388\n",
      "0 0.985943 0.873683 0.004847 0.005342\n",
      "0 0.979826 0.876319 0.006749 0.005388\n",
      " \n",
      "\n",
      "The content in <_io.TextIOWrapper name='session_4/annotations\\\\20240508_194502_SN27_QUICKVIEW_VISUAL_1_5_0_SATL-2KM-11N_262_4022.txt' mode='r' encoding='utf-8'> is:\n",
      "0 0.049488 0.976644 0.009080 0.006896\n",
      " \n",
      "\n",
      "The content in <_io.TextIOWrapper name='session_4/annotations\\\\20240508_194502_SN27_QUICKVIEW_VISUAL_1_5_0_SATL-2KM-11N_264_4022.txt' mode='r' encoding='utf-8'> is:\n",
      "0 0.408906 0.291434 0.006625 0.007236\n",
      "0 0.416782 0.115103 0.006479 0.007163\n",
      "0 0.418949 0.136980 0.006625 0.007236\n",
      "0 0.418050 0.122457 0.006144 0.006083\n",
      "0 0.418828 0.129355 0.006410 0.006870\n",
      "0 0.408231 0.283588 0.006625 0.007236\n",
      "0 0.407960 0.262083 0.006625 0.007236\n",
      " \n",
      "\n",
      "The content in <_io.TextIOWrapper name='session_4/annotations\\\\20240507_191326_SN27_QUICKVIEW_VISUAL_1_5_0_SATL-2KM-11N_718_3608.txt' mode='r' encoding='utf-8'> is:\n",
      "0 0.629058 0.898933 0.015435 0.014771\n",
      "0 0.634640 0.902294 0.015435 0.014771\n",
      "0 0.642106 0.906191 0.015431 0.014771\n",
      " \n",
      "\n",
      "The content in <_io.TextIOWrapper name='session_4/annotations\\\\20240506_192008_SN26_QUICKVIEW_VISUAL_1_5_0_SATL-2KM-10N_562_4178.txt' mode='r' encoding='utf-8'> is:\n",
      "0 0.284850 0.631821 0.006655 0.005099\n",
      "0 0.297564 0.631280 0.006655 0.005103\n",
      "0 0.360192 0.629251 0.006655 0.005103\n",
      "0 0.369253 0.631956 0.006655 0.005103\n",
      "0 0.375612 0.632092 0.006655 0.005099\n",
      "0 0.381970 0.631956 0.006655 0.005103\n",
      "0 0.388597 0.631821 0.006655 0.005099\n",
      "0 0.419168 0.632092 0.006655 0.005099\n",
      "0 0.439998 0.629658 0.006655 0.005099\n",
      "0 0.480043 0.633056 0.006655 0.005099\n",
      "0 0.488682 0.630427 0.006655 0.005099\n",
      "0 0.494599 0.629864 0.006655 0.005099\n",
      "0 0.498358 0.633151 0.006655 0.005103\n",
      "0 0.253422 0.709232 0.005184 0.005099\n",
      "0 0.266671 0.711035 0.005184 0.005099\n",
      "0 0.280986 0.712839 0.005180 0.005103\n",
      "0 0.298345 0.712049 0.005180 0.005103\n",
      "0 0.313111 0.713177 0.005184 0.005099\n",
      "0 0.316944 0.709682 0.005180 0.005099\n",
      "0 0.332163 0.714303 0.005184 0.005099\n",
      "0 0.345348 0.713068 0.005180 0.006914\n",
      "0 0.350196 0.713965 0.005180 0.006910\n",
      "0 0.361019 0.712951 0.005180 0.006914\n",
      "0 0.366428 0.712951 0.005184 0.006914\n",
      "0 0.410535 0.712422 0.005184 0.006910\n",
      "0 0.425640 0.713775 0.005180 0.006910\n",
      "0 0.441760 0.713775 0.005180 0.006910\n",
      "0 0.445816 0.710393 0.005184 0.006910\n",
      "0 0.457426 0.714226 0.005180 0.006914\n",
      "0 0.501725 0.723580 0.005184 0.006910\n",
      "0 0.501614 0.735190 0.005180 0.006914\n",
      "0 0.502290 0.729330 0.005180 0.006914\n",
      "0 0.514802 0.712533 0.005180 0.006914\n",
      "0 0.546363 0.719411 0.005184 0.006914\n",
      "0 0.546363 0.725610 0.005184 0.006910\n",
      "0 0.546476 0.732149 0.005184 0.006914\n",
      "0 0.545913 0.738009 0.005184 0.006914\n",
      "0 0.537458 0.739587 0.005180 0.006910\n",
      "0 0.550308 0.723129 0.005184 0.006914\n",
      "0 0.550308 0.729216 0.005184 0.006914\n",
      "0 0.550535 0.735417 0.005184 0.006914\n",
      "0 0.567592 0.712110 0.006225 0.004293\n",
      "0 0.564170 0.715954 0.006225 0.004293\n",
      "0 0.570371 0.716047 0.006225 0.004293\n",
      "0 0.573469 0.711916 0.006225 0.004293\n",
      "0 0.576474 0.715577 0.006225 0.004293\n",
      "0 0.585962 0.712195 0.006229 0.004293\n",
      "0 0.617242 0.712479 0.006229 0.004293\n",
      "0 0.622126 0.712386 0.006229 0.004293\n",
      "0 0.627576 0.712665 0.006225 0.004293\n",
      "0 0.633680 0.712386 0.006225 0.004293\n",
      "0 0.640820 0.712665 0.006225 0.004293\n",
      "0 0.638471 0.715577 0.006225 0.004293\n",
      "0 0.631896 0.716517 0.006229 0.004293\n",
      "0 0.625413 0.716047 0.006225 0.004293\n",
      "0 0.619496 0.715954 0.006225 0.004293\n",
      "0 0.650310 0.703503 0.005277 0.006845\n",
      "0 0.729492 0.736339 0.006225 0.004293\n",
      "0 0.755512 0.742912 0.006229 0.004293\n",
      "0 0.763779 0.743759 0.006229 0.004293\n",
      "0 0.339949 0.631887 0.006906 0.005314\n",
      "0 0.352284 0.631891 0.006691 0.005233\n",
      "0 0.327473 0.631926 0.008133 0.006314\n",
      "0 0.531495 0.712139 0.006853 0.007355\n",
      "0 0.241906 0.631424 0.007181 0.005520\n",
      "0 0.394151 0.712623 0.005419 0.006444\n",
      "0 0.230869 0.348396 0.006225 0.004293\n",
      "0 0.382096 0.710324 0.005448 0.006480\n",
      "0 0.247647 0.630885 0.006772 0.004168\n",
      "0 0.264018 0.628576 0.008133 0.006314\n",
      "0 0.273019 0.631756 0.006655 0.005099\n",
      "0 0.278491 0.631821 0.006655 0.005099\n",
      " \n",
      "\n",
      "The content in <_io.TextIOWrapper name='session_4/annotations\\\\20240506_213507_SN43_QUICKVIEW_VISUAL_1_5_0_SATL-2KM-11N_384_3750.txt' mode='r' encoding='utf-8'> is:\n",
      "0 0.306212 0.992907 0.018559 0.014186\n",
      "0 0.347808 0.989966 0.018011 0.018362\n",
      "0 0.333785 0.990503 0.018011 0.018362\n",
      " \n",
      "\n",
      "The content in <_io.TextIOWrapper name='session_4/annotations\\\\20240503_214759_SN28_QUICKVIEW_VISUAL_1_5_0_SATL-2KM-11N_376_3724.txt' mode='r' encoding='utf-8'> is:\n",
      "0 0.188245 0.299269 0.023250 0.018768\n",
      "0 0.175395 0.303320 0.023250 0.018768\n",
      "0 0.210099 0.290580 0.023671 0.020151\n",
      " \n",
      "\n",
      "The content in <_io.TextIOWrapper name='session_4/annotations\\\\20240428_191026_SN24_QUICKVIEW_VISUAL_1_5_0_SATL-2KM-11N_380_3722.txt' mode='r' encoding='utf-8'> is:\n",
      "0 0.402295 0.160259 0.005975 0.005423\n",
      "0 0.455982 0.099097 0.006422 0.005793\n",
      "0 0.472648 0.100246 0.005712 0.005601\n",
      "0 0.358404 0.154771 0.005971 0.004960\n",
      "0 0.372153 0.154928 0.006260 0.004858\n",
      "0 0.438071 0.161634 0.005797 0.005470\n",
      "0 0.495888 0.114482 0.005937 0.005342\n",
      "0 0.478549 0.103653 0.005954 0.005538\n",
      "0 0.512966 0.059431 0.006417 0.006060\n",
      "0 0.465119 0.134877 0.005682 0.005521\n",
      "0 0.378370 0.138819 0.006099 0.005363\n",
      "0 0.468908 0.159486 0.006137 0.005805\n",
      "0 0.373908 0.126570 0.006209 0.005287\n",
      "0 0.476549 0.163827 0.006596 0.006048\n",
      "0 0.356020 0.277401 0.006422 0.005793\n",
      "0 0.365208 0.154870 0.005937 0.004479\n",
      "0 0.356736 0.174779 0.006953 0.005504\n",
      "0 0.486428 0.068498 0.006209 0.005657\n",
      "0 0.455161 0.150501 0.006260 0.005984\n",
      "0 0.470283 0.116917 0.005835 0.005385\n",
      "0 0.487601 0.127767 0.005980 0.005300\n",
      "0 0.504664 0.080110 0.008598 0.007896\n",
      "0 0.360102 0.126515 0.006987 0.005856\n",
      "0 0.523440 0.071122 0.005461 0.006664\n",
      "0 0.501900 0.117867 0.006086 0.005355\n",
      "0 0.472187 0.139133 0.005691 0.005661\n",
      "0 0.349411 0.277374 0.006014 0.005440\n",
      "0 0.452195 0.170608 0.006456 0.005584\n",
      "0 0.409817 0.160540 0.006868 0.005338\n",
      "0 0.412911 0.174099 0.006953 0.005580\n",
      "0 0.493859 0.047745 0.005329 0.005623\n",
      "0 0.405395 0.173674 0.006541 0.005393\n",
      "0 0.464044 0.113151 0.005920 0.005419\n",
      "0 0.457722 0.130357 0.005941 0.005720\n",
      "0 0.360926 0.142333 0.006298 0.005270\n",
      "0 0.397646 0.173309 0.006392 0.005240\n",
      "0 0.368119 0.142252 0.006099 0.004947\n",
      "0 0.368153 0.248455 0.006422 0.005793\n",
      "0 0.352578 0.256517 0.006422 0.005793\n",
      "0 0.452463 0.097690 0.006422 0.005793\n",
      " \n",
      "\n",
      "The content in <_io.TextIOWrapper name='session_4/annotations\\\\20240428_215426_SN43_QUICKVIEW_VISUAL_1_5_0_SATL-2KM-10N_630_4262.txt' mode='r' encoding='utf-8'> is:\n",
      "0 0.478234 0.812516 0.005784 0.005584\n",
      "0 0.482344 0.872799 0.005359 0.005861\n",
      "0 0.483451 0.816974 0.005448 0.005703\n",
      "0 0.467722 0.824507 0.005516 0.005742\n",
      "0 0.479494 0.836543 0.005533 0.005555\n",
      "0 0.440954 0.888649 0.006107 0.006128\n",
      "0 0.475697 0.866717 0.005614 0.005750\n",
      "0 0.473680 0.830850 0.005227 0.005210\n",
      "0 0.401126 0.974105 0.005576 0.007021\n",
      "0 0.473604 0.824817 0.005329 0.005793\n",
      "0 0.488536 0.822027 0.006600 0.006511\n",
      "0 0.471632 0.879433 0.005355 0.005487\n",
      "0 0.469507 0.860720 0.005533 0.005555\n",
      "0 0.479996 0.830742 0.005533 0.005555\n",
      "0 0.433906 0.859679 0.005533 0.006014\n",
      "0 0.799630 0.747716 0.005533 0.007331\n",
      "0 0.473702 0.802357 0.005669 0.005750\n",
      "0 0.489227 0.845040 0.006477 0.006825\n",
      "0 0.493266 0.826972 0.005198 0.005487\n",
      "0 0.461596 0.851966 0.006014 0.005937\n",
      " \n",
      "\n",
      "The content in <_io.TextIOWrapper name='session_4/annotations\\\\20240428_215426_SN43_QUICKVIEW_VISUAL_1_5_0_SATL-2KM-10N_630_4264.txt' mode='r' encoding='utf-8'> is:\n",
      "0 0.662754 0.967552 0.006103 0.005372\n",
      " \n",
      "\n",
      "The content in <_io.TextIOWrapper name='session_4/annotations\\\\20240428_215426_SN43_QUICKVIEW_VISUAL_1_5_0_SATL-2KM-10N_634_4282.txt' mode='r' encoding='utf-8'> is:\n",
      "0 0.648933 0.717705 0.008218 0.008280\n",
      "0 0.624725 0.716886 0.007282 0.007750\n",
      "0 0.660928 0.718184 0.007902 0.008303\n",
      " \n",
      "\n",
      "The content in <_io.TextIOWrapper name='session_4/annotations\\\\20240428_215557_SN43_QUICKVIEW_VISUAL_1_5_0_SATL-2KM-10N_726_3862.txt' mode='r' encoding='utf-8'> is:\n",
      " \n",
      "\n",
      "The content in <_io.TextIOWrapper name='session_4/annotations\\\\20240427_221308_SN31_QUICKVIEW_VISUAL_1_5_0_SATL-2KM-10N_722_3848.txt' mode='r' encoding='utf-8'> is:\n",
      "0 0.296201 0.410052 0.031044 0.028445\n",
      "0 0.269896 0.392506 0.031044 0.028445\n",
      "0 0.279959 0.400296 0.031044 0.028445\n",
      " \n",
      "\n",
      "The content in <_io.TextIOWrapper name='session_4/annotations\\\\20240426_215224_SN29_QUICKVIEW_VISUAL_1_5_0_SATL-2KM-11N_244_3818.txt' mode='r' encoding='utf-8'> is:\n",
      "0 0.938309 0.134394 0.006614 0.006691\n",
      "0 0.912495 0.185032 0.008222 0.007335\n",
      "0 0.972699 0.126529 0.006614 0.006691\n",
      "0 0.953674 0.137454 0.011640 0.011709\n",
      "0 0.979378 0.120757 0.006614 0.006691\n",
      "0 0.980834 0.107772 0.008894 0.006691\n",
      "0 0.960071 0.130263 0.005334 0.005897\n",
      "0 0.950808 0.145755 0.006614 0.006691\n",
      "0 0.943177 0.158254 0.006614 0.008319\n",
      "0 0.927523 0.144856 0.008064 0.007817\n",
      "0 0.958115 0.104852 0.006614 0.006691\n",
      "0 0.953894 0.112317 0.006614 0.006691\n",
      "0 0.950322 0.118809 0.006614 0.006691\n",
      "0 0.944478 0.124168 0.006614 0.006691\n",
      " \n",
      "\n",
      "The content in <_io.TextIOWrapper name='session_4/annotations\\\\20240423_190101_SN26_QUICKVIEW_VISUAL_1_5_0_SATL-2KM-11N_414_3862.txt' mode='r' encoding='utf-8'> is:\n",
      "0 0.824970 0.142620 0.005776 0.006796\n",
      "0 0.909648 0.096432 0.006464 0.006796\n",
      "0 0.833076 0.155938 0.005780 0.006796\n",
      "0 0.861770 0.148722 0.007947 0.010073\n",
      "0 0.889943 0.120614 0.006578 0.006185\n",
      "0 0.855391 0.137847 0.008068 0.009700\n",
      "0 0.884174 0.112213 0.006468 0.006792\n",
      "0 0.828864 0.150087 0.005780 0.006792\n",
      "0 0.899384 0.138815 0.006464 0.006792\n",
      "0 0.878987 0.103872 0.006464 0.006796\n",
      " \n",
      "\n",
      "The content in <_io.TextIOWrapper name='session_4/annotations\\\\20240423_190101_SN26_QUICKVIEW_VISUAL_1_5_0_SATL-2KM-11N_416_3862.txt' mode='r' encoding='utf-8'> is:\n",
      " \n",
      "\n",
      "The content in <_io.TextIOWrapper name='session_4/annotations\\\\20240423_190101_SN26_QUICKVIEW_VISUAL_1_5_0_SATL-2KM-11N_416_3864.txt' mode='r' encoding='utf-8'> is:\n",
      " \n",
      "\n",
      "The content in <_io.TextIOWrapper name='session_4/annotations\\\\20240423_190101_SN26_QUICKVIEW_VISUAL_1_5_0_SATL-2KM-11N_418_3860.txt' mode='r' encoding='utf-8'> is:\n",
      "0 0.075229 0.127465 0.018186 0.020826\n",
      "0 0.107955 0.006906 0.021013 0.013811\n",
      "0 0.122398 0.099725 0.023807 0.023370\n",
      " \n",
      "\n",
      "The content in <_io.TextIOWrapper name='session_4/annotations\\\\20240423_190101_SN26_QUICKVIEW_VISUAL_1_5_0_SATL-2KM-11N_418_3862.txt' mode='r' encoding='utf-8'> is:\n",
      "0 0.094358 0.974569 0.028546 0.028603\n",
      "0 0.147003 0.944020 0.023880 0.023414\n",
      "0 0.477303 0.738528 0.020988 0.020612\n",
      "0 0.495478 0.344388 0.025245 0.029546\n",
      "0 0.528307 0.328900 0.019911 0.021252\n",
      " \n",
      "\n",
      "The content in <_io.TextIOWrapper name='session_4/annotations\\\\20240423_190101_SN26_QUICKVIEW_VISUAL_1_5_0_SATL-2KM-11N_418_3864.txt' mode='r' encoding='utf-8'> is:\n",
      "0 0.693775 0.698957 0.025865 0.023939\n",
      " \n",
      "\n",
      "The content in <_io.TextIOWrapper name='session_4/annotations\\\\20240423_190101_SN26_QUICKVIEW_VISUAL_1_5_0_SATL-2KM-11N_418_3872.txt' mode='r' encoding='utf-8'> is:\n",
      "0 0.426035 0.669557 0.007657 0.007099\n",
      "0 0.629957 0.806472 0.006014 0.005220\n",
      "0 0.515412 0.813255 0.007291 0.006113\n",
      "0 0.373769 0.661987 0.008655 0.008648\n",
      "0 0.416789 0.687368 0.007092 0.007210\n",
      "0 0.520344 0.822126 0.006007 0.006584\n",
      "0 0.550865 0.788884 0.006578 0.008047\n",
      "0 0.555046 0.781020 0.007154 0.008115\n",
      "0 0.381079 0.652812 0.010155 0.010682\n",
      "0 0.423304 0.690573 0.007278 0.007334\n",
      "0 0.404681 0.681655 0.006770 0.007043\n",
      "0 0.558029 0.773308 0.007526 0.007756\n",
      "0 0.418165 0.666705 0.008022 0.007471\n",
      "0 0.329988 0.799659 0.005865 0.005518\n",
      "0 0.326135 0.794200 0.005387 0.006144\n",
      "0 0.307781 0.798239 0.007130 0.006745\n",
      "0 0.484296 0.885335 0.006014 0.005226\n",
      "0 0.478574 0.885335 0.006014 0.005226\n",
      "0 0.472604 0.885710 0.006014 0.005220\n",
      "0 0.459789 0.885211 0.006014 0.005226\n",
      "0 0.447725 0.885834 0.006014 0.005220\n",
      "0 0.444613 0.875012 0.006014 0.005226\n",
      "0 0.450961 0.874516 0.006014 0.005226\n",
      "0 0.457303 0.874265 0.006014 0.005220\n",
      "0 0.466007 0.871404 0.006014 0.005226\n",
      "0 0.471733 0.871156 0.006007 0.005226\n",
      "0 0.477951 0.871032 0.006007 0.005226\n",
      "0 0.484420 0.870784 0.006014 0.005226\n",
      "0 0.565400 0.797021 0.006014 0.005226\n",
      "0 0.206646 0.754616 0.006522 0.005983\n",
      "0 0.151931 0.700456 0.007607 0.008016\n",
      "0 0.163676 0.688156 0.005270 0.005859\n",
      "0 0.168413 0.689262 0.005270 0.005852\n",
      "0 0.197932 0.675670 0.005995 0.006627\n",
      "0 0.185945 0.673850 0.006150 0.005232\n",
      "0 0.206593 0.720620 0.006144 0.005232\n",
      "0 0.207650 0.725468 0.006150 0.005232\n",
      "0 0.210325 0.730945 0.006516 0.005983\n",
      "0 0.217167 0.735050 0.006522 0.005983\n",
      "0 0.243038 0.695620 0.006522 0.005983\n",
      "0 0.239557 0.689774 0.006516 0.005983\n",
      "0 0.238063 0.682929 0.006516 0.005983\n",
      "0 0.235201 0.676711 0.006522 0.005983\n",
      "0 0.232340 0.670369 0.006516 0.005983\n",
      "0 0.179848 0.676711 0.006516 0.005983\n",
      "0 0.198881 0.652706 0.006516 0.005983\n",
      "0 0.210319 0.662477 0.006516 0.005983\n",
      "0 0.345356 0.612223 0.007278 0.007334\n",
      "0 0.435896 0.654783 0.007278 0.007334\n",
      "0 0.436913 0.718199 0.006435 0.005635\n",
      "0 0.409681 0.718754 0.006429 0.005642\n",
      "0 0.402579 0.719194 0.005418 0.005270\n",
      "0 0.395803 0.718813 0.005418 0.005276\n",
      "0 0.653159 0.739764 0.006243 0.005803\n",
      "0 0.641640 0.804538 0.006243 0.005803\n",
      "0 0.643199 0.798137 0.005852 0.006454\n",
      "0 0.657815 0.794076 0.006503 0.005400\n",
      "0 0.664461 0.793875 0.005276 0.005617\n",
      "0 0.662905 0.788797 0.005276 0.005617\n",
      "0 0.657722 0.788382 0.005276 0.005617\n",
      "0 0.663524 0.782889 0.005276 0.005617\n",
      "0 0.662285 0.777396 0.005276 0.005617\n",
      "0 0.656785 0.776773 0.005276 0.005623\n",
      "0 0.655856 0.782058 0.005276 0.005617\n",
      "0 0.606401 0.857960 0.005425 0.004848\n",
      "0 0.570623 0.785821 0.005276 0.005617\n",
      "0 0.576593 0.773509 0.005276 0.005617\n",
      "0 0.573184 0.790797 0.006020 0.007111\n",
      "0 0.599541 0.808162 0.005381 0.007111\n",
      "0 0.633813 0.775750 0.006014 0.005226\n",
      "0 0.623738 0.806596 0.006014 0.005220\n",
      "0 0.429501 0.693515 0.006975 0.007018\n",
      "0 0.447511 0.685896 0.008562 0.008481\n",
      "0 0.414476 0.704389 0.007526 0.006782\n",
      "0 0.520245 0.863317 0.006007 0.006584\n",
      "0 0.518122 0.800924 0.006534 0.005220\n",
      "0 0.511785 0.801621 0.006534 0.005214\n",
      "0 0.480936 0.801621 0.006534 0.005214\n",
      "0 0.468748 0.802244 0.006534 0.005220\n",
      "0 0.462030 0.802244 0.006528 0.005220\n",
      "0 0.465139 0.813686 0.006534 0.005214\n",
      "0 0.471733 0.813686 0.006528 0.005214\n",
      "0 0.456060 0.816671 0.006528 0.005220\n",
      "0 0.457179 0.828738 0.006534 0.005214\n",
      "0 0.480316 0.816922 0.006534 0.005214\n",
      "0 0.484048 0.813190 0.006534 0.005214\n",
      "0 0.487030 0.815927 0.006534 0.005220\n",
      "0 0.499222 0.816671 0.006528 0.005220\n",
      "0 0.502706 0.813066 0.006528 0.005214\n",
      "0 0.487390 0.828627 0.005257 0.004991\n",
      "0 0.489392 0.841302 0.005257 0.004997\n",
      "0 0.501587 0.841553 0.005257 0.004991\n",
      "0 0.508549 0.840679 0.005257 0.004991\n",
      "0 0.514272 0.840183 0.005257 0.004991\n",
      "0 0.518010 0.856841 0.006014 0.005226\n",
      "0 0.511026 0.856593 0.005722 0.005226\n",
      "0 0.504569 0.856851 0.006014 0.005220\n",
      "0 0.497855 0.857102 0.006014 0.005226\n",
      "0 0.490267 0.857226 0.006014 0.005226\n",
      "0 0.499721 0.873394 0.006014 0.005226\n",
      "0 0.517880 0.873270 0.006014 0.005226\n",
      "0 0.533056 0.883345 0.006014 0.005226\n",
      "0 0.612424 0.823376 0.005530 0.006193\n",
      "0 0.496857 0.884343 0.006014 0.005226\n",
      "0 0.501959 0.884467 0.006014 0.005226\n",
      "0 0.508552 0.884591 0.006007 0.005226\n",
      "0 0.491135 0.884839 0.006014 0.005226\n",
      "0 0.848958 0.785307 0.005865 0.005518\n",
      "0 0.850927 0.779219 0.005871 0.005518\n",
      "0 0.853974 0.769724 0.005865 0.005524\n",
      "0 0.356472 0.790158 0.005096 0.006293\n",
      "0 0.363205 0.791017 0.005865 0.005518\n",
      "0 0.354126 0.795369 0.005871 0.005518\n",
      "0 0.344172 0.799476 0.005865 0.005524\n",
      "0 0.334969 0.799476 0.005871 0.005524\n",
      " \n",
      "\n",
      "The content in <_io.TextIOWrapper name='session_4/annotations\\\\20240402_184757_SN24_QUICKVIEW_VISUAL_1_2_0_SATL-2KM-11N_486_3630.txt' mode='r' encoding='utf-8'> is:\n",
      "0 0.169675 0.290019 0.010484 0.010372\n",
      "0 0.071937 0.315993 0.010484 0.010372\n",
      "0 0.027362 0.319572 0.010484 0.010372\n",
      "0 0.039718 0.283573 0.010484 0.010372\n",
      "0 0.085539 0.279094 0.010484 0.010372\n",
      "0 0.078379 0.297903 0.010484 0.010372\n",
      "0 0.130654 0.274975 0.010484 0.010372\n",
      "0 0.124033 0.293604 0.010484 0.010372\n",
      "0 0.117226 0.311514 0.010484 0.010372\n",
      "0 0.004132 0.268908 0.008264 0.010372\n",
      "0 0.008391 0.250639 0.010484 0.010372\n",
      "0 0.015911 0.232370 0.010484 0.010372\n",
      "0 0.599272 0.311492 0.008289 0.007699\n",
      "0 0.770226 0.299774 0.007099 0.006656\n",
      "0 0.772306 0.310282 0.006782 0.006483\n",
      "0 0.753816 0.315670 0.008289 0.007705\n",
      "0 0.794839 0.294324 0.008289 0.007705\n",
      "0 0.790964 0.283877 0.008289 0.007705\n",
      "0 0.789470 0.272382 0.008289 0.007705\n",
      "0 0.762024 0.268952 0.008289 0.007705\n",
      "0 0.764554 0.279479 0.006789 0.006675\n",
      "0 0.751727 0.305521 0.008289 0.007705\n",
      "0 0.748596 0.295220 0.008289 0.007699\n",
      "0 0.746060 0.285220 0.008289 0.007699\n",
      "0 0.743531 0.274187 0.008289 0.007705\n",
      "0 0.593453 0.290741 0.007378 0.007078\n",
      "0 0.623751 0.306203 0.006807 0.006948\n",
      "0 0.619560 0.295592 0.007378 0.007078\n",
      "0 0.617629 0.284107 0.008884 0.007097\n",
      "0 0.614485 0.274473 0.008277 0.008127\n",
      "0 0.633431 0.268952 0.008277 0.008127\n",
      "0 0.659089 0.264175 0.008270 0.008127\n",
      "0 0.659988 0.274622 0.008270 0.008127\n",
      "0 0.665654 0.294622 0.008270 0.008127\n",
      "0 0.667892 0.307314 0.008270 0.008127\n",
      "0 0.638890 0.289919 0.008270 0.008127\n",
      "0 0.163053 0.308468 0.010484 0.010372\n",
      "0 0.154820 0.326203 0.010484 0.010372\n",
      "0 0.075874 0.421675 0.010484 0.010372\n",
      "0 0.644882 0.805130 0.018667 0.021923\n",
      "0 0.110313 0.330053 0.010818 0.010763\n",
      "0 0.103444 0.348306 0.010484 0.010372\n",
      "0 0.083394 0.403226 0.010484 0.010372\n",
      "0 0.090015 0.385850 0.010484 0.010372\n",
      "0 0.096996 0.366507 0.010484 0.010372\n",
      "0 0.058156 0.352177 0.010484 0.010372\n",
      "0 0.064777 0.333722 0.010484 0.010372\n",
      " \n",
      "\n",
      "The content in <_io.TextIOWrapper name='session_4/annotations\\\\20240402_184757_SN24_QUICKVIEW_VISUAL_1_2_0_SATL-2KM-11N_486_3636.txt' mode='r' encoding='utf-8'> is:\n",
      "0 0.258410 0.422052 0.014340 0.017111\n",
      "0 0.256662 0.443106 0.013298 0.011903\n",
      " \n",
      "\n",
      "The content in <_io.TextIOWrapper name='session_4/annotations\\\\20240402_184757_SN24_QUICKVIEW_VISUAL_1_2_0_SATL-2KM-11N_488_3638.txt' mode='r' encoding='utf-8'> is:\n",
      " \n",
      "\n",
      "The content in <_io.TextIOWrapper name='session_4/annotations\\\\20240402_184757_SN24_QUICKVIEW_VISUAL_1_2_0_SATL-2KM-11N_490_3638.txt' mode='r' encoding='utf-8'> is:\n",
      "0 0.925920 0.965598 0.005204 0.005126\n",
      "0 0.984758 0.996718 0.006676 0.005874\n",
      "0 0.966820 0.965540 0.008741 0.009310\n",
      "0 0.947424 0.961727 0.005325 0.005741\n",
      "0 0.935244 0.943063 0.005325 0.005736\n",
      "0 0.932404 0.956198 0.005325 0.005741\n",
      "0 0.987665 0.981276 0.008741 0.009310\n",
      "0 0.926878 0.958888 0.005325 0.005741\n",
      "0 0.924937 0.972023 0.005319 0.005736\n",
      " \n",
      "\n",
      "The content in <_io.TextIOWrapper name='session_4/annotations\\\\20240402_215421_SN31_QUICKVIEW_VISUAL_1_2_0_SATL-2KM-11N_500_3632.txt' mode='r' encoding='utf-8'> is:\n",
      "0 0.788794 0.666410 0.017976 0.019982\n",
      "0 0.709032 0.654083 0.019209 0.019988\n",
      "0 0.620018 0.640392 0.016708 0.016891\n",
      "0 0.616348 0.617959 0.016590 0.014785\n",
      "0 0.791139 0.578504 0.020212 0.023711\n",
      "0 0.750268 0.660504 0.018519 0.020289\n",
      "0 0.705251 0.631136 0.023351 0.018106\n",
      "0 0.611699 0.659319 0.018619 0.014979\n",
      "0 0.810587 0.580478 0.018779 0.020153\n",
      "0 0.829746 0.583552 0.018844 0.020743\n",
      "0 0.637575 0.663233 0.019139 0.014608\n",
      "0 0.777310 0.579581 0.018549 0.023339\n",
      "0 0.815752 0.680230 0.017015 0.019316\n",
      "0 0.771065 0.662935 0.018354 0.020254\n",
      "0 0.818794 0.591879 0.018425 0.018909\n",
      "0 0.777761 0.674965 0.016053 0.018401\n",
      "0 0.759425 0.672971 0.018378 0.019345\n",
      "0 0.808454 0.668882 0.017982 0.019652\n",
      "0 0.796218 0.677327 0.018820 0.019740\n",
      " \n",
      "\n",
      "The content in <_io.TextIOWrapper name='session_4/annotations\\\\20240402_215427_SN31_QUICKVIEW_VISUAL_1_2_0_SATL-2KM-11N_502_3600.txt' mode='r' encoding='utf-8'> is:\n",
      "0 0.774520 0.438219 0.005721 0.006226\n",
      "0 0.455977 0.282728 0.005727 0.006232\n",
      "0 0.768058 0.456751 0.005849 0.006731\n",
      "0 0.812048 0.393302 0.005183 0.005272\n",
      "0 0.789986 0.419953 0.005388 0.005710\n",
      "0 0.780069 0.389206 0.005444 0.006093\n",
      "0 0.790757 0.375705 0.005899 0.006382\n",
      "0 0.834639 0.366201 0.005361 0.005511\n",
      "0 0.770574 0.442958 0.005721 0.006226\n",
      "0 0.815746 0.388979 0.005411 0.005660\n",
      "0 0.518102 0.316268 0.010311 0.010871\n",
      "0 0.453466 0.294989 0.005954 0.006226\n",
      "0 0.784534 0.384009 0.005771 0.005189\n",
      "0 0.775552 0.394259 0.005455 0.006032\n",
      "0 0.819406 0.384401 0.005372 0.005627\n",
      "0 0.786290 0.424420 0.005433 0.005744\n",
      "0 0.457148 0.276609 0.005638 0.006149\n",
      "0 0.767370 0.401923 0.005649 0.005788\n",
      "0 0.458918 0.265175 0.005516 0.006410\n",
      "0 0.766804 0.447114 0.005727 0.006337\n",
      "0 0.838346 0.362261 0.005505 0.005655\n",
      "0 0.797142 0.411532 0.005216 0.005760\n",
      "0 0.808549 0.397808 0.005189 0.005438\n",
      "0 0.522159 0.303393 0.010311 0.010871\n",
      "0 0.452300 0.300560 0.005954 0.006226\n",
      "0 0.449914 0.311010 0.005954 0.006226\n",
      "0 0.448271 0.318024 0.005954 0.006226\n",
      "0 0.778627 0.433829 0.005721 0.006226\n",
      "0 0.781795 0.428929 0.005721 0.006226\n",
      "0 0.764015 0.453984 0.005721 0.006226\n",
      "0 0.759620 0.449517 0.005721 0.006226\n",
      "0 0.755519 0.446709 0.005721 0.006226\n",
      "0 0.751418 0.442825 0.005721 0.006226\n",
      "0 0.823302 0.380311 0.005372 0.005627\n",
      "0 0.826421 0.375932 0.005372 0.005627\n",
      "0 0.830499 0.371970 0.005372 0.005627\n",
      "0 0.842675 0.356615 0.005372 0.005627\n",
      "0 0.846754 0.352897 0.005372 0.005627\n",
      "0 0.849933 0.348457 0.005372 0.005627\n",
      "0 0.376243 0.741032 0.005782 0.005949\n",
      "0 0.374745 0.747003 0.005782 0.005949\n",
      "0 0.373793 0.752358 0.005777 0.005949\n",
      "0 0.372411 0.758496 0.005777 0.005949\n",
      "0 0.373188 0.763935 0.005777 0.005949\n",
      "0 0.344942 0.760738 0.005777 0.005949\n",
      "0 0.339240 0.760655 0.005782 0.005949\n",
      "0 0.334403 0.768430 0.005777 0.005949\n",
      "0 0.344079 0.768080 0.005782 0.005949\n",
      "0 0.356515 0.769462 0.005782 0.005949\n",
      "0 0.386493 0.774040 0.005782 0.005949\n",
      "0 0.395821 0.775427 0.005782 0.005949\n",
      "0 0.402644 0.777758 0.005777 0.005949\n",
      "0 0.411543 0.780782 0.005782 0.005949\n",
      "0 0.422600 0.784495 0.005777 0.005949\n",
      "0 0.432880 0.784062 0.005782 0.005949\n",
      "0 0.438579 0.783890 0.005782 0.005949\n",
      "0 0.444628 0.782336 0.005782 0.005949\n",
      "0 0.626027 0.719184 0.005782 0.005949\n",
      "0 0.636496 0.733385 0.005777 0.005949\n",
      "0 0.619600 0.715247 0.005782 0.005943\n",
      "0 0.624678 0.704673 0.005782 0.005949\n",
      "0 0.612861 0.698246 0.005777 0.005949\n",
      "0 0.611099 0.715560 0.005782 0.005949\n",
      " \n",
      "\n",
      "The content in <_io.TextIOWrapper name='session_4/annotations\\\\20240401_032415_SN27_QUICKVIEW_VISUAL_1_2_0_SATL-2KM-51N_688_4420.txt' mode='r' encoding='utf-8'> is:\n",
      "0 0.798881 0.132435 0.032382 0.027378\n",
      "0 0.781848 0.125970 0.032255 0.029731\n",
      "0 0.808537 0.136121 0.031595 0.026614\n",
      " \n",
      "\n",
      "The content in <_io.TextIOWrapper name='session_4/annotations\\\\20240401_175918_SN33_QUICKVIEW_VISUAL_1_2_0_SATL-2KM-10N_542_4168.txt' mode='r' encoding='utf-8'> is:\n",
      "0 0.920102 0.671557 0.018256 0.017910\n",
      "0 0.915594 0.693817 0.018427 0.019824\n",
      "0 0.922258 0.659029 0.017508 0.017398\n",
      " \n",
      "\n",
      "The content in <_io.TextIOWrapper name='session_4/annotations\\\\20240401_175918_SN33_QUICKVIEW_VISUAL_1_2_0_SATL-2KM-10N_546_4206.txt' mode='r' encoding='utf-8'> is:\n",
      "0 0.783905 0.130124 0.032761 0.029813\n",
      "0 0.810586 0.141204 0.031304 0.028312\n",
      "0 0.801416 0.137900 0.033911 0.029093\n",
      " \n",
      "\n",
      "The content in <_io.TextIOWrapper name='session_4/annotations\\\\20240401_175925_SN33_QUICKVIEW_VISUAL_1_2_0_SATL-2KM-10N_542_4168.txt' mode='r' encoding='utf-8'> is:\n",
      "0 0.895684 0.042335 0.007619 0.008338\n",
      "0 0.878565 0.047533 0.007619 0.008338\n",
      "0 0.912614 0.038246 0.007619 0.008338\n",
      " \n",
      "\n",
      "The content in <_io.TextIOWrapper name='session_4/annotations\\\\20240401_221819_SN31_QUICKVIEW_VISUAL_1_2_0_SATL-2KM-10N_602_4148.txt' mode='r' encoding='utf-8'> is:\n",
      "0 0.601128 0.158899 0.020992 0.018845\n",
      "0 0.583714 0.155861 0.020398 0.017324\n",
      "0 0.573845 0.152768 0.018807 0.016065\n",
      " \n",
      "\n",
      "The content in <_io.TextIOWrapper name='session_4/annotations\\\\20240325_173936_SN33_QUICKVIEW_VISUAL_1_2_0_SATL-2KM-11N_378_3722.txt' mode='r' encoding='utf-8'> is:\n",
      "0 0.780468 0.535827 0.016731 0.018555\n",
      "0 0.770334 0.514441 0.016731 0.018555\n",
      "0 0.773737 0.520888 0.016731 0.018555\n",
      " \n",
      "\n",
      "The content in <_io.TextIOWrapper name='session_4/annotations\\\\20240324_180232_SN33_QUICKVIEW_VISUAL_1_2_0_SATL-2KM-10N_554_4172.txt' mode='r' encoding='utf-8'> is:\n",
      "0 0.846686 0.447172 0.004877 0.006653\n",
      "0 0.887019 0.457484 0.008398 0.010156\n",
      "0 0.862019 0.478617 0.004877 0.006653\n",
      "0 0.867424 0.451803 0.004877 0.006653\n",
      "0 0.851893 0.444862 0.004877 0.006653\n",
      "0 0.852906 0.437519 0.004877 0.006653\n",
      "0 0.853743 0.430453 0.005291 0.006977\n",
      " \n",
      "\n",
      "The content in <_io.TextIOWrapper name='session_4/annotations\\\\20240322_184801_SN24_QUICKVIEW_VISUAL_1_2_0_SATL-2KM-11N_500_3632.txt' mode='r' encoding='utf-8'> is:\n",
      "0 0.143605 0.749733 0.005531 0.007109\n",
      "0 0.391050 0.644439 0.005663 0.006731\n",
      "0 0.313464 0.703929 0.005825 0.006059\n",
      "0 0.311221 0.720774 0.005825 0.006059\n",
      "0 0.314886 0.720270 0.005825 0.006059\n",
      "0 0.320387 0.720270 0.005825 0.006059\n",
      "0 0.285801 0.764181 0.006323 0.007211\n",
      "0 0.174613 0.812636 0.006311 0.007528\n",
      "0 0.164130 0.819025 0.005633 0.005861\n",
      "0 0.164610 0.861245 0.005633 0.005861\n",
      "0 0.161695 0.856941 0.005633 0.005867\n",
      "0 0.160648 0.863542 0.005759 0.006569\n",
      "0 0.084610 0.841941 0.005633 0.005861\n",
      "0 0.086278 0.838467 0.005633 0.005861\n",
      "0 0.086833 0.846662 0.005627 0.005861\n",
      "0 0.086833 0.854439 0.005627 0.005867\n",
      "0 0.071278 0.864994 0.005627 0.005861\n",
      "0 0.071416 0.858188 0.005627 0.005867\n",
      "0 0.085030 0.858884 0.005633 0.005867\n",
      "0 0.083083 0.919577 0.005627 0.005861\n",
      "0 0.083638 0.926383 0.005633 0.005867\n",
      "0 0.114328 0.903419 0.005897 0.006839\n",
      "0 0.131107 0.990102 0.005633 0.005867\n",
      "0 0.528908 0.400723 0.005891 0.006833\n",
      "0 0.529058 0.407597 0.005891 0.006833\n",
      "0 0.517163 0.387945 0.012945 0.016419\n",
      "0 0.156707 0.512103 0.006671 0.006437\n",
      "0 0.145945 0.508425 0.006227 0.005825\n",
      "0 0.139946 0.506758 0.006251 0.005681\n",
      "0 0.134547 0.504850 0.006227 0.005825\n",
      "0 0.097972 0.492355 0.006227 0.005825\n",
      "0 0.050522 0.462031 0.006227 0.005825\n",
      "0 0.096815 0.500915 0.006227 0.005825\n",
      "0 0.094850 0.511221 0.006233 0.005825\n",
      "0 0.108035 0.513311 0.005981 0.005147\n",
      "0 0.113485 0.514691 0.005975 0.005147\n",
      "0 0.118230 0.513533 0.005975 0.005147\n",
      "0 0.125405 0.518740 0.005975 0.005147\n",
      "0 0.131656 0.520477 0.005975 0.005153\n",
      "0 0.153761 0.549760 0.005975 0.005147\n",
      "0 0.154109 0.559712 0.005975 0.005147\n",
      "0 0.146935 0.554157 0.005975 0.005147\n",
      "0 0.145198 0.559364 0.005981 0.005147\n",
      "0 0.150138 0.571299 0.005183 0.004853\n",
      "0 0.144592 0.570801 0.005177 0.004853\n",
      "0 0.141458 0.573854 0.005183 0.004853\n",
      "0 0.144511 0.574097 0.005183 0.004859\n",
      "0 0.147244 0.574820 0.005177 0.004853\n",
      "0 0.152789 0.574418 0.005183 0.004853\n",
      "0 0.143452 0.588542 0.005597 0.005039\n",
      "0 0.157244 0.592537 0.005597 0.005039\n",
      "0 0.160123 0.588518 0.005597 0.005039\n",
      "0 0.166152 0.588650 0.005597 0.005039\n",
      "0 0.150945 0.603587 0.005597 0.005039\n",
      "0 0.156638 0.604595 0.005597 0.005039\n",
      "0 0.162600 0.604523 0.005597 0.005039\n",
      "0 0.167957 0.607876 0.005597 0.005039\n",
      "0 0.160393 0.608476 0.005597 0.005039\n",
      "0 0.147933 0.607073 0.005597 0.005039\n",
      "0 0.143446 0.607606 0.005597 0.005039\n",
      "0 0.140162 0.603719 0.005603 0.005039\n",
      "0 0.122475 0.644490 0.005681 0.005441\n",
      "0 0.131200 0.748632 0.005987 0.006395\n",
      "0 0.331890 0.893410 0.006215 0.006317\n",
      "0 0.391122 0.605699 0.005663 0.006731\n",
      "0 0.597888 0.554307 0.005663 0.006731\n",
      "0 0.603485 0.540108 0.005663 0.006731\n",
      "0 0.607217 0.533473 0.005663 0.006731\n",
      "0 0.156953 0.778698 0.004535 0.006803\n",
      "0 0.175732 0.826722 0.004805 0.006797\n",
      "0 0.374067 0.617684 0.005939 0.006959\n",
      "0 0.156752 0.745489 0.004841 0.007163\n",
      "0 0.169988 0.558095 0.007115 0.006977\n",
      "0 0.144259 0.774490 0.005207 0.006713\n",
      "0 0.144499 0.782885 0.005123 0.006923\n",
      "0 0.088014 0.875066 0.006311 0.007528\n",
      "0 0.316182 0.367570 0.008620 0.009874\n",
      "0 0.175885 0.840717 0.005123 0.006641\n",
      "0 0.176221 0.861656 0.005795 0.006599\n",
      "0 0.144613 0.791014 0.004991 0.007187\n",
      "0 0.175930 0.868410 0.005357 0.006815\n",
      "0 0.368707 0.613293 0.006413 0.007774\n",
      "0 0.144949 0.799208 0.005219 0.007055\n",
      "0 0.141932 0.523467 0.006851 0.006443\n",
      "0 0.175489 0.833428 0.005219 0.006929\n",
      "0 0.390504 0.613773 0.005663 0.006731\n",
      "0 0.157615 0.786653 0.005009 0.007067\n",
      "0 0.169268 0.542849 0.007019 0.006827\n",
      "0 0.157957 0.795186 0.005681 0.007289\n",
      "0 0.158530 0.539982 0.007810 0.006923\n",
      "0 0.159487 0.520189 0.005993 0.007169\n",
      "0 0.170456 0.758845 0.005999 0.007648\n",
      "0 0.156851 0.770213 0.005039 0.006929\n",
      "0 0.157064 0.737004 0.005429 0.006977\n",
      "0 0.131551 0.757558 0.005693 0.007331\n",
      "0 0.169595 0.733971 0.006161 0.007235\n",
      "0 0.175687 0.847633 0.006191 0.007277\n",
      "0 0.156515 0.753761 0.004967 0.006923\n",
      " \n",
      "\n",
      "The content in <_io.TextIOWrapper name='session_4/annotations\\\\20240322_184801_SN24_QUICKVIEW_VISUAL_1_2_0_SATL-2KM-11N_502_3632.txt' mode='r' encoding='utf-8'> is:\n",
      "0 0.700435 0.651917 0.019790 0.020282\n",
      "0 0.748833 0.575600 0.017834 0.020474\n",
      "0 0.782843 0.577118 0.020276 0.022597\n",
      "0 0.797822 0.634496 0.023791 0.019670\n",
      "0 0.607741 0.615633 0.015039 0.015033\n",
      "0 0.628917 0.661872 0.019706 0.015789\n",
      "0 0.742130 0.658728 0.018500 0.019856\n",
      "0 0.604754 0.658173 0.019502 0.015123\n",
      "0 0.769139 0.577960 0.018362 0.022615\n",
      "0 0.633779 0.642960 0.017888 0.016503\n",
      "0 0.802175 0.579058 0.017834 0.018944\n",
      "0 0.610825 0.637894 0.016803 0.016209\n",
      "0 0.821701 0.582112 0.017499 0.019328\n",
      "0 0.807585 0.678422 0.016935 0.019052\n",
      "0 0.810999 0.589601 0.016755 0.017343\n",
      "0 0.751077 0.671014 0.017091 0.018608\n",
      "0 0.788581 0.675567 0.015939 0.018620\n",
      "0 0.769931 0.672831 0.016551 0.018476\n",
      "0 0.800090 0.667394 0.017828 0.018890\n",
      "0 0.762343 0.662115 0.016635 0.018902\n",
      "0 0.780555 0.665051 0.016275 0.017804\n",
      " \n",
      "\n",
      "The content in <_io.TextIOWrapper name='session_4/annotations\\\\20240322_212516_SN28_QUICKVIEW_VISUAL_1_2_0_SATL-2KM-11N_502_3600.txt' mode='r' encoding='utf-8'> is:\n",
      "0 0.701888 0.793152 0.023359 0.020385\n",
      "0 0.646242 0.832005 0.024645 0.019763\n",
      "0 0.682570 0.805542 0.024645 0.019763\n",
      " \n",
      "\n",
      "The content in <_io.TextIOWrapper name='session_4/annotations\\\\20240321_190819_SN27_QUICKVIEW_VISUAL_1_2_0_SATL-2KM-11N_714_3632.txt' mode='r' encoding='utf-8'> is:\n",
      "0 0.150365 0.148289 0.016929 0.017575\n",
      "0 0.167858 0.163152 0.015832 0.015239\n",
      "0 0.160640 0.156843 0.015832 0.015239\n",
      " \n",
      "\n",
      "The content in <_io.TextIOWrapper name='session_4/annotations\\\\20240321_220846_SN31_QUICKVIEW_VISUAL_1_2_0_SATL-2KM-10N_560_4178.txt' mode='r' encoding='utf-8'> is:\n",
      "0 0.740619 0.184124 0.036588 0.032100\n",
      "0 0.987415 0.025473 0.025171 0.033063\n",
      "0 0.985605 0.486624 0.028790 0.041299\n",
      "0 0.654045 0.192139 0.013938 0.012688\n",
      "0 0.939129 0.212842 0.033025 0.035280\n",
      "0 0.811359 0.145792 0.034146 0.037822\n",
      "0 0.907700 0.491725 0.039356 0.033964\n",
      "0 0.876053 0.179600 0.030683 0.035358\n",
      "0 0.843980 0.162486 0.032689 0.037335\n",
      "0 0.971381 0.522192 0.037798 0.031596\n",
      " \n",
      "\n",
      "The content in <_io.TextIOWrapper name='session_4/annotations\\\\20240317_215115_SN28_QUICKVIEW_VISUAL_1_2_0_SATL-2KM-10N_552_4162.txt' mode='r' encoding='utf-8'> is:\n",
      "0 0.644997 0.271193 0.021613 0.019115\n",
      "0 0.748339 0.357924 0.031210 0.033048\n",
      "0 0.893437 0.583885 0.034269 0.031322\n",
      "0 0.792115 0.389636 0.022896 0.019675\n",
      "0 0.792322 0.353137 0.017776 0.018521\n",
      "0 0.886728 0.913591 0.017972 0.015048\n",
      " \n",
      "\n",
      "The content in <_io.TextIOWrapper name='session_4/annotations\\\\20240317_215115_SN28_QUICKVIEW_VISUAL_1_2_0_SATL-2KM-10N_552_4164.txt' mode='r' encoding='utf-8'> is:\n",
      "0 0.325773 0.372587 0.018029 0.018096\n",
      "0 0.237886 0.401327 0.018359 0.020392\n",
      "0 0.074933 0.433796 0.016708 0.018264\n",
      "0 0.185907 0.512335 0.022184 0.018175\n",
      "0 0.328024 0.828108 0.014267 0.015879\n",
      "0 0.248357 0.274138 0.016176 0.016741\n",
      "0 0.013203 0.450854 0.026237 0.029087\n",
      "0 0.067570 0.073687 0.016372 0.013432\n",
      "0 0.121428 0.625431 0.013807 0.012632\n",
      "0 0.332654 0.203337 0.017783 0.015801\n",
      "0 0.173452 0.835924 0.022962 0.021075\n",
      "0 0.087478 0.644546 0.018841 0.020459\n",
      "0 0.207128 0.131114 0.023841 0.018443\n",
      "0 0.256803 0.195431 0.020134 0.017660\n",
      "0 0.202643 0.860451 0.021232 0.020454\n",
      "0 0.277203 0.812996 0.021999 0.018947\n",
      "0 0.415440 0.192926 0.020969 0.023735\n",
      "0 0.061968 0.477394 0.017912 0.018998\n",
      "0 0.242352 0.743645 0.018275 0.020437\n",
      "0 0.107164 0.491092 0.020050 0.018331\n",
      "0 0.296585 0.118617 0.023539 0.020582\n",
      "0 0.244113 0.332970 0.021697 0.024026\n",
      "0 0.338807 0.266599 0.019183 0.017296\n",
      "0 0.222786 0.318883 0.018785 0.018919\n",
      "0 0.378485 0.267422 0.014216 0.018449\n",
      " \n",
      "\n",
      "The content in <_io.TextIOWrapper name='session_4/annotations\\\\20240317_215115_SN28_QUICKVIEW_VISUAL_1_2_0_SATL-2KM-10N_554_4162.txt' mode='r' encoding='utf-8'> is:\n",
      "0 0.238619 0.744394 0.015772 0.017951\n",
      "0 0.239563 0.715068 0.015497 0.015107\n",
      "0 0.239262 0.726373 0.015767 0.015086\n",
      " \n",
      "\n",
      "The content in <_io.TextIOWrapper name='session_4/annotations\\\\20240317_221229_SN31_QUICKVIEW_VISUAL_1_2_0_SATL-2KM-10N_556_4176.txt' mode='r' encoding='utf-8'> is:\n",
      "0 0.755274 0.625414 0.023636 0.025460\n",
      " \n",
      "\n",
      "The content in <_io.TextIOWrapper name='session_4/annotations\\\\20240316_191451_SN26_QUICKVIEW_VISUAL_1_2_0_SATL-2KM-11N_380_3764.txt' mode='r' encoding='utf-8'> is:\n",
      "0 0.563983 0.698683 0.008961 0.009650\n",
      "0 0.561932 0.690302 0.009608 0.009104\n",
      "0 0.558665 0.674004 0.009232 0.009194\n",
      " \n",
      "\n",
      "The content in <_io.TextIOWrapper name='session_4/annotations\\\\20240314_220020_SN30_QUICKVIEW_VISUAL_1_2_0_SATL-2KM-10N_544_4186.txt' mode='r' encoding='utf-8'> is:\n",
      "0 0.663940 0.204526 0.010742 0.010058\n",
      "0 0.673010 0.174258 0.010885 0.011558\n",
      "0 0.666987 0.194041 0.011749 0.010753\n",
      " \n",
      "\n",
      "The content in <_io.TextIOWrapper name='session_4/annotations\\\\20240314_220020_SN30_QUICKVIEW_VISUAL_1_2_0_SATL-2KM-10N_550_4202.txt' mode='r' encoding='utf-8'> is:\n",
      "0 0.373054 0.471322 0.015812 0.017455\n",
      "0 0.362842 0.442626 0.006911 0.005084\n",
      "0 0.361446 0.446715 0.006911 0.005084\n",
      "0 0.365401 0.472755 0.017317 0.018550\n",
      "0 0.350653 0.473953 0.016762 0.018163\n",
      "0 0.364092 0.439710 0.006906 0.005084\n",
      " \n",
      "\n",
      "The content in <_io.TextIOWrapper name='session_4/annotations\\\\20240308_191212_SN27_QUICKVIEW_VISUAL_1_2_0_SATL-2KM-11N_506_3614.txt' mode='r' encoding='utf-8'> is:\n",
      "0 0.416897 0.302024 0.022274 0.019897\n",
      "0 0.437130 0.327695 0.022274 0.019897\n",
      "0 0.447264 0.340175 0.020432 0.019199\n",
      " \n",
      "\n",
      "The content in <_io.TextIOWrapper name='session_4/annotations\\\\20240308_211248_SN29_QUICKVIEW_VISUAL_1_2_0_SATL-2KM-11N_718_3640.txt' mode='r' encoding='utf-8'> is:\n",
      "0 0.312121 0.330105 0.022030 0.018424\n",
      "0 0.325418 0.325796 0.021698 0.019658\n",
      "0 0.299363 0.332200 0.022030 0.018424\n",
      " \n",
      "\n",
      "The content in <_io.TextIOWrapper name='session_4/annotations\\\\20240304_212824_SN30_QUICKVIEW_VISUAL_1_2_0_SATL-2KM-11N_378_3722.txt' mode='r' encoding='utf-8'> is:\n",
      "0 0.043343 0.611657 0.005476 0.005577\n",
      "0 0.131943 0.705820 0.005644 0.006646\n",
      "0 0.119653 0.698765 0.005062 0.006422\n",
      "0 0.132441 0.699560 0.005644 0.006646\n",
      "0 0.131976 0.692388 0.005644 0.006646\n",
      "0 0.132094 0.685328 0.005644 0.006646\n",
      "0 0.119465 0.668936 0.006086 0.005353\n",
      "0 0.047833 0.637408 0.006081 0.005353\n",
      "0 0.084281 0.696725 0.004675 0.004535\n",
      "0 0.084756 0.691691 0.004675 0.004535\n",
      "0 0.012382 0.596783 0.005482 0.005582\n",
      "0 0.120899 0.751067 0.005941 0.005482\n",
      "0 0.140966 0.751170 0.005750 0.005498\n",
      " \n",
      "\n",
      "The content in <_io.TextIOWrapper name='session_4/annotations\\\\20240228_213951_SN29_QUICKVIEW_VISUAL_1_1_10_SATL-2KM-11N_248_4068.txt' mode='r' encoding='utf-8'> is:\n",
      "0 0.420798 0.585764 0.019133 0.017897\n",
      "0 0.418786 0.596305 0.019133 0.017897\n",
      "0 0.429236 0.569920 0.020125 0.019248\n",
      " \n",
      "\n",
      "The content in <_io.TextIOWrapper name='session_4/annotations\\\\20240227_214218_SN30_QUICKVIEW_VISUAL_1_1_10_SATL-2KM-10N_562_4170.txt' mode='r' encoding='utf-8'> is:\n",
      "0 0.780495 0.127445 0.032720 0.034540\n",
      "0 0.992818 0.105178 0.014365 0.024745\n",
      "0 0.722800 0.263835 0.031540 0.038200\n",
      "0 0.946928 0.128623 0.035925 0.031485\n",
      "0 0.943245 0.167285 0.020370 0.019560\n",
      "0 0.745085 0.183640 0.043660 0.037200\n",
      "0 0.877368 0.178385 0.029285 0.034940\n",
      "0 0.604990 0.137898 0.039150 0.032635\n",
      "0 0.841955 0.234228 0.030910 0.034295\n",
      "0 0.974172 0.520410 0.035935 0.032470\n",
      "0 0.845607 0.161543 0.029385 0.032155\n",
      "0 0.925745 0.456727 0.038650 0.033705\n",
      "0 0.891783 0.520835 0.037265 0.033000\n",
      "0 0.814468 0.142725 0.031315 0.038520\n",
      "0 0.808253 0.218622 0.031885 0.037055\n",
      "0 0.889798 0.025200 0.024345 0.021070\n",
      "0 0.655875 0.188278 0.014860 0.013455\n",
      "0 0.988803 0.022990 0.022395 0.034070\n",
      "0 0.907327 0.573178 0.018425 0.017295\n",
      " \n",
      "\n",
      "The content in <_io.TextIOWrapper name='session_4/annotations\\\\20240224_214855_SN30_QUICKVIEW_VISUAL_1_1_10_SATL-2KM-10N_552_4162.txt' mode='r' encoding='utf-8'> is:\n",
      "0 0.075828 0.432950 0.016705 0.018400\n",
      "0 0.348413 0.245580 0.022005 0.018580\n",
      "0 0.013862 0.448728 0.027645 0.031255\n",
      "0 0.023720 0.039730 0.029590 0.033360\n",
      "0 0.044787 0.666323 0.023305 0.020095\n",
      "0 0.308050 0.827395 0.020340 0.019450\n",
      "0 0.377377 0.895015 0.022215 0.025230\n",
      "0 0.283313 0.351783 0.023755 0.022405\n",
      "0 0.249390 0.274295 0.014940 0.015760\n",
      "0 0.167243 0.549743 0.018165 0.017285\n",
      "0 0.212157 0.450368 0.021055 0.017915\n",
      "0 0.006035 0.183652 0.012040 0.017815\n",
      "0 0.234418 0.210308 0.014315 0.015715\n",
      "0 0.259283 0.195057 0.020875 0.017075\n",
      "0 0.058942 0.088373 0.015215 0.012555\n",
      "0 0.088102 0.644295 0.019245 0.020990\n",
      "0 0.339627 0.265832 0.016095 0.013465\n",
      "0 0.221768 0.320780 0.020375 0.022500\n",
      "0 0.207967 0.471163 0.024165 0.017795\n",
      "0 0.333962 0.203072 0.018685 0.015785\n",
      "0 0.239090 0.401700 0.016730 0.019090\n",
      "0 0.244705 0.333305 0.021210 0.024920\n",
      "0 0.347473 0.222670 0.019255 0.017470\n",
      "0 0.262940 0.406310 0.021350 0.023080\n",
      "0 0.452178 0.048410 0.015805 0.016090\n",
      " \n",
      "\n",
      "The content in <_io.TextIOWrapper name='session_4/annotations\\\\20240224_214855_SN30_QUICKVIEW_VISUAL_1_1_10_SATL-2KM-10N_554_4162.txt' mode='r' encoding='utf-8'> is:\n",
      "0 0.830079 0.870766 0.004971 0.005626\n",
      "0 0.803068 0.854093 0.005808 0.006140\n",
      "0 0.807703 0.857413 0.006025 0.006320\n",
      "0 0.821749 0.865673 0.004971 0.005620\n",
      "0 0.817056 0.863240 0.004966 0.005620\n",
      "0 0.825450 0.868107 0.004966 0.005620\n",
      "0 0.812493 0.860233 0.006025 0.006320\n",
      " \n",
      "\n",
      "The content in <_io.TextIOWrapper name='session_4/annotations\\\\20240223_025420_SN24_QUICKVIEW_VISUAL_1_1_10_SATL-2KM-51N_686_4422.txt' mode='r' encoding='utf-8'> is:\n",
      "0 0.533704 0.607773 0.030867 0.032036\n",
      "0 0.632435 0.674877 0.034288 0.043285\n",
      "0 0.520897 0.572465 0.033523 0.032928\n",
      " \n",
      "\n",
      "The content in <_io.TextIOWrapper name='session_4/annotations\\\\20240222_074151_SN26_QUICKVIEW_VISUAL_1_1_10_SATL-2KM-39N_556_2794.txt' mode='r' encoding='utf-8'> is:\n",
      "0 0.980569 0.688030 0.036328 0.034420\n",
      " \n",
      "\n",
      "The content in <_io.TextIOWrapper name='session_4/annotations\\\\20240222_074151_SN26_QUICKVIEW_VISUAL_1_1_10_SATL-2KM-39N_558_2796.txt' mode='r' encoding='utf-8'> is:\n",
      "0 0.160319 0.125327 0.035512 0.034207\n",
      "0 0.793768 0.069994 0.038678 0.034080\n",
      "0 0.872728 0.800433 0.020561 0.018258\n",
      "0 0.145497 0.084592 0.030017 0.031156\n",
      "0 0.729229 0.735559 0.030255 0.031228\n",
      "0 0.843181 0.729703 0.037522 0.033600\n",
      " \n",
      "\n",
      "The content in <_io.TextIOWrapper name='session_4/annotations\\\\20240222_074151_SN26_QUICKVIEW_VISUAL_1_1_10_SATL-2KM-39N_560_2794.txt' mode='r' encoding='utf-8'> is:\n",
      "0 0.577818 0.619800 0.033357 0.040195\n",
      "0 0.286092 0.687346 0.033128 0.033816\n",
      "0 0.534078 0.422773 0.031717 0.032371\n",
      "0 0.715933 0.889252 0.032716 0.032928\n",
      "0 0.591026 0.455654 0.030391 0.032983\n",
      "0 0.858974 0.985223 0.034445 0.029554\n",
      "0 0.687029 0.818612 0.033362 0.033170\n",
      "0 0.701349 0.854003 0.033017 0.033124\n",
      "0 0.729760 0.924118 0.033374 0.032818\n",
      "0 0.269388 0.640470 0.039278 0.042112\n",
      "0 0.675820 0.781549 0.037318 0.034700\n",
      "0 0.746230 0.966534 0.034552 0.033051\n",
      "0 0.547932 0.477034 0.040064 0.040714\n",
      "0 0.338153 0.235348 0.018423 0.019775\n",
      "0 0.275302 0.921545 0.017293 0.020132\n",
      "0 0.216179 0.891959 0.017935 0.019414\n",
      "0 0.155144 0.916101 0.017930 0.020064\n",
      "0 0.193695 0.954535 0.017437 0.020000\n",
      "0 0.173179 0.962478 0.018071 0.020187\n",
      " \n",
      "\n",
      "The content in <_io.TextIOWrapper name='session_4/annotations\\\\20240222_074151_SN26_QUICKVIEW_VISUAL_1_1_10_SATL-2KM-39N_560_2796.txt' mode='r' encoding='utf-8'> is:\n",
      "0 0.077631 0.638100 0.034496 0.034178\n",
      "0 0.090242 0.672584 0.032741 0.031628\n",
      "0 0.134943 0.306160 0.031883 0.035261\n",
      " \n",
      "\n",
      "The content in <_io.TextIOWrapper name='session_4/annotations\\\\20240222_074151_SN26_QUICKVIEW_VISUAL_1_1_10_SATL-2KM-39N_562_2794.txt' mode='r' encoding='utf-8'> is:\n",
      "0 0.834409 0.647344 0.025742 0.028253\n",
      " \n",
      "\n",
      "The content in <_io.TextIOWrapper name='session_4/annotations\\\\20240222_074155_SN26_QUICKVIEW_VISUAL_1_1_10_SATL-2KM-39N_556_2792.txt' mode='r' encoding='utf-8'> is:\n",
      "0 0.623957 0.914594 0.041445 0.041717\n",
      "0 0.734405 0.868632 0.036307 0.042397\n",
      "0 0.790880 0.741143 0.035470 0.040603\n",
      "0 0.946483 0.959885 0.014743 0.016677\n",
      "0 0.845433 0.891419 0.018177 0.018462\n",
      "0 0.668100 0.792618 0.018147 0.020510\n",
      "0 0.583054 0.931526 0.040327 0.042210\n",
      " \n",
      "\n",
      "The content in <_io.TextIOWrapper name='session_4/annotations\\\\20240222_074155_SN26_QUICKVIEW_VISUAL_1_1_10_SATL-2KM-39N_556_2794.txt' mode='r' encoding='utf-8'> is:\n",
      "0 0.824326 0.790550 0.035410 0.032847\n",
      " \n",
      "\n",
      "The content in <_io.TextIOWrapper name='session_4/annotations\\\\20240222_074155_SN26_QUICKVIEW_VISUAL_1_1_10_SATL-2KM-39N_558_2794.txt' mode='r' encoding='utf-8'> is:\n",
      "0 0.663251 0.023940 0.032121 0.033965\n",
      " \n",
      "\n",
      "The content in <_io.TextIOWrapper name='session_4/annotations\\\\20240222_074155_SN26_QUICKVIEW_VISUAL_1_1_10_SATL-2KM-39N_560_2792.txt' mode='r' encoding='utf-8'> is:\n",
      "0 0.319887 0.105047 0.026685 0.030314\n",
      "0 0.439632 0.032952 0.018092 0.020999\n",
      "0 0.256997 0.062053 0.022911 0.018496\n",
      "0 0.224994 0.008217 0.020374 0.016434\n",
      " \n",
      "\n",
      "The content in <_io.TextIOWrapper name='session_4/annotations\\\\20240222_074155_SN26_QUICKVIEW_VISUAL_1_1_10_SATL-2KM-39N_562_2792.txt' mode='r' encoding='utf-8'> is:\n",
      "0 0.079883 0.957807 0.018381 0.022456\n",
      "0 0.076360 0.855225 0.019528 0.021203\n",
      " \n",
      "\n",
      "The content in <_io.TextIOWrapper name='session_4/annotations\\\\20240222_074155_SN26_QUICKVIEW_VISUAL_1_1_10_SATL-2KM-39N_562_2794.txt' mode='r' encoding='utf-8'> is:\n",
      "0 0.188404 0.863889 0.023767 0.037094\n",
      " \n",
      "\n",
      "The content in <_io.TextIOWrapper name='session_4/annotations\\\\20240222_074256_SN26_QUICKVIEW_VISUAL_1_1_10_SATL-2KM-39N_564_2790.txt' mode='r' encoding='utf-8'> is:\n",
      "0 0.070706 0.735808 0.008384 0.007819\n",
      "0 0.073483 0.726167 0.009203 0.007983\n",
      " \n",
      "\n",
      "The content in <_io.TextIOWrapper name='session_4/annotations\\\\20240222_212250_SN30_QUICKVIEW_VISUAL_1_1_10_SATL-2KM-11N_382_3722.txt' mode='r' encoding='utf-8'> is:\n",
      "0 0.755760 0.626424 0.022692 0.023667\n",
      " \n",
      "\n",
      "The content in <_io.TextIOWrapper name='session_4/annotations\\\\20240221_190608_SN26_QUICKVIEW_VISUAL_1_1_10_SATL-2KM-11N_380_3764.txt' mode='r' encoding='utf-8'> is:\n",
      "0 0.409567 0.276515 0.003757 0.005723\n",
      "0 0.408678 0.261611 0.005178 0.006431\n",
      "0 0.409257 0.269280 0.004535 0.006302\n",
      "0 0.419527 0.136557 0.006045 0.007371\n",
      "0 0.419463 0.128814 0.005510 0.006391\n",
      "0 0.409708 0.283436 0.004356 0.005911\n",
      "0 0.409837 0.290267 0.004356 0.005911\n",
      "0 0.419094 0.121958 0.005990 0.006985\n",
      "0 0.417713 0.114700 0.005990 0.006985\n",
      "0 0.407153 0.420498 0.005990 0.006985\n",
      " \n",
      "\n",
      "The content in <_io.TextIOWrapper name='session_4/annotations\\\\20240220_190455_SN27_QUICKVIEW_VISUAL_1_1_10_SATL-2KM-11N_718_3608.txt' mode='r' encoding='utf-8'> is:\n",
      "0 0.752241 0.046576 0.016765 0.017894\n",
      " \n",
      "\n",
      "The content in <_io.TextIOWrapper name='session_4/annotations\\\\20240219_214312_SN28_QUICKVIEW_VISUAL_1_1_10_SATL-2KM-11N_252_3954.txt' mode='r' encoding='utf-8'> is:\n",
      "0 0.098253 0.314865 0.005876 0.006173\n",
      "0 0.095185 0.306633 0.005876 0.006173\n",
      "0 0.101482 0.306794 0.005876 0.006173\n",
      "0 0.151830 0.325676 0.005876 0.006173\n",
      "0 0.134077 0.305504 0.005876 0.006173\n",
      "0 0.128591 0.305988 0.005876 0.006173\n",
      "0 0.123266 0.306310 0.005876 0.006173\n",
      "0 0.118102 0.307278 0.005876 0.006173\n",
      "0 0.108419 0.303081 0.005876 0.006173\n",
      "0 0.115915 0.344698 0.005715 0.005798\n",
      "0 0.107613 0.323024 0.005772 0.006048\n",
      "0 0.154267 0.365793 0.005871 0.005887\n",
      "0 0.103305 0.335868 0.005715 0.005975\n",
      "0 0.112369 0.326739 0.006048 0.006063\n",
      "0 0.107694 0.339987 0.005725 0.006225\n",
      "0 0.097780 0.331461 0.005772 0.006261\n",
      "0 0.092205 0.326698 0.006271 0.006147\n",
      "0 0.148164 0.360905 0.005731 0.006022\n",
      "0 0.103157 0.319124 0.005876 0.006173\n",
      "0 0.151838 0.355515 0.006578 0.006006\n",
      "0 0.160772 0.371594 0.005954 0.005923\n",
      "0 0.118339 0.329857 0.005829 0.006162\n",
      "0 0.136461 0.413240 0.004477 0.004139\n",
      " \n",
      "\n",
      "The content in <_io.TextIOWrapper name='session_4/annotations\\\\20240218_180121_SN33_QUICKVIEW_VISUAL_1_1_10_SATL-2KM-10N_568_4176.txt' mode='r' encoding='utf-8'> is:\n",
      "0 0.626404 0.193044 0.005302 0.005177\n",
      "0 0.625439 0.198349 0.005302 0.005177\n",
      "0 0.639192 0.210084 0.005302 0.005177\n",
      "0 0.597564 0.223098 0.007312 0.007254\n",
      "0 0.419812 0.181644 0.007855 0.007790\n",
      "0 0.520955 0.312311 0.005771 0.005332\n",
      "0 0.453086 0.340435 0.005771 0.005332\n",
      "0 0.466521 0.348426 0.005764 0.005332\n",
      "0 0.454822 0.345067 0.005771 0.005338\n",
      "0 0.460050 0.345358 0.005771 0.005332\n",
      "0 0.339755 0.293975 0.006669 0.006142\n",
      "0 0.340754 0.287143 0.006669 0.006142\n",
      "0 0.351096 0.275311 0.006669 0.006135\n",
      "0 0.388958 0.226979 0.006669 0.006135\n",
      "0 0.386619 0.238480 0.006669 0.006135\n",
      "0 0.397627 0.205978 0.006662 0.006142\n",
      "0 0.398127 0.212147 0.006669 0.006142\n",
      "0 0.404038 0.208985 0.006669 0.006142\n",
      "0 0.506458 0.286463 0.010704 0.011628\n",
      "0 0.481582 0.325435 0.015871 0.014689\n",
      "0 0.556712 0.230462 0.015878 0.015901\n",
      "0 0.414377 0.381229 0.008190 0.008245\n",
      "0 0.526176 0.274561 0.008599 0.008774\n",
      "0 0.421233 0.387445 0.008418 0.008727\n",
      "0 0.437205 0.397217 0.008727 0.008071\n",
      "0 0.428515 0.393463 0.008251 0.008439\n",
      "0 0.518623 0.264404 0.013693 0.013121\n",
      "0 0.411991 0.179015 0.007909 0.008091\n",
      "0 0.514792 0.291594 0.008566 0.009283\n",
      "0 0.544390 0.249789 0.013472 0.013550\n",
      "0 0.411662 0.195717 0.007855 0.007790\n",
      "0 0.498127 0.340492 0.015395 0.017019\n",
      "0 0.534115 0.278305 0.008257 0.008332\n",
      "0 0.592738 0.218101 0.007567 0.007816\n",
      "0 0.406454 0.375700 0.008150 0.008439\n",
      "0 0.455375 0.365445 0.007895 0.007689\n",
      "0 0.566119 0.244930 0.008552 0.008587\n",
      "0 0.533566 0.241286 0.009008 0.009015\n",
      "0 0.081639 0.679233 0.020395 0.013269\n",
      "0 0.512912 0.350777 0.010074 0.010810\n",
      "0 0.573857 0.203969 0.008318 0.008674\n",
      "0 0.430013 0.095509 0.006126 0.006664\n",
      "0 0.432373 0.108704 0.006126 0.006664\n",
      "0 0.424729 0.104675 0.006119 0.006671\n",
      "0 0.417225 0.106762 0.006126 0.006664\n",
      "0 0.409718 0.120372 0.006126 0.006664\n",
      "0 0.421253 0.126899 0.006126 0.006671\n",
      "0 0.434182 0.062592 0.006126 0.006671\n",
      "0 0.395127 0.033704 0.006126 0.006671\n",
      "0 0.401381 0.035372 0.006126 0.006671\n",
      "0 0.406384 0.037592 0.006119 0.006664\n",
      "0 0.412084 0.039816 0.006126 0.006664\n",
      "0 0.416944 0.041758 0.006126 0.006664\n",
      "0 0.440851 0.051202 0.006126 0.006664\n",
      "0 0.446548 0.053289 0.006126 0.006671\n",
      "0 0.458499 0.058704 0.006126 0.006664\n",
      "0 0.450576 0.070928 0.006126 0.006664\n",
      "0 0.465878 0.046216 0.007252 0.006966\n",
      "0 0.411944 0.022455 0.007252 0.006973\n",
      "0 0.447741 0.038627 0.004920 0.004595\n",
      "0 0.431679 0.032455 0.004913 0.004588\n",
      "0 0.435292 0.035650 0.004913 0.004588\n",
      "0 0.465449 0.025787 0.004920 0.004595\n",
      "0 0.467590 0.031772 0.005302 0.005177\n",
      "0 0.458361 0.044816 0.005302 0.005171\n",
      "0 0.444883 0.073704 0.005302 0.005171\n",
      "0 0.419310 0.090231 0.005308 0.005177\n",
      "0 0.419588 0.095509 0.005302 0.005177\n",
      "0 0.422644 0.114397 0.005302 0.005177\n",
      "0 0.459058 0.022455 0.005302 0.005177\n",
      "0 0.458918 0.009260 0.005302 0.005177\n",
      "0 0.475040 0.012733 0.005308 0.005171\n",
      "0 0.448341 0.024032 0.005302 0.005171\n",
      "0 0.419628 0.028935 0.005302 0.005171\n",
      "0 0.424454 0.030060 0.005302 0.005171\n",
      "0 0.427590 0.032552 0.005302 0.005171\n",
      "0 0.440137 0.035526 0.005302 0.005171\n",
      "0 0.443676 0.038580 0.005302 0.005171\n",
      "0 0.384561 0.028614 0.005302 0.005171\n",
      "0 0.615627 0.189829 0.005302 0.005177\n",
      "0 0.620533 0.194330 0.005302 0.005177\n",
      "0 0.629541 0.202368 0.005302 0.005177\n",
      "0 0.606535 0.182354 0.005308 0.005177\n",
      "0 0.634769 0.200599 0.005302 0.005177\n",
      "0 0.630905 0.196902 0.005308 0.005177\n",
      "0 0.621418 0.189106 0.005302 0.005177\n",
      "0 0.402121 0.364437 0.008036 0.008848\n",
      "0 0.437661 0.389484 0.007761 0.006698\n",
      "0 0.443016 0.386236 0.008740 0.008104\n",
      "0 0.446555 0.380810 0.008365 0.007167\n",
      "0 0.449745 0.377086 0.007761 0.006698\n",
      "0 0.447098 0.356283 0.007761 0.006698\n",
      "0 0.438190 0.370476 0.007761 0.006698\n",
      "0 0.431625 0.370281 0.006186 0.005586\n",
      "0 0.438552 0.376125 0.006180 0.005593\n",
      "0 0.399504 0.369943 0.007694 0.008272\n",
      "0 0.431736 0.363925 0.007064 0.006457\n",
      "0 0.436076 0.381674 0.007071 0.007314\n",
      "0 0.449665 0.369022 0.007909 0.007997\n",
      "0 0.452637 0.361812 0.006186 0.005593\n",
      "0 0.490533 0.314635 0.010704 0.011628\n",
      "0 0.505499 0.315208 0.010717 0.010844\n",
      "0 0.514497 0.325650 0.012962 0.012465\n",
      "0 0.520707 0.331949 0.009926 0.009645\n",
      "0 0.527832 0.327220 0.008814 0.008252\n",
      "0 0.501069 0.308436 0.006441 0.005365\n",
      "0 0.580529 0.207358 0.009316 0.010871\n",
      "0 0.646461 0.172528 0.006273 0.005646\n",
      "0 0.637540 0.164943 0.005483 0.004474\n",
      "0 0.623693 0.152448 0.005483 0.004481\n",
      "0 0.627748 0.156383 0.005483 0.004474\n",
      "0 0.632728 0.160553 0.005483 0.004481\n",
      "0 0.632138 0.175713 0.005697 0.005171\n",
      "0 0.641297 0.183697 0.005690 0.005171\n",
      "0 0.636434 0.185553 0.005697 0.005171\n",
      "0 0.607131 0.176638 0.005697 0.005171\n",
      "0 0.611997 0.181038 0.005697 0.005171\n",
      "0 0.596247 0.189139 0.005697 0.005177\n",
      "0 0.591032 0.191105 0.005697 0.005171\n",
      "0 0.597054 0.212405 0.005690 0.005171\n",
      "0 0.583157 0.200596 0.005697 0.005171\n",
      "0 0.649869 0.197009 0.005690 0.005177\n",
      "0 0.611997 0.150944 0.005697 0.005171\n",
      "0 0.622621 0.167723 0.005697 0.005171\n",
      "0 0.493184 0.085147 0.006126 0.006664\n",
      "0 0.442795 0.084816 0.006126 0.006671\n",
      "0 0.430985 0.089538 0.006126 0.006671\n",
      "0 0.439460 0.094397 0.006119 0.006664\n",
      " \n",
      "\n",
      "The content in <_io.TextIOWrapper name='session_4/annotations\\\\20240216_213630_SN31_QUICKVIEW_VISUAL_1_1_10_SATL-2KM-11N_418_3724.txt' mode='r' encoding='utf-8'> is:\n",
      "0 0.301039 0.979459 0.026224 0.020590\n",
      " \n",
      "\n",
      "The content in <_io.TextIOWrapper name='session_4/annotations\\\\20240214_184340_SN24_QUICKVIEW_VISUAL_1_1_10_SATL-2KM-11N_688_3630.txt' mode='r' encoding='utf-8'> is:\n",
      " \n",
      "\n",
      "The content in <_io.TextIOWrapper name='session_4/annotations\\\\20240213_212524_SN29_QUICKVIEW_VISUAL_1_1_10_SATL-2KM-11N_540_3748.txt' mode='r' encoding='utf-8'> is:\n",
      "0 0.597979 0.598360 0.021144 0.018798\n",
      "0 0.627932 0.620822 0.021144 0.018798\n",
      "0 0.619386 0.613115 0.021144 0.018798\n",
      " \n",
      "\n",
      "The content in <_io.TextIOWrapper name='session_4/annotations\\\\20240213_212524_SN29_QUICKVIEW_VISUAL_1_1_10_SATL-2KM-11N_542_3750.txt' mode='r' encoding='utf-8'> is:\n",
      "0 0.732847 0.528197 0.010546 0.010378\n",
      "0 0.616644 0.341751 0.007248 0.006199\n",
      "0 0.595767 0.351255 0.013519 0.011349\n",
      "0 0.702744 0.501580 0.010804 0.008199\n",
      "0 0.525709 0.354963 0.012584 0.012446\n",
      "0 0.702093 0.491751 0.010089 0.009517\n",
      "0 0.784758 0.494643 0.011912 0.011585\n",
      "0 0.704275 0.537869 0.012122 0.010877\n",
      "0 0.763220 0.498039 0.011061 0.011596\n",
      "0 0.677169 0.523168 0.007248 0.006199\n",
      "0 0.703049 0.511357 0.011949 0.009370\n",
      "0 0.444322 0.412906 0.007248 0.006199\n",
      "0 0.449664 0.367010 0.007248 0.006199\n",
      "0 0.733774 0.507514 0.012904 0.011333\n",
      "0 0.702117 0.481336 0.009601 0.009769\n",
      "0 0.586305 0.383606 0.012421 0.011181\n",
      "0 0.670184 0.522675 0.006744 0.006157\n",
      "0 0.444034 0.365567 0.007248 0.006199\n",
      "0 0.732912 0.495756 0.011654 0.012362\n",
      " \n",
      "\n",
      "The content in <_io.TextIOWrapper name='session_4/annotations\\\\20240213_212524_SN29_QUICKVIEW_VISUAL_1_1_10_SATL-2KM-11N_544_3742.txt' mode='r' encoding='utf-8'> is:\n",
      "0 0.436958 0.059813 0.018394 0.017690\n",
      "0 0.462674 0.018861 0.018832 0.019477\n",
      "0 0.459745 0.060090 0.017710 0.016684\n",
      " \n",
      "\n",
      "The content in <_io.TextIOWrapper name='session_4/annotations\\\\20240212_213506_SN31_QUICKVIEW_VISUAL_1_1_10_SATL-2KM-11N_408_3712.txt' mode='r' encoding='utf-8'> is:\n",
      "0 0.277046 0.720068 0.038841 0.034631\n",
      "0 0.239923 0.738441 0.039237 0.033608\n",
      "0 0.202694 0.757343 0.038692 0.030434\n",
      " \n",
      "\n",
      "The content in <_io.TextIOWrapper name='session_4/annotations\\\\20240211_211057_SN30_QUICKVIEW_VISUAL_1_1_10_SATL-2KM-11N_700_3690.txt' mode='r' encoding='utf-8'> is:\n",
      "0 0.684463 0.328362 0.028814 0.030169\n",
      "0 0.707545 0.324975 0.035169 0.033734\n",
      "0 0.670045 0.330508 0.028814 0.030169\n",
      " \n",
      "\n",
      "The content in <_io.TextIOWrapper name='session_4/annotations\\\\20240209_212744_SN29_QUICKVIEW_VISUAL_1_1_10_SATL-2KM-11N_380_3722.txt' mode='r' encoding='utf-8'> is:\n",
      " \n",
      "\n",
      "The content in <_io.TextIOWrapper name='session_4/annotations\\\\20240208_184650_SN24_QUICKVIEW_VISUAL_1_1_10_SATL-2KM-11N_624_3632.txt' mode='r' encoding='utf-8'> is:\n",
      "0 0.897483 0.798299 0.041559 0.038296\n",
      "0 0.981612 0.528968 0.033957 0.031632\n",
      "0 0.796504 0.808749 0.041687 0.039107\n",
      "0 0.804878 0.555735 0.028102 0.019817\n",
      "0 0.712006 0.565516 0.027042 0.019856\n",
      "0 0.990350 0.634928 0.019301 0.026482\n",
      "0 0.844043 0.597497 0.023135 0.019134\n",
      "0 0.988066 0.599353 0.023868 0.031382\n",
      "0 0.785394 0.619964 0.018979 0.022603\n",
      "0 0.915283 0.536729 0.034162 0.031726\n",
      "0 0.968513 0.839883 0.027070 0.030710\n",
      " \n",
      "\n",
      "The content in <_io.TextIOWrapper name='session_4/annotations\\\\20240203_173953_SN33_QUICKVIEW_VISUAL_1_1_10_SATL-2KM-11N_366_3756.txt' mode='r' encoding='utf-8'> is:\n",
      "0 0.048066 0.478577 0.029795 0.025599\n",
      " \n",
      "\n",
      "The content in <_io.TextIOWrapper name='session_4/annotations\\\\20240203_173953_SN33_QUICKVIEW_VISUAL_1_1_10_SATL-2KM-11N_368_3756.txt' mode='r' encoding='utf-8'> is:\n",
      "0 0.300351 0.572988 0.010707 0.011726\n",
      "0 0.290439 0.567743 0.010749 0.011524\n",
      "0 0.319878 0.583391 0.011186 0.013094\n",
      " \n",
      "\n",
      "The content in <_io.TextIOWrapper name='session_4/annotations\\\\20240202_184725_SN24_QUICKVIEW_VISUAL_1_1_10_SATL-2KM-11N_624_3630.txt' mode='r' encoding='utf-8'> is:\n",
      "0 0.417018 0.281210 0.004026 0.006107\n",
      "0 0.416711 0.273826 0.004026 0.006107\n",
      "0 0.427073 0.119422 0.005374 0.005881\n",
      "0 0.427579 0.126210 0.005600 0.006265\n",
      "0 0.427586 0.134265 0.006449 0.008080\n",
      "0 0.416778 0.259102 0.004784 0.006107\n",
      "0 0.416715 0.266649 0.004592 0.006529\n",
      "0 0.425542 0.111920 0.006161 0.007259\n",
      "0 0.414762 0.418526 0.005024 0.006827\n",
      " \n",
      "\n",
      "The content in <_io.TextIOWrapper name='session_4/annotations\\\\20240202_191114_SN27_QUICKVIEW_VISUAL_1_1_10_SATL-2KM-11N_718_3608.txt' mode='r' encoding='utf-8'> is:\n",
      "0 0.809336 0.459905 0.032402 0.031296\n",
      " \n",
      "\n",
      "The content in <_io.TextIOWrapper name='session_4/annotations\\\\20240201_075140_SN26_QUICKVIEW_VISUAL_1_1_10_SATL-2KM-39N_556_2792.txt' mode='r' encoding='utf-8'> is:\n",
      "0 0.668467 0.793757 0.019534 0.021373\n",
      "0 0.791474 0.739966 0.036889 0.041527\n",
      "0 0.522213 0.575824 0.034682 0.032280\n",
      "0 0.624131 0.915429 0.041839 0.042548\n",
      "0 0.532019 0.716958 0.020474 0.021879\n",
      "0 0.815071 0.827248 0.019417 0.019089\n",
      "0 0.583096 0.932414 0.040603 0.042195\n",
      "0 0.534921 0.611476 0.032296 0.032139\n",
      "0 0.634022 0.679154 0.034589 0.042527\n",
      " \n",
      "\n",
      "The content in <_io.TextIOWrapper name='session_4/annotations\\\\20240201_075140_SN26_QUICKVIEW_VISUAL_1_1_10_SATL-2KM-39N_556_2794.txt' mode='r' encoding='utf-8'> is:\n",
      "0 0.824156 0.789617 0.033672 0.031733\n",
      " \n",
      "\n",
      "The content in <_io.TextIOWrapper name='session_4/annotations\\\\20240201_075140_SN26_QUICKVIEW_VISUAL_1_1_10_SATL-2KM-39N_558_2794.txt' mode='r' encoding='utf-8'> is:\n",
      "0 0.700225 0.108815 0.019032 0.021284\n",
      "0 0.665336 0.022864 0.031118 0.032264\n",
      "0 0.732262 0.094996 0.033054 0.034083\n",
      "0 0.648281 0.085502 0.020109 0.018611\n",
      "0 0.179413 0.383256 0.021547 0.018874\n",
      " \n",
      "\n",
      "The content in <_io.TextIOWrapper name='session_4/annotations\\\\20240201_075140_SN26_QUICKVIEW_VISUAL_1_1_10_SATL-2KM-39N_560_2792.txt' mode='r' encoding='utf-8'> is:\n",
      "0 0.192823 0.210391 0.039781 0.034204\n",
      "0 0.731272 0.734397 0.033090 0.031094\n",
      "0 0.763179 0.007760 0.034557 0.015520\n",
      "0 0.111586 0.009089 0.032527 0.018177\n",
      "0 0.512888 0.870061 0.040656 0.033009\n",
      "0 0.488773 0.801750 0.030198 0.029866\n",
      "0 0.820296 0.139921 0.032936 0.031466\n",
      "0 0.791128 0.069998 0.034852 0.032268\n",
      "0 0.982195 0.133629 0.033398 0.035310\n",
      "0 0.969277 0.898503 0.034439 0.034714\n",
      "0 0.497957 0.837088 0.038862 0.031648\n",
      "0 0.276691 0.417165 0.039441 0.034070\n",
      "0 0.775498 0.036341 0.025950 0.024386\n",
      " \n",
      "\n",
      "The content in <_io.TextIOWrapper name='session_4/annotations\\\\20240201_075140_SN26_QUICKVIEW_VISUAL_1_1_10_SATL-2KM-39N_560_2794.txt' mode='r' encoding='utf-8'> is:\n",
      "0 0.858659 0.983900 0.034508 0.031770\n",
      "0 0.175936 0.907015 0.018076 0.018048\n",
      "0 0.761478 0.991513 0.036387 0.016974\n",
      "0 0.112578 0.993631 0.031588 0.012738\n",
      "0 0.578868 0.616995 0.040968 0.041499\n",
      "0 0.733925 0.919844 0.038267 0.033629\n",
      "0 0.593844 0.455178 0.041458 0.040636\n",
      "0 0.727315 0.782426 0.036501 0.043678\n",
      "0 0.337831 0.232254 0.019777 0.019340\n",
      "0 0.720543 0.885415 0.040227 0.033544\n",
      "0 0.153269 0.969652 0.018210 0.019781\n",
      "0 0.173570 0.961201 0.018424 0.020101\n",
      "0 0.523412 0.385553 0.034188 0.032321\n",
      "0 0.657009 0.581490 0.022442 0.019692\n",
      "0 0.536926 0.419506 0.035075 0.032515\n",
      " \n",
      "\n",
      "The content in <_io.TextIOWrapper name='session_4/annotations\\\\20240201_075140_SN26_QUICKVIEW_VISUAL_1_1_10_SATL-2KM-39N_560_2796.txt' mode='r' encoding='utf-8'> is:\n",
      "0 0.226480 0.122562 0.022317 0.019567\n",
      " \n",
      "\n",
      "The content in <_io.TextIOWrapper name='session_4/annotations\\\\20240201_075140_SN26_QUICKVIEW_VISUAL_1_1_10_SATL-2KM-39N_562_2792.txt' mode='r' encoding='utf-8'> is:\n",
      "0 0.090903 0.671985 0.034354 0.031624\n",
      "0 0.013925 0.883773 0.027849 0.033062\n",
      " \n",
      "\n",
      "The content in <_io.TextIOWrapper name='session_4/annotations\\\\20240201_075140_SN26_QUICKVIEW_VISUAL_1_1_10_SATL-2KM-39N_562_2794.txt' mode='r' encoding='utf-8'> is:\n",
      "0 0.809311 0.459309 0.032224 0.031037\n",
      " \n",
      "\n",
      "The content in <_io.TextIOWrapper name='session_4/annotations\\\\20240201_075143_SN26_QUICKVIEW_VISUAL_1_1_10_SATL-2KM-39N_556_2792.txt' mode='r' encoding='utf-8'> is:\n",
      "0 0.371464 0.381051 0.023414 0.032171\n",
      " \n",
      "\n",
      "The content in <_io.TextIOWrapper name='session_4/annotations\\\\20240201_075143_SN26_QUICKVIEW_VISUAL_1_1_10_SATL-2KM-39N_562_2788.txt' mode='r' encoding='utf-8'> is:\n",
      "0 0.344096 0.295237 0.020480 0.023175\n",
      "0 0.335848 0.339410 0.019847 0.023113\n",
      "0 0.355045 0.261777 0.021916 0.025746\n",
      " \n",
      "\n",
      "The content in <_io.TextIOWrapper name='session_4/annotations\\\\20240130_173903_SN33_QUICKVIEW_VISUAL_1_1_10_SATL-2KM-11N_360_3748.txt' mode='r' encoding='utf-8'> is:\n",
      "0 0.649929 0.188017 0.020277 0.018034\n",
      "0 0.668155 0.187492 0.020277 0.018034\n",
      "0 0.662138 0.187729 0.020277 0.018034\n",
      " \n",
      "\n",
      "The content in <_io.TextIOWrapper name='session_4/annotations\\\\20240130_173903_SN33_QUICKVIEW_VISUAL_1_1_10_SATL-2KM-11N_364_3754.txt' mode='r' encoding='utf-8'> is:\n",
      "0 0.842138 0.577294 0.022616 0.018644\n",
      "0 0.837867 0.536766 0.022153 0.019373\n",
      "0 0.760757 0.647099 0.024384 0.019463\n",
      "0 0.785031 0.619582 0.019938 0.023989\n",
      "0 0.967847 0.839740 0.029186 0.030791\n",
      "0 0.794811 0.806192 0.032525 0.033853\n",
      "0 0.897910 0.798034 0.041480 0.039785\n",
      "0 0.855263 0.938014 0.030311 0.027282\n",
      "0 0.840390 0.556921 0.023401 0.018599\n",
      "0 0.889492 0.881155 0.022350 0.022706\n",
      "0 0.847647 0.616424 0.023373 0.020124\n",
      "0 0.918432 0.535494 0.034107 0.032435\n",
      " \n",
      "\n",
      "The content in <_io.TextIOWrapper name='session_4/annotations\\\\20240130_173903_SN33_QUICKVIEW_VISUAL_1_1_10_SATL-2KM-11N_366_3756.txt' mode='r' encoding='utf-8'> is:\n",
      "0 0.795235 0.845322 0.030535 0.033121\n",
      "0 0.969307 0.624655 0.033765 0.032611\n",
      "0 0.971970 0.660355 0.038820 0.034881\n",
      "0 0.889642 0.864565 0.038098 0.039355\n",
      "0 0.955919 0.926776 0.024720 0.031876\n",
      "0 0.841683 0.674039 0.023611 0.019336\n",
      "0 0.836035 0.634178 0.020387 0.017395\n",
      "0 0.761202 0.682344 0.018536 0.018794\n",
      "0 0.834678 0.614107 0.023991 0.018337\n",
      "0 0.783317 0.660290 0.018085 0.025712\n",
      "0 0.832289 0.592927 0.021857 0.018401\n",
      "0 0.926177 0.990377 0.019987 0.019246\n",
      "0 0.832782 0.943488 0.036061 0.035087\n",
      " \n",
      "\n",
      "The content in <_io.TextIOWrapper name='session_4/annotations\\\\20240130_215036_SN31_QUICKVIEW_VISUAL_1_1_10_SATL-2KM-11N_366_3756.txt' mode='r' encoding='utf-8'> is:\n",
      "0 0.030316 0.003782 0.007913 0.007448\n",
      "0 0.108534 0.007991 0.021150 0.015983\n",
      " \n",
      "\n",
      "The content in <_io.TextIOWrapper name='session_4/annotations\\\\20240128_213258_SN29_QUICKVIEW_VISUAL_1_1_10_SATL-2KM-11N_418_3862.txt' mode='r' encoding='utf-8'> is:\n",
      "0 0.490290 0.733200 0.007849 0.007585\n",
      "0 0.354054 0.825362 0.006797 0.007378\n",
      "0 0.357062 0.830290 0.006797 0.007378\n",
      "0 0.360069 0.834741 0.006797 0.007378\n",
      "0 0.494149 0.739853 0.007849 0.007585\n",
      "0 0.486248 0.726702 0.007849 0.007585\n",
      "0 0.498660 0.746478 0.007844 0.007585\n",
      "0 0.502412 0.753117 0.007849 0.007591\n",
      "0 0.506167 0.760187 0.007849 0.007585\n",
      "0 0.510207 0.767260 0.007844 0.007585\n",
      "0 0.524494 0.702165 0.007849 0.007585\n",
      "0 0.528968 0.709963 0.007849 0.007585\n",
      "0 0.532292 0.716889 0.007849 0.007591\n",
      "0 0.536622 0.722516 0.007849 0.007585\n",
      "0 0.540515 0.729301 0.007849 0.007585\n",
      "0 0.545426 0.735219 0.007849 0.007585\n",
      "0 0.463873 0.785161 0.007849 0.007585\n",
      "0 0.092349 0.978189 0.023456 0.022864\n",
      "0 0.152021 0.941780 0.027033 0.028079\n",
      "0 0.168721 0.967933 0.028263 0.028482\n",
      "0 0.495503 0.345713 0.023726 0.029471\n",
      "0 0.559298 0.316371 0.021346 0.026590\n",
      "0 0.528712 0.328554 0.021093 0.026607\n",
      "0 0.366179 0.844264 0.006308 0.006584\n",
      "0 0.315227 0.841972 0.007729 0.007798\n",
      "0 0.321346 0.851665 0.007395 0.007481\n",
      "0 0.351541 0.820095 0.006797 0.007378\n",
      "0 0.363502 0.839566 0.006682 0.006734\n",
      "0 0.459980 0.778088 0.007849 0.007585\n",
      "0 0.455650 0.772458 0.007849 0.007585\n",
      "0 0.452039 0.765385 0.007849 0.007585\n",
      "0 0.481630 0.774620 0.007849 0.007585\n",
      "0 0.477156 0.767547 0.007849 0.007585\n",
      "0 0.473114 0.761630 0.007849 0.007585\n",
      "0 0.469503 0.754413 0.007849 0.007585\n",
      "0 0.548600 0.742435 0.007849 0.007585\n",
      " \n",
      "\n",
      "The content in <_io.TextIOWrapper name='session_4/annotations\\\\20240128_213258_SN29_QUICKVIEW_VISUAL_1_1_10_SATL-2KM-11N_418_3864.txt' mode='r' encoding='utf-8'> is:\n",
      "0 0.782468 0.563018 0.004827 0.006037\n",
      "0 0.734495 0.856998 0.018753 0.014784\n",
      "0 0.687819 0.834865 0.019384 0.016361\n",
      "0 0.896620 0.558053 0.010713 0.011712\n",
      "0 0.669771 0.828056 0.019347 0.014946\n",
      "0 0.719560 0.849249 0.017694 0.014687\n",
      "0 0.652819 0.820067 0.019698 0.014789\n",
      "0 0.704195 0.843140 0.018272 0.014962\n",
      "0 0.636606 0.813367 0.019282 0.014779\n",
      "0 0.857279 0.581304 0.009449 0.008828\n",
      "0 0.995151 0.565159 0.005810 0.007154\n",
      "0 0.785772 0.557808 0.005022 0.006415\n",
      "0 0.788078 0.570945 0.004827 0.006037\n",
      "0 0.789079 0.564730 0.004822 0.006037\n",
      "0 0.790985 0.558315 0.004822 0.006037\n",
      "0 0.876571 0.556358 0.006037 0.005319\n",
      "0 0.868464 0.555410 0.004660 0.004428\n",
      "0 0.860853 0.554368 0.005076 0.005108\n",
      "0 0.852813 0.552813 0.006037 0.004849\n",
      "0 0.845516 0.547235 0.005664 0.004114\n",
      "0 0.854530 0.548094 0.004654 0.004428\n",
      "0 0.844919 0.552106 0.004654 0.004428\n",
      "0 0.836639 0.550823 0.006420 0.005049\n",
      " \n",
      "\n",
      "The content in <_io.TextIOWrapper name='session_4/annotations\\\\20240127_190620_SN27_QUICKVIEW_VISUAL_1_1_10_SATL-2KM-11N_500_3600.txt' mode='r' encoding='utf-8'> is:\n",
      "0 0.334943 0.112773 0.004660 0.004746\n",
      "0 0.520265 0.187511 0.006134 0.006803\n",
      "0 0.415405 0.132829 0.007775 0.007225\n",
      "0 0.732338 0.106974 0.015216 0.016463\n",
      "0 0.515589 0.182916 0.006901 0.007160\n",
      "0 0.576336 0.168763 0.007349 0.007808\n",
      "0 0.590602 0.171326 0.006237 0.006722\n",
      "0 0.330931 0.114798 0.004660 0.004746\n",
      "0 0.334646 0.133313 0.004660 0.004746\n",
      "0 0.331585 0.143199 0.004660 0.004746\n",
      "0 0.332659 0.138467 0.004444 0.006004\n",
      "0 0.279387 0.162513 0.005265 0.005535\n",
      "0 0.686830 0.174158 0.004417 0.005572\n",
      "0 0.608375 0.163577 0.004590 0.004984\n",
      "0 0.600697 0.187891 0.004590 0.004984\n",
      "0 0.589087 0.180119 0.005259 0.005313\n",
      "0 0.526253 0.189444 0.004590 0.004989\n",
      "0 0.445940 0.167694 0.006890 0.007743\n",
      "0 0.602621 0.181218 0.005945 0.006172\n",
      "0 0.402967 0.151539 0.006053 0.006749\n",
      "0 0.405108 0.144344 0.005821 0.006733\n",
      "0 0.283110 0.176080 0.006890 0.006156\n",
      "0 0.319341 0.129676 0.006890 0.006156\n",
      "0 0.332765 0.104849 0.006890 0.006156\n",
      "0 0.340124 0.099654 0.006890 0.006156\n",
      "0 0.340988 0.107878 0.006890 0.006156\n",
      "0 0.361342 0.100518 0.006884 0.006156\n",
      "0 0.338310 0.116806 0.005583 0.006409\n",
      "0 0.335567 0.127670 0.005583 0.006409\n",
      "0 0.582071 0.206855 0.005275 0.004822\n",
      "0 0.586833 0.206552 0.005275 0.004822\n",
      "0 0.670737 0.167964 0.008947 0.007765\n",
      "0 0.647370 0.161768 0.009039 0.009033\n",
      "0 0.331039 0.127983 0.005599 0.005502\n",
      "0 0.391015 0.125624 0.007181 0.008720\n",
      "0 0.675688 0.151099 0.006884 0.007284\n",
      "0 0.674258 0.159217 0.008947 0.007765\n",
      "0 0.692395 0.153199 0.005805 0.006463\n",
      "0 0.592829 0.161941 0.005443 0.006312\n",
      " \n",
      "\n",
      "The content in <_io.TextIOWrapper name='session_4/annotations\\\\20240127_190620_SN27_QUICKVIEW_VISUAL_1_1_10_SATL-2KM-11N_500_3602.txt' mode='r' encoding='utf-8'> is:\n",
      "0 0.803985 0.580022 0.018629 0.021156\n",
      "0 0.762870 0.573869 0.018731 0.022349\n",
      "0 0.128901 0.586941 0.018969 0.022630\n",
      "0 0.400923 0.657481 0.016998 0.021917\n",
      "0 0.694328 0.648313 0.018429 0.020535\n",
      "0 0.606790 0.632978 0.020070 0.016625\n",
      "0 0.160564 0.603261 0.023159 0.019309\n",
      "0 0.789965 0.630537 0.019789 0.017802\n",
      "0 0.106965 0.544568 0.022106 0.018402\n",
      "0 0.784031 0.575807 0.018591 0.023656\n",
      "0 0.534047 0.626237 0.027770 0.027117\n",
      "0 0.213734 0.592200 0.022446 0.018882\n",
      "0 0.162867 0.574943 0.024428 0.019735\n",
      "0 0.719538 0.653286 0.018720 0.021355\n",
      "0 0.600767 0.654368 0.019935 0.015875\n",
      "0 0.624827 0.658116 0.020000 0.015864\n",
      "0 0.756110 0.657576 0.017651 0.018974\n",
      "0 0.745848 0.666531 0.016922 0.018861\n",
      "0 0.763475 0.669001 0.017727 0.019017\n",
      "0 0.738164 0.655610 0.017678 0.020086\n",
      "0 0.793629 0.663048 0.018056 0.020545\n",
      "0 0.221317 0.704908 0.016749 0.016836\n",
      "0 0.298796 0.575448 0.019071 0.024028\n",
      "0 0.727792 0.664079 0.017408 0.019023\n",
      "0 0.782136 0.672133 0.016539 0.018607\n",
      "0 0.774684 0.660675 0.017986 0.020432\n",
      "0 0.801112 0.674465 0.017117 0.019935\n",
      " \n",
      "\n",
      "The content in <_io.TextIOWrapper name='session_4/annotations\\\\20240127_190620_SN27_QUICKVIEW_VISUAL_1_1_10_SATL-2KM-11N_502_3600.txt' mode='r' encoding='utf-8'> is:\n",
      "0 0.494908 0.144576 0.011156 0.008364\n",
      "0 0.011868 0.251882 0.005324 0.006075\n",
      "0 0.006169 0.238440 0.005200 0.006296\n",
      "0 0.007098 0.246687 0.005740 0.006398\n",
      " \n",
      "\n",
      "The content in <_io.TextIOWrapper name='session_4/annotations\\\\20240127_190620_SN27_QUICKVIEW_VISUAL_1_1_10_SATL-2KM-11N_502_3602.txt' mode='r' encoding='utf-8'> is:\n",
      "0 0.312113 0.224593 0.036599 0.033062\n",
      "0 0.300288 0.215164 0.036599 0.033062\n",
      "0 0.276186 0.204616 0.039887 0.035751\n",
      " \n",
      "\n",
      "The content in <_io.TextIOWrapper name='session_4/annotations\\\\20240126_173752_SN33_QUICKVIEW_VISUAL_1_1_10_SATL-2KM-11N_386_3722.txt' mode='r' encoding='utf-8'> is:\n",
      "0 0.410666 0.285993 0.022358 0.017945\n",
      "0 0.445326 0.314058 0.024674 0.020637\n",
      "0 0.427709 0.297223 0.022872 0.018577\n",
      " \n",
      "\n",
      "The content in <_io.TextIOWrapper name='session_4/annotations\\\\20240115_213834_SN28_QUICKVIEW_VISUAL_1_1_10_SATL-2KM-11N_376_3722.txt' mode='r' encoding='utf-8'> is:\n",
      "0 0.531592 0.201190 0.006640 0.006158\n",
      "0 0.519826 0.214428 0.006640 0.006158\n",
      "0 0.515251 0.222737 0.006640 0.006158\n",
      " \n",
      "\n",
      "The content in <_io.TextIOWrapper name='session_4/annotations\\\\20240115_213834_SN28_QUICKVIEW_VISUAL_1_1_10_SATL-2KM-11N_380_3724.txt' mode='r' encoding='utf-8'> is:\n",
      "0 0.651429 0.775124 0.029869 0.031167\n",
      " \n",
      "\n",
      "The content in <_io.TextIOWrapper name='session_4/annotations\\\\20240112_192510_SN27_QUICKVIEW_VISUAL_1_1_10_SATL-2KM-11N_386_3750.txt' mode='r' encoding='utf-8'> is:\n",
      "0 0.754286 0.166829 0.023030 0.020200\n",
      "0 0.710503 0.182712 0.024136 0.022193\n",
      "0 0.735723 0.178910 0.023458 0.020159\n",
      " \n",
      "\n",
      "The content in <_io.TextIOWrapper name='session_4/annotations\\\\20240110_192002_SN27_QUICKVIEW_VISUAL_1_1_10_SATL-2KM-11N_380_3728.txt' mode='r' encoding='utf-8'> is:\n",
      "0 0.471075 0.280997 0.013986 0.015813\n",
      "0 0.474853 0.300281 0.013590 0.015759\n",
      "0 0.463480 0.243428 0.014612 0.016995\n",
      " \n",
      "\n",
      "The content in <_io.TextIOWrapper name='session_4/annotations\\\\20240104_220339_SN31_QUICKVIEW_VISUAL_1_1_10_SATL-2KM-10N_556_4178.txt' mode='r' encoding='utf-8'> is:\n",
      "0 0.322551 0.592336 0.010152 0.008854\n",
      "0 0.285207 0.621101 0.011010 0.009929\n",
      "0 0.303626 0.607227 0.011010 0.009929\n",
      " \n",
      "\n",
      "The content in <_io.TextIOWrapper name='session_4/annotations\\\\20240102_185527_SN27_QUICKVIEW_VISUAL_1_1_10_SATL-2KM-11N_740_3850.txt' mode='r' encoding='utf-8'> is:\n",
      "0 0.280960 0.979245 0.025485 0.020005\n",
      " \n",
      "\n",
      "The content in <_io.TextIOWrapper name='session_4/annotations\\\\20240102_185605_SN27_QUICKVIEW_VISUAL_1_1_10_SATL-2KM-11N_690_3572.txt' mode='r' encoding='utf-8'> is:\n",
      "0 0.122580 0.625457 0.019350 0.017285\n",
      "0 0.160938 0.583277 0.019395 0.016975\n",
      "0 0.136620 0.610120 0.016960 0.014400\n",
      " \n",
      "\n",
      "The content in <_io.TextIOWrapper name='session_4/annotations\\\\20240102_185954_SN24_QUICKVIEW_VISUAL_1_1_10_SATL-2KM-11N_414_3786.txt' mode='r' encoding='utf-8'> is:\n",
      "0 0.239609 0.077402 0.005490 0.004885\n",
      "0 0.282592 0.099997 0.006297 0.006565\n",
      "0 0.295024 0.006487 0.006164 0.006158\n",
      "0 0.240677 0.082164 0.005484 0.004885\n",
      "0 0.284497 0.021533 0.005591 0.005313\n",
      "0 0.299719 0.025013 0.005591 0.005318\n",
      "0 0.300805 0.029361 0.005591 0.005313\n",
      "0 0.295155 0.026699 0.005591 0.005318\n",
      "0 0.293850 0.021533 0.005591 0.005313\n",
      "0 0.283293 0.016659 0.005591 0.005313\n",
      "0 0.272416 0.011380 0.008727 0.006667\n",
      "0 0.301094 0.009411 0.006565 0.006506\n",
      "0 0.306070 0.011771 0.006565 0.006506\n",
      "0 0.322873 0.039714 0.007972 0.006715\n",
      "0 0.216881 0.116121 0.006239 0.006164\n",
      "0 0.343852 0.011568 0.008529 0.008646\n",
      "0 0.222753 0.119438 0.006469 0.006635\n",
      "0 0.213909 0.130214 0.005591 0.004783\n",
      "0 0.209805 0.131744 0.005591 0.004783\n",
      "0 0.219106 0.133427 0.006378 0.006736\n",
      "0 0.289294 0.003566 0.006613 0.006629\n",
      "0 0.275896 0.096094 0.006367 0.006421\n",
      "0 0.255645 0.086396 0.006506 0.006522\n",
      "0 0.268727 0.092410 0.006346 0.006490\n",
      "0 0.228727 0.122154 0.006378 0.006736\n",
      "0 0.310388 0.030262 0.006533 0.006281\n",
      "0 0.228550 0.106439 0.007116 0.006875\n",
      "0 0.262501 0.089211 0.006362 0.006362\n",
      "0 0.234674 0.109390 0.006533 0.006410\n",
      " \n",
      "\n",
      "The content in <_io.TextIOWrapper name='session_4/annotations\\\\20240101_174301_SN33_QUICKVIEW_VISUAL_1_1_10_SATL-2KM-11N_404_3770.txt' mode='r' encoding='utf-8'> is:\n",
      "0 0.381560 0.811691 0.005420 0.004655\n",
      "0 0.308842 0.963922 0.003922 0.004377\n",
      "0 0.296340 0.992087 0.003917 0.004377\n",
      "0 0.545572 0.570813 0.005602 0.005543\n",
      "0 0.538997 0.570423 0.005602 0.005543\n",
      "0 0.532657 0.568545 0.005602 0.005543\n",
      "0 0.525219 0.568309 0.005602 0.005543\n",
      "0 0.518692 0.567052 0.005602 0.005543\n",
      "0 0.424278 0.915345 0.004789 0.006346\n",
      "0 0.420741 0.923462 0.005099 0.006346\n",
      "0 0.278138 0.997940 0.005597 0.004120\n",
      "0 0.384109 0.798293 0.004601 0.004484\n",
      "0 0.378323 0.795482 0.004906 0.004971\n",
      "0 0.393435 0.818085 0.005532 0.004922\n",
      "0 0.382402 0.816923 0.004912 0.005104\n",
      "0 0.346158 0.946247 0.006699 0.006629\n",
      "0 0.375270 0.808788 0.005051 0.005110\n",
      "0 0.360979 0.822402 0.005532 0.004922\n",
      "0 0.361921 0.828119 0.005532 0.004917\n",
      "0 0.368103 0.831014 0.005538 0.004917\n",
      "0 0.367164 0.825302 0.005532 0.004922\n",
      "0 0.386498 0.839706 0.005538 0.004922\n",
      "0 0.391196 0.837277 0.005538 0.004922\n",
      "0 0.384853 0.859037 0.005532 0.004922\n",
      "0 0.376271 0.875835 0.005532 0.004917\n",
      "0 0.381273 0.873007 0.005532 0.004922\n",
      "0 0.315535 0.931447 0.005388 0.005270\n",
      "0 0.300607 0.990147 0.005602 0.005795\n",
      "0 0.316388 0.998127 0.007138 0.003745\n",
      "0 0.396281 0.822349 0.004655 0.005104\n",
      "0 0.346046 0.860209 0.005308 0.005318\n",
      "0 0.376792 0.789518 0.005463 0.005875\n",
      "0 0.382978 0.792188 0.005463 0.005425\n",
      "0 0.389160 0.794928 0.005468 0.005425\n",
      "0 0.395268 0.798216 0.005463 0.005420\n",
      "0 0.401217 0.801268 0.005463 0.005425\n",
      "0 0.396477 0.804286 0.004296 0.003949\n",
      "0 0.390094 0.801201 0.004692 0.004981\n",
      "0 0.352772 0.838705 0.006421 0.006538\n",
      "0 0.351691 0.904211 0.006324 0.006592\n",
      "0 0.358820 0.841889 0.006351 0.006570\n",
      "0 0.535086 0.580768 0.009615 0.009304\n",
      "0 0.371410 0.848117 0.006404 0.006485\n",
      "0 0.345728 0.901033 0.006362 0.006506\n",
      "0 0.365289 0.844952 0.006501 0.006501\n",
      "0 0.377632 0.850856 0.006586 0.006367\n",
      "0 0.353737 0.930950 0.006565 0.006404\n",
      "0 0.495230 0.572975 0.011177 0.009385\n",
      "0 0.367916 0.893756 0.006458 0.006346\n",
      "0 0.357830 0.907089 0.006726 0.006570\n",
      "0 0.333149 0.895062 0.006426 0.006463\n",
      "0 0.364425 0.869700 0.006324 0.006303\n",
      "0 0.339353 0.898133 0.006314 0.006581\n",
      "0 0.358272 0.866225 0.006249 0.006297\n",
      "0 0.347533 0.928082 0.006549 0.006383\n",
      "0 0.361530 0.890902 0.006292 0.006169\n",
      " \n",
      "\n",
      "The content in <_io.TextIOWrapper name='session_4/annotations\\\\20240101_174301_SN33_QUICKVIEW_VISUAL_1_1_10_SATL-2KM-11N_404_3772.txt' mode='r' encoding='utf-8'> is:\n",
      "0 0.885130 0.517880 0.036898 0.033707\n",
      "0 0.983352 0.483233 0.032952 0.030183\n",
      "0 0.879292 0.049170 0.033291 0.030705\n",
      "0 0.839104 0.115785 0.035122 0.033069\n",
      "0 0.807658 0.067628 0.030688 0.031315\n",
      "0 0.965036 0.141440 0.022514 0.031593\n",
      "0 0.801265 0.217531 0.031221 0.035716\n",
      "0 0.950053 0.014581 0.028629 0.028862\n",
      "0 0.837100 0.158812 0.030782 0.035017\n",
      "0 0.986102 0.021701 0.027542 0.032403\n",
      "0 0.903510 0.191451 0.031726 0.035544\n",
      "0 0.914567 0.585835 0.018024 0.021149\n",
      "0 0.902159 0.485710 0.037259 0.033740\n",
      "0 0.898574 0.571401 0.018024 0.018352\n",
      "0 0.899939 0.571235 0.015327 0.015133\n",
      "0 0.594969 0.135952 0.038818 0.035366\n",
      "0 0.835566 0.231701 0.032020 0.034689\n",
      "0 0.892453 0.007092 0.019212 0.014118\n",
      "0 0.992858 0.179040 0.014284 0.019145\n",
      "0 0.991340 0.548776 0.017320 0.044412\n",
      "0 0.881906 0.021731 0.026665 0.021509\n",
      "0 0.964628 0.088940 0.017292 0.018158\n",
      "0 0.982023 0.196362 0.018474 0.019262\n",
      "0 0.937852 0.077161 0.017736 0.020660\n",
      "0 0.672314 0.125225 0.019678 0.025078\n",
      "0 0.870691 0.174356 0.030771 0.038280\n",
      " \n",
      "\n",
      "The content in <_io.TextIOWrapper name='session_4/annotations\\\\20240101_192856_SN24_QUICKVIEW_VISUAL_1_1_10_SATL-2KM-10N_552_4162.txt' mode='r' encoding='utf-8'> is:\n",
      "0 0.743801 0.357064 0.032608 0.038169\n",
      "0 0.707001 0.216301 0.030660 0.026809\n",
      "0 0.732469 0.323288 0.039523 0.034811\n",
      "0 0.717253 0.287137 0.039589 0.035749\n",
      "0 0.921623 0.067109 0.035289 0.034107\n",
      "0 0.863946 0.214914 0.025216 0.020105\n",
      "0 0.806637 0.228887 0.016493 0.019084\n",
      "0 0.914204 0.992825 0.024012 0.014351\n",
      "0 0.565930 0.788638 0.018541 0.019395\n",
      " \n",
      "\n",
      "The content in <_io.TextIOWrapper name='session_4/annotations\\\\20240101_192856_SN24_QUICKVIEW_VISUAL_1_1_10_SATL-2KM-10N_552_4164.txt' mode='r' encoding='utf-8'> is:\n",
      "0 0.160155 0.547375 0.015558 0.015416\n",
      "0 0.061510 0.031204 0.012215 0.013196\n",
      "0 0.352118 0.313821 0.030555 0.034023\n",
      "0 0.257871 0.403818 0.021483 0.022186\n",
      "0 0.282413 0.156246 0.018873 0.021204\n",
      "0 0.205130 0.516759 0.019123 0.024073\n",
      "0 0.326655 0.814822 0.018018 0.023352\n",
      "0 0.379395 0.203582 0.023354 0.026831\n",
      "0 0.009761 0.447558 0.019522 0.028335\n",
      "0 0.281899 0.445610 0.020011 0.026715\n",
      "0 0.086768 0.084656 0.015147 0.018335\n",
      "0 0.378962 0.257958 0.020344 0.025339\n",
      "0 0.323520 0.281448 0.019889 0.025006\n",
      "0 0.304572 0.119062 0.022338 0.020832\n",
      "0 0.203226 0.126995 0.019678 0.016964\n",
      "0 0.081724 0.642267 0.018717 0.020527\n",
      "0 0.278939 0.349231 0.025408 0.024556\n",
      "0 0.309328 0.389831 0.017990 0.023479\n",
      "0 0.234031 0.399445 0.016835 0.018368\n",
      "0 0.261682 0.337628 0.019278 0.020516\n",
      "0 0.117077 0.088360 0.015775 0.018074\n",
      "0 0.239506 0.329323 0.019023 0.022531\n",
      "0 0.305372 0.161593 0.017252 0.019012\n",
      "0 0.102182 0.144678 0.015647 0.016448\n",
      "0 0.338831 0.139129 0.015852 0.017170\n",
      "0 0.181080 0.509667 0.019517 0.017070\n",
      "0 0.007290 0.550483 0.014581 0.036448\n",
      "0 0.028903 0.427139 0.017640 0.019007\n",
      "0 0.062951 0.631532 0.017929 0.019545\n",
      "0 0.053145 0.085766 0.014708 0.012619\n",
      "0 0.264836 0.173432 0.017368 0.018663\n",
      "0 0.344464 0.218288 0.016280 0.014867\n",
      "0 0.261705 0.261307 0.014747 0.016876\n",
      "0 0.125577 0.147658 0.019206 0.021887\n",
      "0 0.283526 0.263929 0.014159 0.016027\n",
      "0 0.064386 0.070624 0.014747 0.015666\n",
      "0 0.071410 0.115724 0.015791 0.016432\n",
      "0 0.180253 0.094353 0.017851 0.021071\n",
      "0 0.244770 0.271224 0.016224 0.016276\n",
      "0 0.330336 0.200749 0.016841 0.015583\n",
      "0 0.116008 0.620899 0.014059 0.012986\n",
      "0 0.105103 0.015871 0.012215 0.013196\n",
      "0 0.228992 0.207877 0.015952 0.016343\n",
      "0 0.045000 0.621368 0.022360 0.017752\n",
      "0 0.206713 0.449251 0.022998 0.018713\n",
      "0 0.217685 0.317303 0.018046 0.018446\n",
      " \n",
      "\n",
      "The content in <_io.TextIOWrapper name='session_4/annotations\\\\20240101_192856_SN24_QUICKVIEW_VISUAL_1_1_10_SATL-2KM-10N_554_4162.txt' mode='r' encoding='utf-8'> is:\n",
      "0 0.595885 0.039128 0.005087 0.005699\n",
      "0 0.590200 0.031557 0.005087 0.005699\n",
      "0 0.590200 0.025064 0.005087 0.005699\n",
      "0 0.590740 0.017893 0.005087 0.005699\n",
      "0 0.574771 0.023304 0.005087 0.005704\n",
      "0 0.575310 0.017354 0.005087 0.005699\n",
      "0 0.574904 0.010319 0.005087 0.005704\n",
      "0 0.577613 0.013971 0.005087 0.005704\n",
      "0 0.563083 0.078278 0.008045 0.009020\n",
      "0 0.225937 0.005316 0.006932 0.007003\n",
      "0 0.578289 0.019110 0.005093 0.005699\n",
      "0 0.665441 0.030423 0.009733 0.009704\n",
      "0 0.714318 0.050330 0.016502 0.018029\n",
      "0 0.562668 0.089029 0.008689 0.009536\n",
      "0 0.575299 0.077499 0.005087 0.005699\n",
      "0 0.577436 0.067919 0.005093 0.005704\n",
      "0 0.577213 0.060704 0.005087 0.005699\n",
      "0 0.574168 0.047406 0.005087 0.005699\n",
      "0 0.578002 0.038049 0.005087 0.005699\n",
      "0 0.578002 0.031846 0.005087 0.005699\n",
      "0 0.574504 0.029145 0.005087 0.005699\n",
      "0 0.589168 0.045261 0.005087 0.005699\n",
      "0 0.596291 0.045081 0.005087 0.005699\n",
      " \n",
      "\n",
      "The content in <_io.TextIOWrapper name='session_4/annotations\\\\20240101_213601_SN31_QUICKVIEW_VISUAL_1_1_10_SATL-2KM-11N_392_3740.txt' mode='r' encoding='utf-8'> is:\n",
      "0 0.396233 0.525597 0.005447 0.006299\n",
      "0 0.450316 0.685029 0.027303 0.030128\n",
      "0 0.446998 0.773071 0.025887 0.030655\n",
      "0 0.968263 0.663617 0.017871 0.018231\n",
      "0 0.424258 0.819603 0.010452 0.011340\n",
      "0 0.968614 0.599916 0.020174 0.022941\n",
      "0 0.968095 0.641476 0.019182 0.017744\n",
      "0 0.212631 0.863622 0.006061 0.005725\n",
      "0 0.377346 0.525360 0.005447 0.006299\n",
      "0 0.733556 0.629110 0.005093 0.005702\n",
      "0 0.153802 0.863321 0.006665 0.005725\n",
      "0 0.166424 0.863622 0.006665 0.005725\n",
      "0 0.172938 0.863721 0.006665 0.005725\n",
      "0 0.179852 0.863419 0.006665 0.005725\n",
      "0 0.186871 0.863524 0.006665 0.005725\n",
      "0 0.199498 0.862921 0.006665 0.005725\n",
      "0 0.206917 0.863924 0.006665 0.005725\n",
      "0 0.252723 0.864023 0.006665 0.005725\n",
      "0 0.155461 0.993129 0.006665 0.005725\n",
      "0 0.174002 0.987213 0.006659 0.005725\n",
      "0 0.183924 0.986714 0.006665 0.005725\n",
      "0 0.194150 0.991726 0.006665 0.005725\n",
      "0 0.200061 0.994127 0.006665 0.005725\n",
      "0 0.383553 0.788576 0.012361 0.013103\n",
      "0 0.175467 0.521676 0.005447 0.006299\n",
      "0 0.181952 0.521427 0.005447 0.006299\n",
      "0 0.188535 0.521769 0.005447 0.006299\n",
      "0 0.200658 0.522984 0.005447 0.006305\n",
      "0 0.206894 0.522813 0.005447 0.006299\n",
      "0 0.224907 0.522813 0.005441 0.006299\n",
      "0 0.236511 0.510168 0.005447 0.006299\n",
      "0 0.244481 0.510513 0.005447 0.006305\n",
      "0 0.335583 0.512071 0.005447 0.006299\n",
      "0 0.236743 0.523794 0.005447 0.006299\n",
      "0 0.242755 0.523672 0.005441 0.006299\n",
      "0 0.248889 0.523434 0.005447 0.006299\n",
      "0 0.267172 0.523312 0.005447 0.006299\n",
      "0 0.273785 0.524519 0.005447 0.006299\n",
      "0 0.279440 0.523672 0.005447 0.006299\n",
      "0 0.285693 0.523915 0.005447 0.006299\n",
      "0 0.292311 0.524037 0.005447 0.006299\n",
      "0 0.303854 0.524635 0.005447 0.006299\n",
      "0 0.274991 0.511166 0.005447 0.006299\n",
      "0 0.322259 0.524878 0.005447 0.006299\n",
      "0 0.316122 0.524519 0.005447 0.006299\n",
      "0 0.328274 0.525116 0.005447 0.006299\n",
      "0 0.334649 0.525238 0.005447 0.006299\n",
      "0 0.340542 0.525116 0.005447 0.006299\n",
      "0 0.352451 0.525116 0.005447 0.006299\n",
      "0 0.359307 0.525116 0.005447 0.006299\n",
      "0 0.364719 0.525116 0.005447 0.006299\n",
      "0 0.383721 0.525360 0.005447 0.006299\n",
      "0 0.389492 0.525719 0.005447 0.006299\n",
      " \n",
      "\n",
      "The content in <_io.TextIOWrapper name='session_4/annotations\\\\20240101_213601_SN31_QUICKVIEW_VISUAL_1_1_10_SATL-2KM-11N_392_3742.txt' mode='r' encoding='utf-8'> is:\n",
      "0 0.473518 0.857526 0.031746 0.053115\n",
      " \n",
      "\n"
     ]
    }
   ],
   "source": [
    "#5. Print all the annotations from the most recent to the oldest one. \n",
    "\n",
    "all_files = []\n",
    "\n",
    "#Filling the list all_files that will contain the date and path for every file\n",
    "for month, files in files_per_month.items():\n",
    "    for file in files:\n",
    "        date = file[:8]\n",
    "        path = os.path.join('session_4/annotations', file)\n",
    "        all_files.append((date, path))\n",
    "\n",
    "#Sorting the list by date \n",
    "all_files.sort(key=lambda x: x[0], reverse=True)\n",
    "\n",
    "#Printing the annotations for every file\n",
    "for date, file_path in all_files:\n",
    "    print(f'The content in {file} is:')\n",
    "    with open(file_path, 'r') as file:\n",
    "        print(f'{file.read()} \\n')"
   ]
  },
  {
   "cell_type": "code",
   "execution_count": 295,
   "id": "b00cb8e2",
   "metadata": {},
   "outputs": [
    {
     "name": "stdout",
     "output_type": "stream",
     "text": [
      "The number of unique satelites is: 9\n",
      "The most recent annotation file is from satellite SN27: 20240623_193704_SN27_QUICKVIEW_VISUAL_1_7_0_SATL-2KM-11N_566_3734.txt\n",
      "Satellite SN29 has 22 annotations\n",
      "Satellite SN30 has 18 annotations\n",
      "Satellite SN24 has 26 annotations\n",
      "Satellite SN31 has 19 annotations\n",
      "Satellite SN43 has 11 annotations\n",
      "Satellite SN27 has 29 annotations\n",
      "Satellite SN28 has 16 annotations\n",
      "Satellite SN33 has 16 annotations\n",
      "Satellite SN26 has 37 annotations\n"
     ]
    }
   ],
   "source": [
    "#6. How many different satellites there are, how many annotations we have per satellite number, and which one was used in the most recent annotation file. \n",
    "unique_satellites = set()\n",
    "annotations_by_satellite = []\n",
    "most_recent_file = None\n",
    "\n",
    "#Doing a loop to take a set with the unique_satelites (and understanding how many they are). Also to get the most recent file\n",
    "for file in matching_files:\n",
    "    satellite = file.split('_')[2]\n",
    "    unique_satellites.add(satellite)\n",
    "\n",
    "    date = file[:8]  # Extract date part\n",
    "    if most_recent_file is None or date > most_recent_file[:8]:\n",
    "        most_recent_file = file\n",
    "\n",
    "#Understanding how many annotations there are per satellite\n",
    "for satellite in unique_satellites:\n",
    "    count = sum(1 for file in matching_files if file.split('_')[2] == satellite)\n",
    "    annotations_by_satellite.append((satellite, count))\n",
    "\n",
    "\n",
    "\n",
    "print(f'The number of unique satelites is: {len(unique_satellites)}')\n",
    "\n",
    "most_recent_satellite = most_recent_file.split('_')[2]\n",
    "print(f\"The most recent annotation file is from satellite {most_recent_satellite}: {most_recent_file}\")\n",
    "\n",
    "for satellite, count in annotations_by_satellite:\n",
    "    print(f\"Satellite {satellite} has {count} annotations\")"
   ]
  },
  {
   "cell_type": "code",
   "execution_count": 296,
   "id": "1f89bba6",
   "metadata": {},
   "outputs": [
    {
     "name": "stdout",
     "output_type": "stream",
     "text": [
      "The number of unique regions is: 137\n"
     ]
    }
   ],
   "source": [
    "#7. How many unique regions there are.\n",
    "\n",
    "unique_regions = set()\n",
    "\n",
    "for file in matching_files:\n",
    "    region = '_'.join(file.split('_')[-3:]).replace('.txt', '')\n",
    "    unique_regions.add(region)\n",
    "\n",
    "print(f'The number of unique regions is: {len(unique_regions)}')"
   ]
  }
 ],
 "metadata": {
  "celltoolbar": "Slideshow",
  "kernelspec": {
   "display_name": "base",
   "language": "python",
   "name": "python3"
  },
  "language_info": {
   "codemirror_mode": {
    "name": "ipython",
    "version": 3
   },
   "file_extension": ".py",
   "mimetype": "text/x-python",
   "name": "python",
   "nbconvert_exporter": "python",
   "pygments_lexer": "ipython3",
   "version": "3.11.5"
  }
 },
 "nbformat": 4,
 "nbformat_minor": 5
}
