{
 "cells": [
  {
   "cell_type": "markdown",
   "id": "24b98369-c7ba-450b-a8b5-e34319000695",
   "metadata": {
    "slideshow": {
     "slide_type": "slide"
    },
    "tags": []
   },
   "source": [
    "# Python for Data Science\n",
    "## Session 7\n",
    "### Datasets – Pandas II"
   ]
  },
  {
   "cell_type": "markdown",
   "id": "3ace1343-d73d-466d-aa07-56febbb7cbf1",
   "metadata": {
    "slideshow": {
     "slide_type": "skip"
    },
    "tags": []
   },
   "source": [
    "---"
   ]
  },
  {
   "cell_type": "markdown",
   "id": "c5ffee69-5d4d-4f1c-9ed7-083afbc931ec",
   "metadata": {
    "slideshow": {
     "slide_type": "slide"
    },
    "tags": []
   },
   "source": [
    "## Outline\n",
    "\n",
    "1. Lambda and map\n",
    "\n",
    "2. Series\n",
    "\n",
    "2. Advanced data manipulation \n",
    "\n",
    "3. Handling missing data and data transformation "
   ]
  },
  {
   "cell_type": "markdown",
   "id": "aba315f4-e9bf-4a66-b3d3-593037c3ca70",
   "metadata": {
    "slideshow": {
     "slide_type": "skip"
    },
    "tags": []
   },
   "source": [
    "---"
   ]
  },
  {
   "cell_type": "markdown",
   "id": "8ed45dcb-2cf5-4bfa-ba6e-5da25c59757c",
   "metadata": {
    "slideshow": {
     "slide_type": "slide"
    },
    "tags": []
   },
   "source": [
    "## Pandas II \n",
    "### Lambda and map\n",
    "\n",
    "A **Lambda** function is an anonymous tranformation. It is a **pure** function, since the output only depends on the input, with no side effects. ts syntax can be expressed as:\n",
    "</p>\n",
    "\n",
    "<center> <font color='blue'>lambda</font> arguments : expression</center> \n",
    "\n",
    "</p>"
   ]
  },
  {
   "cell_type": "markdown",
   "id": "16c033e2",
   "metadata": {
    "slideshow": {
     "slide_type": "fragment"
    }
   },
   "source": [
    "### Regular function"
   ]
  },
  {
   "cell_type": "code",
   "execution_count": 2,
   "id": "a6136b20",
   "metadata": {
    "slideshow": {
     "slide_type": "fragment"
    },
    "tags": []
   },
   "outputs": [],
   "source": [
    "def square(x):\n",
    "    return x * x"
   ]
  },
  {
   "cell_type": "markdown",
   "id": "618507d6",
   "metadata": {
    "slideshow": {
     "slide_type": "fragment"
    },
    "tags": []
   },
   "source": [
    "### Equivalent lambda transformation"
   ]
  },
  {
   "cell_type": "code",
   "execution_count": 3,
   "id": "345c5a54",
   "metadata": {
    "slideshow": {
     "slide_type": "fragment"
    }
   },
   "outputs": [
    {
     "data": {
      "text/plain": [
       "25"
      ]
     },
     "execution_count": 3,
     "metadata": {},
     "output_type": "execute_result"
    }
   ],
   "source": [
    "square_lambda = lambda x: x * x #doing the same as in the line above\n",
    "square_lambda(5)"
   ]
  },
  {
   "cell_type": "code",
   "execution_count": 4,
   "id": "2f87683a",
   "metadata": {},
   "outputs": [
    {
     "data": {
      "text/plain": [
       "7"
      ]
     },
     "execution_count": 4,
     "metadata": {},
     "output_type": "execute_result"
    }
   ],
   "source": [
    "add = lambda x, y: x + y\n",
    "add(3,4)"
   ]
  },
  {
   "cell_type": "code",
   "execution_count": 5,
   "id": "3ab64851",
   "metadata": {},
   "outputs": [
    {
     "data": {
      "text/plain": [
       "[('Marçal', 100), ('Leo', 99), ('Javier', 85)]"
      ]
     },
     "execution_count": 5,
     "metadata": {},
     "output_type": "execute_result"
    }
   ],
   "source": [
    "students =[('Leo', 99), ('Marçal', 100), ('Javier', 85)]\n",
    "students.sort(key = lambda x: x[1], reverse = True)     #The reverse would put it in reverse, the x[1] indicates if we're sorting by grade or by name\n",
    "students"
   ]
  },
  {
   "cell_type": "markdown",
   "id": "42f5a5b7",
   "metadata": {
    "slideshow": {
     "slide_type": "slide"
    },
    "tags": []
   },
   "source": [
    "## Pandas II\n",
    "### Lambda and map\n",
    "\n",
    "Although we can used regular functions, as we saw in the last session, with **apply**, **lambda** tends to be the usual choice for one-off transformations."
   ]
  },
  {
   "cell_type": "code",
   "execution_count": 6,
   "id": "61d640e3",
   "metadata": {
    "slideshow": {
     "slide_type": "fragment"
    }
   },
   "outputs": [
    {
     "data": {
      "text/html": [
       "<div>\n",
       "<style scoped>\n",
       "    .dataframe tbody tr th:only-of-type {\n",
       "        vertical-align: middle;\n",
       "    }\n",
       "\n",
       "    .dataframe tbody tr th {\n",
       "        vertical-align: top;\n",
       "    }\n",
       "\n",
       "    .dataframe thead th {\n",
       "        text-align: right;\n",
       "    }\n",
       "</style>\n",
       "<table border=\"1\" class=\"dataframe\">\n",
       "  <thead>\n",
       "    <tr style=\"text-align: right;\">\n",
       "      <th></th>\n",
       "      <th>col</th>\n",
       "    </tr>\n",
       "  </thead>\n",
       "  <tbody>\n",
       "    <tr>\n",
       "      <th>0</th>\n",
       "      <td>1</td>\n",
       "    </tr>\n",
       "    <tr>\n",
       "      <th>1</th>\n",
       "      <td>0</td>\n",
       "    </tr>\n",
       "    <tr>\n",
       "      <th>2</th>\n",
       "      <td>4</td>\n",
       "    </tr>\n",
       "    <tr>\n",
       "      <th>3</th>\n",
       "      <td>2</td>\n",
       "    </tr>\n",
       "    <tr>\n",
       "      <th>4</th>\n",
       "      <td>5</td>\n",
       "    </tr>\n",
       "  </tbody>\n",
       "</table>\n",
       "</div>"
      ],
      "text/plain": [
       "   col\n",
       "0    1\n",
       "1    0\n",
       "2    4\n",
       "3    2\n",
       "4    5"
      ]
     },
     "execution_count": 6,
     "metadata": {},
     "output_type": "execute_result"
    }
   ],
   "source": [
    "import pandas as pd\n",
    "df = pd.DataFrame({'col': [1, 0, 4, 2, 5]})\n",
    "df"
   ]
  },
  {
   "cell_type": "code",
   "execution_count": 7,
   "id": "2055dc9b",
   "metadata": {},
   "outputs": [
    {
     "data": {
      "text/html": [
       "<div>\n",
       "<style scoped>\n",
       "    .dataframe tbody tr th:only-of-type {\n",
       "        vertical-align: middle;\n",
       "    }\n",
       "\n",
       "    .dataframe tbody tr th {\n",
       "        vertical-align: top;\n",
       "    }\n",
       "\n",
       "    .dataframe thead th {\n",
       "        text-align: right;\n",
       "    }\n",
       "</style>\n",
       "<table border=\"1\" class=\"dataframe\">\n",
       "  <thead>\n",
       "    <tr style=\"text-align: right;\">\n",
       "      <th></th>\n",
       "      <th>col</th>\n",
       "    </tr>\n",
       "  </thead>\n",
       "  <tbody>\n",
       "    <tr>\n",
       "      <th>0</th>\n",
       "      <td>1</td>\n",
       "    </tr>\n",
       "    <tr>\n",
       "      <th>1</th>\n",
       "      <td>0</td>\n",
       "    </tr>\n",
       "    <tr>\n",
       "      <th>2</th>\n",
       "      <td>16</td>\n",
       "    </tr>\n",
       "    <tr>\n",
       "      <th>3</th>\n",
       "      <td>4</td>\n",
       "    </tr>\n",
       "    <tr>\n",
       "      <th>4</th>\n",
       "      <td>25</td>\n",
       "    </tr>\n",
       "  </tbody>\n",
       "</table>\n",
       "</div>"
      ],
      "text/plain": [
       "   col\n",
       "0    1\n",
       "1    0\n",
       "2   16\n",
       "3    4\n",
       "4   25"
      ]
     },
     "execution_count": 7,
     "metadata": {},
     "output_type": "execute_result"
    }
   ],
   "source": [
    "df['col'] = df['col'].apply(lambda x: x * x)\n",
    "df"
   ]
  },
  {
   "cell_type": "markdown",
   "id": "deb1a9af",
   "metadata": {
    "slideshow": {
     "slide_type": "slide"
    }
   },
   "source": [
    "## Pandas II\n",
    "\n",
    "### Lambda and map\n",
    "\n",
    "On the other side, **map**, is another option, originally created for **series** to perform one-to-one transformations. It is supposed to be faster than **apply**. For those familiar with **applymap**, note that this method will be deprecated in future versions."
   ]
  },
  {
   "cell_type": "code",
   "execution_count": 8,
   "id": "7b9ecb42",
   "metadata": {
    "slideshow": {
     "slide_type": "fragment"
    }
   },
   "outputs": [
    {
     "name": "stdout",
     "output_type": "stream",
     "text": [
      "Apply: it took for 1M values 0.2321824312210083 seconds.\n",
      "Map: it took for 1M values 0.24244377613067628 seconds.\n"
     ]
    }
   ],
   "source": [
    "#Apply is more for one section, and map is for all dataframe\n",
    "import numpy as np\n",
    "import time\n",
    "\n",
    "apply_values = []\n",
    "map_values = []\n",
    "for _ in range(10):\n",
    "    df = pd.DataFrame({'col': np.random.randn(1000000)})\n",
    "    ts = time.time()\n",
    "    df['col'].apply(lambda x: x * x)\n",
    "    apply_values.append(time.time() - ts)\n",
    "    \n",
    "    ts = time.time()\n",
    "    df['col'].map(lambda x: x * x)\n",
    "    map_values.append(time.time() - ts)\n",
    "    \n",
    "print(f\"Apply: it took for 1M values {np.mean(apply_values)} seconds.\")\n",
    "print(f\"Map: it took for 1M values {np.mean(map_values)} seconds.\")"
   ]
  },
  {
   "cell_type": "markdown",
   "id": "a15415a8",
   "metadata": {
    "slideshow": {
     "slide_type": "slide"
    }
   },
   "source": [
    "## Pandas II\n",
    "### series\n",
    "\n",
    "Let's jump into **series**. As we roughly mentioned in the last session, they are mainly used for time series and 1D observations. "
   ]
  },
  {
   "cell_type": "code",
   "execution_count": 9,
   "id": "e0d77c53",
   "metadata": {
    "slideshow": {
     "slide_type": "fragment"
    }
   },
   "outputs": [
    {
     "data": {
      "text/plain": [
       "0   -59\n",
       "1   -35\n",
       "2   -63\n",
       "3   -19\n",
       "4   -15\n",
       "5   -52\n",
       "6   -78\n",
       "7   -34\n",
       "8   -96\n",
       "9   -81\n",
       "dtype: int64"
      ]
     },
     "execution_count": 9,
     "metadata": {},
     "output_type": "execute_result"
    }
   ],
   "source": [
    "s = pd.Series([np.random.randint(0, 100 + 1) for _ in range(100)])\n",
    "s.map(lambda x: x - 100).head(10) # s.apply(lambda x: x - 100) "
   ]
  },
  {
   "cell_type": "code",
   "execution_count": 10,
   "id": "6bd1ae9c",
   "metadata": {},
   "outputs": [
    {
     "data": {
      "text/plain": [
       "0    141\n",
       "1    -35\n",
       "2    137\n",
       "3    -19\n",
       "4    -15\n",
       "5    148\n",
       "6    122\n",
       "7    -34\n",
       "8    104\n",
       "9    119\n",
       "dtype: int64"
      ]
     },
     "execution_count": 10,
     "metadata": {},
     "output_type": "execute_result"
    }
   ],
   "source": [
    "s.map(lambda x: x-100 if x > 50 else x + 100).head(10)"
   ]
  },
  {
   "cell_type": "code",
   "execution_count": 11,
   "id": "01567a6a",
   "metadata": {
    "slideshow": {
     "slide_type": "subslide"
    }
   },
   "outputs": [
    {
     "data": {
      "text/plain": [
       "0   -59\n",
       "1   -35\n",
       "2   -63\n",
       "3   -19\n",
       "dtype: int64"
      ]
     },
     "execution_count": 11,
     "metadata": {},
     "output_type": "execute_result"
    }
   ],
   "source": [
    "s = s - 100 # we can also perform easy operations over the whole series\n",
    "s.head(4)"
   ]
  },
  {
   "cell_type": "code",
   "execution_count": 12,
   "id": "34f48ffb",
   "metadata": {
    "slideshow": {
     "slide_type": "subslide"
    }
   },
   "outputs": [
    {
     "data": {
      "text/plain": [
       "0      A\n",
       "1      B\n",
       "2    NaN\n",
       "3    NaN\n",
       "dtype: object"
      ]
     },
     "execution_count": 12,
     "metadata": {},
     "output_type": "execute_result"
    }
   ],
   "source": [
    "s = pd.Series([1, 2, 3, 4])\n",
    "s.map({1: 'A', 2: 'B'}) # replace values using a dictionary with Map"
   ]
  },
  {
   "cell_type": "markdown",
   "id": "9e365356",
   "metadata": {
    "slideshow": {
     "slide_type": "subslide"
    }
   },
   "source": [
    "## Pandas II\n",
    "### Series\n",
    "\n",
    "Another cool method we can call is **rolling** which performs a sliding window over the whole series"
   ]
  },
  {
   "cell_type": "code",
   "execution_count": 13,
   "id": "5a2c04c8",
   "metadata": {
    "slideshow": {
     "slide_type": "fragment"
    }
   },
   "outputs": [
    {
     "data": {
      "text/plain": [
       "0       NaN\n",
       "1      10.5\n",
       "2     160.0\n",
       "3    2150.0\n",
       "dtype: float64"
      ]
     },
     "execution_count": 13,
     "metadata": {},
     "output_type": "execute_result"
    }
   ],
   "source": [
    "s = pd.Series([1, 20, 300, 4000])\n",
    "s.rolling(window=2).mean()  # 2-period rolling mean, performs the medium between 1 and 20, 20 and 300 etc"
   ]
  },
  {
   "cell_type": "markdown",
   "id": "f8814961",
   "metadata": {
    "slideshow": {
     "slide_type": "slide"
    }
   },
   "source": [
    "## Pandas II\n",
    "### Advanced data manipulation\n",
    "\n",
    "Some methods we can use with **series** and **dataframes** are:\n",
    "\n",
    "- value_counts\n",
    "- drop_duplicates"
   ]
  },
  {
   "cell_type": "markdown",
   "id": "1b632405",
   "metadata": {
    "slideshow": {
     "slide_type": "subslide"
    }
   },
   "source": [
    "Values counts provide a fast way of exploring and handling your data"
   ]
  },
  {
   "cell_type": "code",
   "execution_count": 14,
   "id": "ce0bbd3b",
   "metadata": {
    "slideshow": {
     "slide_type": "fragment"
    }
   },
   "outputs": [
    {
     "data": {
      "text/html": [
       "<div>\n",
       "<style scoped>\n",
       "    .dataframe tbody tr th:only-of-type {\n",
       "        vertical-align: middle;\n",
       "    }\n",
       "\n",
       "    .dataframe tbody tr th {\n",
       "        vertical-align: top;\n",
       "    }\n",
       "\n",
       "    .dataframe thead th {\n",
       "        text-align: right;\n",
       "    }\n",
       "</style>\n",
       "<table border=\"1\" class=\"dataframe\">\n",
       "  <thead>\n",
       "    <tr style=\"text-align: right;\">\n",
       "      <th></th>\n",
       "      <th>student</th>\n",
       "      <th>program</th>\n",
       "    </tr>\n",
       "  </thead>\n",
       "  <tbody>\n",
       "    <tr>\n",
       "      <th>0</th>\n",
       "      <td>Ludmila</td>\n",
       "      <td>doctoral</td>\n",
       "    </tr>\n",
       "    <tr>\n",
       "      <th>1</th>\n",
       "      <td>Laura</td>\n",
       "      <td>master</td>\n",
       "    </tr>\n",
       "    <tr>\n",
       "      <th>2</th>\n",
       "      <td>Gerardo</td>\n",
       "      <td>post-doctoral</td>\n",
       "    </tr>\n",
       "    <tr>\n",
       "      <th>3</th>\n",
       "      <td>Antonio</td>\n",
       "      <td>doctoral</td>\n",
       "    </tr>\n",
       "    <tr>\n",
       "      <th>4</th>\n",
       "      <td>Manuel</td>\n",
       "      <td>master</td>\n",
       "    </tr>\n",
       "    <tr>\n",
       "      <th>5</th>\n",
       "      <td>Frank</td>\n",
       "      <td>doctoral</td>\n",
       "    </tr>\n",
       "    <tr>\n",
       "      <th>6</th>\n",
       "      <td>Marco</td>\n",
       "      <td>post-doctoral</td>\n",
       "    </tr>\n",
       "    <tr>\n",
       "      <th>7</th>\n",
       "      <td>Victor</td>\n",
       "      <td>doctoral</td>\n",
       "    </tr>\n",
       "    <tr>\n",
       "      <th>8</th>\n",
       "      <td>Laura</td>\n",
       "      <td>master</td>\n",
       "    </tr>\n",
       "  </tbody>\n",
       "</table>\n",
       "</div>"
      ],
      "text/plain": [
       "   student        program\n",
       "0  Ludmila       doctoral\n",
       "1    Laura         master\n",
       "2  Gerardo  post-doctoral\n",
       "3  Antonio       doctoral\n",
       "4   Manuel         master\n",
       "5    Frank       doctoral\n",
       "6    Marco  post-doctoral\n",
       "7   Victor       doctoral\n",
       "8    Laura         master"
      ]
     },
     "execution_count": 14,
     "metadata": {},
     "output_type": "execute_result"
    }
   ],
   "source": [
    "df = pd.DataFrame({\n",
    "    'student': ['Ludmila', 'Laura', 'Gerardo', 'Antonio', 'Manuel', 'Frank', 'Marco', 'Victor', 'Laura'],\n",
    "    'program': ['doctoral', 'master', 'post-doctoral', 'doctoral', 'master', 'doctoral', 'post-doctoral', 'doctoral', 'master']\n",
    "})\n",
    "df"
   ]
  },
  {
   "cell_type": "code",
   "execution_count": 15,
   "id": "c2f9b4a7",
   "metadata": {},
   "outputs": [
    {
     "data": {
      "text/plain": [
       "program\n",
       "doctoral         4\n",
       "master           3\n",
       "post-doctoral    2\n",
       "Name: count, dtype: int64"
      ]
     },
     "execution_count": 15,
     "metadata": {},
     "output_type": "execute_result"
    }
   ],
   "source": [
    "df['program'].value_counts() #sees how many times the program is accounted"
   ]
  },
  {
   "cell_type": "markdown",
   "id": "c8402b07",
   "metadata": {
    "slideshow": {
     "slide_type": "subslide"
    }
   },
   "source": [
    "We can also drop duplicates based on all the columns"
   ]
  },
  {
   "cell_type": "code",
   "execution_count": 16,
   "id": "46fb6e53",
   "metadata": {
    "slideshow": {
     "slide_type": "fragment"
    }
   },
   "outputs": [
    {
     "data": {
      "text/plain": [
       "program\n",
       "doctoral         4\n",
       "master           2\n",
       "post-doctoral    2\n",
       "Name: count, dtype: int64"
      ]
     },
     "execution_count": 16,
     "metadata": {},
     "output_type": "execute_result"
    }
   ],
   "source": [
    "#however, we are counting laura as two different people.\n",
    "#this drops the duplicates\n",
    "df.drop_duplicates()['program'].value_counts()"
   ]
  },
  {
   "cell_type": "markdown",
   "id": "890c0a07",
   "metadata": {
    "slideshow": {
     "slide_type": "subslide"
    }
   },
   "source": [
    "We can also remove duplicates based on specific columns"
   ]
  },
  {
   "cell_type": "code",
   "execution_count": 17,
   "id": "b2edaa98",
   "metadata": {
    "slideshow": {
     "slide_type": "fragment"
    }
   },
   "outputs": [
    {
     "data": {
      "text/html": [
       "<div>\n",
       "<style scoped>\n",
       "    .dataframe tbody tr th:only-of-type {\n",
       "        vertical-align: middle;\n",
       "    }\n",
       "\n",
       "    .dataframe tbody tr th {\n",
       "        vertical-align: top;\n",
       "    }\n",
       "\n",
       "    .dataframe thead th {\n",
       "        text-align: right;\n",
       "    }\n",
       "</style>\n",
       "<table border=\"1\" class=\"dataframe\">\n",
       "  <thead>\n",
       "    <tr style=\"text-align: right;\">\n",
       "      <th></th>\n",
       "      <th>student</th>\n",
       "      <th>program</th>\n",
       "      <th>year</th>\n",
       "    </tr>\n",
       "  </thead>\n",
       "  <tbody>\n",
       "    <tr>\n",
       "      <th>0</th>\n",
       "      <td>Ludmila</td>\n",
       "      <td>doctoral</td>\n",
       "      <td>2019</td>\n",
       "    </tr>\n",
       "    <tr>\n",
       "      <th>1</th>\n",
       "      <td>Laura</td>\n",
       "      <td>master</td>\n",
       "      <td>2017</td>\n",
       "    </tr>\n",
       "    <tr>\n",
       "      <th>2</th>\n",
       "      <td>Gerardo</td>\n",
       "      <td>post-doctoral</td>\n",
       "      <td>2021</td>\n",
       "    </tr>\n",
       "    <tr>\n",
       "      <th>3</th>\n",
       "      <td>Antonio</td>\n",
       "      <td>doctoral</td>\n",
       "      <td>2023</td>\n",
       "    </tr>\n",
       "    <tr>\n",
       "      <th>4</th>\n",
       "      <td>Ludmila</td>\n",
       "      <td>doctoral</td>\n",
       "      <td>2017</td>\n",
       "    </tr>\n",
       "  </tbody>\n",
       "</table>\n",
       "</div>"
      ],
      "text/plain": [
       "   student        program  year\n",
       "0  Ludmila       doctoral  2019\n",
       "1    Laura         master  2017\n",
       "2  Gerardo  post-doctoral  2021\n",
       "3  Antonio       doctoral  2023\n",
       "4  Ludmila       doctoral  2017"
      ]
     },
     "execution_count": 17,
     "metadata": {},
     "output_type": "execute_result"
    }
   ],
   "source": [
    "df = pd.DataFrame({\n",
    "    'student': ['Ludmila', 'Laura', 'Gerardo', 'Antonio', 'Ludmila'],\n",
    "    'program': ['doctoral', 'master', 'post-doctoral', 'doctoral', 'doctoral'],\n",
    "    'year': [2019, 2017, 2021, 2023, 2017]\n",
    "})\n",
    "df\n"
   ]
  },
  {
   "cell_type": "code",
   "execution_count": 18,
   "id": "b55c205c",
   "metadata": {},
   "outputs": [
    {
     "data": {
      "text/html": [
       "<div>\n",
       "<style scoped>\n",
       "    .dataframe tbody tr th:only-of-type {\n",
       "        vertical-align: middle;\n",
       "    }\n",
       "\n",
       "    .dataframe tbody tr th {\n",
       "        vertical-align: top;\n",
       "    }\n",
       "\n",
       "    .dataframe thead th {\n",
       "        text-align: right;\n",
       "    }\n",
       "</style>\n",
       "<table border=\"1\" class=\"dataframe\">\n",
       "  <thead>\n",
       "    <tr style=\"text-align: right;\">\n",
       "      <th></th>\n",
       "      <th>student</th>\n",
       "      <th>program</th>\n",
       "      <th>year</th>\n",
       "    </tr>\n",
       "  </thead>\n",
       "  <tbody>\n",
       "    <tr>\n",
       "      <th>0</th>\n",
       "      <td>Ludmila</td>\n",
       "      <td>doctoral</td>\n",
       "      <td>2019</td>\n",
       "    </tr>\n",
       "    <tr>\n",
       "      <th>1</th>\n",
       "      <td>Laura</td>\n",
       "      <td>master</td>\n",
       "      <td>2017</td>\n",
       "    </tr>\n",
       "    <tr>\n",
       "      <th>2</th>\n",
       "      <td>Gerardo</td>\n",
       "      <td>post-doctoral</td>\n",
       "      <td>2021</td>\n",
       "    </tr>\n",
       "    <tr>\n",
       "      <th>3</th>\n",
       "      <td>Antonio</td>\n",
       "      <td>doctoral</td>\n",
       "      <td>2023</td>\n",
       "    </tr>\n",
       "  </tbody>\n",
       "</table>\n",
       "</div>"
      ],
      "text/plain": [
       "   student        program  year\n",
       "0  Ludmila       doctoral  2019\n",
       "1    Laura         master  2017\n",
       "2  Gerardo  post-doctoral  2021\n",
       "3  Antonio       doctoral  2023"
      ]
     },
     "execution_count": 18,
     "metadata": {},
     "output_type": "execute_result"
    }
   ],
   "source": [
    "df.drop_duplicates(subset=['student', 'program'])#this drops the duplicates only considering student and program"
   ]
  },
  {
   "cell_type": "markdown",
   "id": "2bdb3eae",
   "metadata": {
    "slideshow": {
     "slide_type": "subslide"
    }
   },
   "source": [
    "We can also select which one to remove based on its appearance, **first** or **last**, or even drastically remove all of them by setting **keep** to **False**:"
   ]
  },
  {
   "cell_type": "code",
   "execution_count": 19,
   "id": "a1544781",
   "metadata": {
    "slideshow": {
     "slide_type": "fragment"
    }
   },
   "outputs": [
    {
     "data": {
      "text/html": [
       "<div>\n",
       "<style scoped>\n",
       "    .dataframe tbody tr th:only-of-type {\n",
       "        vertical-align: middle;\n",
       "    }\n",
       "\n",
       "    .dataframe tbody tr th {\n",
       "        vertical-align: top;\n",
       "    }\n",
       "\n",
       "    .dataframe thead th {\n",
       "        text-align: right;\n",
       "    }\n",
       "</style>\n",
       "<table border=\"1\" class=\"dataframe\">\n",
       "  <thead>\n",
       "    <tr style=\"text-align: right;\">\n",
       "      <th></th>\n",
       "      <th>student</th>\n",
       "      <th>program</th>\n",
       "      <th>year</th>\n",
       "    </tr>\n",
       "  </thead>\n",
       "  <tbody>\n",
       "    <tr>\n",
       "      <th>0</th>\n",
       "      <td>Ludmila</td>\n",
       "      <td>doctoral</td>\n",
       "      <td>2019</td>\n",
       "    </tr>\n",
       "    <tr>\n",
       "      <th>1</th>\n",
       "      <td>Laura</td>\n",
       "      <td>master</td>\n",
       "      <td>2017</td>\n",
       "    </tr>\n",
       "    <tr>\n",
       "      <th>2</th>\n",
       "      <td>Gerardo</td>\n",
       "      <td>post-doctoral</td>\n",
       "      <td>2021</td>\n",
       "    </tr>\n",
       "    <tr>\n",
       "      <th>3</th>\n",
       "      <td>Antonio</td>\n",
       "      <td>doctoral</td>\n",
       "      <td>2023</td>\n",
       "    </tr>\n",
       "    <tr>\n",
       "      <th>4</th>\n",
       "      <td>Ludmila</td>\n",
       "      <td>doctoral</td>\n",
       "      <td>2017</td>\n",
       "    </tr>\n",
       "  </tbody>\n",
       "</table>\n",
       "</div>"
      ],
      "text/plain": [
       "   student        program  year\n",
       "0  Ludmila       doctoral  2019\n",
       "1    Laura         master  2017\n",
       "2  Gerardo  post-doctoral  2021\n",
       "3  Antonio       doctoral  2023\n",
       "4  Ludmila       doctoral  2017"
      ]
     },
     "execution_count": 19,
     "metadata": {},
     "output_type": "execute_result"
    }
   ],
   "source": [
    "df = pd.DataFrame({\n",
    "    'student': ['Ludmila', 'Laura', 'Gerardo', 'Antonio', 'Ludmila'],\n",
    "    'program': ['doctoral', 'master', 'post-doctoral', 'doctoral', 'doctoral'],\n",
    "    'year': [2019, 2017, 2021, 2023, 2017]\n",
    "})\n",
    "df"
   ]
  },
  {
   "cell_type": "code",
   "execution_count": 20,
   "id": "a01b881e",
   "metadata": {},
   "outputs": [],
   "source": [
    "df.drop_duplicates(subset=['student', 'program'], keep='last').reset_index(inplace = True) # keep = False will remove all"
   ]
  },
  {
   "cell_type": "code",
   "execution_count": 21,
   "id": "3ad95645",
   "metadata": {},
   "outputs": [
    {
     "data": {
      "text/html": [
       "<div>\n",
       "<style scoped>\n",
       "    .dataframe tbody tr th:only-of-type {\n",
       "        vertical-align: middle;\n",
       "    }\n",
       "\n",
       "    .dataframe tbody tr th {\n",
       "        vertical-align: top;\n",
       "    }\n",
       "\n",
       "    .dataframe thead th {\n",
       "        text-align: right;\n",
       "    }\n",
       "</style>\n",
       "<table border=\"1\" class=\"dataframe\">\n",
       "  <thead>\n",
       "    <tr style=\"text-align: right;\">\n",
       "      <th></th>\n",
       "      <th>index</th>\n",
       "      <th>student</th>\n",
       "      <th>program</th>\n",
       "      <th>year</th>\n",
       "    </tr>\n",
       "  </thead>\n",
       "  <tbody>\n",
       "    <tr>\n",
       "      <th>0</th>\n",
       "      <td>0</td>\n",
       "      <td>Ludmila</td>\n",
       "      <td>doctoral</td>\n",
       "      <td>2019</td>\n",
       "    </tr>\n",
       "    <tr>\n",
       "      <th>1</th>\n",
       "      <td>1</td>\n",
       "      <td>Laura</td>\n",
       "      <td>master</td>\n",
       "      <td>2017</td>\n",
       "    </tr>\n",
       "    <tr>\n",
       "      <th>2</th>\n",
       "      <td>2</td>\n",
       "      <td>Gerardo</td>\n",
       "      <td>post-doctoral</td>\n",
       "      <td>2021</td>\n",
       "    </tr>\n",
       "    <tr>\n",
       "      <th>3</th>\n",
       "      <td>3</td>\n",
       "      <td>Antonio</td>\n",
       "      <td>doctoral</td>\n",
       "      <td>2023</td>\n",
       "    </tr>\n",
       "    <tr>\n",
       "      <th>4</th>\n",
       "      <td>4</td>\n",
       "      <td>Ludmila</td>\n",
       "      <td>doctoral</td>\n",
       "      <td>2017</td>\n",
       "    </tr>\n",
       "  </tbody>\n",
       "</table>\n",
       "</div>"
      ],
      "text/plain": [
       "   index  student        program  year\n",
       "0      0  Ludmila       doctoral  2019\n",
       "1      1    Laura         master  2017\n",
       "2      2  Gerardo  post-doctoral  2021\n",
       "3      3  Antonio       doctoral  2023\n",
       "4      4  Ludmila       doctoral  2017"
      ]
     },
     "execution_count": 21,
     "metadata": {},
     "output_type": "execute_result"
    }
   ],
   "source": [
    "#we might need to reset the indexes when removing duplicates\n",
    "df.reset_index(inplace=True)\n",
    "df"
   ]
  },
  {
   "cell_type": "markdown",
   "id": "f04cc2fc",
   "metadata": {
    "slideshow": {
     "slide_type": "subslide"
    }
   },
   "source": [
    "As we mentioned in the last session, we can modify a column type. This can be an option for optimising resources. What we did not see is that we can simply call it once to modify multiple at the same time:"
   ]
  },
  {
   "cell_type": "code",
   "execution_count": 22,
   "id": "01bc0ca3",
   "metadata": {
    "slideshow": {
     "slide_type": "fragment"
    }
   },
   "outputs": [
    {
     "name": "stdout",
     "output_type": "stream",
     "text": [
      "<class 'pandas.core.frame.DataFrame'>\n",
      "RangeIndex: 5 entries, 0 to 4\n",
      "Data columns (total 4 columns):\n",
      " #   Column   Non-Null Count  Dtype \n",
      "---  ------   --------------  ----- \n",
      " 0   index    5 non-null      int64 \n",
      " 1   student  5 non-null      |S10  \n",
      " 2   program  5 non-null      object\n",
      " 3   year     5 non-null      int16 \n",
      "dtypes: bytes80(1), int16(1), int64(1), object(1)\n",
      "memory usage: 272.0+ bytes\n"
     ]
    }
   ],
   "source": [
    "df.astype({'year': np.int16, 'student': 'S10'}).info() "
   ]
  },
  {
   "cell_type": "markdown",
   "id": "15b0bcb2",
   "metadata": {
    "slideshow": {
     "slide_type": "subslide"
    }
   },
   "source": [
    "It may happen that some errors occur"
   ]
  },
  {
   "cell_type": "code",
   "execution_count": 23,
   "id": "39a41b44",
   "metadata": {
    "slideshow": {
     "slide_type": "fragment"
    }
   },
   "outputs": [
    {
     "data": {
      "text/html": [
       "<div>\n",
       "<style scoped>\n",
       "    .dataframe tbody tr th:only-of-type {\n",
       "        vertical-align: middle;\n",
       "    }\n",
       "\n",
       "    .dataframe tbody tr th {\n",
       "        vertical-align: top;\n",
       "    }\n",
       "\n",
       "    .dataframe thead th {\n",
       "        text-align: right;\n",
       "    }\n",
       "</style>\n",
       "<table border=\"1\" class=\"dataframe\">\n",
       "  <thead>\n",
       "    <tr style=\"text-align: right;\">\n",
       "      <th></th>\n",
       "      <th>student</th>\n",
       "      <th>program</th>\n",
       "      <th>id</th>\n",
       "      <th>year</th>\n",
       "    </tr>\n",
       "  </thead>\n",
       "  <tbody>\n",
       "    <tr>\n",
       "      <th>0</th>\n",
       "      <td>Ludmila</td>\n",
       "      <td>doctoral</td>\n",
       "      <td>1232</td>\n",
       "      <td>2019</td>\n",
       "    </tr>\n",
       "    <tr>\n",
       "      <th>1</th>\n",
       "      <td>Laura</td>\n",
       "      <td>master</td>\n",
       "      <td>ABDD</td>\n",
       "      <td>2017</td>\n",
       "    </tr>\n",
       "  </tbody>\n",
       "</table>\n",
       "</div>"
      ],
      "text/plain": [
       "   student   program    id  year\n",
       "0  Ludmila  doctoral  1232  2019\n",
       "1    Laura    master  ABDD  2017"
      ]
     },
     "execution_count": 23,
     "metadata": {},
     "output_type": "execute_result"
    }
   ],
   "source": [
    "df = pd.DataFrame({\n",
    "    'student': ['Ludmila', 'Laura'],\n",
    "    'program': ['doctoral', 'master'],\n",
    "    'id': ['1232', 'ABDD'],\n",
    "    'year': [2019, 2017]\n",
    "})\n",
    "# ignore will leave as it was\n",
    "df.astype({'id': float}, errors='ignore') "
   ]
  },
  {
   "cell_type": "markdown",
   "id": "2addaff7",
   "metadata": {
    "slideshow": {
     "slide_type": "subslide"
    }
   },
   "source": [
    "If you want to still change the column type, and handle them in a specific way, you can use the following:"
   ]
  },
  {
   "cell_type": "code",
   "execution_count": 24,
   "id": "41f97bea",
   "metadata": {
    "slideshow": {
     "slide_type": "fragment"
    }
   },
   "outputs": [
    {
     "data": {
      "text/plain": [
       "0    1232.0\n",
       "1       NaN\n",
       "Name: id, dtype: float64"
      ]
     },
     "execution_count": 24,
     "metadata": {},
     "output_type": "execute_result"
    }
   ],
   "source": [
    "pd.to_numeric(df['id'], errors='coerce') # Ideally, you can use to_numeric. If it's a string it just converts it to a NaN"
   ]
  },
  {
   "cell_type": "markdown",
   "id": "4cf8b42f",
   "metadata": {
    "slideshow": {
     "slide_type": "slide"
    }
   },
   "source": [
    "## Pandas II\n",
    "### Advanced data manipulation\n",
    "\n",
    "Let's do some exercices with what we learned so far. The Iris dataset can be found in: \n",
    "\n",
    "https://archive.ics.uci.edu/ml/machine-learning-databases/iris/iris.data\n",
    "\n",
    "Exercise:\n",
    "\n",
    "- Series\n",
    "    - Create a **lambda** function that classifies flowers based on their petal length (e.g., \"short\" for petal lengths less than 3 cm and \"long\" for others). Apply this function to the PetalLengthCm column using **apply**.\n",
    "    - Use **map** to convert the *Species* column into numeric values, e.g. 0 for *Iris-setosa*, 1 for *Iris-versicolor*, 2 for *Iris-virginica*.\n",
    "- DataFrame\n",
    "    - Use **value_counts** on the *Species* column to count how many entries belong to each species.\n",
    "    - Use **drop_duplicates** to remove any duplicate rows from the dataset based on SepalLengthCm and PetalLengthCm.\n",
    "    - Use **astype** to convert the *SepalLengthCm* column to a string type, then back to float type (if there are any errors, handle them gracefully).\n",
    "    - Save the modified DataFrame to a CSV file ensuring the index is included (use **to_csv**)."
   ]
  },
  {
   "cell_type": "code",
   "execution_count": 26,
   "id": "348e52d5",
   "metadata": {
    "slideshow": {
     "slide_type": "skip"
    }
   },
   "outputs": [],
   "source": [
    "# Additional information to succeed in the exercises\n",
    "\n",
    "columns = ['SepalLengthCm', 'SepalWidthCm', 'PetalLengthCm', 'PetalWidthCm', 'Species']\n",
    "url = 'https://archive.ics.uci.edu/ml/machine-learning-databases/iris/iris.data'\n",
    "# Since the dataset does not come with header... we set up the columns with the above information\n",
    "df = pd.read_csv(url, header=None, names=columns)"
   ]
  },
  {
   "cell_type": "code",
   "execution_count": 27,
   "id": "177fe480",
   "metadata": {},
   "outputs": [
    {
     "data": {
      "text/html": [
       "<div>\n",
       "<style scoped>\n",
       "    .dataframe tbody tr th:only-of-type {\n",
       "        vertical-align: middle;\n",
       "    }\n",
       "\n",
       "    .dataframe tbody tr th {\n",
       "        vertical-align: top;\n",
       "    }\n",
       "\n",
       "    .dataframe thead th {\n",
       "        text-align: right;\n",
       "    }\n",
       "</style>\n",
       "<table border=\"1\" class=\"dataframe\">\n",
       "  <thead>\n",
       "    <tr style=\"text-align: right;\">\n",
       "      <th></th>\n",
       "      <th>SepalLengthCm</th>\n",
       "      <th>SepalWidthCm</th>\n",
       "      <th>PetalLengthCm</th>\n",
       "      <th>PetalWidthCm</th>\n",
       "      <th>Species</th>\n",
       "      <th>PetalLenghtCm</th>\n",
       "    </tr>\n",
       "  </thead>\n",
       "  <tbody>\n",
       "    <tr>\n",
       "      <th>0</th>\n",
       "      <td>5.1</td>\n",
       "      <td>3.5</td>\n",
       "      <td>1.4</td>\n",
       "      <td>0.2</td>\n",
       "      <td>Iris-setosa</td>\n",
       "      <td>short</td>\n",
       "    </tr>\n",
       "    <tr>\n",
       "      <th>1</th>\n",
       "      <td>4.9</td>\n",
       "      <td>3.0</td>\n",
       "      <td>1.4</td>\n",
       "      <td>0.2</td>\n",
       "      <td>Iris-setosa</td>\n",
       "      <td>short</td>\n",
       "    </tr>\n",
       "    <tr>\n",
       "      <th>2</th>\n",
       "      <td>4.7</td>\n",
       "      <td>3.2</td>\n",
       "      <td>1.3</td>\n",
       "      <td>0.2</td>\n",
       "      <td>Iris-setosa</td>\n",
       "      <td>short</td>\n",
       "    </tr>\n",
       "    <tr>\n",
       "      <th>3</th>\n",
       "      <td>4.6</td>\n",
       "      <td>3.1</td>\n",
       "      <td>1.5</td>\n",
       "      <td>0.2</td>\n",
       "      <td>Iris-setosa</td>\n",
       "      <td>short</td>\n",
       "    </tr>\n",
       "    <tr>\n",
       "      <th>4</th>\n",
       "      <td>5.0</td>\n",
       "      <td>3.6</td>\n",
       "      <td>1.4</td>\n",
       "      <td>0.2</td>\n",
       "      <td>Iris-setosa</td>\n",
       "      <td>short</td>\n",
       "    </tr>\n",
       "    <tr>\n",
       "      <th>...</th>\n",
       "      <td>...</td>\n",
       "      <td>...</td>\n",
       "      <td>...</td>\n",
       "      <td>...</td>\n",
       "      <td>...</td>\n",
       "      <td>...</td>\n",
       "    </tr>\n",
       "    <tr>\n",
       "      <th>145</th>\n",
       "      <td>6.7</td>\n",
       "      <td>3.0</td>\n",
       "      <td>5.2</td>\n",
       "      <td>2.3</td>\n",
       "      <td>Iris-virginica</td>\n",
       "      <td>long</td>\n",
       "    </tr>\n",
       "    <tr>\n",
       "      <th>146</th>\n",
       "      <td>6.3</td>\n",
       "      <td>2.5</td>\n",
       "      <td>5.0</td>\n",
       "      <td>1.9</td>\n",
       "      <td>Iris-virginica</td>\n",
       "      <td>long</td>\n",
       "    </tr>\n",
       "    <tr>\n",
       "      <th>147</th>\n",
       "      <td>6.5</td>\n",
       "      <td>3.0</td>\n",
       "      <td>5.2</td>\n",
       "      <td>2.0</td>\n",
       "      <td>Iris-virginica</td>\n",
       "      <td>long</td>\n",
       "    </tr>\n",
       "    <tr>\n",
       "      <th>148</th>\n",
       "      <td>6.2</td>\n",
       "      <td>3.4</td>\n",
       "      <td>5.4</td>\n",
       "      <td>2.3</td>\n",
       "      <td>Iris-virginica</td>\n",
       "      <td>long</td>\n",
       "    </tr>\n",
       "    <tr>\n",
       "      <th>149</th>\n",
       "      <td>5.9</td>\n",
       "      <td>3.0</td>\n",
       "      <td>5.1</td>\n",
       "      <td>1.8</td>\n",
       "      <td>Iris-virginica</td>\n",
       "      <td>long</td>\n",
       "    </tr>\n",
       "  </tbody>\n",
       "</table>\n",
       "<p>150 rows × 6 columns</p>\n",
       "</div>"
      ],
      "text/plain": [
       "     SepalLengthCm  SepalWidthCm  PetalLengthCm  PetalWidthCm         Species  \\\n",
       "0              5.1           3.5            1.4           0.2     Iris-setosa   \n",
       "1              4.9           3.0            1.4           0.2     Iris-setosa   \n",
       "2              4.7           3.2            1.3           0.2     Iris-setosa   \n",
       "3              4.6           3.1            1.5           0.2     Iris-setosa   \n",
       "4              5.0           3.6            1.4           0.2     Iris-setosa   \n",
       "..             ...           ...            ...           ...             ...   \n",
       "145            6.7           3.0            5.2           2.3  Iris-virginica   \n",
       "146            6.3           2.5            5.0           1.9  Iris-virginica   \n",
       "147            6.5           3.0            5.2           2.0  Iris-virginica   \n",
       "148            6.2           3.4            5.4           2.3  Iris-virginica   \n",
       "149            5.9           3.0            5.1           1.8  Iris-virginica   \n",
       "\n",
       "    PetalLenghtCm  \n",
       "0           short  \n",
       "1           short  \n",
       "2           short  \n",
       "3           short  \n",
       "4           short  \n",
       "..            ...  \n",
       "145          long  \n",
       "146          long  \n",
       "147          long  \n",
       "148          long  \n",
       "149          long  \n",
       "\n",
       "[150 rows x 6 columns]"
      ]
     },
     "execution_count": 27,
     "metadata": {},
     "output_type": "execute_result"
    }
   ],
   "source": [
    "#Create a **lambda** function that classifies flowers based on their petal length \n",
    "\n",
    "classifier = lambda x: 'short' if x<3 else 'long'\n",
    "df['PetalLenghtCm'] = df['PetalLengthCm'].apply(classifier)\n",
    "df"
   ]
  },
  {
   "cell_type": "code",
   "execution_count": 28,
   "id": "4992f7f0",
   "metadata": {},
   "outputs": [
    {
     "data": {
      "text/plain": [
       "0      0\n",
       "1      0\n",
       "2      0\n",
       "3      0\n",
       "4      0\n",
       "      ..\n",
       "145    2\n",
       "146    2\n",
       "147    2\n",
       "148    2\n",
       "149    2\n",
       "Name: Species, Length: 150, dtype: int64"
      ]
     },
     "execution_count": 28,
     "metadata": {},
     "output_type": "execute_result"
    }
   ],
   "source": [
    "#Use **map** to convert the *Species* column into numeric values\n",
    "\n",
    "df['Species'].map(lambda x: 0 if x=='Iris-setosa' else (1 if x == 'Iris-versicolor' else 2 if x=='Iris-virginica' else None))"
   ]
  },
  {
   "cell_type": "code",
   "execution_count": 29,
   "id": "6526fed0",
   "metadata": {},
   "outputs": [
    {
     "data": {
      "text/plain": [
       "Species\n",
       "Iris-setosa        50\n",
       "Iris-versicolor    50\n",
       "Iris-virginica     50\n",
       "Name: count, dtype: int64"
      ]
     },
     "execution_count": 29,
     "metadata": {},
     "output_type": "execute_result"
    }
   ],
   "source": [
    "#Use **value_counts** on the *Species* column to count how many entries belong to each species\n",
    "\n",
    "df['Species'].value_counts()"
   ]
  },
  {
   "cell_type": "code",
   "execution_count": 30,
   "id": "21f7a707",
   "metadata": {},
   "outputs": [
    {
     "data": {
      "text/html": [
       "<div>\n",
       "<style scoped>\n",
       "    .dataframe tbody tr th:only-of-type {\n",
       "        vertical-align: middle;\n",
       "    }\n",
       "\n",
       "    .dataframe tbody tr th {\n",
       "        vertical-align: top;\n",
       "    }\n",
       "\n",
       "    .dataframe thead th {\n",
       "        text-align: right;\n",
       "    }\n",
       "</style>\n",
       "<table border=\"1\" class=\"dataframe\">\n",
       "  <thead>\n",
       "    <tr style=\"text-align: right;\">\n",
       "      <th></th>\n",
       "      <th>SepalLengthCm</th>\n",
       "      <th>SepalWidthCm</th>\n",
       "      <th>PetalLengthCm</th>\n",
       "      <th>PetalWidthCm</th>\n",
       "      <th>Species</th>\n",
       "      <th>PetalLenghtCm</th>\n",
       "    </tr>\n",
       "  </thead>\n",
       "  <tbody>\n",
       "    <tr>\n",
       "      <th>0</th>\n",
       "      <td>5.1</td>\n",
       "      <td>3.5</td>\n",
       "      <td>1.4</td>\n",
       "      <td>0.2</td>\n",
       "      <td>Iris-setosa</td>\n",
       "      <td>short</td>\n",
       "    </tr>\n",
       "    <tr>\n",
       "      <th>1</th>\n",
       "      <td>4.9</td>\n",
       "      <td>3.0</td>\n",
       "      <td>1.4</td>\n",
       "      <td>0.2</td>\n",
       "      <td>Iris-setosa</td>\n",
       "      <td>short</td>\n",
       "    </tr>\n",
       "    <tr>\n",
       "      <th>2</th>\n",
       "      <td>4.7</td>\n",
       "      <td>3.2</td>\n",
       "      <td>1.3</td>\n",
       "      <td>0.2</td>\n",
       "      <td>Iris-setosa</td>\n",
       "      <td>short</td>\n",
       "    </tr>\n",
       "    <tr>\n",
       "      <th>3</th>\n",
       "      <td>4.6</td>\n",
       "      <td>3.1</td>\n",
       "      <td>1.5</td>\n",
       "      <td>0.2</td>\n",
       "      <td>Iris-setosa</td>\n",
       "      <td>short</td>\n",
       "    </tr>\n",
       "    <tr>\n",
       "      <th>4</th>\n",
       "      <td>5.0</td>\n",
       "      <td>3.6</td>\n",
       "      <td>1.4</td>\n",
       "      <td>0.2</td>\n",
       "      <td>Iris-setosa</td>\n",
       "      <td>short</td>\n",
       "    </tr>\n",
       "    <tr>\n",
       "      <th>...</th>\n",
       "      <td>...</td>\n",
       "      <td>...</td>\n",
       "      <td>...</td>\n",
       "      <td>...</td>\n",
       "      <td>...</td>\n",
       "      <td>...</td>\n",
       "    </tr>\n",
       "    <tr>\n",
       "      <th>145</th>\n",
       "      <td>6.7</td>\n",
       "      <td>3.0</td>\n",
       "      <td>5.2</td>\n",
       "      <td>2.3</td>\n",
       "      <td>Iris-virginica</td>\n",
       "      <td>long</td>\n",
       "    </tr>\n",
       "    <tr>\n",
       "      <th>146</th>\n",
       "      <td>6.3</td>\n",
       "      <td>2.5</td>\n",
       "      <td>5.0</td>\n",
       "      <td>1.9</td>\n",
       "      <td>Iris-virginica</td>\n",
       "      <td>long</td>\n",
       "    </tr>\n",
       "    <tr>\n",
       "      <th>147</th>\n",
       "      <td>6.5</td>\n",
       "      <td>3.0</td>\n",
       "      <td>5.2</td>\n",
       "      <td>2.0</td>\n",
       "      <td>Iris-virginica</td>\n",
       "      <td>long</td>\n",
       "    </tr>\n",
       "    <tr>\n",
       "      <th>148</th>\n",
       "      <td>6.2</td>\n",
       "      <td>3.4</td>\n",
       "      <td>5.4</td>\n",
       "      <td>2.3</td>\n",
       "      <td>Iris-virginica</td>\n",
       "      <td>long</td>\n",
       "    </tr>\n",
       "    <tr>\n",
       "      <th>149</th>\n",
       "      <td>5.9</td>\n",
       "      <td>3.0</td>\n",
       "      <td>5.1</td>\n",
       "      <td>1.8</td>\n",
       "      <td>Iris-virginica</td>\n",
       "      <td>long</td>\n",
       "    </tr>\n",
       "  </tbody>\n",
       "</table>\n",
       "<p>123 rows × 6 columns</p>\n",
       "</div>"
      ],
      "text/plain": [
       "     SepalLengthCm  SepalWidthCm  PetalLengthCm  PetalWidthCm         Species  \\\n",
       "0              5.1           3.5            1.4           0.2     Iris-setosa   \n",
       "1              4.9           3.0            1.4           0.2     Iris-setosa   \n",
       "2              4.7           3.2            1.3           0.2     Iris-setosa   \n",
       "3              4.6           3.1            1.5           0.2     Iris-setosa   \n",
       "4              5.0           3.6            1.4           0.2     Iris-setosa   \n",
       "..             ...           ...            ...           ...             ...   \n",
       "145            6.7           3.0            5.2           2.3  Iris-virginica   \n",
       "146            6.3           2.5            5.0           1.9  Iris-virginica   \n",
       "147            6.5           3.0            5.2           2.0  Iris-virginica   \n",
       "148            6.2           3.4            5.4           2.3  Iris-virginica   \n",
       "149            5.9           3.0            5.1           1.8  Iris-virginica   \n",
       "\n",
       "    PetalLenghtCm  \n",
       "0           short  \n",
       "1           short  \n",
       "2           short  \n",
       "3           short  \n",
       "4           short  \n",
       "..            ...  \n",
       "145          long  \n",
       "146          long  \n",
       "147          long  \n",
       "148          long  \n",
       "149          long  \n",
       "\n",
       "[123 rows x 6 columns]"
      ]
     },
     "execution_count": 30,
     "metadata": {},
     "output_type": "execute_result"
    }
   ],
   "source": [
    "#Use **drop_duplicates** to remove any duplicate rows from the dataset based on SepalLengthCm and PetalLengthCm\n",
    "\n",
    "df.drop_duplicates(subset = ['SepalLengthCm', 'PetalLengthCm'])"
   ]
  },
  {
   "cell_type": "code",
   "execution_count": 31,
   "id": "8d6e39e9",
   "metadata": {},
   "outputs": [
    {
     "name": "stdout",
     "output_type": "stream",
     "text": [
      "<class 'pandas.core.frame.DataFrame'>\n",
      "RangeIndex: 150 entries, 0 to 149\n",
      "Data columns (total 6 columns):\n",
      " #   Column         Non-Null Count  Dtype  \n",
      "---  ------         --------------  -----  \n",
      " 0   SepalLengthCm  150 non-null    object \n",
      " 1   SepalWidthCm   150 non-null    float64\n",
      " 2   PetalLengthCm  150 non-null    float64\n",
      " 3   PetalWidthCm   150 non-null    float64\n",
      " 4   Species        150 non-null    object \n",
      " 5   PetalLenghtCm  150 non-null    object \n",
      "dtypes: float64(3), object(3)\n",
      "memory usage: 7.2+ KB\n",
      "<class 'pandas.core.frame.DataFrame'>\n",
      "RangeIndex: 150 entries, 0 to 149\n",
      "Data columns (total 6 columns):\n",
      " #   Column         Non-Null Count  Dtype  \n",
      "---  ------         --------------  -----  \n",
      " 0   SepalLengthCm  150 non-null    float64\n",
      " 1   SepalWidthCm   150 non-null    float64\n",
      " 2   PetalLengthCm  150 non-null    float64\n",
      " 3   PetalWidthCm   150 non-null    float64\n",
      " 4   Species        150 non-null    object \n",
      " 5   PetalLenghtCm  150 non-null    object \n",
      "dtypes: float64(4), object(2)\n",
      "memory usage: 7.2+ KB\n"
     ]
    }
   ],
   "source": [
    "#Use **astype** to convert the *SepalLengthCm* column to a string type, then back to float type\n",
    "\n",
    "df.astype({'SepalLengthCm': str}, errors='ignore').info()\n",
    "df.astype({'SepalLengthCm': float}, errors='ignore').info()"
   ]
  },
  {
   "cell_type": "code",
   "execution_count": 32,
   "id": "60aed509",
   "metadata": {},
   "outputs": [],
   "source": [
    "# Save the modified DataFrame to a CSV\n",
    "\n",
    "df.to_csv(r'DataFrame.csv')"
   ]
  },
  {
   "cell_type": "markdown",
   "id": "d9140c86",
   "metadata": {
    "slideshow": {
     "slide_type": "slide"
    }
   },
   "source": [
    "## Pandas II\n",
    "### Advanced data manipulation\n",
    "\n",
    "As we saw last session, **groupby** is a pretty handy tool. Another useful tool is **pivot_table**. It provides  statistics of a more extensive data table. "
   ]
  },
  {
   "cell_type": "code",
   "execution_count": 33,
   "id": "8b42e75f",
   "metadata": {
    "slideshow": {
     "slide_type": "fragment"
    }
   },
   "outputs": [
    {
     "data": {
      "text/html": [
       "<div>\n",
       "<style scoped>\n",
       "    .dataframe tbody tr th:only-of-type {\n",
       "        vertical-align: middle;\n",
       "    }\n",
       "\n",
       "    .dataframe tbody tr th {\n",
       "        vertical-align: top;\n",
       "    }\n",
       "\n",
       "    .dataframe thead th {\n",
       "        text-align: right;\n",
       "    }\n",
       "</style>\n",
       "<table border=\"1\" class=\"dataframe\">\n",
       "  <thead>\n",
       "    <tr style=\"text-align: right;\">\n",
       "      <th></th>\n",
       "      <th>student</th>\n",
       "      <th>program</th>\n",
       "      <th>grades</th>\n",
       "      <th>marks</th>\n",
       "    </tr>\n",
       "  </thead>\n",
       "  <tbody>\n",
       "    <tr>\n",
       "      <th>0</th>\n",
       "      <td>Ludmila</td>\n",
       "      <td>doctoral</td>\n",
       "      <td>B</td>\n",
       "      <td>8</td>\n",
       "    </tr>\n",
       "    <tr>\n",
       "      <th>1</th>\n",
       "      <td>Laura</td>\n",
       "      <td>master</td>\n",
       "      <td>A</td>\n",
       "      <td>10</td>\n",
       "    </tr>\n",
       "    <tr>\n",
       "      <th>2</th>\n",
       "      <td>Gerardo</td>\n",
       "      <td>post-doctoral</td>\n",
       "      <td>F</td>\n",
       "      <td>4</td>\n",
       "    </tr>\n",
       "    <tr>\n",
       "      <th>3</th>\n",
       "      <td>Antonio</td>\n",
       "      <td>doctoral</td>\n",
       "      <td>C</td>\n",
       "      <td>5</td>\n",
       "    </tr>\n",
       "    <tr>\n",
       "      <th>4</th>\n",
       "      <td>Manuel</td>\n",
       "      <td>master</td>\n",
       "      <td>C</td>\n",
       "      <td>5</td>\n",
       "    </tr>\n",
       "    <tr>\n",
       "      <th>5</th>\n",
       "      <td>Frank</td>\n",
       "      <td>doctoral</td>\n",
       "      <td>B</td>\n",
       "      <td>8</td>\n",
       "    </tr>\n",
       "    <tr>\n",
       "      <th>6</th>\n",
       "      <td>Marco</td>\n",
       "      <td>post-doctoral</td>\n",
       "      <td>B</td>\n",
       "      <td>8</td>\n",
       "    </tr>\n",
       "    <tr>\n",
       "      <th>7</th>\n",
       "      <td>Victor</td>\n",
       "      <td>doctoral</td>\n",
       "      <td>A</td>\n",
       "      <td>9</td>\n",
       "    </tr>\n",
       "    <tr>\n",
       "      <th>8</th>\n",
       "      <td>Victor</td>\n",
       "      <td>doctoral</td>\n",
       "      <td>B</td>\n",
       "      <td>7</td>\n",
       "    </tr>\n",
       "  </tbody>\n",
       "</table>\n",
       "</div>"
      ],
      "text/plain": [
       "   student        program grades  marks\n",
       "0  Ludmila       doctoral      B      8\n",
       "1    Laura         master      A     10\n",
       "2  Gerardo  post-doctoral      F      4\n",
       "3  Antonio       doctoral      C      5\n",
       "4   Manuel         master      C      5\n",
       "5    Frank       doctoral      B      8\n",
       "6    Marco  post-doctoral      B      8\n",
       "7   Victor       doctoral      A      9\n",
       "8   Victor       doctoral      B      7"
      ]
     },
     "execution_count": 33,
     "metadata": {},
     "output_type": "execute_result"
    }
   ],
   "source": [
    "df = pd.DataFrame({\n",
    "    'student': ['Ludmila', 'Laura', 'Gerardo', 'Antonio', 'Manuel', 'Frank', 'Marco', 'Victor', 'Victor'],\n",
    "    'program': ['doctoral', 'master', 'post-doctoral', 'doctoral', 'master', 'doctoral', 'post-doctoral', 'doctoral', 'doctoral'],\n",
    "    'grades': ['B', 'A', 'F', 'C', 'C', 'B', 'B', 'A', 'B'],\n",
    "    'marks':  [8, 10, 4, 5, 5, 8, 8, 9, 7]\n",
    "})\n",
    "df"
   ]
  },
  {
   "cell_type": "code",
   "execution_count": 34,
   "id": "c0b04b1b",
   "metadata": {
    "slideshow": {
     "slide_type": "subslide"
    }
   },
   "outputs": [
    {
     "data": {
      "text/html": [
       "<div>\n",
       "<style scoped>\n",
       "    .dataframe tbody tr th:only-of-type {\n",
       "        vertical-align: middle;\n",
       "    }\n",
       "\n",
       "    .dataframe tbody tr th {\n",
       "        vertical-align: top;\n",
       "    }\n",
       "\n",
       "    .dataframe thead th {\n",
       "        text-align: right;\n",
       "    }\n",
       "</style>\n",
       "<table border=\"1\" class=\"dataframe\">\n",
       "  <thead>\n",
       "    <tr style=\"text-align: right;\">\n",
       "      <th></th>\n",
       "      <th>marks</th>\n",
       "    </tr>\n",
       "    <tr>\n",
       "      <th>program</th>\n",
       "      <th></th>\n",
       "    </tr>\n",
       "  </thead>\n",
       "  <tbody>\n",
       "    <tr>\n",
       "      <th>doctoral</th>\n",
       "      <td>7.4</td>\n",
       "    </tr>\n",
       "    <tr>\n",
       "      <th>master</th>\n",
       "      <td>7.5</td>\n",
       "    </tr>\n",
       "    <tr>\n",
       "      <th>post-doctoral</th>\n",
       "      <td>6.0</td>\n",
       "    </tr>\n",
       "  </tbody>\n",
       "</table>\n",
       "</div>"
      ],
      "text/plain": [
       "               marks\n",
       "program             \n",
       "doctoral         7.4\n",
       "master           7.5\n",
       "post-doctoral    6.0"
      ]
     },
     "execution_count": 34,
     "metadata": {},
     "output_type": "execute_result"
    }
   ],
   "source": [
    "df.pivot_table(values='marks', index='program') # it will by default use mean"
   ]
  },
  {
   "cell_type": "code",
   "execution_count": 35,
   "id": "7d4cb023",
   "metadata": {
    "slideshow": {
     "slide_type": "subslide"
    }
   },
   "outputs": [
    {
     "data": {
      "text/html": [
       "<div>\n",
       "<style scoped>\n",
       "    .dataframe tbody tr th:only-of-type {\n",
       "        vertical-align: middle;\n",
       "    }\n",
       "\n",
       "    .dataframe tbody tr th {\n",
       "        vertical-align: top;\n",
       "    }\n",
       "\n",
       "    .dataframe thead th {\n",
       "        text-align: right;\n",
       "    }\n",
       "</style>\n",
       "<table border=\"1\" class=\"dataframe\">\n",
       "  <thead>\n",
       "    <tr style=\"text-align: right;\">\n",
       "      <th></th>\n",
       "      <th>marks</th>\n",
       "    </tr>\n",
       "    <tr>\n",
       "      <th>program</th>\n",
       "      <th></th>\n",
       "    </tr>\n",
       "  </thead>\n",
       "  <tbody>\n",
       "    <tr>\n",
       "      <th>doctoral</th>\n",
       "      <td>9</td>\n",
       "    </tr>\n",
       "    <tr>\n",
       "      <th>master</th>\n",
       "      <td>10</td>\n",
       "    </tr>\n",
       "    <tr>\n",
       "      <th>post-doctoral</th>\n",
       "      <td>8</td>\n",
       "    </tr>\n",
       "  </tbody>\n",
       "</table>\n",
       "</div>"
      ],
      "text/plain": [
       "               marks\n",
       "program             \n",
       "doctoral           9\n",
       "master            10\n",
       "post-doctoral      8"
      ]
     },
     "execution_count": 35,
     "metadata": {},
     "output_type": "execute_result"
    }
   ],
   "source": [
    "df.pivot_table(values='marks', index='program', aggfunc='max')"
   ]
  },
  {
   "cell_type": "code",
   "execution_count": 36,
   "id": "29944225",
   "metadata": {
    "slideshow": {
     "slide_type": "subslide"
    }
   },
   "outputs": [
    {
     "data": {
      "text/html": [
       "<div>\n",
       "<style scoped>\n",
       "    .dataframe tbody tr th:only-of-type {\n",
       "        vertical-align: middle;\n",
       "    }\n",
       "\n",
       "    .dataframe tbody tr th {\n",
       "        vertical-align: top;\n",
       "    }\n",
       "\n",
       "    .dataframe thead tr th {\n",
       "        text-align: left;\n",
       "    }\n",
       "\n",
       "    .dataframe thead tr:last-of-type th {\n",
       "        text-align: right;\n",
       "    }\n",
       "</style>\n",
       "<table border=\"1\" class=\"dataframe\">\n",
       "  <thead>\n",
       "    <tr>\n",
       "      <th></th>\n",
       "      <th>sum</th>\n",
       "      <th>mean</th>\n",
       "      <th>max</th>\n",
       "    </tr>\n",
       "    <tr>\n",
       "      <th></th>\n",
       "      <th>marks</th>\n",
       "      <th>marks</th>\n",
       "      <th>marks</th>\n",
       "    </tr>\n",
       "    <tr>\n",
       "      <th>student</th>\n",
       "      <th></th>\n",
       "      <th></th>\n",
       "      <th></th>\n",
       "    </tr>\n",
       "  </thead>\n",
       "  <tbody>\n",
       "    <tr>\n",
       "      <th>Antonio</th>\n",
       "      <td>5</td>\n",
       "      <td>5</td>\n",
       "      <td>5</td>\n",
       "    </tr>\n",
       "    <tr>\n",
       "      <th>Frank</th>\n",
       "      <td>8</td>\n",
       "      <td>8</td>\n",
       "      <td>8</td>\n",
       "    </tr>\n",
       "    <tr>\n",
       "      <th>Gerardo</th>\n",
       "      <td>4</td>\n",
       "      <td>4</td>\n",
       "      <td>4</td>\n",
       "    </tr>\n",
       "    <tr>\n",
       "      <th>Laura</th>\n",
       "      <td>10</td>\n",
       "      <td>10</td>\n",
       "      <td>10</td>\n",
       "    </tr>\n",
       "    <tr>\n",
       "      <th>Ludmila</th>\n",
       "      <td>8</td>\n",
       "      <td>8</td>\n",
       "      <td>8</td>\n",
       "    </tr>\n",
       "    <tr>\n",
       "      <th>Manuel</th>\n",
       "      <td>5</td>\n",
       "      <td>5</td>\n",
       "      <td>5</td>\n",
       "    </tr>\n",
       "    <tr>\n",
       "      <th>Marco</th>\n",
       "      <td>8</td>\n",
       "      <td>8</td>\n",
       "      <td>8</td>\n",
       "    </tr>\n",
       "    <tr>\n",
       "      <th>Victor</th>\n",
       "      <td>16</td>\n",
       "      <td>8</td>\n",
       "      <td>9</td>\n",
       "    </tr>\n",
       "  </tbody>\n",
       "</table>\n",
       "</div>"
      ],
      "text/plain": [
       "          sum  mean   max\n",
       "        marks marks marks\n",
       "student                  \n",
       "Antonio     5     5     5\n",
       "Frank       8     8     8\n",
       "Gerardo     4     4     4\n",
       "Laura      10    10    10\n",
       "Ludmila     8     8     8\n",
       "Manuel      5     5     5\n",
       "Marco       8     8     8\n",
       "Victor     16     8     9"
      ]
     },
     "execution_count": 36,
     "metadata": {},
     "output_type": "execute_result"
    }
   ],
   "source": [
    "# here it does not make sense to use index = student, \n",
    "# since we don't have multile entries per student\n",
    "df.pivot_table(values='marks', index='student', aggfunc=['sum', 'mean', 'max'])"
   ]
  },
  {
   "cell_type": "markdown",
   "id": "b588cb08",
   "metadata": {
    "slideshow": {
     "slide_type": "slide"
    }
   },
   "source": [
    "## Pandas II\n",
    "### Advanced data manipulation\n",
    "\n",
    "Another interesting method we can use within **Pandas** is **query**. It can help us exploring in a neat manner:\n"
   ]
  },
  {
   "cell_type": "code",
   "execution_count": 37,
   "id": "d3c3fde6",
   "metadata": {
    "slideshow": {
     "slide_type": "subslide"
    }
   },
   "outputs": [],
   "source": [
    "df = pd.DataFrame({\n",
    "    'student': ['Ludmila', 'Laura', 'Gerardo', 'Antonio', 'Manuel', 'Frank', 'Marco', 'Victor'],\n",
    "    'program': ['doctoral', 'master', 'post-doctoral', 'doctoral', 'master', 'doctoral', 'post-doctoral', 'doctoral'],\n",
    "    'grades': ['B', 'A', 'F', 'C', 'C', 'B', 'B', 'A'],\n",
    "    'marks':  [8, 10, 4, 5, 5, 7.8, 8, 9]\n",
    "})"
   ]
  },
  {
   "cell_type": "code",
   "execution_count": 38,
   "id": "c422f439",
   "metadata": {
    "slideshow": {
     "slide_type": "fragment"
    }
   },
   "outputs": [
    {
     "data": {
      "text/html": [
       "<div>\n",
       "<style scoped>\n",
       "    .dataframe tbody tr th:only-of-type {\n",
       "        vertical-align: middle;\n",
       "    }\n",
       "\n",
       "    .dataframe tbody tr th {\n",
       "        vertical-align: top;\n",
       "    }\n",
       "\n",
       "    .dataframe thead th {\n",
       "        text-align: right;\n",
       "    }\n",
       "</style>\n",
       "<table border=\"1\" class=\"dataframe\">\n",
       "  <thead>\n",
       "    <tr style=\"text-align: right;\">\n",
       "      <th></th>\n",
       "      <th>student</th>\n",
       "      <th>program</th>\n",
       "      <th>grades</th>\n",
       "      <th>marks</th>\n",
       "    </tr>\n",
       "  </thead>\n",
       "  <tbody>\n",
       "    <tr>\n",
       "      <th>0</th>\n",
       "      <td>Ludmila</td>\n",
       "      <td>doctoral</td>\n",
       "      <td>B</td>\n",
       "      <td>8.0</td>\n",
       "    </tr>\n",
       "    <tr>\n",
       "      <th>1</th>\n",
       "      <td>Laura</td>\n",
       "      <td>master</td>\n",
       "      <td>A</td>\n",
       "      <td>10.0</td>\n",
       "    </tr>\n",
       "    <tr>\n",
       "      <th>6</th>\n",
       "      <td>Marco</td>\n",
       "      <td>post-doctoral</td>\n",
       "      <td>B</td>\n",
       "      <td>8.0</td>\n",
       "    </tr>\n",
       "    <tr>\n",
       "      <th>7</th>\n",
       "      <td>Victor</td>\n",
       "      <td>doctoral</td>\n",
       "      <td>A</td>\n",
       "      <td>9.0</td>\n",
       "    </tr>\n",
       "  </tbody>\n",
       "</table>\n",
       "</div>"
      ],
      "text/plain": [
       "   student        program grades  marks\n",
       "0  Ludmila       doctoral      B    8.0\n",
       "1    Laura         master      A   10.0\n",
       "6    Marco  post-doctoral      B    8.0\n",
       "7   Victor       doctoral      A    9.0"
      ]
     },
     "execution_count": 38,
     "metadata": {},
     "output_type": "execute_result"
    }
   ],
   "source": [
    "df.query('marks >= 8 and grades in [\"B\", \"A\"]') "
   ]
  },
  {
   "cell_type": "markdown",
   "id": "6dd8dd71",
   "metadata": {
    "slideshow": {
     "slide_type": "subslide"
    }
   },
   "source": [
    "It's equivalent without query"
   ]
  },
  {
   "cell_type": "code",
   "execution_count": 39,
   "id": "b01d2f0e",
   "metadata": {
    "slideshow": {
     "slide_type": "fragment"
    }
   },
   "outputs": [
    {
     "data": {
      "text/html": [
       "<div>\n",
       "<style scoped>\n",
       "    .dataframe tbody tr th:only-of-type {\n",
       "        vertical-align: middle;\n",
       "    }\n",
       "\n",
       "    .dataframe tbody tr th {\n",
       "        vertical-align: top;\n",
       "    }\n",
       "\n",
       "    .dataframe thead th {\n",
       "        text-align: right;\n",
       "    }\n",
       "</style>\n",
       "<table border=\"1\" class=\"dataframe\">\n",
       "  <thead>\n",
       "    <tr style=\"text-align: right;\">\n",
       "      <th></th>\n",
       "      <th>student</th>\n",
       "      <th>program</th>\n",
       "      <th>grades</th>\n",
       "      <th>marks</th>\n",
       "    </tr>\n",
       "  </thead>\n",
       "  <tbody>\n",
       "    <tr>\n",
       "      <th>0</th>\n",
       "      <td>Ludmila</td>\n",
       "      <td>doctoral</td>\n",
       "      <td>B</td>\n",
       "      <td>8.0</td>\n",
       "    </tr>\n",
       "    <tr>\n",
       "      <th>1</th>\n",
       "      <td>Laura</td>\n",
       "      <td>master</td>\n",
       "      <td>A</td>\n",
       "      <td>10.0</td>\n",
       "    </tr>\n",
       "    <tr>\n",
       "      <th>6</th>\n",
       "      <td>Marco</td>\n",
       "      <td>post-doctoral</td>\n",
       "      <td>B</td>\n",
       "      <td>8.0</td>\n",
       "    </tr>\n",
       "    <tr>\n",
       "      <th>7</th>\n",
       "      <td>Victor</td>\n",
       "      <td>doctoral</td>\n",
       "      <td>A</td>\n",
       "      <td>9.0</td>\n",
       "    </tr>\n",
       "  </tbody>\n",
       "</table>\n",
       "</div>"
      ],
      "text/plain": [
       "   student        program grades  marks\n",
       "0  Ludmila       doctoral      B    8.0\n",
       "1    Laura         master      A   10.0\n",
       "6    Marco  post-doctoral      B    8.0\n",
       "7   Victor       doctoral      A    9.0"
      ]
     },
     "execution_count": 39,
     "metadata": {},
     "output_type": "execute_result"
    }
   ],
   "source": [
    "df[(df['marks'] >= 8) & (df['grades'].isin(['B', 'A']))] #grades are B or A and marks are bigger than 8, but query is more recomendable"
   ]
  },
  {
   "cell_type": "markdown",
   "id": "12dcaf0b",
   "metadata": {
    "slideshow": {
     "slide_type": "slide"
    }
   },
   "source": [
    "## Pandas II\n",
    "### Advanced data manipulation\n",
    "\n",
    "Similar to SQL, we can also **merge** and **join** dataframes based on a specific column:\n",
    "\n",
    "<table border=\"1\" style=\"border-collapse: collapse; width: 90%;\">\n",
    "  <tr>\n",
    "    <th style=\"text-align: center;\">Operation</th>\n",
    "    <th style=\"text-align: center;\">Ideal For</th>\n",
    "    <th style=\"text-align: center;\">Joins on</th>\n",
    "    <th style=\"text-align: center;\">Syntax</th>\n",
    "  </tr>\n",
    "  <tr>\n",
    "    <td style=\"text-align: center;\"><b>merge</b></td>\n",
    "    <td style=\"text-align: center;\">Column-based joins</td>\n",
    "    <td style=\"text-align: center;\">Columns or indexes</td>\n",
    "    <td style=\"text-align: center;\"><code>pd.merge(df1, df2, on='col')</code></td>\n",
    "  </tr>\n",
    "  <tr>\n",
    "    <td style=\"text-align: center;\"><b>join</b></td>\n",
    "    <td style=\"text-align: center;\">Index-based joins</td>\n",
    "    <td style=\"text-align: center;\">Index alignment</td>\n",
    "    <td style=\"text-align: center;\"><code>df1.join(df2, on='index_col')</code></td>\n",
    "  </tr>\n",
    "</table>\n"
   ]
  },
  {
   "cell_type": "code",
   "execution_count": 40,
   "id": "64f0f11f",
   "metadata": {
    "slideshow": {
     "slide_type": "subslide"
    }
   },
   "outputs": [],
   "source": [
    "#two different data frames\n",
    "df = pd.DataFrame({\n",
    "    'student': ['Ludmila', 'Laura', 'Gerardo', 'Antonio', 'Manuel', 'Frank', 'Marco', 'Victor'],\n",
    "    'program': ['doctoral', 'master', 'post-doctoral', 'doctoral', 'master', 'doctoral', 'post-doctoral', 'bachelor'],\n",
    "    'grades': ['B', 'A', 'F', 'C', 'C', 'B', 'B', 'A'],\n",
    "    'marks':  [8, 10, 4, 5, 5, 7.8, 8, 9]\n",
    "})\n",
    "\n",
    "\n",
    "program_info = pd.DataFrame({\n",
    "    'program': ['doctoral', 'master', 'post-doctoral', 'pre-doctoral'],\n",
    "    'duration': ['5 years', '2 years', '3 years', '1 year'],\n",
    "})"
   ]
  },
  {
   "cell_type": "code",
   "execution_count": 41,
   "id": "c1b3ba5b",
   "metadata": {
    "slideshow": {
     "slide_type": "subslide"
    }
   },
   "outputs": [
    {
     "data": {
      "text/html": [
       "<div>\n",
       "<style scoped>\n",
       "    .dataframe tbody tr th:only-of-type {\n",
       "        vertical-align: middle;\n",
       "    }\n",
       "\n",
       "    .dataframe tbody tr th {\n",
       "        vertical-align: top;\n",
       "    }\n",
       "\n",
       "    .dataframe thead th {\n",
       "        text-align: right;\n",
       "    }\n",
       "</style>\n",
       "<table border=\"1\" class=\"dataframe\">\n",
       "  <thead>\n",
       "    <tr style=\"text-align: right;\">\n",
       "      <th></th>\n",
       "      <th>student</th>\n",
       "      <th>program</th>\n",
       "      <th>grades</th>\n",
       "      <th>marks</th>\n",
       "      <th>duration</th>\n",
       "    </tr>\n",
       "  </thead>\n",
       "  <tbody>\n",
       "    <tr>\n",
       "      <th>0</th>\n",
       "      <td>Ludmila</td>\n",
       "      <td>doctoral</td>\n",
       "      <td>B</td>\n",
       "      <td>8.0</td>\n",
       "      <td>5 years</td>\n",
       "    </tr>\n",
       "    <tr>\n",
       "      <th>1</th>\n",
       "      <td>Antonio</td>\n",
       "      <td>doctoral</td>\n",
       "      <td>C</td>\n",
       "      <td>5.0</td>\n",
       "      <td>5 years</td>\n",
       "    </tr>\n",
       "    <tr>\n",
       "      <th>2</th>\n",
       "      <td>Frank</td>\n",
       "      <td>doctoral</td>\n",
       "      <td>B</td>\n",
       "      <td>7.8</td>\n",
       "      <td>5 years</td>\n",
       "    </tr>\n",
       "    <tr>\n",
       "      <th>3</th>\n",
       "      <td>Laura</td>\n",
       "      <td>master</td>\n",
       "      <td>A</td>\n",
       "      <td>10.0</td>\n",
       "      <td>2 years</td>\n",
       "    </tr>\n",
       "    <tr>\n",
       "      <th>4</th>\n",
       "      <td>Manuel</td>\n",
       "      <td>master</td>\n",
       "      <td>C</td>\n",
       "      <td>5.0</td>\n",
       "      <td>2 years</td>\n",
       "    </tr>\n",
       "    <tr>\n",
       "      <th>5</th>\n",
       "      <td>Gerardo</td>\n",
       "      <td>post-doctoral</td>\n",
       "      <td>F</td>\n",
       "      <td>4.0</td>\n",
       "      <td>3 years</td>\n",
       "    </tr>\n",
       "    <tr>\n",
       "      <th>6</th>\n",
       "      <td>Marco</td>\n",
       "      <td>post-doctoral</td>\n",
       "      <td>B</td>\n",
       "      <td>8.0</td>\n",
       "      <td>3 years</td>\n",
       "    </tr>\n",
       "  </tbody>\n",
       "</table>\n",
       "</div>"
      ],
      "text/plain": [
       "   student        program grades  marks duration\n",
       "0  Ludmila       doctoral      B    8.0  5 years\n",
       "1  Antonio       doctoral      C    5.0  5 years\n",
       "2    Frank       doctoral      B    7.8  5 years\n",
       "3    Laura         master      A   10.0  2 years\n",
       "4   Manuel         master      C    5.0  2 years\n",
       "5  Gerardo  post-doctoral      F    4.0  3 years\n",
       "6    Marco  post-doctoral      B    8.0  3 years"
      ]
     },
     "execution_count": 41,
     "metadata": {},
     "output_type": "execute_result"
    }
   ],
   "source": [
    "pd.merge(df, program_info, on='program', how='inner') # merge them using inner, we also have left, right, full join\n",
    "\n",
    "#on is a column that's the same in both dataframes"
   ]
  },
  {
   "cell_type": "code",
   "execution_count": 42,
   "id": "de9333a3",
   "metadata": {
    "slideshow": {
     "slide_type": "subslide"
    }
   },
   "outputs": [
    {
     "data": {
      "text/html": [
       "<div>\n",
       "<style scoped>\n",
       "    .dataframe tbody tr th:only-of-type {\n",
       "        vertical-align: middle;\n",
       "    }\n",
       "\n",
       "    .dataframe tbody tr th {\n",
       "        vertical-align: top;\n",
       "    }\n",
       "\n",
       "    .dataframe thead th {\n",
       "        text-align: right;\n",
       "    }\n",
       "</style>\n",
       "<table border=\"1\" class=\"dataframe\">\n",
       "  <thead>\n",
       "    <tr style=\"text-align: right;\">\n",
       "      <th></th>\n",
       "      <th>student</th>\n",
       "      <th>program</th>\n",
       "      <th>grades</th>\n",
       "      <th>marks</th>\n",
       "      <th>duration</th>\n",
       "    </tr>\n",
       "  </thead>\n",
       "  <tbody>\n",
       "    <tr>\n",
       "      <th>0</th>\n",
       "      <td>Ludmila</td>\n",
       "      <td>doctoral</td>\n",
       "      <td>B</td>\n",
       "      <td>8.0</td>\n",
       "      <td>5 years</td>\n",
       "    </tr>\n",
       "    <tr>\n",
       "      <th>1</th>\n",
       "      <td>Laura</td>\n",
       "      <td>master</td>\n",
       "      <td>A</td>\n",
       "      <td>10.0</td>\n",
       "      <td>2 years</td>\n",
       "    </tr>\n",
       "    <tr>\n",
       "      <th>2</th>\n",
       "      <td>Gerardo</td>\n",
       "      <td>post-doctoral</td>\n",
       "      <td>F</td>\n",
       "      <td>4.0</td>\n",
       "      <td>3 years</td>\n",
       "    </tr>\n",
       "    <tr>\n",
       "      <th>3</th>\n",
       "      <td>Antonio</td>\n",
       "      <td>doctoral</td>\n",
       "      <td>C</td>\n",
       "      <td>5.0</td>\n",
       "      <td>5 years</td>\n",
       "    </tr>\n",
       "    <tr>\n",
       "      <th>4</th>\n",
       "      <td>Manuel</td>\n",
       "      <td>master</td>\n",
       "      <td>C</td>\n",
       "      <td>5.0</td>\n",
       "      <td>2 years</td>\n",
       "    </tr>\n",
       "    <tr>\n",
       "      <th>5</th>\n",
       "      <td>Frank</td>\n",
       "      <td>doctoral</td>\n",
       "      <td>B</td>\n",
       "      <td>7.8</td>\n",
       "      <td>5 years</td>\n",
       "    </tr>\n",
       "    <tr>\n",
       "      <th>6</th>\n",
       "      <td>Marco</td>\n",
       "      <td>post-doctoral</td>\n",
       "      <td>B</td>\n",
       "      <td>8.0</td>\n",
       "      <td>3 years</td>\n",
       "    </tr>\n",
       "    <tr>\n",
       "      <th>7</th>\n",
       "      <td>Victor</td>\n",
       "      <td>bachelor</td>\n",
       "      <td>A</td>\n",
       "      <td>9.0</td>\n",
       "      <td>NaN</td>\n",
       "    </tr>\n",
       "  </tbody>\n",
       "</table>\n",
       "</div>"
      ],
      "text/plain": [
       "   student        program grades  marks duration\n",
       "0  Ludmila       doctoral      B    8.0  5 years\n",
       "1    Laura         master      A   10.0  2 years\n",
       "2  Gerardo  post-doctoral      F    4.0  3 years\n",
       "3  Antonio       doctoral      C    5.0  5 years\n",
       "4   Manuel         master      C    5.0  2 years\n",
       "5    Frank       doctoral      B    7.8  5 years\n",
       "6    Marco  post-doctoral      B    8.0  3 years\n",
       "7   Victor       bachelor      A    9.0      NaN"
      ]
     },
     "execution_count": 42,
     "metadata": {},
     "output_type": "execute_result"
    }
   ],
   "source": [
    "pd.merge(df, program_info, on='program', how='left') # merge them using left"
   ]
  },
  {
   "cell_type": "code",
   "execution_count": 43,
   "id": "9d1d35e4",
   "metadata": {
    "slideshow": {
     "slide_type": "subslide"
    }
   },
   "outputs": [
    {
     "data": {
      "text/html": [
       "<div>\n",
       "<style scoped>\n",
       "    .dataframe tbody tr th:only-of-type {\n",
       "        vertical-align: middle;\n",
       "    }\n",
       "\n",
       "    .dataframe tbody tr th {\n",
       "        vertical-align: top;\n",
       "    }\n",
       "\n",
       "    .dataframe thead th {\n",
       "        text-align: right;\n",
       "    }\n",
       "</style>\n",
       "<table border=\"1\" class=\"dataframe\">\n",
       "  <thead>\n",
       "    <tr style=\"text-align: right;\">\n",
       "      <th></th>\n",
       "      <th>student</th>\n",
       "      <th>program</th>\n",
       "      <th>grades</th>\n",
       "      <th>marks</th>\n",
       "      <th>duration</th>\n",
       "    </tr>\n",
       "  </thead>\n",
       "  <tbody>\n",
       "    <tr>\n",
       "      <th>0</th>\n",
       "      <td>Ludmila</td>\n",
       "      <td>doctoral</td>\n",
       "      <td>B</td>\n",
       "      <td>8.0</td>\n",
       "      <td>5 years</td>\n",
       "    </tr>\n",
       "    <tr>\n",
       "      <th>1</th>\n",
       "      <td>Antonio</td>\n",
       "      <td>doctoral</td>\n",
       "      <td>C</td>\n",
       "      <td>5.0</td>\n",
       "      <td>5 years</td>\n",
       "    </tr>\n",
       "    <tr>\n",
       "      <th>2</th>\n",
       "      <td>Frank</td>\n",
       "      <td>doctoral</td>\n",
       "      <td>B</td>\n",
       "      <td>7.8</td>\n",
       "      <td>5 years</td>\n",
       "    </tr>\n",
       "    <tr>\n",
       "      <th>3</th>\n",
       "      <td>Laura</td>\n",
       "      <td>master</td>\n",
       "      <td>A</td>\n",
       "      <td>10.0</td>\n",
       "      <td>2 years</td>\n",
       "    </tr>\n",
       "    <tr>\n",
       "      <th>4</th>\n",
       "      <td>Manuel</td>\n",
       "      <td>master</td>\n",
       "      <td>C</td>\n",
       "      <td>5.0</td>\n",
       "      <td>2 years</td>\n",
       "    </tr>\n",
       "    <tr>\n",
       "      <th>5</th>\n",
       "      <td>Gerardo</td>\n",
       "      <td>post-doctoral</td>\n",
       "      <td>F</td>\n",
       "      <td>4.0</td>\n",
       "      <td>3 years</td>\n",
       "    </tr>\n",
       "    <tr>\n",
       "      <th>6</th>\n",
       "      <td>Marco</td>\n",
       "      <td>post-doctoral</td>\n",
       "      <td>B</td>\n",
       "      <td>8.0</td>\n",
       "      <td>3 years</td>\n",
       "    </tr>\n",
       "    <tr>\n",
       "      <th>7</th>\n",
       "      <td>NaN</td>\n",
       "      <td>pre-doctoral</td>\n",
       "      <td>NaN</td>\n",
       "      <td>NaN</td>\n",
       "      <td>1 year</td>\n",
       "    </tr>\n",
       "  </tbody>\n",
       "</table>\n",
       "</div>"
      ],
      "text/plain": [
       "   student        program grades  marks duration\n",
       "0  Ludmila       doctoral      B    8.0  5 years\n",
       "1  Antonio       doctoral      C    5.0  5 years\n",
       "2    Frank       doctoral      B    7.8  5 years\n",
       "3    Laura         master      A   10.0  2 years\n",
       "4   Manuel         master      C    5.0  2 years\n",
       "5  Gerardo  post-doctoral      F    4.0  3 years\n",
       "6    Marco  post-doctoral      B    8.0  3 years\n",
       "7      NaN   pre-doctoral    NaN    NaN   1 year"
      ]
     },
     "execution_count": 43,
     "metadata": {},
     "output_type": "execute_result"
    }
   ],
   "source": [
    "pd.merge(df, program_info, on='program', how='right') # merge them using left"
   ]
  },
  {
   "cell_type": "code",
   "execution_count": 44,
   "id": "90cb5074",
   "metadata": {
    "slideshow": {
     "slide_type": "subslide"
    }
   },
   "outputs": [
    {
     "data": {
      "text/html": [
       "<div>\n",
       "<style scoped>\n",
       "    .dataframe tbody tr th:only-of-type {\n",
       "        vertical-align: middle;\n",
       "    }\n",
       "\n",
       "    .dataframe tbody tr th {\n",
       "        vertical-align: top;\n",
       "    }\n",
       "\n",
       "    .dataframe thead th {\n",
       "        text-align: right;\n",
       "    }\n",
       "</style>\n",
       "<table border=\"1\" class=\"dataframe\">\n",
       "  <thead>\n",
       "    <tr style=\"text-align: right;\">\n",
       "      <th></th>\n",
       "      <th>student</th>\n",
       "      <th>program</th>\n",
       "      <th>grades</th>\n",
       "      <th>marks</th>\n",
       "      <th>duration</th>\n",
       "    </tr>\n",
       "  </thead>\n",
       "  <tbody>\n",
       "    <tr>\n",
       "      <th>0</th>\n",
       "      <td>Ludmila</td>\n",
       "      <td>doctoral</td>\n",
       "      <td>B</td>\n",
       "      <td>8.0</td>\n",
       "      <td>5 years</td>\n",
       "    </tr>\n",
       "    <tr>\n",
       "      <th>1</th>\n",
       "      <td>Antonio</td>\n",
       "      <td>doctoral</td>\n",
       "      <td>C</td>\n",
       "      <td>5.0</td>\n",
       "      <td>5 years</td>\n",
       "    </tr>\n",
       "    <tr>\n",
       "      <th>2</th>\n",
       "      <td>Frank</td>\n",
       "      <td>doctoral</td>\n",
       "      <td>B</td>\n",
       "      <td>7.8</td>\n",
       "      <td>5 years</td>\n",
       "    </tr>\n",
       "    <tr>\n",
       "      <th>3</th>\n",
       "      <td>Laura</td>\n",
       "      <td>master</td>\n",
       "      <td>A</td>\n",
       "      <td>10.0</td>\n",
       "      <td>2 years</td>\n",
       "    </tr>\n",
       "    <tr>\n",
       "      <th>4</th>\n",
       "      <td>Manuel</td>\n",
       "      <td>master</td>\n",
       "      <td>C</td>\n",
       "      <td>5.0</td>\n",
       "      <td>2 years</td>\n",
       "    </tr>\n",
       "    <tr>\n",
       "      <th>5</th>\n",
       "      <td>Gerardo</td>\n",
       "      <td>post-doctoral</td>\n",
       "      <td>F</td>\n",
       "      <td>4.0</td>\n",
       "      <td>3 years</td>\n",
       "    </tr>\n",
       "    <tr>\n",
       "      <th>6</th>\n",
       "      <td>Marco</td>\n",
       "      <td>post-doctoral</td>\n",
       "      <td>B</td>\n",
       "      <td>8.0</td>\n",
       "      <td>3 years</td>\n",
       "    </tr>\n",
       "    <tr>\n",
       "      <th>7</th>\n",
       "      <td>Victor</td>\n",
       "      <td>bachelor</td>\n",
       "      <td>A</td>\n",
       "      <td>9.0</td>\n",
       "      <td>NaN</td>\n",
       "    </tr>\n",
       "    <tr>\n",
       "      <th>8</th>\n",
       "      <td>NaN</td>\n",
       "      <td>pre-doctoral</td>\n",
       "      <td>NaN</td>\n",
       "      <td>NaN</td>\n",
       "      <td>1 year</td>\n",
       "    </tr>\n",
       "  </tbody>\n",
       "</table>\n",
       "</div>"
      ],
      "text/plain": [
       "   student        program grades  marks duration\n",
       "0  Ludmila       doctoral      B    8.0  5 years\n",
       "1  Antonio       doctoral      C    5.0  5 years\n",
       "2    Frank       doctoral      B    7.8  5 years\n",
       "3    Laura         master      A   10.0  2 years\n",
       "4   Manuel         master      C    5.0  2 years\n",
       "5  Gerardo  post-doctoral      F    4.0  3 years\n",
       "6    Marco  post-doctoral      B    8.0  3 years\n",
       "7   Victor       bachelor      A    9.0      NaN\n",
       "8      NaN   pre-doctoral    NaN    NaN   1 year"
      ]
     },
     "execution_count": 44,
     "metadata": {},
     "output_type": "execute_result"
    }
   ],
   "source": [
    "pd.merge(df, program_info, on='program', how='outer') # merge them using outer"
   ]
  },
  {
   "cell_type": "markdown",
   "id": "9876c4e7",
   "metadata": {
    "slideshow": {
     "slide_type": "subslide"
    }
   },
   "source": [
    "We can do similar with **join** as we do for **merge**."
   ]
  },
  {
   "cell_type": "code",
   "execution_count": 45,
   "id": "1489e910",
   "metadata": {
    "slideshow": {
     "slide_type": "fragment"
    }
   },
   "outputs": [
    {
     "data": {
      "text/html": [
       "<div>\n",
       "<style scoped>\n",
       "    .dataframe tbody tr th:only-of-type {\n",
       "        vertical-align: middle;\n",
       "    }\n",
       "\n",
       "    .dataframe tbody tr th {\n",
       "        vertical-align: top;\n",
       "    }\n",
       "\n",
       "    .dataframe thead th {\n",
       "        text-align: right;\n",
       "    }\n",
       "</style>\n",
       "<table border=\"1\" class=\"dataframe\">\n",
       "  <thead>\n",
       "    <tr style=\"text-align: right;\">\n",
       "      <th></th>\n",
       "      <th>student</th>\n",
       "      <th>program</th>\n",
       "      <th>grades</th>\n",
       "      <th>marks</th>\n",
       "      <th>duration</th>\n",
       "    </tr>\n",
       "  </thead>\n",
       "  <tbody>\n",
       "    <tr>\n",
       "      <th>0</th>\n",
       "      <td>Ludmila</td>\n",
       "      <td>doctoral</td>\n",
       "      <td>B</td>\n",
       "      <td>8.0</td>\n",
       "      <td>5 years</td>\n",
       "    </tr>\n",
       "    <tr>\n",
       "      <th>3</th>\n",
       "      <td>Antonio</td>\n",
       "      <td>doctoral</td>\n",
       "      <td>C</td>\n",
       "      <td>5.0</td>\n",
       "      <td>5 years</td>\n",
       "    </tr>\n",
       "    <tr>\n",
       "      <th>5</th>\n",
       "      <td>Frank</td>\n",
       "      <td>doctoral</td>\n",
       "      <td>B</td>\n",
       "      <td>7.8</td>\n",
       "      <td>5 years</td>\n",
       "    </tr>\n",
       "    <tr>\n",
       "      <th>1</th>\n",
       "      <td>Laura</td>\n",
       "      <td>master</td>\n",
       "      <td>A</td>\n",
       "      <td>10.0</td>\n",
       "      <td>2 years</td>\n",
       "    </tr>\n",
       "    <tr>\n",
       "      <th>4</th>\n",
       "      <td>Manuel</td>\n",
       "      <td>master</td>\n",
       "      <td>C</td>\n",
       "      <td>5.0</td>\n",
       "      <td>2 years</td>\n",
       "    </tr>\n",
       "    <tr>\n",
       "      <th>2</th>\n",
       "      <td>Gerardo</td>\n",
       "      <td>post-doctoral</td>\n",
       "      <td>F</td>\n",
       "      <td>4.0</td>\n",
       "      <td>3 years</td>\n",
       "    </tr>\n",
       "    <tr>\n",
       "      <th>6</th>\n",
       "      <td>Marco</td>\n",
       "      <td>post-doctoral</td>\n",
       "      <td>B</td>\n",
       "      <td>8.0</td>\n",
       "      <td>3 years</td>\n",
       "    </tr>\n",
       "  </tbody>\n",
       "</table>\n",
       "</div>"
      ],
      "text/plain": [
       "   student        program grades  marks duration\n",
       "0  Ludmila       doctoral      B    8.0  5 years\n",
       "3  Antonio       doctoral      C    5.0  5 years\n",
       "5    Frank       doctoral      B    7.8  5 years\n",
       "1    Laura         master      A   10.0  2 years\n",
       "4   Manuel         master      C    5.0  2 years\n",
       "2  Gerardo  post-doctoral      F    4.0  3 years\n",
       "6    Marco  post-doctoral      B    8.0  3 years"
      ]
     },
     "execution_count": 45,
     "metadata": {},
     "output_type": "execute_result"
    }
   ],
   "source": [
    "df = pd.DataFrame({\n",
    "    'student': ['Ludmila', 'Laura', 'Gerardo', 'Antonio', 'Manuel', 'Frank', 'Marco', 'Victor'],\n",
    "    'program': ['doctoral', 'master', 'post-doctoral', 'doctoral', 'master', 'doctoral', 'post-doctoral', 'bachelor'],\n",
    "    'grades': ['B', 'A', 'F', 'C', 'C', 'B', 'B', 'A'],\n",
    "    'marks':  [8, 10, 4, 5, 5, 7.8, 8, 9]\n",
    "})\n",
    "\n",
    "\n",
    "program_info = pd.DataFrame({\n",
    "    'program': ['doctoral', 'master', 'post-doctoral', 'pre-doctoral'],\n",
    "    'duration': ['5 years', '2 years', '3 years', '1 year'],\n",
    "})\n",
    "\n",
    "program_info.set_index('program', inplace=True)\n",
    "df.join(program_info, on='program', how='inner')"
   ]
  },
  {
   "attachments": {
    "image.png": {
     "image/png": "[encoded data removed]"
    }
   },
   "cell_type": "markdown",
   "id": "aeb1cee5",
   "metadata": {},
   "source": [
    "![image.png](attachment:image.png)"
   ]
  },
  {
   "cell_type": "markdown",
   "id": "2dc30ccf",
   "metadata": {
    "slideshow": {
     "slide_type": "slide"
    }
   },
   "source": [
    "## Pandas II\n",
    "### Advanced data manipulation\n",
    "\n",
    "Another thing we can do with **pandas** consists in setting up, accessing, and slicing multi-level indices.\n"
   ]
  },
  {
   "cell_type": "markdown",
   "id": "edaecc51",
   "metadata": {
    "slideshow": {
     "slide_type": "subslide"
    }
   },
   "source": [
    "Setting up multi-level index:"
   ]
  },
  {
   "cell_type": "code",
   "execution_count": 46,
   "id": "2548f41c",
   "metadata": {
    "slideshow": {
     "slide_type": "fragment"
    }
   },
   "outputs": [
    {
     "data": {
      "text/html": [
       "<div>\n",
       "<style scoped>\n",
       "    .dataframe tbody tr th:only-of-type {\n",
       "        vertical-align: middle;\n",
       "    }\n",
       "\n",
       "    .dataframe tbody tr th {\n",
       "        vertical-align: top;\n",
       "    }\n",
       "\n",
       "    .dataframe thead th {\n",
       "        text-align: right;\n",
       "    }\n",
       "</style>\n",
       "<table border=\"1\" class=\"dataframe\">\n",
       "  <thead>\n",
       "    <tr style=\"text-align: right;\">\n",
       "      <th></th>\n",
       "      <th></th>\n",
       "      <th>student</th>\n",
       "      <th>marks</th>\n",
       "    </tr>\n",
       "    <tr>\n",
       "      <th>program</th>\n",
       "      <th>grades</th>\n",
       "      <th></th>\n",
       "      <th></th>\n",
       "    </tr>\n",
       "  </thead>\n",
       "  <tbody>\n",
       "    <tr>\n",
       "      <th>doctoral</th>\n",
       "      <th>B</th>\n",
       "      <td>Ludmila</td>\n",
       "      <td>8.0</td>\n",
       "    </tr>\n",
       "    <tr>\n",
       "      <th>master</th>\n",
       "      <th>A</th>\n",
       "      <td>Laura</td>\n",
       "      <td>10.0</td>\n",
       "    </tr>\n",
       "    <tr>\n",
       "      <th>post-doctoral</th>\n",
       "      <th>F</th>\n",
       "      <td>Gerardo</td>\n",
       "      <td>4.0</td>\n",
       "    </tr>\n",
       "    <tr>\n",
       "      <th>doctoral</th>\n",
       "      <th>C</th>\n",
       "      <td>Antonio</td>\n",
       "      <td>5.0</td>\n",
       "    </tr>\n",
       "    <tr>\n",
       "      <th>master</th>\n",
       "      <th>C</th>\n",
       "      <td>Manuel</td>\n",
       "      <td>5.0</td>\n",
       "    </tr>\n",
       "    <tr>\n",
       "      <th>doctoral</th>\n",
       "      <th>B</th>\n",
       "      <td>Frank</td>\n",
       "      <td>7.8</td>\n",
       "    </tr>\n",
       "    <tr>\n",
       "      <th>post-doctoral</th>\n",
       "      <th>B</th>\n",
       "      <td>Marco</td>\n",
       "      <td>8.0</td>\n",
       "    </tr>\n",
       "    <tr>\n",
       "      <th>bachelor</th>\n",
       "      <th>A</th>\n",
       "      <td>Victor</td>\n",
       "      <td>9.0</td>\n",
       "    </tr>\n",
       "  </tbody>\n",
       "</table>\n",
       "</div>"
      ],
      "text/plain": [
       "                      student  marks\n",
       "program       grades                \n",
       "doctoral      B       Ludmila    8.0\n",
       "master        A         Laura   10.0\n",
       "post-doctoral F       Gerardo    4.0\n",
       "doctoral      C       Antonio    5.0\n",
       "master        C        Manuel    5.0\n",
       "doctoral      B         Frank    7.8\n",
       "post-doctoral B         Marco    8.0\n",
       "bachelor      A        Victor    9.0"
      ]
     },
     "execution_count": 46,
     "metadata": {},
     "output_type": "execute_result"
    }
   ],
   "source": [
    "df = pd.DataFrame({\n",
    "    'student': ['Ludmila', 'Laura', 'Gerardo', 'Antonio', 'Manuel', 'Frank', 'Marco', 'Victor'],\n",
    "    'program': ['doctoral', 'master', 'post-doctoral', 'doctoral', 'master', 'doctoral', 'post-doctoral', 'bachelor'],\n",
    "    'grades': ['B', 'A', 'F', 'C', 'C', 'B', 'B', 'A'],\n",
    "    'marks':  [8, 10, 4, 5, 5, 7.8, 8, 9]\n",
    "})\n",
    "\n",
    "\n",
    "#if we have repeated values and then p\n",
    "\n",
    "df.set_index(['program', 'grades'], inplace=True)\n",
    "df"
   ]
  },
  {
   "cell_type": "markdown",
   "id": "5307852f",
   "metadata": {
    "slideshow": {
     "slide_type": "subslide"
    }
   },
   "source": [
    "Once, set up, we can use **loc**:"
   ]
  },
  {
   "cell_type": "code",
   "execution_count": 47,
   "id": "263b0f34",
   "metadata": {
    "slideshow": {
     "slide_type": "fragment"
    }
   },
   "outputs": [
    {
     "data": {
      "text/html": [
       "<div>\n",
       "<style scoped>\n",
       "    .dataframe tbody tr th:only-of-type {\n",
       "        vertical-align: middle;\n",
       "    }\n",
       "\n",
       "    .dataframe tbody tr th {\n",
       "        vertical-align: top;\n",
       "    }\n",
       "\n",
       "    .dataframe thead th {\n",
       "        text-align: right;\n",
       "    }\n",
       "</style>\n",
       "<table border=\"1\" class=\"dataframe\">\n",
       "  <thead>\n",
       "    <tr style=\"text-align: right;\">\n",
       "      <th></th>\n",
       "      <th>student</th>\n",
       "      <th>marks</th>\n",
       "    </tr>\n",
       "    <tr>\n",
       "      <th>grades</th>\n",
       "      <th></th>\n",
       "      <th></th>\n",
       "    </tr>\n",
       "  </thead>\n",
       "  <tbody>\n",
       "    <tr>\n",
       "      <th>B</th>\n",
       "      <td>Ludmila</td>\n",
       "      <td>8.0</td>\n",
       "    </tr>\n",
       "    <tr>\n",
       "      <th>C</th>\n",
       "      <td>Antonio</td>\n",
       "      <td>5.0</td>\n",
       "    </tr>\n",
       "    <tr>\n",
       "      <th>B</th>\n",
       "      <td>Frank</td>\n",
       "      <td>7.8</td>\n",
       "    </tr>\n",
       "  </tbody>\n",
       "</table>\n",
       "</div>"
      ],
      "text/plain": [
       "        student  marks\n",
       "grades                \n",
       "B       Ludmila    8.0\n",
       "C       Antonio    5.0\n",
       "B         Frank    7.8"
      ]
     },
     "execution_count": 47,
     "metadata": {},
     "output_type": "execute_result"
    }
   ],
   "source": [
    "df.loc[('doctoral')] # we may have some warning here, this is like a filter"
   ]
  },
  {
   "cell_type": "code",
   "execution_count": 48,
   "id": "62512525",
   "metadata": {
    "slideshow": {
     "slide_type": "slide"
    }
   },
   "outputs": [
    {
     "data": {
      "text/html": [
       "<div>\n",
       "<style scoped>\n",
       "    .dataframe tbody tr th:only-of-type {\n",
       "        vertical-align: middle;\n",
       "    }\n",
       "\n",
       "    .dataframe tbody tr th {\n",
       "        vertical-align: top;\n",
       "    }\n",
       "\n",
       "    .dataframe thead th {\n",
       "        text-align: right;\n",
       "    }\n",
       "</style>\n",
       "<table border=\"1\" class=\"dataframe\">\n",
       "  <thead>\n",
       "    <tr style=\"text-align: right;\">\n",
       "      <th></th>\n",
       "      <th>student</th>\n",
       "      <th>marks</th>\n",
       "    </tr>\n",
       "    <tr>\n",
       "      <th>grades</th>\n",
       "      <th></th>\n",
       "      <th></th>\n",
       "    </tr>\n",
       "  </thead>\n",
       "  <tbody>\n",
       "    <tr>\n",
       "      <th>B</th>\n",
       "      <td>Ludmila</td>\n",
       "      <td>8.0</td>\n",
       "    </tr>\n",
       "    <tr>\n",
       "      <th>C</th>\n",
       "      <td>Antonio</td>\n",
       "      <td>5.0</td>\n",
       "    </tr>\n",
       "    <tr>\n",
       "      <th>B</th>\n",
       "      <td>Frank</td>\n",
       "      <td>7.8</td>\n",
       "    </tr>\n",
       "  </tbody>\n",
       "</table>\n",
       "</div>"
      ],
      "text/plain": [
       "        student  marks\n",
       "grades                \n",
       "B       Ludmila    8.0\n",
       "C       Antonio    5.0\n",
       "B         Frank    7.8"
      ]
     },
     "execution_count": 48,
     "metadata": {},
     "output_type": "execute_result"
    }
   ],
   "source": [
    "df.loc['doctoral'] # we can access by the top level"
   ]
  },
  {
   "cell_type": "code",
   "execution_count": 49,
   "id": "25e77c27",
   "metadata": {
    "slideshow": {
     "slide_type": "subslide"
    }
   },
   "outputs": [
    {
     "data": {
      "text/plain": [
       "<pandas.core.indexing._IndexSlice at 0x2b0dc42f1d0>"
      ]
     },
     "execution_count": 49,
     "metadata": {},
     "output_type": "execute_result"
    }
   ],
   "source": [
    "idx = pd.IndexSlice\n",
    "idx"
   ]
  },
  {
   "cell_type": "code",
   "execution_count": null,
   "id": "217bd7ae",
   "metadata": {
    "slideshow": {
     "slide_type": "fragment"
    }
   },
   "outputs": [
    {
     "ename": "UnsortedIndexError",
     "evalue": "'MultiIndex slicing requires the index to be lexsorted: slicing on levels [1], lexsort depth 0'",
     "output_type": "error",
     "traceback": [
      "\u001b[1;31m---------------------------------------------------------------------------\u001b[0m",
      "\u001b[1;31mUnsortedIndexError\u001b[0m                        Traceback (most recent call last)",
      "Cell \u001b[1;32mIn[48], line 2\u001b[0m\n\u001b[0;32m      1\u001b[0m idx[\u001b[38;5;124m'\u001b[39m\u001b[38;5;124mdoctoral\u001b[39m\u001b[38;5;124m'\u001b[39m, \u001b[38;5;124m'\u001b[39m\u001b[38;5;124mB\u001b[39m\u001b[38;5;124m'\u001b[39m:\u001b[38;5;124m'\u001b[39m\u001b[38;5;124mC\u001b[39m\u001b[38;5;124m'\u001b[39m]\n\u001b[1;32m----> 2\u001b[0m df\u001b[38;5;241m.\u001b[39mloc[idx[\u001b[38;5;124m'\u001b[39m\u001b[38;5;124mdoctoral\u001b[39m\u001b[38;5;124m'\u001b[39m, \u001b[38;5;124m'\u001b[39m\u001b[38;5;124mB\u001b[39m\u001b[38;5;124m'\u001b[39m:\u001b[38;5;124m'\u001b[39m\u001b[38;5;124mC\u001b[39m\u001b[38;5;124m'\u001b[39m], :]\n",
      "File \u001b[1;32mc:\\Users\\carlo\\anaconda3\\Lib\\site-packages\\pandas\\core\\indexing.py:1097\u001b[0m, in \u001b[0;36m_LocationIndexer.__getitem__\u001b[1;34m(self, key)\u001b[0m\n\u001b[0;32m   1095\u001b[0m     \u001b[38;5;28;01mif\u001b[39;00m \u001b[38;5;28mself\u001b[39m\u001b[38;5;241m.\u001b[39m_is_scalar_access(key):\n\u001b[0;32m   1096\u001b[0m         \u001b[38;5;28;01mreturn\u001b[39;00m \u001b[38;5;28mself\u001b[39m\u001b[38;5;241m.\u001b[39mobj\u001b[38;5;241m.\u001b[39m_get_value(\u001b[38;5;241m*\u001b[39mkey, takeable\u001b[38;5;241m=\u001b[39m\u001b[38;5;28mself\u001b[39m\u001b[38;5;241m.\u001b[39m_takeable)\n\u001b[1;32m-> 1097\u001b[0m     \u001b[38;5;28;01mreturn\u001b[39;00m \u001b[38;5;28mself\u001b[39m\u001b[38;5;241m.\u001b[39m_getitem_tuple(key)\n\u001b[0;32m   1098\u001b[0m \u001b[38;5;28;01melse\u001b[39;00m:\n\u001b[0;32m   1099\u001b[0m     \u001b[38;5;66;03m# we by definition only have the 0th axis\u001b[39;00m\n\u001b[0;32m   1100\u001b[0m     axis \u001b[38;5;241m=\u001b[39m \u001b[38;5;28mself\u001b[39m\u001b[38;5;241m.\u001b[39maxis \u001b[38;5;129;01mor\u001b[39;00m \u001b[38;5;241m0\u001b[39m\n",
      "File \u001b[1;32mc:\\Users\\carlo\\anaconda3\\Lib\\site-packages\\pandas\\core\\indexing.py:1280\u001b[0m, in \u001b[0;36m_LocIndexer._getitem_tuple\u001b[1;34m(self, tup)\u001b[0m\n\u001b[0;32m   1278\u001b[0m \u001b[38;5;28;01mwith\u001b[39;00m suppress(IndexingError):\n\u001b[0;32m   1279\u001b[0m     tup \u001b[38;5;241m=\u001b[39m \u001b[38;5;28mself\u001b[39m\u001b[38;5;241m.\u001b[39m_expand_ellipsis(tup)\n\u001b[1;32m-> 1280\u001b[0m     \u001b[38;5;28;01mreturn\u001b[39;00m \u001b[38;5;28mself\u001b[39m\u001b[38;5;241m.\u001b[39m_getitem_lowerdim(tup)\n\u001b[0;32m   1282\u001b[0m \u001b[38;5;66;03m# no multi-index, so validate all of the indexers\u001b[39;00m\n\u001b[0;32m   1283\u001b[0m tup \u001b[38;5;241m=\u001b[39m \u001b[38;5;28mself\u001b[39m\u001b[38;5;241m.\u001b[39m_validate_tuple_indexer(tup)\n",
      "File \u001b[1;32mc:\\Users\\carlo\\anaconda3\\Lib\\site-packages\\pandas\\core\\indexing.py:976\u001b[0m, in \u001b[0;36m_LocationIndexer._getitem_lowerdim\u001b[1;34m(self, tup)\u001b[0m\n\u001b[0;32m    974\u001b[0m \u001b[38;5;66;03m# we may have a nested tuples indexer here\u001b[39;00m\n\u001b[0;32m    975\u001b[0m \u001b[38;5;28;01mif\u001b[39;00m \u001b[38;5;28mself\u001b[39m\u001b[38;5;241m.\u001b[39m_is_nested_tuple_indexer(tup):\n\u001b[1;32m--> 976\u001b[0m     \u001b[38;5;28;01mreturn\u001b[39;00m \u001b[38;5;28mself\u001b[39m\u001b[38;5;241m.\u001b[39m_getitem_nested_tuple(tup)\n\u001b[0;32m    978\u001b[0m \u001b[38;5;66;03m# we maybe be using a tuple to represent multiple dimensions here\u001b[39;00m\n\u001b[0;32m    979\u001b[0m ax0 \u001b[38;5;241m=\u001b[39m \u001b[38;5;28mself\u001b[39m\u001b[38;5;241m.\u001b[39mobj\u001b[38;5;241m.\u001b[39m_get_axis(\u001b[38;5;241m0\u001b[39m)\n",
      "File \u001b[1;32mc:\\Users\\carlo\\anaconda3\\Lib\\site-packages\\pandas\\core\\indexing.py:1077\u001b[0m, in \u001b[0;36m_LocationIndexer._getitem_nested_tuple\u001b[1;34m(self, tup)\u001b[0m\n\u001b[0;32m   1074\u001b[0m     axis \u001b[38;5;241m-\u001b[39m\u001b[38;5;241m=\u001b[39m \u001b[38;5;241m1\u001b[39m\n\u001b[0;32m   1075\u001b[0m     \u001b[38;5;28;01mcontinue\u001b[39;00m\n\u001b[1;32m-> 1077\u001b[0m obj \u001b[38;5;241m=\u001b[39m \u001b[38;5;28mgetattr\u001b[39m(obj, \u001b[38;5;28mself\u001b[39m\u001b[38;5;241m.\u001b[39mname)\u001b[38;5;241m.\u001b[39m_getitem_axis(key, axis\u001b[38;5;241m=\u001b[39maxis)\n\u001b[0;32m   1078\u001b[0m axis \u001b[38;5;241m-\u001b[39m\u001b[38;5;241m=\u001b[39m \u001b[38;5;241m1\u001b[39m\n\u001b[0;32m   1080\u001b[0m \u001b[38;5;66;03m# if we have a scalar, we are done\u001b[39;00m\n",
      "File \u001b[1;32mc:\\Users\\carlo\\anaconda3\\Lib\\site-packages\\pandas\\core\\indexing.py:1336\u001b[0m, in \u001b[0;36m_LocIndexer._getitem_axis\u001b[1;34m(self, key, axis)\u001b[0m\n\u001b[0;32m   1334\u001b[0m \u001b[38;5;66;03m# nested tuple slicing\u001b[39;00m\n\u001b[0;32m   1335\u001b[0m \u001b[38;5;28;01mif\u001b[39;00m is_nested_tuple(key, labels):\n\u001b[1;32m-> 1336\u001b[0m     locs \u001b[38;5;241m=\u001b[39m labels\u001b[38;5;241m.\u001b[39mget_locs(key)\n\u001b[0;32m   1337\u001b[0m     indexer \u001b[38;5;241m=\u001b[39m [\u001b[38;5;28mslice\u001b[39m(\u001b[38;5;28;01mNone\u001b[39;00m)] \u001b[38;5;241m*\u001b[39m \u001b[38;5;28mself\u001b[39m\u001b[38;5;241m.\u001b[39mndim\n\u001b[0;32m   1338\u001b[0m     indexer[axis] \u001b[38;5;241m=\u001b[39m locs\n",
      "File \u001b[1;32mc:\\Users\\carlo\\anaconda3\\Lib\\site-packages\\pandas\\core\\indexes\\multi.py:3228\u001b[0m, in \u001b[0;36mMultiIndex.get_locs\u001b[1;34m(self, seq)\u001b[0m\n\u001b[0;32m   3226\u001b[0m true_slices \u001b[38;5;241m=\u001b[39m [i \u001b[38;5;28;01mfor\u001b[39;00m (i, s) \u001b[38;5;129;01min\u001b[39;00m \u001b[38;5;28menumerate\u001b[39m(com\u001b[38;5;241m.\u001b[39mis_true_slices(seq)) \u001b[38;5;28;01mif\u001b[39;00m s]\n\u001b[0;32m   3227\u001b[0m \u001b[38;5;28;01mif\u001b[39;00m true_slices \u001b[38;5;129;01mand\u001b[39;00m true_slices[\u001b[38;5;241m-\u001b[39m\u001b[38;5;241m1\u001b[39m] \u001b[38;5;241m>\u001b[39m\u001b[38;5;241m=\u001b[39m \u001b[38;5;28mself\u001b[39m\u001b[38;5;241m.\u001b[39m_lexsort_depth:\n\u001b[1;32m-> 3228\u001b[0m     \u001b[38;5;28;01mraise\u001b[39;00m UnsortedIndexError(\n\u001b[0;32m   3229\u001b[0m         \u001b[38;5;124m\"\u001b[39m\u001b[38;5;124mMultiIndex slicing requires the index to be lexsorted: slicing \u001b[39m\u001b[38;5;124m\"\u001b[39m\n\u001b[0;32m   3230\u001b[0m         \u001b[38;5;124mf\u001b[39m\u001b[38;5;124m\"\u001b[39m\u001b[38;5;124mon levels \u001b[39m\u001b[38;5;132;01m{\u001b[39;00mtrue_slices\u001b[38;5;132;01m}\u001b[39;00m\u001b[38;5;124m, lexsort depth \u001b[39m\u001b[38;5;132;01m{\u001b[39;00m\u001b[38;5;28mself\u001b[39m\u001b[38;5;241m.\u001b[39m_lexsort_depth\u001b[38;5;132;01m}\u001b[39;00m\u001b[38;5;124m\"\u001b[39m\n\u001b[0;32m   3231\u001b[0m     )\n\u001b[0;32m   3233\u001b[0m \u001b[38;5;28;01mif\u001b[39;00m \u001b[38;5;28many\u001b[39m(x \u001b[38;5;129;01mis\u001b[39;00m \u001b[38;5;28mEllipsis\u001b[39m \u001b[38;5;28;01mfor\u001b[39;00m x \u001b[38;5;129;01min\u001b[39;00m seq):\n\u001b[0;32m   3234\u001b[0m     \u001b[38;5;28;01mraise\u001b[39;00m \u001b[38;5;167;01mNotImplementedError\u001b[39;00m(\n\u001b[0;32m   3235\u001b[0m         \u001b[38;5;124m\"\u001b[39m\u001b[38;5;124mMultiIndex does not support indexing with Ellipsis\u001b[39m\u001b[38;5;124m\"\u001b[39m\n\u001b[0;32m   3236\u001b[0m     )\n",
      "\u001b[1;31mUnsortedIndexError\u001b[0m: 'MultiIndex slicing requires the index to be lexsorted: slicing on levels [1], lexsort depth 0'"
     ]
    }
   ],
   "source": [
    "idx['doctoral', 'B':'C']\n",
    "df.loc[idx['doctoral', 'B':'C'], :] # this is gonna raise an error"
   ]
  },
  {
   "cell_type": "code",
   "execution_count": 50,
   "id": "5bed49ba",
   "metadata": {
    "slideshow": {
     "slide_type": "subslide"
    }
   },
   "outputs": [
    {
     "data": {
      "text/html": [
       "<div>\n",
       "<style scoped>\n",
       "    .dataframe tbody tr th:only-of-type {\n",
       "        vertical-align: middle;\n",
       "    }\n",
       "\n",
       "    .dataframe tbody tr th {\n",
       "        vertical-align: top;\n",
       "    }\n",
       "\n",
       "    .dataframe thead th {\n",
       "        text-align: right;\n",
       "    }\n",
       "</style>\n",
       "<table border=\"1\" class=\"dataframe\">\n",
       "  <thead>\n",
       "    <tr style=\"text-align: right;\">\n",
       "      <th></th>\n",
       "      <th></th>\n",
       "      <th>student</th>\n",
       "      <th>marks</th>\n",
       "    </tr>\n",
       "    <tr>\n",
       "      <th>program</th>\n",
       "      <th>grades</th>\n",
       "      <th></th>\n",
       "      <th></th>\n",
       "    </tr>\n",
       "  </thead>\n",
       "  <tbody>\n",
       "    <tr>\n",
       "      <th rowspan=\"3\" valign=\"top\">doctoral</th>\n",
       "      <th>B</th>\n",
       "      <td>Ludmila</td>\n",
       "      <td>8.0</td>\n",
       "    </tr>\n",
       "    <tr>\n",
       "      <th>B</th>\n",
       "      <td>Frank</td>\n",
       "      <td>7.8</td>\n",
       "    </tr>\n",
       "    <tr>\n",
       "      <th>C</th>\n",
       "      <td>Antonio</td>\n",
       "      <td>5.0</td>\n",
       "    </tr>\n",
       "  </tbody>\n",
       "</table>\n",
       "</div>"
      ],
      "text/plain": [
       "                 student  marks\n",
       "program  grades                \n",
       "doctoral B       Ludmila    8.0\n",
       "         B         Frank    7.8\n",
       "         C       Antonio    5.0"
      ]
     },
     "execution_count": 50,
     "metadata": {},
     "output_type": "execute_result"
    }
   ],
   "source": [
    "df = df.sort_index() # we sort \n",
    "df.loc[idx['doctoral', 'B':'C'], :] # it's no longer raising an error"
   ]
  },
  {
   "cell_type": "markdown",
   "id": "8dd4f548",
   "metadata": {
    "slideshow": {
     "slide_type": "subslide"
    }
   },
   "source": [
    "And, of course, we can reset index:"
   ]
  },
  {
   "cell_type": "code",
   "execution_count": 51,
   "id": "afaf1528",
   "metadata": {
    "slideshow": {
     "slide_type": "fragment"
    }
   },
   "outputs": [
    {
     "data": {
      "text/html": [
       "<div>\n",
       "<style scoped>\n",
       "    .dataframe tbody tr th:only-of-type {\n",
       "        vertical-align: middle;\n",
       "    }\n",
       "\n",
       "    .dataframe tbody tr th {\n",
       "        vertical-align: top;\n",
       "    }\n",
       "\n",
       "    .dataframe thead th {\n",
       "        text-align: right;\n",
       "    }\n",
       "</style>\n",
       "<table border=\"1\" class=\"dataframe\">\n",
       "  <thead>\n",
       "    <tr style=\"text-align: right;\">\n",
       "      <th></th>\n",
       "      <th>program</th>\n",
       "      <th>grades</th>\n",
       "      <th>student</th>\n",
       "      <th>marks</th>\n",
       "    </tr>\n",
       "  </thead>\n",
       "  <tbody>\n",
       "    <tr>\n",
       "      <th>0</th>\n",
       "      <td>bachelor</td>\n",
       "      <td>A</td>\n",
       "      <td>Victor</td>\n",
       "      <td>9.0</td>\n",
       "    </tr>\n",
       "    <tr>\n",
       "      <th>1</th>\n",
       "      <td>doctoral</td>\n",
       "      <td>B</td>\n",
       "      <td>Ludmila</td>\n",
       "      <td>8.0</td>\n",
       "    </tr>\n",
       "    <tr>\n",
       "      <th>2</th>\n",
       "      <td>doctoral</td>\n",
       "      <td>B</td>\n",
       "      <td>Frank</td>\n",
       "      <td>7.8</td>\n",
       "    </tr>\n",
       "    <tr>\n",
       "      <th>3</th>\n",
       "      <td>doctoral</td>\n",
       "      <td>C</td>\n",
       "      <td>Antonio</td>\n",
       "      <td>5.0</td>\n",
       "    </tr>\n",
       "    <tr>\n",
       "      <th>4</th>\n",
       "      <td>master</td>\n",
       "      <td>A</td>\n",
       "      <td>Laura</td>\n",
       "      <td>10.0</td>\n",
       "    </tr>\n",
       "    <tr>\n",
       "      <th>5</th>\n",
       "      <td>master</td>\n",
       "      <td>C</td>\n",
       "      <td>Manuel</td>\n",
       "      <td>5.0</td>\n",
       "    </tr>\n",
       "    <tr>\n",
       "      <th>6</th>\n",
       "      <td>post-doctoral</td>\n",
       "      <td>B</td>\n",
       "      <td>Marco</td>\n",
       "      <td>8.0</td>\n",
       "    </tr>\n",
       "    <tr>\n",
       "      <th>7</th>\n",
       "      <td>post-doctoral</td>\n",
       "      <td>F</td>\n",
       "      <td>Gerardo</td>\n",
       "      <td>4.0</td>\n",
       "    </tr>\n",
       "  </tbody>\n",
       "</table>\n",
       "</div>"
      ],
      "text/plain": [
       "         program grades  student  marks\n",
       "0       bachelor      A   Victor    9.0\n",
       "1       doctoral      B  Ludmila    8.0\n",
       "2       doctoral      B    Frank    7.8\n",
       "3       doctoral      C  Antonio    5.0\n",
       "4         master      A    Laura   10.0\n",
       "5         master      C   Manuel    5.0\n",
       "6  post-doctoral      B    Marco    8.0\n",
       "7  post-doctoral      F  Gerardo    4.0"
      ]
     },
     "execution_count": 51,
     "metadata": {},
     "output_type": "execute_result"
    }
   ],
   "source": [
    "df.reset_index(inplace=True)\n",
    "df"
   ]
  },
  {
   "cell_type": "markdown",
   "id": "082e0f62",
   "metadata": {
    "slideshow": {
     "slide_type": "slide"
    }
   },
   "source": [
    "## Pandas II\n",
    "### Handling Missing Data and Data Transformation\n",
    "\n",
    "From here, we will quickly see other ways of replacing missing data and string manipulation."
   ]
  },
  {
   "cell_type": "code",
   "execution_count": 52,
   "id": "1b72a089",
   "metadata": {
    "slideshow": {
     "slide_type": "slide"
    }
   },
   "outputs": [],
   "source": [
    "df = pd.DataFrame({\n",
    "    'student': ['Ludmila', 'Laura', 'Gerardo', 'Antonio', 'Manuel', 'Frank', 'Marco', 'Victor'],\n",
    "    'program': ['doctoral', 'master', 'post-doctoral', 'doctoral', 'master', 'doctoral', 'post-doctoral', 'bachelor'],\n",
    "    'grades': ['B', 'A', np.nan, 'C', 'C', np.nan, 'B', 'A'],\n",
    "    'marks':  [8, 10, 4, 5, 5, 7.8, 8, 9]\n",
    "})"
   ]
  },
  {
   "cell_type": "markdown",
   "id": "21cb0b7d",
   "metadata": {
    "slideshow": {
     "slide_type": "subslide"
    }
   },
   "source": [
    "Forward filling, using the current value to fill the next missing one"
   ]
  },
  {
   "cell_type": "code",
   "execution_count": 53,
   "id": "105ea45c",
   "metadata": {
    "slideshow": {
     "slide_type": "fragment"
    }
   },
   "outputs": [
    {
     "data": {
      "text/html": [
       "<div>\n",
       "<style scoped>\n",
       "    .dataframe tbody tr th:only-of-type {\n",
       "        vertical-align: middle;\n",
       "    }\n",
       "\n",
       "    .dataframe tbody tr th {\n",
       "        vertical-align: top;\n",
       "    }\n",
       "\n",
       "    .dataframe thead th {\n",
       "        text-align: right;\n",
       "    }\n",
       "</style>\n",
       "<table border=\"1\" class=\"dataframe\">\n",
       "  <thead>\n",
       "    <tr style=\"text-align: right;\">\n",
       "      <th></th>\n",
       "      <th>student</th>\n",
       "      <th>program</th>\n",
       "      <th>grades</th>\n",
       "      <th>marks</th>\n",
       "      <th>new_grades</th>\n",
       "    </tr>\n",
       "  </thead>\n",
       "  <tbody>\n",
       "    <tr>\n",
       "      <th>0</th>\n",
       "      <td>Ludmila</td>\n",
       "      <td>doctoral</td>\n",
       "      <td>B</td>\n",
       "      <td>8.0</td>\n",
       "      <td>B</td>\n",
       "    </tr>\n",
       "    <tr>\n",
       "      <th>1</th>\n",
       "      <td>Laura</td>\n",
       "      <td>master</td>\n",
       "      <td>A</td>\n",
       "      <td>10.0</td>\n",
       "      <td>A</td>\n",
       "    </tr>\n",
       "    <tr>\n",
       "      <th>2</th>\n",
       "      <td>Gerardo</td>\n",
       "      <td>post-doctoral</td>\n",
       "      <td>NaN</td>\n",
       "      <td>4.0</td>\n",
       "      <td>A</td>\n",
       "    </tr>\n",
       "    <tr>\n",
       "      <th>3</th>\n",
       "      <td>Antonio</td>\n",
       "      <td>doctoral</td>\n",
       "      <td>C</td>\n",
       "      <td>5.0</td>\n",
       "      <td>C</td>\n",
       "    </tr>\n",
       "    <tr>\n",
       "      <th>4</th>\n",
       "      <td>Manuel</td>\n",
       "      <td>master</td>\n",
       "      <td>C</td>\n",
       "      <td>5.0</td>\n",
       "      <td>C</td>\n",
       "    </tr>\n",
       "    <tr>\n",
       "      <th>5</th>\n",
       "      <td>Frank</td>\n",
       "      <td>doctoral</td>\n",
       "      <td>NaN</td>\n",
       "      <td>7.8</td>\n",
       "      <td>C</td>\n",
       "    </tr>\n",
       "    <tr>\n",
       "      <th>6</th>\n",
       "      <td>Marco</td>\n",
       "      <td>post-doctoral</td>\n",
       "      <td>B</td>\n",
       "      <td>8.0</td>\n",
       "      <td>B</td>\n",
       "    </tr>\n",
       "    <tr>\n",
       "      <th>7</th>\n",
       "      <td>Victor</td>\n",
       "      <td>bachelor</td>\n",
       "      <td>A</td>\n",
       "      <td>9.0</td>\n",
       "      <td>A</td>\n",
       "    </tr>\n",
       "  </tbody>\n",
       "</table>\n",
       "</div>"
      ],
      "text/plain": [
       "   student        program grades  marks new_grades\n",
       "0  Ludmila       doctoral      B    8.0          B\n",
       "1    Laura         master      A   10.0          A\n",
       "2  Gerardo  post-doctoral    NaN    4.0          A\n",
       "3  Antonio       doctoral      C    5.0          C\n",
       "4   Manuel         master      C    5.0          C\n",
       "5    Frank       doctoral    NaN    7.8          C\n",
       "6    Marco  post-doctoral      B    8.0          B\n",
       "7   Victor       bachelor      A    9.0          A"
      ]
     },
     "execution_count": 53,
     "metadata": {},
     "output_type": "execute_result"
    }
   ],
   "source": [
    "df['new_grades'] = df['grades'].ffill()\n",
    "df"
   ]
  },
  {
   "cell_type": "markdown",
   "id": "c646366b",
   "metadata": {
    "slideshow": {
     "slide_type": "subslide"
    }
   },
   "source": [
    "Backward filling, using the next value to fill the missing one"
   ]
  },
  {
   "cell_type": "code",
   "execution_count": 54,
   "id": "36bc3ec8",
   "metadata": {
    "slideshow": {
     "slide_type": "fragment"
    }
   },
   "outputs": [
    {
     "data": {
      "text/html": [
       "<div>\n",
       "<style scoped>\n",
       "    .dataframe tbody tr th:only-of-type {\n",
       "        vertical-align: middle;\n",
       "    }\n",
       "\n",
       "    .dataframe tbody tr th {\n",
       "        vertical-align: top;\n",
       "    }\n",
       "\n",
       "    .dataframe thead th {\n",
       "        text-align: right;\n",
       "    }\n",
       "</style>\n",
       "<table border=\"1\" class=\"dataframe\">\n",
       "  <thead>\n",
       "    <tr style=\"text-align: right;\">\n",
       "      <th></th>\n",
       "      <th>student</th>\n",
       "      <th>program</th>\n",
       "      <th>grades</th>\n",
       "      <th>marks</th>\n",
       "      <th>new_grades</th>\n",
       "    </tr>\n",
       "  </thead>\n",
       "  <tbody>\n",
       "    <tr>\n",
       "      <th>0</th>\n",
       "      <td>Ludmila</td>\n",
       "      <td>doctoral</td>\n",
       "      <td>B</td>\n",
       "      <td>8.0</td>\n",
       "      <td>B</td>\n",
       "    </tr>\n",
       "    <tr>\n",
       "      <th>1</th>\n",
       "      <td>Laura</td>\n",
       "      <td>master</td>\n",
       "      <td>A</td>\n",
       "      <td>10.0</td>\n",
       "      <td>A</td>\n",
       "    </tr>\n",
       "    <tr>\n",
       "      <th>2</th>\n",
       "      <td>Gerardo</td>\n",
       "      <td>post-doctoral</td>\n",
       "      <td>NaN</td>\n",
       "      <td>4.0</td>\n",
       "      <td>C</td>\n",
       "    </tr>\n",
       "    <tr>\n",
       "      <th>3</th>\n",
       "      <td>Antonio</td>\n",
       "      <td>doctoral</td>\n",
       "      <td>C</td>\n",
       "      <td>5.0</td>\n",
       "      <td>C</td>\n",
       "    </tr>\n",
       "    <tr>\n",
       "      <th>4</th>\n",
       "      <td>Manuel</td>\n",
       "      <td>master</td>\n",
       "      <td>C</td>\n",
       "      <td>5.0</td>\n",
       "      <td>C</td>\n",
       "    </tr>\n",
       "    <tr>\n",
       "      <th>5</th>\n",
       "      <td>Frank</td>\n",
       "      <td>doctoral</td>\n",
       "      <td>NaN</td>\n",
       "      <td>7.8</td>\n",
       "      <td>B</td>\n",
       "    </tr>\n",
       "    <tr>\n",
       "      <th>6</th>\n",
       "      <td>Marco</td>\n",
       "      <td>post-doctoral</td>\n",
       "      <td>B</td>\n",
       "      <td>8.0</td>\n",
       "      <td>B</td>\n",
       "    </tr>\n",
       "    <tr>\n",
       "      <th>7</th>\n",
       "      <td>Victor</td>\n",
       "      <td>bachelor</td>\n",
       "      <td>A</td>\n",
       "      <td>9.0</td>\n",
       "      <td>A</td>\n",
       "    </tr>\n",
       "  </tbody>\n",
       "</table>\n",
       "</div>"
      ],
      "text/plain": [
       "   student        program grades  marks new_grades\n",
       "0  Ludmila       doctoral      B    8.0          B\n",
       "1    Laura         master      A   10.0          A\n",
       "2  Gerardo  post-doctoral    NaN    4.0          C\n",
       "3  Antonio       doctoral      C    5.0          C\n",
       "4   Manuel         master      C    5.0          C\n",
       "5    Frank       doctoral    NaN    7.8          B\n",
       "6    Marco  post-doctoral      B    8.0          B\n",
       "7   Victor       bachelor      A    9.0          A"
      ]
     },
     "execution_count": 54,
     "metadata": {},
     "output_type": "execute_result"
    }
   ],
   "source": [
    "df['new_grades'] = df['grades'].bfill()\n",
    "df"
   ]
  },
  {
   "cell_type": "code",
   "execution_count": 55,
   "id": "fa09cdec",
   "metadata": {
    "slideshow": {
     "slide_type": "subslide"
    }
   },
   "outputs": [
    {
     "data": {
      "text/plain": [
       "0    B\n",
       "1    A\n",
       "2    F\n",
       "3    C\n",
       "4    C\n",
       "5    F\n",
       "6    B\n",
       "7    A\n",
       "Name: grades, dtype: object"
      ]
     },
     "execution_count": 55,
     "metadata": {},
     "output_type": "execute_result"
    }
   ],
   "source": [
    "df['grades'].fillna('F') # of course, we can use the one we learned in session 6"
   ]
  },
  {
   "cell_type": "markdown",
   "id": "fbcb41c5",
   "metadata": {
    "slideshow": {
     "slide_type": "subslide"
    }
   },
   "source": [
    "Another possibility is to provide a grade map and fill the missing values using other columns, something that can certainly happen when manipulatin data."
   ]
  },
  {
   "cell_type": "code",
   "execution_count": 56,
   "id": "2de41457",
   "metadata": {
    "slideshow": {
     "slide_type": "fragment"
    }
   },
   "outputs": [],
   "source": [
    "df = pd.DataFrame({\n",
    "    'student': ['Ludmila', 'Laura', 'Gerardo', 'Antonio', 'Manuel', 'Frank', 'Marco', 'Victor'],\n",
    "    'program': ['doctoral', 'master', 'post-doctoral', 'doctoral', 'master', 'doctoral', 'post-doctoral', 'bachelor'],\n",
    "    'grades': ['B', 'A', np.nan, 'C', 'C', np.nan, 'B', 'A'],\n",
    "    'marks':  [8, 10, 4, 5, 5, 7, 8, 9]\n",
    "})"
   ]
  },
  {
   "cell_type": "code",
   "execution_count": 57,
   "id": "9a6c9d70",
   "metadata": {
    "slideshow": {
     "slide_type": "fragment"
    }
   },
   "outputs": [
    {
     "data": {
      "text/html": [
       "<div>\n",
       "<style scoped>\n",
       "    .dataframe tbody tr th:only-of-type {\n",
       "        vertical-align: middle;\n",
       "    }\n",
       "\n",
       "    .dataframe tbody tr th {\n",
       "        vertical-align: top;\n",
       "    }\n",
       "\n",
       "    .dataframe thead th {\n",
       "        text-align: right;\n",
       "    }\n",
       "</style>\n",
       "<table border=\"1\" class=\"dataframe\">\n",
       "  <thead>\n",
       "    <tr style=\"text-align: right;\">\n",
       "      <th></th>\n",
       "      <th>student</th>\n",
       "      <th>program</th>\n",
       "      <th>grades</th>\n",
       "      <th>marks</th>\n",
       "      <th>grades_numeric</th>\n",
       "    </tr>\n",
       "  </thead>\n",
       "  <tbody>\n",
       "    <tr>\n",
       "      <th>0</th>\n",
       "      <td>Ludmila</td>\n",
       "      <td>doctoral</td>\n",
       "      <td>B</td>\n",
       "      <td>8</td>\n",
       "      <td>B</td>\n",
       "    </tr>\n",
       "    <tr>\n",
       "      <th>1</th>\n",
       "      <td>Laura</td>\n",
       "      <td>master</td>\n",
       "      <td>A</td>\n",
       "      <td>10</td>\n",
       "      <td>A</td>\n",
       "    </tr>\n",
       "    <tr>\n",
       "      <th>2</th>\n",
       "      <td>Gerardo</td>\n",
       "      <td>post-doctoral</td>\n",
       "      <td>NaN</td>\n",
       "      <td>4</td>\n",
       "      <td>F</td>\n",
       "    </tr>\n",
       "    <tr>\n",
       "      <th>3</th>\n",
       "      <td>Antonio</td>\n",
       "      <td>doctoral</td>\n",
       "      <td>C</td>\n",
       "      <td>5</td>\n",
       "      <td>C</td>\n",
       "    </tr>\n",
       "    <tr>\n",
       "      <th>4</th>\n",
       "      <td>Manuel</td>\n",
       "      <td>master</td>\n",
       "      <td>C</td>\n",
       "      <td>5</td>\n",
       "      <td>C</td>\n",
       "    </tr>\n",
       "    <tr>\n",
       "      <th>5</th>\n",
       "      <td>Frank</td>\n",
       "      <td>doctoral</td>\n",
       "      <td>NaN</td>\n",
       "      <td>7</td>\n",
       "      <td>B</td>\n",
       "    </tr>\n",
       "    <tr>\n",
       "      <th>6</th>\n",
       "      <td>Marco</td>\n",
       "      <td>post-doctoral</td>\n",
       "      <td>B</td>\n",
       "      <td>8</td>\n",
       "      <td>B</td>\n",
       "    </tr>\n",
       "    <tr>\n",
       "      <th>7</th>\n",
       "      <td>Victor</td>\n",
       "      <td>bachelor</td>\n",
       "      <td>A</td>\n",
       "      <td>9</td>\n",
       "      <td>A</td>\n",
       "    </tr>\n",
       "  </tbody>\n",
       "</table>\n",
       "</div>"
      ],
      "text/plain": [
       "   student        program grades  marks grades_numeric\n",
       "0  Ludmila       doctoral      B      8              B\n",
       "1    Laura         master      A     10              A\n",
       "2  Gerardo  post-doctoral    NaN      4              F\n",
       "3  Antonio       doctoral      C      5              C\n",
       "4   Manuel         master      C      5              C\n",
       "5    Frank       doctoral    NaN      7              B\n",
       "6    Marco  post-doctoral      B      8              B\n",
       "7   Victor       bachelor      A      9              A"
      ]
     },
     "execution_count": 57,
     "metadata": {},
     "output_type": "execute_result"
    }
   ],
   "source": [
    "grade_map = {10: 'A', 9: 'A', 8: 'B', 7: 'B', 6: 'C', 5: 'C', 4: 'F', 3: 'F'}\n",
    "df['grades_numeric'] = df['marks'].map(grade_map) # we can fill missing values relying on other columns\n",
    "df"
   ]
  },
  {
   "cell_type": "markdown",
   "id": "f44ccc2a",
   "metadata": {
    "slideshow": {
     "slide_type": "subslide"
    }
   },
   "source": [
    "Another way is to interpolate:"
   ]
  },
  {
   "cell_type": "code",
   "execution_count": 58,
   "id": "e3855ce5",
   "metadata": {
    "slideshow": {
     "slide_type": "fragment"
    }
   },
   "outputs": [
    {
     "data": {
      "text/plain": [
       "0     8.000000\n",
       "1    10.000000\n",
       "2     7.691589\n",
       "3     5.000000\n",
       "4     5.000000\n",
       "5     7.000000\n",
       "6     8.000000\n",
       "7     4.635514\n",
       "Name: marks, dtype: float64"
      ]
     },
     "execution_count": 58,
     "metadata": {},
     "output_type": "execute_result"
    }
   ],
   "source": [
    "df = pd.DataFrame({\n",
    "    'student': ['Ludmila', 'Laura', 'Gerardo', 'Antonio', 'Manuel', 'Frank', 'Marco', 'Victor'],\n",
    "    'program': ['doctoral', 'master', 'post-doctoral', 'doctoral', 'master', 'doctoral', 'post-doctoral', 'bachelor'],\n",
    "    'grades': ['B', 'A', np.nan, 'C', 'C', 'B', 'B', np.nan],\n",
    "    'marks':  [8, 10, np.nan, 5, 5, 7, 8, np.nan]\n",
    "})\n",
    "df['marks'].interpolate(method='cubicspline') # this won't work for categorical data like letter grades"
   ]
  },
  {
   "cell_type": "code",
   "execution_count": 59,
   "id": "3096b288",
   "metadata": {
    "slideshow": {
     "slide_type": "subslide"
    }
   },
   "outputs": [],
   "source": [
    "df = pd.DataFrame({\n",
    "    'student': ['Ludmila', 'Laura', 'Gerardo', 'Antonio', 'Manuel', 'Frank', 'Marco', 'Victor'],\n",
    "    'program': ['doctoral', 'master', 'post-doctoral', 'doctoral', 'master', 'doctoral', 'post-doctoral', 'bachelor'],\n",
    "    'grades': ['B', 'A', np.nan, 'C', 'C', 'B', 'B', np.nan],\n",
    "    'marks':  [8, 10, np.nan, 5, 5, 7, 8, np.nan]\n",
    "})"
   ]
  },
  {
   "cell_type": "code",
   "execution_count": 60,
   "id": "ee6ed426",
   "metadata": {
    "slideshow": {
     "slide_type": "subslide"
    }
   },
   "outputs": [
    {
     "data": {
      "text/plain": [
       "program         \n",
       "bachelor       7    F\n",
       "doctoral       0    B\n",
       "               3    C\n",
       "               5    B\n",
       "master         1    A\n",
       "               4    C\n",
       "post-doctoral  2    B\n",
       "               6    B\n",
       "Name: grades, dtype: object"
      ]
     },
     "execution_count": 60,
     "metadata": {},
     "output_type": "execute_result"
    }
   ],
   "source": [
    "# Like this we will replace grades with the most common value per group\n",
    "new_values = df.groupby('program')['grades'].apply(lambda x: x.fillna(x.mode()[0] if not x.mode().empty else 'F'))\n",
    "new_values # returns a Series"
   ]
  },
  {
   "cell_type": "code",
   "execution_count": 61,
   "id": "2bf94656",
   "metadata": {
    "slideshow": {
     "slide_type": "subslide"
    }
   },
   "outputs": [],
   "source": [
    "second_level_index = new_values.index.get_level_values(1) # to access the second level index"
   ]
  },
  {
   "cell_type": "code",
   "execution_count": 62,
   "id": "e656054f",
   "metadata": {
    "slideshow": {
     "slide_type": "fragment"
    }
   },
   "outputs": [],
   "source": [
    "df.loc[second_level_index, 'grades'] = new_values.values"
   ]
  },
  {
   "cell_type": "code",
   "execution_count": 63,
   "id": "75dd641b",
   "metadata": {
    "slideshow": {
     "slide_type": "fragment"
    }
   },
   "outputs": [
    {
     "data": {
      "text/html": [
       "<div>\n",
       "<style scoped>\n",
       "    .dataframe tbody tr th:only-of-type {\n",
       "        vertical-align: middle;\n",
       "    }\n",
       "\n",
       "    .dataframe tbody tr th {\n",
       "        vertical-align: top;\n",
       "    }\n",
       "\n",
       "    .dataframe thead th {\n",
       "        text-align: right;\n",
       "    }\n",
       "</style>\n",
       "<table border=\"1\" class=\"dataframe\">\n",
       "  <thead>\n",
       "    <tr style=\"text-align: right;\">\n",
       "      <th></th>\n",
       "      <th>student</th>\n",
       "      <th>program</th>\n",
       "      <th>grades</th>\n",
       "      <th>marks</th>\n",
       "    </tr>\n",
       "  </thead>\n",
       "  <tbody>\n",
       "    <tr>\n",
       "      <th>0</th>\n",
       "      <td>Ludmila</td>\n",
       "      <td>doctoral</td>\n",
       "      <td>B</td>\n",
       "      <td>8.0</td>\n",
       "    </tr>\n",
       "    <tr>\n",
       "      <th>1</th>\n",
       "      <td>Laura</td>\n",
       "      <td>master</td>\n",
       "      <td>A</td>\n",
       "      <td>10.0</td>\n",
       "    </tr>\n",
       "    <tr>\n",
       "      <th>2</th>\n",
       "      <td>Gerardo</td>\n",
       "      <td>post-doctoral</td>\n",
       "      <td>B</td>\n",
       "      <td>NaN</td>\n",
       "    </tr>\n",
       "    <tr>\n",
       "      <th>3</th>\n",
       "      <td>Antonio</td>\n",
       "      <td>doctoral</td>\n",
       "      <td>C</td>\n",
       "      <td>5.0</td>\n",
       "    </tr>\n",
       "    <tr>\n",
       "      <th>4</th>\n",
       "      <td>Manuel</td>\n",
       "      <td>master</td>\n",
       "      <td>C</td>\n",
       "      <td>5.0</td>\n",
       "    </tr>\n",
       "    <tr>\n",
       "      <th>5</th>\n",
       "      <td>Frank</td>\n",
       "      <td>doctoral</td>\n",
       "      <td>B</td>\n",
       "      <td>7.0</td>\n",
       "    </tr>\n",
       "    <tr>\n",
       "      <th>6</th>\n",
       "      <td>Marco</td>\n",
       "      <td>post-doctoral</td>\n",
       "      <td>B</td>\n",
       "      <td>8.0</td>\n",
       "    </tr>\n",
       "    <tr>\n",
       "      <th>7</th>\n",
       "      <td>Victor</td>\n",
       "      <td>bachelor</td>\n",
       "      <td>F</td>\n",
       "      <td>NaN</td>\n",
       "    </tr>\n",
       "  </tbody>\n",
       "</table>\n",
       "</div>"
      ],
      "text/plain": [
       "   student        program grades  marks\n",
       "0  Ludmila       doctoral      B    8.0\n",
       "1    Laura         master      A   10.0\n",
       "2  Gerardo  post-doctoral      B    NaN\n",
       "3  Antonio       doctoral      C    5.0\n",
       "4   Manuel         master      C    5.0\n",
       "5    Frank       doctoral      B    7.0\n",
       "6    Marco  post-doctoral      B    8.0\n",
       "7   Victor       bachelor      F    NaN"
      ]
     },
     "execution_count": 63,
     "metadata": {},
     "output_type": "execute_result"
    }
   ],
   "source": [
    "df"
   ]
  },
  {
   "cell_type": "markdown",
   "id": "6682004d",
   "metadata": {
    "slideshow": {
     "slide_type": "slide"
    }
   },
   "source": [
    "## Pandas II\n",
    "### Handling Missing Data and Data Transformation\n",
    "\n",
    "Let's do a few string manipulations with pandas"
   ]
  },
  {
   "cell_type": "markdown",
   "id": "d6c52380",
   "metadata": {
    "slideshow": {
     "slide_type": "subslide"
    }
   },
   "source": [
    "Extracting the first letter of each student's name"
   ]
  },
  {
   "cell_type": "code",
   "execution_count": 64,
   "id": "898eb7e7",
   "metadata": {
    "slideshow": {
     "slide_type": "fragment"
    }
   },
   "outputs": [
    {
     "data": {
      "text/html": [
       "<div>\n",
       "<style scoped>\n",
       "    .dataframe tbody tr th:only-of-type {\n",
       "        vertical-align: middle;\n",
       "    }\n",
       "\n",
       "    .dataframe tbody tr th {\n",
       "        vertical-align: top;\n",
       "    }\n",
       "\n",
       "    .dataframe thead th {\n",
       "        text-align: right;\n",
       "    }\n",
       "</style>\n",
       "<table border=\"1\" class=\"dataframe\">\n",
       "  <thead>\n",
       "    <tr style=\"text-align: right;\">\n",
       "      <th></th>\n",
       "      <th>student</th>\n",
       "      <th>first_letter</th>\n",
       "    </tr>\n",
       "  </thead>\n",
       "  <tbody>\n",
       "    <tr>\n",
       "      <th>0</th>\n",
       "      <td>Ludmila</td>\n",
       "      <td>L</td>\n",
       "    </tr>\n",
       "    <tr>\n",
       "      <th>1</th>\n",
       "      <td>Laura</td>\n",
       "      <td>L</td>\n",
       "    </tr>\n",
       "    <tr>\n",
       "      <th>2</th>\n",
       "      <td>Gerardo</td>\n",
       "      <td>G</td>\n",
       "    </tr>\n",
       "    <tr>\n",
       "      <th>3</th>\n",
       "      <td>Antonio</td>\n",
       "      <td>A</td>\n",
       "    </tr>\n",
       "    <tr>\n",
       "      <th>4</th>\n",
       "      <td>Manuel</td>\n",
       "      <td>M</td>\n",
       "    </tr>\n",
       "    <tr>\n",
       "      <th>5</th>\n",
       "      <td>Frank</td>\n",
       "      <td>F</td>\n",
       "    </tr>\n",
       "    <tr>\n",
       "      <th>6</th>\n",
       "      <td>Marco</td>\n",
       "      <td>M</td>\n",
       "    </tr>\n",
       "    <tr>\n",
       "      <th>7</th>\n",
       "      <td>Victor</td>\n",
       "      <td>V</td>\n",
       "    </tr>\n",
       "  </tbody>\n",
       "</table>\n",
       "</div>"
      ],
      "text/plain": [
       "   student first_letter\n",
       "0  Ludmila            L\n",
       "1    Laura            L\n",
       "2  Gerardo            G\n",
       "3  Antonio            A\n",
       "4   Manuel            M\n",
       "5    Frank            F\n",
       "6    Marco            M\n",
       "7   Victor            V"
      ]
     },
     "execution_count": 64,
     "metadata": {},
     "output_type": "execute_result"
    }
   ],
   "source": [
    "df = pd.DataFrame({\n",
    "    'student': ['Ludmila', 'Laura', 'Gerardo', 'Antonio', 'Manuel', 'Frank', 'Marco', 'Victor']\n",
    "})\n",
    "\n",
    "df['first_letter'] = df['student'].str.extract(r'(^.)')\n",
    "df"
   ]
  },
  {
   "cell_type": "code",
   "execution_count": 65,
   "id": "e1f01eb7",
   "metadata": {
    "slideshow": {
     "slide_type": "subslide"
    }
   },
   "outputs": [
    {
     "data": {
      "text/plain": [
       "0    l\n",
       "1    l\n",
       "2    g\n",
       "3    a\n",
       "4    m\n",
       "5    f\n",
       "6    m\n",
       "7    v\n",
       "Name: first_letter, dtype: object"
      ]
     },
     "execution_count": 65,
     "metadata": {},
     "output_type": "execute_result"
    }
   ],
   "source": [
    "df['first_letter'].str.lower() # we can change them to lower, instead of capitals (upper)"
   ]
  },
  {
   "cell_type": "code",
   "execution_count": 66,
   "id": "016be15c",
   "metadata": {
    "slideshow": {
     "slide_type": "subslide"
    }
   },
   "outputs": [
    {
     "data": {
      "text/plain": [
       "0    L*dm*l*\n",
       "1      L**r*\n",
       "2    G*r*rd*\n",
       "3    *nt*n**\n",
       "4     M*n**l\n",
       "5      Fr*nk\n",
       "6      M*rc*\n",
       "7     V*ct*r\n",
       "Name: student, dtype: object"
      ]
     },
     "execution_count": 66,
     "metadata": {},
     "output_type": "execute_result"
    }
   ],
   "source": [
    "# replacing any letter by *\n",
    "df['student'].str.replace(r'[aeiouAEIOU]', '*', regex=True) # using regex on the back, regex is to apply the changes to the dataframe"
   ]
  },
  {
   "cell_type": "code",
   "execution_count": 67,
   "id": "6be5a7ab",
   "metadata": {
    "slideshow": {
     "slide_type": "subslide"
    }
   },
   "outputs": [],
   "source": [
    "# check if it includes a specific letter\n",
    "df['contains_a'] = df['student'].str.contains(r'a', case=False) #when the case is False it's not case sensitive"
   ]
  },
  {
   "cell_type": "code",
   "execution_count": 68,
   "id": "37d7060e",
   "metadata": {
    "slideshow": {
     "slide_type": "subslide"
    }
   },
   "outputs": [
    {
     "data": {
      "text/html": [
       "<div>\n",
       "<style scoped>\n",
       "    .dataframe tbody tr th:only-of-type {\n",
       "        vertical-align: middle;\n",
       "    }\n",
       "\n",
       "    .dataframe tbody tr th {\n",
       "        vertical-align: top;\n",
       "    }\n",
       "\n",
       "    .dataframe thead th {\n",
       "        text-align: right;\n",
       "    }\n",
       "</style>\n",
       "<table border=\"1\" class=\"dataframe\">\n",
       "  <thead>\n",
       "    <tr style=\"text-align: right;\">\n",
       "      <th></th>\n",
       "      <th>professor</th>\n",
       "      <th>first_name</th>\n",
       "      <th>last_name</th>\n",
       "    </tr>\n",
       "  </thead>\n",
       "  <tbody>\n",
       "    <tr>\n",
       "      <th>0</th>\n",
       "      <td>Ludmila Kuncheva</td>\n",
       "      <td>Ludmila</td>\n",
       "      <td>Kuncheva</td>\n",
       "    </tr>\n",
       "    <tr>\n",
       "      <th>1</th>\n",
       "      <td>Antonio Torralba</td>\n",
       "      <td>Antonio</td>\n",
       "      <td>Torralba</td>\n",
       "    </tr>\n",
       "    <tr>\n",
       "      <th>2</th>\n",
       "      <td>Manuel Gonzalez</td>\n",
       "      <td>Manuel</td>\n",
       "      <td>Gonzalez</td>\n",
       "    </tr>\n",
       "    <tr>\n",
       "      <th>3</th>\n",
       "      <td>Bastian Leibe</td>\n",
       "      <td>Bastian</td>\n",
       "      <td>Leibe</td>\n",
       "    </tr>\n",
       "  </tbody>\n",
       "</table>\n",
       "</div>"
      ],
      "text/plain": [
       "          professor first_name last_name\n",
       "0  Ludmila Kuncheva    Ludmila  Kuncheva\n",
       "1  Antonio Torralba    Antonio  Torralba\n",
       "2   Manuel Gonzalez     Manuel  Gonzalez\n",
       "3     Bastian Leibe    Bastian     Leibe"
      ]
     },
     "execution_count": 68,
     "metadata": {},
     "output_type": "execute_result"
    }
   ],
   "source": [
    "# Split columns into multiple ones, like first name and last name\n",
    "df = pd.DataFrame({\n",
    "    'professor': ['Ludmila Kuncheva', 'Antonio Torralba', 'Manuel Gonzalez', 'Bastian Leibe']\n",
    "})\n",
    "    \n",
    "df[['first_name', 'last_name']] = df['professor'].str.split(' ', expand=True)\n",
    "df"
   ]
  },
  {
   "cell_type": "code",
   "execution_count": 69,
   "id": "ea1dd40f",
   "metadata": {
    "slideshow": {
     "slide_type": "subslide"
    }
   },
   "outputs": [
    {
     "data": {
      "text/html": [
       "<div>\n",
       "<style scoped>\n",
       "    .dataframe tbody tr th:only-of-type {\n",
       "        vertical-align: middle;\n",
       "    }\n",
       "\n",
       "    .dataframe tbody tr th {\n",
       "        vertical-align: top;\n",
       "    }\n",
       "\n",
       "    .dataframe thead th {\n",
       "        text-align: right;\n",
       "    }\n",
       "</style>\n",
       "<table border=\"1\" class=\"dataframe\">\n",
       "  <thead>\n",
       "    <tr style=\"text-align: right;\">\n",
       "      <th></th>\n",
       "      <th>student</th>\n",
       "      <th>years</th>\n",
       "    </tr>\n",
       "  </thead>\n",
       "  <tbody>\n",
       "    <tr>\n",
       "      <th>0</th>\n",
       "      <td>Ludmila 1960</td>\n",
       "      <td>1960</td>\n",
       "    </tr>\n",
       "    <tr>\n",
       "      <th>1</th>\n",
       "      <td>Laura 1980</td>\n",
       "      <td>1980</td>\n",
       "    </tr>\n",
       "    <tr>\n",
       "      <th>2</th>\n",
       "      <td>Gerardo 1970</td>\n",
       "      <td>1970</td>\n",
       "    </tr>\n",
       "    <tr>\n",
       "      <th>3</th>\n",
       "      <td>Antonio 1970</td>\n",
       "      <td>1970</td>\n",
       "    </tr>\n",
       "    <tr>\n",
       "      <th>4</th>\n",
       "      <td>Manuel 1960</td>\n",
       "      <td>1960</td>\n",
       "    </tr>\n",
       "  </tbody>\n",
       "</table>\n",
       "</div>"
      ],
      "text/plain": [
       "        student  years\n",
       "0  Ludmila 1960   1960\n",
       "1    Laura 1980   1980\n",
       "2  Gerardo 1970   1970\n",
       "3  Antonio 1970   1970\n",
       "4   Manuel 1960   1960"
      ]
     },
     "execution_count": 69,
     "metadata": {},
     "output_type": "execute_result"
    }
   ],
   "source": [
    "# Using regex again, extracting specific information from a column\n",
    "df = pd.DataFrame({\n",
    "    'student': ['Ludmila 1960', 'Laura 1980', 'Gerardo 1970', 'Antonio 1970', 'Manuel 1960']\n",
    "})\n",
    "\n",
    "# Extract numbers from the 'student' column\n",
    "df['years'] = df['student'].str.extract(r'(\\d+)').astype(int)\n",
    "df"
   ]
  },
  {
   "cell_type": "markdown",
   "id": "357af7ec",
   "metadata": {
    "slideshow": {
     "slide_type": "slide"
    }
   },
   "source": [
    "## Pandas II\n",
    "### Handling Missing Data and Data Transformation\n",
    "\n",
    "Let's practica a little bit here, take home what you did not solve today.\n",
    "\n",
    "Exercises:"
   ]
  },
  {
   "cell_type": "markdown",
   "id": "a8b03091",
   "metadata": {
    "slideshow": {
     "slide_type": "subslide"
    }
   },
   "source": [
    "1. Create a new column called **professor_initials** that stores the initials of each professor's first and last names. Use the following data:"
   ]
  },
  {
   "cell_type": "code",
   "execution_count": 70,
   "id": "d08f7771",
   "metadata": {
    "slideshow": {
     "slide_type": "fragment"
    }
   },
   "outputs": [],
   "source": [
    "data = {\n",
    "    'professor': ['Ludmila Kuncheva', 'Antonio Torralba', 'Manuel Gonzalez', 'Bastian Leibe'],\n",
    "    'department': ['Computer Science', 'Computer Vision', 'AI & Robotics', 'Autonomous Systems'],\n",
    "    'age': [45, 50, 47, 38]\n",
    "}\n",
    "\n",
    "df = pd.DataFrame(data)"
   ]
  },
  {
   "cell_type": "code",
   "execution_count": 72,
   "id": "5352db56",
   "metadata": {},
   "outputs": [
    {
     "data": {
      "text/html": [
       "<div>\n",
       "<style scoped>\n",
       "    .dataframe tbody tr th:only-of-type {\n",
       "        vertical-align: middle;\n",
       "    }\n",
       "\n",
       "    .dataframe tbody tr th {\n",
       "        vertical-align: top;\n",
       "    }\n",
       "\n",
       "    .dataframe thead th {\n",
       "        text-align: right;\n",
       "    }\n",
       "</style>\n",
       "<table border=\"1\" class=\"dataframe\">\n",
       "  <thead>\n",
       "    <tr style=\"text-align: right;\">\n",
       "      <th></th>\n",
       "      <th>professor</th>\n",
       "      <th>department</th>\n",
       "      <th>age</th>\n",
       "      <th>professor_initials</th>\n",
       "    </tr>\n",
       "  </thead>\n",
       "  <tbody>\n",
       "    <tr>\n",
       "      <th>0</th>\n",
       "      <td>Ludmila Kuncheva</td>\n",
       "      <td>Computer Science</td>\n",
       "      <td>45</td>\n",
       "      <td>LK</td>\n",
       "    </tr>\n",
       "    <tr>\n",
       "      <th>1</th>\n",
       "      <td>Antonio Torralba</td>\n",
       "      <td>Computer Vision</td>\n",
       "      <td>50</td>\n",
       "      <td>AT</td>\n",
       "    </tr>\n",
       "    <tr>\n",
       "      <th>2</th>\n",
       "      <td>Manuel Gonzalez</td>\n",
       "      <td>AI &amp; Robotics</td>\n",
       "      <td>47</td>\n",
       "      <td>MG</td>\n",
       "    </tr>\n",
       "    <tr>\n",
       "      <th>3</th>\n",
       "      <td>Bastian Leibe</td>\n",
       "      <td>Autonomous Systems</td>\n",
       "      <td>38</td>\n",
       "      <td>BL</td>\n",
       "    </tr>\n",
       "  </tbody>\n",
       "</table>\n",
       "</div>"
      ],
      "text/plain": [
       "          professor          department  age professor_initials\n",
       "0  Ludmila Kuncheva    Computer Science   45                 LK\n",
       "1  Antonio Torralba     Computer Vision   50                 AT\n",
       "2   Manuel Gonzalez       AI & Robotics   47                 MG\n",
       "3     Bastian Leibe  Autonomous Systems   38                 BL"
      ]
     },
     "execution_count": 72,
     "metadata": {},
     "output_type": "execute_result"
    }
   ],
   "source": [
    "# Create professor_initials column\n",
    "df['professor_initials'] = df['professor'].apply(lambda x: ''.join([name[0] for name in x.split()]))\n",
    "\n",
    "df"
   ]
  },
  {
   "cell_type": "markdown",
   "id": "5106a7f0",
   "metadata": {
    "slideshow": {
     "slide_type": "subslide"
    }
   },
   "source": [
    "2. Given the dataframe below. Use **join** to combine this new DataFrame with the original one based on the professor column."
   ]
  },
  {
   "cell_type": "code",
   "execution_count": 73,
   "id": "eef7e871",
   "metadata": {
    "slideshow": {
     "slide_type": "fragment"
    }
   },
   "outputs": [],
   "source": [
    "courses_data = {\n",
    "    'professor': ['Ludmila Kuncheva', 'Antonio Torralba', 'Manuel Gonzalez', 'Bastian Leibe'],\n",
    "    'courses': ['Machine Learning', 'Computer Vision', 'AI Programming', 'Self-Driving Cars']\n",
    "}\n",
    "df_courses = pd.DataFrame(courses_data)"
   ]
  },
  {
   "cell_type": "code",
   "execution_count": null,
   "id": "8ffc5d58",
   "metadata": {},
   "outputs": [
    {
     "data": {
      "text/html": [
       "<div>\n",
       "<style scoped>\n",
       "    .dataframe tbody tr th:only-of-type {\n",
       "        vertical-align: middle;\n",
       "    }\n",
       "\n",
       "    .dataframe tbody tr th {\n",
       "        vertical-align: top;\n",
       "    }\n",
       "\n",
       "    .dataframe thead th {\n",
       "        text-align: right;\n",
       "    }\n",
       "</style>\n",
       "<table border=\"1\" class=\"dataframe\">\n",
       "  <thead>\n",
       "    <tr style=\"text-align: right;\">\n",
       "      <th></th>\n",
       "      <th>professor</th>\n",
       "      <th>department</th>\n",
       "      <th>age</th>\n",
       "      <th>professor_initials</th>\n",
       "      <th>courses</th>\n",
       "    </tr>\n",
       "  </thead>\n",
       "  <tbody>\n",
       "    <tr>\n",
       "      <th>0</th>\n",
       "      <td>Ludmila Kuncheva</td>\n",
       "      <td>Computer Science</td>\n",
       "      <td>45</td>\n",
       "      <td>LK</td>\n",
       "      <td>Machine Learning</td>\n",
       "    </tr>\n",
       "    <tr>\n",
       "      <th>1</th>\n",
       "      <td>Antonio Torralba</td>\n",
       "      <td>Computer Vision</td>\n",
       "      <td>50</td>\n",
       "      <td>AT</td>\n",
       "      <td>Computer Vision</td>\n",
       "    </tr>\n",
       "    <tr>\n",
       "      <th>2</th>\n",
       "      <td>Manuel Gonzalez</td>\n",
       "      <td>AI &amp; Robotics</td>\n",
       "      <td>47</td>\n",
       "      <td>MG</td>\n",
       "      <td>AI Programming</td>\n",
       "    </tr>\n",
       "    <tr>\n",
       "      <th>3</th>\n",
       "      <td>Bastian Leibe</td>\n",
       "      <td>Autonomous Systems</td>\n",
       "      <td>38</td>\n",
       "      <td>BL</td>\n",
       "      <td>Self-Driving Cars</td>\n",
       "    </tr>\n",
       "  </tbody>\n",
       "</table>\n",
       "</div>"
      ],
      "text/plain": [
       "          professor          department  age professor_initials  \\\n",
       "0  Ludmila Kuncheva    Computer Science   45                 LK   \n",
       "1  Antonio Torralba     Computer Vision   50                 AT   \n",
       "2   Manuel Gonzalez       AI & Robotics   47                 MG   \n",
       "3     Bastian Leibe  Autonomous Systems   38                 BL   \n",
       "\n",
       "             courses  \n",
       "0   Machine Learning  \n",
       "1    Computer Vision  \n",
       "2     AI Programming  \n",
       "3  Self-Driving Cars  "
      ]
     },
     "execution_count": 83,
     "metadata": {},
     "output_type": "execute_result"
    }
   ],
   "source": [
    "# Set the index to 'professor' for both DataFrames and join them\n",
    "\n",
    "df_combined = df.set_index('professor').join(df_courses.set_index('professor'))\n",
    "\n",
    "df_combined.reset_index(inplace=True)\n",
    "df_combined"
   ]
  },
  {
   "cell_type": "markdown",
   "id": "560756f3",
   "metadata": {
    "slideshow": {
     "slide_type": "subslide"
    }
   },
   "source": [
    "3. Combine the original df and df_courses DataFrames."
   ]
  },
  {
   "cell_type": "code",
   "execution_count": null,
   "id": "611a913e",
   "metadata": {
    "slideshow": {
     "slide_type": "fragment"
    }
   },
   "outputs": [],
   "source": [
    "data = {\n",
    "    'professor': ['Ludmila Kuncheva', 'Antonio Torralba', 'Manuel Gonzalez', 'Bastian Leibe'],\n",
    "    'department': ['Computer Science', 'Computer Vision', 'AI & Robotics', 'Autonomous Systems'],\n",
    "    'age': [45, 50, 47, 38]\n",
    "}\n",
    "\n",
    "df = pd.DataFrame(data)\n",
    "\n",
    "courses_data = {\n",
    "    'professor': ['Ludmila Kuncheva', 'Antonio Torralba', 'Manuel Gonzalez', 'Bastian Leibe'],\n",
    "    'courses': ['Machine Learning', 'Computer Vision', 'AI Programming', 'Self-Driving Cars']\n",
    "}\n",
    "df_courses = pd.DataFrame(courses_data)"
   ]
  },
  {
   "cell_type": "code",
   "execution_count": 86,
   "id": "6fbaaae0",
   "metadata": {},
   "outputs": [
    {
     "data": {
      "text/html": [
       "<div>\n",
       "<style scoped>\n",
       "    .dataframe tbody tr th:only-of-type {\n",
       "        vertical-align: middle;\n",
       "    }\n",
       "\n",
       "    .dataframe tbody tr th {\n",
       "        vertical-align: top;\n",
       "    }\n",
       "\n",
       "    .dataframe thead th {\n",
       "        text-align: right;\n",
       "    }\n",
       "</style>\n",
       "<table border=\"1\" class=\"dataframe\">\n",
       "  <thead>\n",
       "    <tr style=\"text-align: right;\">\n",
       "      <th></th>\n",
       "      <th>professor</th>\n",
       "      <th>department</th>\n",
       "      <th>age</th>\n",
       "      <th>professor_initials</th>\n",
       "      <th>courses</th>\n",
       "    </tr>\n",
       "  </thead>\n",
       "  <tbody>\n",
       "    <tr>\n",
       "      <th>0</th>\n",
       "      <td>Ludmila Kuncheva</td>\n",
       "      <td>Computer Science</td>\n",
       "      <td>45</td>\n",
       "      <td>LK</td>\n",
       "      <td>Machine Learning</td>\n",
       "    </tr>\n",
       "    <tr>\n",
       "      <th>1</th>\n",
       "      <td>Antonio Torralba</td>\n",
       "      <td>Computer Vision</td>\n",
       "      <td>50</td>\n",
       "      <td>AT</td>\n",
       "      <td>Computer Vision</td>\n",
       "    </tr>\n",
       "    <tr>\n",
       "      <th>2</th>\n",
       "      <td>Manuel Gonzalez</td>\n",
       "      <td>AI &amp; Robotics</td>\n",
       "      <td>47</td>\n",
       "      <td>MG</td>\n",
       "      <td>AI Programming</td>\n",
       "    </tr>\n",
       "    <tr>\n",
       "      <th>3</th>\n",
       "      <td>Bastian Leibe</td>\n",
       "      <td>Autonomous Systems</td>\n",
       "      <td>38</td>\n",
       "      <td>BL</td>\n",
       "      <td>Self-Driving Cars</td>\n",
       "    </tr>\n",
       "  </tbody>\n",
       "</table>\n",
       "</div>"
      ],
      "text/plain": [
       "          professor          department  age professor_initials  \\\n",
       "0  Ludmila Kuncheva    Computer Science   45                 LK   \n",
       "1  Antonio Torralba     Computer Vision   50                 AT   \n",
       "2   Manuel Gonzalez       AI & Robotics   47                 MG   \n",
       "3     Bastian Leibe  Autonomous Systems   38                 BL   \n",
       "\n",
       "             courses  \n",
       "0   Machine Learning  \n",
       "1    Computer Vision  \n",
       "2     AI Programming  \n",
       "3  Self-Driving Cars  "
      ]
     },
     "execution_count": 86,
     "metadata": {},
     "output_type": "execute_result"
    }
   ],
   "source": [
    "df_combined = pd.merge(df, df_courses, on='professor')\n",
    "\n",
    "df_combined"
   ]
  },
  {
   "cell_type": "markdown",
   "id": "2f71cb7b",
   "metadata": {
    "slideshow": {
     "slide_type": "subslide"
    }
   },
   "source": [
    "4. In the professor column, create a new column professor_last_name by extracting the last name of each professor using string operations."
   ]
  },
  {
   "cell_type": "code",
   "execution_count": 90,
   "id": "d4c46010",
   "metadata": {},
   "outputs": [
    {
     "data": {
      "text/html": [
       "<div>\n",
       "<style scoped>\n",
       "    .dataframe tbody tr th:only-of-type {\n",
       "        vertical-align: middle;\n",
       "    }\n",
       "\n",
       "    .dataframe tbody tr th {\n",
       "        vertical-align: top;\n",
       "    }\n",
       "\n",
       "    .dataframe thead th {\n",
       "        text-align: right;\n",
       "    }\n",
       "</style>\n",
       "<table border=\"1\" class=\"dataframe\">\n",
       "  <thead>\n",
       "    <tr style=\"text-align: right;\">\n",
       "      <th></th>\n",
       "      <th>professor</th>\n",
       "      <th>department</th>\n",
       "      <th>age</th>\n",
       "      <th>professor_initials</th>\n",
       "      <th>courses</th>\n",
       "      <th>professor_last_name</th>\n",
       "    </tr>\n",
       "  </thead>\n",
       "  <tbody>\n",
       "    <tr>\n",
       "      <th>0</th>\n",
       "      <td>Ludmila Kuncheva</td>\n",
       "      <td>Computer Science</td>\n",
       "      <td>45</td>\n",
       "      <td>LK</td>\n",
       "      <td>Machine Learning</td>\n",
       "      <td>Kuncheva</td>\n",
       "    </tr>\n",
       "    <tr>\n",
       "      <th>1</th>\n",
       "      <td>Antonio Torralba</td>\n",
       "      <td>Computer Vision</td>\n",
       "      <td>50</td>\n",
       "      <td>AT</td>\n",
       "      <td>Computer Vision</td>\n",
       "      <td>Torralba</td>\n",
       "    </tr>\n",
       "    <tr>\n",
       "      <th>2</th>\n",
       "      <td>Manuel Gonzalez</td>\n",
       "      <td>AI &amp; Robotics</td>\n",
       "      <td>47</td>\n",
       "      <td>MG</td>\n",
       "      <td>AI Programming</td>\n",
       "      <td>Gonzalez</td>\n",
       "    </tr>\n",
       "    <tr>\n",
       "      <th>3</th>\n",
       "      <td>Bastian Leibe</td>\n",
       "      <td>Autonomous Systems</td>\n",
       "      <td>38</td>\n",
       "      <td>BL</td>\n",
       "      <td>Self-Driving Cars</td>\n",
       "      <td>Leibe</td>\n",
       "    </tr>\n",
       "  </tbody>\n",
       "</table>\n",
       "</div>"
      ],
      "text/plain": [
       "          professor          department  age professor_initials  \\\n",
       "0  Ludmila Kuncheva    Computer Science   45                 LK   \n",
       "1  Antonio Torralba     Computer Vision   50                 AT   \n",
       "2   Manuel Gonzalez       AI & Robotics   47                 MG   \n",
       "3     Bastian Leibe  Autonomous Systems   38                 BL   \n",
       "\n",
       "             courses professor_last_name  \n",
       "0   Machine Learning            Kuncheva  \n",
       "1    Computer Vision            Torralba  \n",
       "2     AI Programming            Gonzalez  \n",
       "3  Self-Driving Cars               Leibe  "
      ]
     },
     "execution_count": 90,
     "metadata": {},
     "output_type": "execute_result"
    }
   ],
   "source": [
    "# Add a new column with the last name\n",
    "df_combined['professor_last_name'] = df_combined['professor'].str.split().str[-1]\n",
    "\n",
    "# Display the resulting DataFrame\n",
    "df_combined"
   ]
  },
  {
   "cell_type": "markdown",
   "id": "b093f8bd",
   "metadata": {
    "slideshow": {
     "slide_type": "slide"
    }
   },
   "source": [
    "## Pandas II\n",
    "\n",
    "### Summary\n",
    "\n",
    "Today we saw deeper ways of manipulating **dataframes** and **series**, from applying functions on columns, merging / joining multiple datasets, replacing missing values, to finally work with strings using regex in the back.\n",
    "\n",
    "We hope you enjoyed this session, see you next in session 8!"
   ]
  }
 ],
 "metadata": {
  "celltoolbar": "Slideshow",
  "kernelspec": {
   "display_name": "base",
   "language": "python",
   "name": "python3"
  },
  "language_info": {
   "codemirror_mode": {
    "name": "ipython",
    "version": 3
   },
   "file_extension": ".py",
   "mimetype": "text/x-python",
   "name": "python",
   "nbconvert_exporter": "python",
   "pygments_lexer": "ipython3",
   "version": "3.11.5"
  }
 },
 "nbformat": 4,
 "nbformat_minor": 5
}
