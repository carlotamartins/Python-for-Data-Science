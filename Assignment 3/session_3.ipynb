{
 "cells": [
  {
   "cell_type": "markdown",
   "id": "24b98369-c7ba-450b-a8b5-e34319000695",
   "metadata": {
    "id": "24b98369-c7ba-450b-a8b5-e34319000695",
    "tags": []
   },
   "source": [
    "# Python for Data Science\n",
    "## Session 3\n",
    "### Object Oriented Programming"
   ]
  },
  {
   "cell_type": "markdown",
   "id": "3ace1343-d73d-466d-aa07-56febbb7cbf1",
   "metadata": {
    "id": "3ace1343-d73d-466d-aa07-56febbb7cbf1",
    "tags": []
   },
   "source": [
    "---"
   ]
  },
  {
   "cell_type": "markdown",
   "id": "c5ffee69-5d4d-4f1c-9ed7-083afbc931ec",
   "metadata": {
    "id": "c5ffee69-5d4d-4f1c-9ed7-083afbc931ec",
    "tags": []
   },
   "source": [
    "## Outline\n",
    "1. Classes and objects\n",
    "2. Abstraction and Inheritance\n",
    "3. Polymorphism and Encapsulation"
   ]
  },
  {
   "cell_type": "markdown",
   "id": "aba315f4-e9bf-4a66-b3d3-593037c3ca70",
   "metadata": {
    "id": "aba315f4-e9bf-4a66-b3d3-593037c3ca70",
    "tags": []
   },
   "source": [
    "---"
   ]
  },
  {
   "cell_type": "markdown",
   "id": "8ed45dcb-2cf5-4bfa-ba6e-5da25c59757c",
   "metadata": {
    "id": "8ed45dcb-2cf5-4bfa-ba6e-5da25c59757c",
    "tags": []
   },
   "source": [
    "## Object Oriented programming\n",
    "\n",
    "In Data science there are three different types of programming paradigms:\n",
    "\n",
    "1. **Object-oriented programming** organizes code using objects that represent real-world entities. It provides modularity, code reuse and abstraction, making it suitable for handling large and complex applications.\n",
    "\n",
    "2. **Functional programming** emphasizes the use of **pure functions** that can be easily composed and reused, ideal for transforming data.\n",
    "\n",
    "3. **Declarative programming** consists in specifyin what the program should accomplish, rather than how to accomplish it.\n",
    "\n"
   ]
  },
  {
   "cell_type": "markdown",
   "id": "42f9f227-0941-4967-9a4b-c282bb0e4cfc",
   "metadata": {
    "id": "42f9f227-0941-4967-9a4b-c282bb0e4cfc",
    "tags": []
   },
   "source": [
    "**Pure functions** are functions that always produce the same output for the same input and haven't got any side effects, meaning it does not modify external states or variables."
   ]
  },
  {
   "cell_type": "markdown",
   "id": "00b01ced-eda7-423f-8522-96bd3f1a4125",
   "metadata": {
    "id": "00b01ced-eda7-423f-8522-96bd3f1a4125",
    "tags": []
   },
   "source": [
    "---"
   ]
  },
  {
   "cell_type": "markdown",
   "id": "9434c993-aac1-4655-bf69-477b9dc5d2ee",
   "metadata": {
    "id": "9434c993-aac1-4655-bf69-477b9dc5d2ee",
    "tags": []
   },
   "source": [
    "## Object Oriented programming\n",
    "\n",
    "OOP main concepts are:\n",
    "\n",
    "1. **Class**: A template to create objects.\n",
    "2. **Object**: An instance of a class, representing a specific entity.\n",
    "3. **Attributes**: Properties of an object (variables within a class that define it).\n",
    "4. **Methods**: Actions that objects can perform (functions within a class)."
   ]
  },
  {
   "cell_type": "code",
   "execution_count": null,
   "id": "1e350f15-ae19-4323-a1c6-25d80118a5f3",
   "metadata": {
    "id": "1e350f15-ae19-4323-a1c6-25d80118a5f3",
    "tags": []
   },
   "outputs": [],
   "source": [
    "class Pet:\n",
    "    pass  # Empty class as a placeholder"
   ]
  },
  {
   "cell_type": "code",
   "execution_count": null,
   "id": "2e427c6d-a0fc-47de-a6e8-de71ae500619",
   "metadata": {
    "id": "2e427c6d-a0fc-47de-a6e8-de71ae500619",
    "tags": []
   },
   "outputs": [],
   "source": [
    "my_pet = Pet() # Instance of a class"
   ]
  },
  {
   "cell_type": "code",
   "execution_count": null,
   "id": "1cda9d57-aedb-4e70-af5b-7193174a2430",
   "metadata": {
    "id": "1cda9d57-aedb-4e70-af5b-7193174a2430",
    "tags": []
   },
   "outputs": [],
   "source": [
    "# Note: self refers to the instance of the class and is used to access its attributes and methods\n",
    "class Pet:\n",
    "    def __init__(self, name): # constructor\n",
    "        self.name = name"
   ]
  },
  {
   "cell_type": "code",
   "execution_count": null,
   "id": "c4f13ca9-dd0a-4b53-8f30-5a507979b1ed",
   "metadata": {
    "id": "c4f13ca9-dd0a-4b53-8f30-5a507979b1ed",
    "tags": []
   },
   "outputs": [],
   "source": [
    "class Pet:\n",
    "    def __init__(self, name): # constructor\n",
    "        self.name = name # Instance attribute\n",
    "        self.age = None # Instance attribute set to None\n",
    "\n",
    "    def set_age(self, age): # Method\n",
    "        self.age = age"
   ]
  },
  {
   "cell_type": "markdown",
   "id": "92887f1e-c2b9-4abc-9324-af4c15250c3a",
   "metadata": {
    "id": "92887f1e-c2b9-4abc-9324-af4c15250c3a",
    "tags": []
   },
   "source": [
    "---"
   ]
  },
  {
   "cell_type": "markdown",
   "id": "d6c81e01-e268-4490-b970-b9f3d7a08d30",
   "metadata": {
    "id": "d6c81e01-e268-4490-b970-b9f3d7a08d30",
    "tags": []
   },
   "source": [
    "## Object Oriented programming\n",
    "### Abstraction\n",
    "\n",
    "Abstraction consists in hiding any variables and internal parts of an object that don’t need to be shown during interaction. Making only available the essential functionalities.\n",
    "\n",
    "You may want to call a method from an object that searches for something in an internal list, and in this case, you don't need to see the algorithm behind it, you just need to call the method and get what you want."
   ]
  },
  {
   "cell_type": "markdown",
   "id": "23e1e6b4-322a-4cd5-8a82-72877cc98804",
   "metadata": {
    "id": "23e1e6b4-322a-4cd5-8a82-72877cc98804",
    "tags": []
   },
   "source": [
    "## Object Oriented programming\n",
    "### Inheritance\n",
    "\n",
    "Inheritance permits any class to inherit attributes and methods from another class. This reduces code duplication and enables the creation of specialized classes based on general ones."
   ]
  },
  {
   "cell_type": "code",
   "execution_count": null,
   "id": "76c58110-a965-432f-8dcf-f457079fec65",
   "metadata": {
    "id": "76c58110-a965-432f-8dcf-f457079fec65",
    "tags": []
   },
   "outputs": [],
   "source": [
    "class Pet:\n",
    "    def __init__(self, age, name): # Constructor\n",
    "        self.age = age # Attribute\n",
    "        self.name = name # Attribute\n",
    "\n",
    "    def describe(self): # Method\n",
    "        print(f\"This pet's name is {self.name}.\")\n",
    "\n",
    "class Dog(Pet):\n",
    "    def __init__(self, age, name, breed): # Constructor\n",
    "        super().__init__(age, name)  # Call the parent class's __init__ method\n",
    "        self.breed = breed # New attribute for this specialized class\n",
    "\n",
    "    def describe(self):\n",
    "        super().describe()  # Call the parent class's describe method\n",
    "        print(f\"This dog is {self.age} years old and is a {self.breed}.\")"
   ]
  },
  {
   "cell_type": "code",
   "execution_count": null,
   "id": "48301f74-ece3-49ec-9332-2c168743ebc8",
   "metadata": {
    "id": "48301f74-ece3-49ec-9332-2c168743ebc8",
    "tags": []
   },
   "outputs": [],
   "source": [
    "my_dog = Dog(3, 'Rock', 'Great Dane')"
   ]
  },
  {
   "cell_type": "code",
   "execution_count": null,
   "id": "eae7678f-665a-4916-96d2-3926a312aea5",
   "metadata": {
    "id": "eae7678f-665a-4916-96d2-3926a312aea5",
    "outputId": "3abb92a2-d911-43f9-bf4b-bb7ecdaf371f",
    "tags": []
   },
   "outputs": [
    {
     "name": "stdout",
     "output_type": "stream",
     "text": [
      "This pet's name is Rock.\n",
      "This dog is 3 years old and is a Great Dane.\n"
     ]
    }
   ],
   "source": [
    "my_dog.describe()"
   ]
  },
  {
   "cell_type": "markdown",
   "id": "220f9368-0c1a-4ac8-9785-a33b11e5df77",
   "metadata": {
    "id": "220f9368-0c1a-4ac8-9785-a33b11e5df77",
    "tags": []
   },
   "source": [
    "---"
   ]
  },
  {
   "cell_type": "markdown",
   "id": "88ff8053-d1d0-4c08-b8e5-6c84e94c4f24",
   "metadata": {
    "id": "88ff8053-d1d0-4c08-b8e5-6c84e94c4f24",
    "tags": []
   },
   "source": [
    "## Object Oriented programming\n",
    "### Polymorphism\n",
    "\n",
    "It allows the same method name to behave differently based on the object calling it, which can be achieved through method overriding."
   ]
  },
  {
   "cell_type": "code",
   "execution_count": null,
   "id": "db4cd9e2-0188-4511-a81b-070221d74af5",
   "metadata": {
    "id": "db4cd9e2-0188-4511-a81b-070221d74af5",
    "tags": []
   },
   "outputs": [],
   "source": [
    "class Cat(Pet):\n",
    "    def __init__(self, age, name, breed): # Constructor\n",
    "        super().__init__(age, name)  # Call the parent class's __init__ method\n",
    "        self.breed = breed # New attribute for this specialized class\n",
    "\n",
    "    def describe(self): # Method\n",
    "        print(f\"This super cat is {self.age} years old and is a {self.breed}.\")"
   ]
  },
  {
   "cell_type": "code",
   "execution_count": null,
   "id": "ced1143b-98db-46db-8e90-fed185aad835",
   "metadata": {
    "id": "ced1143b-98db-46db-8e90-fed185aad835",
    "outputId": "3c3d99c3-5191-40d9-a25c-9d4516c6ca93",
    "tags": []
   },
   "outputs": [
    {
     "name": "stdout",
     "output_type": "stream",
     "text": [
      "This super cat is 7 years old and is a Siamese.\n"
     ]
    }
   ],
   "source": [
    "my_cat = Cat(7, 'Bella', 'Siamese')\n",
    "my_cat.describe()"
   ]
  },
  {
   "cell_type": "markdown",
   "id": "cd327548-f048-4d39-9b72-6dff6cd6963d",
   "metadata": {
    "id": "cd327548-f048-4d39-9b72-6dff6cd6963d",
    "tags": []
   },
   "source": [
    "---"
   ]
  },
  {
   "cell_type": "markdown",
   "id": "854b31bb-2b21-42fd-939a-f82f71a549f0",
   "metadata": {
    "id": "854b31bb-2b21-42fd-939a-f82f71a549f0",
    "tags": []
   },
   "source": [
    "## Object Oriented programming\n",
    "### Encapsulation\n",
    "\n",
    "It consists in restricting access to variables and methods outside the object. This way we ensure the integrity of the data within the object.\n",
    "\n",
    "In python, prefixing a variable or method name with an underscore **_** indicates that it is intended for internal use only, while a double underscore **__** modifies the variable name for better encapsulation.\n",
    "\n",
    "It is worth mentioning that this is a convention, and variables and methods are still accessible."
   ]
  },
  {
   "cell_type": "code",
   "execution_count": null,
   "id": "33e1bdf2-8798-41f1-9ed3-957c730dc9ad",
   "metadata": {
    "id": "33e1bdf2-8798-41f1-9ed3-957c730dc9ad",
    "tags": []
   },
   "outputs": [],
   "source": [
    "class Student:\n",
    "    def __init__(self, name, age, address=None):\n",
    "        self.name = name # Public attribute\n",
    "        self._age =   age # Private attribute\n",
    "        self._address = address  # Private attribute\n",
    "\n",
    "    def get_address(self): # Method\n",
    "        return self._address\n",
    "\n",
    "    def set_address(self, address): # Method\n",
    "        address = ''.join(filter(self._remove_special_characters, address))\n",
    "        self._address = address\n",
    "\n",
    "    def _remove_special_characters(self, character): # Private method\n",
    "        if character.isalnum() or character == ' ' or character == '-':\n",
    "            return True\n",
    "        else:\n",
    "            return False\n"
   ]
  },
  {
   "cell_type": "code",
   "execution_count": null,
   "id": "a4e46c71-63e9-474e-91a6-9d9a323636dc",
   "metadata": {
    "id": "a4e46c71-63e9-474e-91a6-9d9a323636dc",
    "outputId": "f3fdcc29-3661-46e6-e645-397a94c9874c",
    "tags": []
   },
   "outputs": [
    {
     "name": "stdout",
     "output_type": "stream",
     "text": [
      "The student named Joan has the following address: Avinguda Buenos Aires nº 31 7e-1a\n"
     ]
    }
   ],
   "source": [
    "student = Student(\"Joan\", 24)\n",
    "student.set_address(\"Avinguda Buenos Aires nº 31! 7e-1a\")\n",
    "print(f\"The student named {student.name} has the following address: {student.get_address()}\")"
   ]
  },
  {
   "cell_type": "markdown",
   "id": "f4552012-e0e9-40af-8801-69d83733d433",
   "metadata": {
    "id": "f4552012-e0e9-40af-8801-69d83733d433",
    "tags": []
   },
   "source": [
    "---"
   ]
  },
  {
   "cell_type": "markdown",
   "id": "42f8be9a-cc71-4a58-97ac-1a54219a2d72",
   "metadata": {
    "id": "42f8be9a-cc71-4a58-97ac-1a54219a2d72",
    "tags": []
   },
   "source": [
    "## Object Oriented programming\n",
    "### Hands on\n",
    "\n",
    "Let's design a course registration system, where the requirements will be:\n",
    "\n",
    "1. Create a **Course** class, where each course has a name, a description and a list of enrolled students. You'll need to implement the next methods:\n",
    "    - Add a student to the course.\n",
    "    - Remove a student from the course.\n",
    "    - Show all students in the course."
   ]
  },
  {
   "cell_type": "code",
   "execution_count": 6,
   "id": "e5430dcf-a01a-4ea1-aff8-5bad4531ab1e",
   "metadata": {
    "id": "e5430dcf-a01a-4ea1-aff8-5bad4531ab1e",
    "tags": []
   },
   "outputs": [
    {
     "name": "stdout",
     "output_type": "stream",
     "text": [
      "The student Carlota has been added to the course and the current constitution is ['Carlota']\n",
      "The student Alice has been added to the course and the current constitution is ['Carlota', 'Alice']\n",
      "The student Joana has been added to the course and the current constitution is ['Carlota', 'Alice', 'Joana']\n",
      "The students enrolled in the course are the following:\n",
      "- Carlota\n",
      "- Alice\n",
      "- Joana\n",
      "The student Mariana is not enrolled in the course.\n",
      "The students enrolled in the course are the following:\n",
      "- Carlota\n",
      "- Alice\n",
      "- Joana\n"
     ]
    }
   ],
   "source": [
    "class Course:\n",
    "    def __init__(self, name, course_type):\n",
    "        self.name = name\n",
    "        self._course_type = course_type #Private attribute to ensure its integrity\n",
    "        self.enrolled_students = [] #Empty list that will contain all the students in the course\n",
    "\n",
    "        #The following function will add the students to the course (or to the list) without repeting them\n",
    "    def add_student(self, student):\n",
    "        if student in self.enrolled_students:\n",
    "            print(f\"The student {student} is already enrolled in the course.\")\n",
    "        else:\n",
    "            self.enrolled_students.append(student)\n",
    "            print(f\"The student {student} has been added to the course and the current constitution is {self.enrolled_students}\")\n",
    "        \n",
    "        \n",
    "        #The following function will remove the students from the course\n",
    "    def remove_student(self, student):\n",
    "        if student in self.enrolled_students:\n",
    "            self.enrolled_students.remove(student)\n",
    "            print(f\"The student {student} has been removed from the course and the current constitution is {self.enrolled_students}\")\n",
    "        else:\n",
    "            print(f\"The student {student} is not enrolled in the course.\")\n",
    "            \n",
    "        \n",
    "        #The following function will remove the students from the course\n",
    "    def show_students(self):\n",
    "        print(f\"The students enrolled in the course are the following:\")\n",
    "        for student in self.enrolled_students:\n",
    "            print(f\"- {student}\")\n",
    "\n",
    "            \n",
    "#Example testing            \n",
    "example_course = Course(\"Python Programming\", \"An introductory course on Python programming.\")\n",
    "example_course.add_student(\"Carlota\")\n",
    "example_course.add_student(\"Alice\")\n",
    "example_course.add_student(\"Joana\")\n",
    "example_course.show_students()\n",
    "example_course.remove_student(\"Mariana\")\n",
    "example_course.show_students()"
   ]
  },
  {
   "cell_type": "markdown",
   "id": "16cc578c-9fe3-4478-81da-3071e3adb318",
   "metadata": {
    "id": "16cc578c-9fe3-4478-81da-3071e3adb318",
    "tags": []
   },
   "source": [
    "## Object Oriented programming\n",
    "### Hands on\n",
    "\n",
    "2. Create a **Student** class, where each student has a name, ID number, address and a list of enrolled courses with the following methods:\n",
    "    - Enroll in a course.\n",
    "    - Drop a course.\n",
    "    - Show all registered student courses."
   ]
  },
  {
   "cell_type": "code",
   "execution_count": 7,
   "id": "fe4cce31-1ddf-4847-bc8d-924dc3e0dfe1",
   "metadata": {
    "id": "fe4cce31-1ddf-4847-bc8d-924dc3e0dfe1",
    "tags": []
   },
   "outputs": [
    {
     "name": "stdout",
     "output_type": "stream",
     "text": [
      "Alice is now enrolled in Python Programming.\n",
      "Alice is now enrolled in Mathematics.\n",
      "The courses in which Alice is enrolled in are the following:\n",
      "- Python Programming\n",
      "- Mathematics\n",
      "The student Alice is already enrolled in Python Programming\n",
      "Alice has now dropped the subject Mathematics.\n",
      "The courses in which Alice is enrolled in are the following:\n",
      "- Python Programming\n",
      "The student Alice is not enrolled in History 101\n",
      "Alice has now dropped the subject Python Programming.\n",
      "The courses in which Alice is enrolled in are the following:\n"
     ]
    }
   ],
   "source": [
    "class Student:\n",
    "    def __init__(self, name, student_id, address):\n",
    "        self.name = name\n",
    "        self.student_id = student_id\n",
    "        self.address = address\n",
    "        self.enrolled_courses = []\n",
    "    \n",
    "    def enroll(self, new_course):\n",
    "        if new_course in self.enrolled_courses:\n",
    "            print(f\"The student {self.name} is already enrolled in {new_course}\")\n",
    "        else:\n",
    "            self.enrolled_courses.append(new_course)\n",
    "            print(f\"{self.name} is now enrolled in {new_course}.\")\n",
    "            \n",
    "    def drop(self, dropped_course):\n",
    "        if dropped_course not in self.enrolled_courses:\n",
    "            print(f\"The student {self.name} is not enrolled in {dropped_course}\")\n",
    "        else:\n",
    "            self.enrolled_courses.remove(dropped_course)\n",
    "            print(f\"{self.name} has now dropped the subject {dropped_course}.\")\n",
    "            \n",
    "            \n",
    "    def show_courses(self):\n",
    "        print(f\"The courses in which {self.name} is enrolled in are the following:\")\n",
    "        for course in self.enrolled_courses:\n",
    "            print(f\"- {course}\")\n",
    "            \n",
    "            \n",
    "#Example testing\n",
    "python_course = \"Python Programming\"\n",
    "math_course = \"Mathematics\"\n",
    "history_course = \"History 101\"\n",
    "\n",
    "\n",
    "student1 = Student(\"Alice\", \"A12345\", \"123 Main St\")\n",
    "student1.enroll(python_course)\n",
    "student1.enroll(math_course)\n",
    "student1.show_courses()\n",
    "\n",
    "\n",
    "student1.enroll(python_course)\n",
    "student1.drop(math_course)\n",
    "student1.show_courses()\n",
    "\n",
    "student1.drop(history_course)\n",
    "student1.drop(python_course)\n",
    "\n",
    "student1.show_courses()\n"
   ]
  },
  {
   "cell_type": "markdown",
   "id": "5c54b2fe-691f-4520-b8d6-2515ba92b808",
   "metadata": {
    "id": "5c54b2fe-691f-4520-b8d6-2515ba92b808",
    "tags": []
   },
   "source": [
    "## Object Oriented programming\n",
    "### Hands on\n",
    "\n",
    "3. Create a central class that manages courses and students, **Registration** class, where you have a list of students and a list of courses, and methods:\n",
    "    - Enroll in a course.\n",
    "    - Drop a course.\n",
    "    - Show all the enrolled courses.\n",
    "    - Show all the students."
   ]
  },
  {
   "cell_type": "code",
   "execution_count": 8,
   "id": "863f30c7-3cf8-4ac9-8599-e7df8e0d483c",
   "metadata": {
    "id": "863f30c7-3cf8-4ac9-8599-e7df8e0d483c",
    "tags": []
   },
   "outputs": [
    {
     "name": "stdout",
     "output_type": "stream",
     "text": [
      "Student Alice has been added to the registration system.\n",
      "Student Bob has been added to the registration system.\n",
      "Course Python Programming has been added to the registration system.\n",
      "Course Mathematics has been added to the registration system.\n",
      "Alice is now enrolled in Python Programming.\n",
      "The student Alice has been added to the course and the current constitution is ['Alice']\n",
      "Bob is now enrolled in Mathematics.\n",
      "The student Bob has been added to the course and the current constitution is ['Bob']\n",
      "All registered students:\n",
      "- Alice (ID: A12345)\n",
      "- Bob (ID: B67890)\n",
      "All available courses:\n",
      "- Python Programming: An introductory course on Python programming.\n",
      "- Mathematics: Basic Math course\n",
      "The courses in which Alice is enrolled in are the following:\n",
      "- Python Programming\n",
      "The courses in which Bob is enrolled in are the following:\n",
      "- Mathematics\n",
      "Alice has now dropped the subject Python Programming.\n",
      "The student Alice has been removed from the course and the current constitution is []\n",
      "The students enrolled in the course are the following:\n",
      "The students enrolled in the course are the following:\n",
      "- Bob\n",
      "The courses in which Alice is enrolled in are the following:\n"
     ]
    }
   ],
   "source": [
    "class Registration:\n",
    "    def __init__(self):\n",
    "        self.students = []  # List of all registered students\n",
    "        self.courses = []   # List of all available courses\n",
    "\n",
    "    # Add a student to the registration system\n",
    "    def add_student(self, student):\n",
    "        if student not in self.students:\n",
    "            self.students.append(student)\n",
    "            print(f\"Student {student.name} has been added to the registration system.\")\n",
    "        else:\n",
    "            print(f\"Student {student.name} is already registered.\")\n",
    "    \n",
    "    # Add a course to the registration system\n",
    "    def add_course(self, course):\n",
    "        if course not in self.courses:\n",
    "            self.courses.append(course)\n",
    "            print(f\"Course {course.name} has been added to the registration system.\")\n",
    "        else:\n",
    "            print(f\"Course {course.name} is already available.\")\n",
    "\n",
    "    # Enroll a student in a course\n",
    "    def enroll_student(self, student, course):\n",
    "        if student in self.students and course in self.courses:\n",
    "            student.enroll(course.name)  # Add course to student's enrolled list\n",
    "            course.add_student(student.name)  # Add student to course's enrolled list\n",
    "        else:\n",
    "            print(\"Either the student or the course is not registered.\")\n",
    "    \n",
    "    # Drop a student from a course\n",
    "    def drop_student(self, student, course):\n",
    "        if student in self.students and course in self.courses:\n",
    "            student.drop(course.name)  # Remove course from student's enrolled list\n",
    "            course.remove_student(student.name)  # Remove student from course's enrolled list\n",
    "        else:\n",
    "            print(\"Either the student or the course is not registered.\")\n",
    "\n",
    "    # Show all registered students\n",
    "    def show_all_students(self):\n",
    "        if self.students:\n",
    "            print(\"All registered students:\")\n",
    "            for student in self.students:\n",
    "                print(f\"- {student.name} (ID: {student.student_id})\")\n",
    "        else:\n",
    "            print(\"No students are registered.\")\n",
    "\n",
    "    # Show all available courses\n",
    "    def show_all_courses(self):\n",
    "        if self.courses:\n",
    "            print(\"All available courses:\")\n",
    "            for course in self.courses:\n",
    "                print(f\"- {course.name}: {course._course_type}\")\n",
    "        else:\n",
    "            print(\"No courses are available.\")\n",
    "\n",
    "\n",
    "\n",
    "# Example testing\n",
    "python_course = Course(\"Python Programming\", \"An introductory course on Python programming.\")\n",
    "math_course = Course(\"Mathematics\", \"Basic Math course\")\n",
    "student1 = Student(\"Alice\", \"A12345\", \"123 Main St\")\n",
    "student2 = Student(\"Bob\", \"B67890\", \"456 Elm St\")\n",
    "\n",
    "registration = Registration()\n",
    "\n",
    "registration.add_student(student1)\n",
    "registration.add_student(student2)\n",
    "registration.add_course(python_course)\n",
    "registration.add_course(math_course)\n",
    "\n",
    "\n",
    "registration.enroll_student(student1, python_course)\n",
    "registration.enroll_student(student2, math_course)\n",
    "\n",
    "registration.show_all_students()\n",
    "registration.show_all_courses()\n",
    "\n",
    "student1.show_courses()\n",
    "student2.show_courses()\n",
    "\n",
    "\n",
    "registration.drop_student(student1, python_course)\n",
    "\n",
    "python_course.show_students()\n",
    "math_course.show_students()\n",
    "\n",
    "student1.show_courses()"
   ]
  },
  {
   "cell_type": "markdown",
   "id": "2958b01b-3472-4c95-ae1f-771edc638749",
   "metadata": {
    "id": "2958b01b-3472-4c95-ae1f-771edc638749",
    "tags": []
   },
   "source": [
    "## Object Oriented programming\n",
    "### Howework\n",
    "\n",
    "4. Let's add grades to each student's course and create method that yields the GPA given a student name or ID."
   ]
  },
  {
   "cell_type": "code",
   "execution_count": 15,
   "id": "35dd0de4",
   "metadata": {},
   "outputs": [],
   "source": [
    "#Defining the class Course from the first exercise\n",
    "class Course:\n",
    "    def __init__(self, name, course_type):\n",
    "        self.name = name\n",
    "        self._course_type = course_type #Private attribute to ensure its integrity\n",
    "        self.enrolled_students = [] #Empty list that will contain all the students in the course\n",
    "\n",
    "    \n",
    "    #The following function will add the students to the course (or to the list) without repeting them\n",
    "    def add_student(self, student):\n",
    "        if student in self.enrolled_students:\n",
    "            print(f\"The student {student} is already enrolled in the course.\")\n",
    "        else:\n",
    "            self.enrolled_students.append(student)\n",
    "            print(f\"The student {student} has been added to the course and the current constitution is {self.enrolled_students}\")\n",
    "        \n",
    "        \n",
    "        #The following function will remove the students from the course\n",
    "    def remove_student(self, student):\n",
    "        if student in self.enrolled_students:\n",
    "            self.enrolled_students.remove(student)\n",
    "            print(f\"The student {student} has been removed from the course and the current constitution is {self.enrolled_students}\")\n",
    "        else:\n",
    "            print(f\"The student {student} is not enrolled in the course.\")\n",
    "            \n",
    "        \n",
    "        #The following function will remove the students from the course\n",
    "    def show_students(self):\n",
    "        print(f\"The students enrolled in the course are the following:\")\n",
    "        for student in self.enrolled_students:\n",
    "            print(f\"- {student}\")\n",
    "\n",
    "\n",
    "\n",
    "\n",
    "    #Defining the class that will describe the students (such as the second exercise), and adding the functions needed to calculate the GPA and assign grades\n",
    "class Student:\n",
    "    def __init__(self, name, id):\n",
    "        self.name = name\n",
    "        self.id = id\n",
    "        self.enrolled_courses = []  # Courses student is enrolled in\n",
    "        self.grades = [] \n",
    "    \n",
    "    def enroll(self, new_course):\n",
    "        if new_course in self.enrolled_courses:\n",
    "            print(f\"The student {self.name} is already enrolled in {new_course}\")\n",
    "        else:\n",
    "            self.enrolled_courses.append(new_course)\n",
    "            print(f\"{self.name} is now enrolled in {new_course}.\")\n",
    "            \n",
    "    def drop(self, dropped_course):\n",
    "        if dropped_course not in self.enrolled_courses:\n",
    "            print(f\"The student {self.name} is not enrolled in {dropped_course}\")\n",
    "        else:\n",
    "            self.enrolled_courses.remove(dropped_course)\n",
    "            print(f\"{self.name} has now dropped the subject {dropped_course}.\")\n",
    "            # Optionally remove grade for dropped course\n",
    "            self.grades = [(course, grade) for course, grade in self.grades if course != dropped_course]\n",
    "    \n",
    "    def assign_grade(self, course, grade):\n",
    "        self.grades.append((course, grade))\n",
    "        print(f\"Grade {grade} assigned to {self.name} for {course}.\")\n",
    "    \n",
    "    def calculate_gpa(self):\n",
    "        if not self.grades:\n",
    "            print(f\"No grades available for {self.name}.\")\n",
    "            return\n",
    "        \n",
    "        total_grades = sum([grade for course, grade in self.grades])\n",
    "        gpa = total_grades / len(self.grades)\n",
    "        print(f\"GPA for {self.name} is: {gpa:.2f}\")\n",
    "    \n",
    "    def show_courses(self):\n",
    "        print(f\"The courses in which {self.name} is enrolled are:\")\n",
    "        for course in self.enrolled_courses:\n",
    "            print(f\"- {course}\")\n",
    "\n",
    "\n",
    "\n",
    "# Registration class\n",
    "class Registration:\n",
    "    def __init__(self):\n",
    "        self.students = []\n",
    "        self.courses = []\n",
    "\n",
    "    def add_student(self, student):\n",
    "        if student not in self.students:\n",
    "            self.students.append(student)\n",
    "        else:\n",
    "            print(f\"Student {student.name} is already registered.\")\n",
    "\n",
    "    def add_course(self, course):\n",
    "        if course not in self.courses:\n",
    "            self.courses.append(course)\n",
    "        else:\n",
    "            print(f\"Course {course.name} is already available.\")\n",
    "\n",
    "    def enroll_student(self, student, course):\n",
    "        if student in self.students and course in self.courses:\n",
    "            student.enroll(course.name)\n",
    "            course.add_student(student.name)\n",
    "        else:\n",
    "            print(\"Either the student or the course is not registered.\")\n",
    "\n",
    "    def assign_grade_to_student(self, student, course, grade):\n",
    "        if student in self.students and course in self.courses:\n",
    "            student.assign_grade(course.name, grade)\n",
    "        else:\n",
    "            print(\"Either the student or the course is not registered.\")\n",
    "\n",
    "    def show_all_students(self):\n",
    "        if self.students:\n",
    "            print(\"Registered students:\")\n",
    "            for student in self.students:\n",
    "                print(f\"- {student.name} (ID: {student.student_id})\")\n",
    "        else:\n",
    "            print(\"No students are registered.\")\n",
    "\n",
    "    def show_all_courses(self):\n",
    "        if self.courses:\n",
    "            print(\"Available courses:\")\n",
    "            for course in self.courses:\n",
    "                print(f\"- {course.name}\")\n",
    "        else:\n",
    "            print(\"No courses are available.\")\n"
   ]
  },
  {
   "cell_type": "markdown",
   "id": "76c565a9-dc30-464c-980d-d522cd5246f4",
   "metadata": {
    "id": "76c565a9-dc30-464c-980d-d522cd5246f4",
    "tags": []
   },
   "source": [
    "## That's all!"
   ]
  }
 ],
 "metadata": {
  "colab": {
   "provenance": []
  },
  "kernelspec": {
   "display_name": "base",
   "language": "python",
   "name": "python3"
  },
  "language_info": {
   "codemirror_mode": {
    "name": "ipython",
    "version": 3
   },
   "file_extension": ".py",
   "mimetype": "text/x-python",
   "name": "python",
   "nbconvert_exporter": "python",
   "pygments_lexer": "ipython3",
   "version": "3.11.5"
  }
 },
 "nbformat": 4,
 "nbformat_minor": 5
}
